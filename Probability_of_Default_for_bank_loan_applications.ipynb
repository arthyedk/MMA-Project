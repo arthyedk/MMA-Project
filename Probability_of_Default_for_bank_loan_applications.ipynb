{
 "cells": [
  {
   "cell_type": "markdown",
   "metadata": {},
   "source": [
    "# 1.Logistic Regression to Predict the Probability of Default of an Individual"
   ]
  },
  {
   "cell_type": "markdown",
   "metadata": {},
   "source": [
    "In order to predict a bank loan default, I chose a borrowing dataset that I sourced from Kaggle. This dataset was based on the loans provided to loan applicants. It has many characteristics and my task is to predict loan defaults based on borrower-level features using a multiple logistic regression model"
   ]
  },
  {
   "cell_type": "markdown",
   "metadata": {},
   "source": [
    "Probability of default measures the degree of likelihood that the borrower of a loan or debt (the obligor) will be unable to make the necessary scheduled repayments on the debt, thereby defaulting on the debt. Should the obligor be unable to pay, the debt is in default, and the lenders of the debt have legal avenues to attempt a recovery of the debt, or at least partial repayment of the entire debt. The higher the default probability a lender estimates a borrower to have, the higher the interest rate the lender will charge the borrower as compensation for bearing the higher default risk.\n",
    "\n",
    "Objective: Come up with a model that can be deployed to predict approval and non approval for new clients"
   ]
  },
  {
   "cell_type": "markdown",
   "metadata": {
    "id": "tPp00IbRfWHk"
   },
   "source": [
    "# 2. Data Understanding"
   ]
  },
  {
   "cell_type": "code",
   "execution_count": 1,
   "metadata": {
    "id": "-qdq4WoYfWHp"
   },
   "outputs": [],
   "source": [
    "import pandas as pd\n",
    "import numpy as np\n",
    "from sklearn import preprocessing\n",
    "import matplotlib.pyplot as plt\n",
    "plt.rc(\"font\", size=14)\n",
    "from sklearn.linear_model import LogisticRegression\n",
    "from sklearn.model_selection import train_test_split\n",
    "import seaborn as sns\n",
    "sns.set(style=\"white\")\n",
    "sns.set(style=\"whitegrid\", color_codes=True)"
   ]
  },
  {
   "cell_type": "code",
   "execution_count": 2,
   "metadata": {},
   "outputs": [
    {
     "name": "stdout",
     "output_type": "stream",
     "text": [
      "Requirement already satisfied: imblearn in /opt/anaconda3/lib/python3.9/site-packages (0.0)\n",
      "Requirement already satisfied: imbalanced-learn in /opt/anaconda3/lib/python3.9/site-packages (from imblearn) (0.11.0)\n",
      "Requirement already satisfied: numpy>=1.17.3 in /opt/anaconda3/lib/python3.9/site-packages (from imbalanced-learn->imblearn) (1.22.4)\n",
      "Requirement already satisfied: scikit-learn>=1.0.2 in /opt/anaconda3/lib/python3.9/site-packages (from imbalanced-learn->imblearn) (1.1.1)\n",
      "Requirement already satisfied: scipy>=1.5.0 in /opt/anaconda3/lib/python3.9/site-packages (from imbalanced-learn->imblearn) (1.7.3)\n",
      "Requirement already satisfied: threadpoolctl>=2.0.0 in /opt/anaconda3/lib/python3.9/site-packages (from imbalanced-learn->imblearn) (2.2.0)\n",
      "Requirement already satisfied: joblib>=1.1.1 in /opt/anaconda3/lib/python3.9/site-packages (from imbalanced-learn->imblearn) (1.3.2)\n"
     ]
    }
   ],
   "source": [
    "!pip install imblearn"
   ]
  },
  {
   "cell_type": "code",
   "execution_count": 3,
   "metadata": {},
   "outputs": [],
   "source": [
    "data = pd.read_excel(\"/Users/arthurkyazze/Desktop/Docs/Kaggle:Github data sets/credit_risk_dataset.xlsx\")"
   ]
  },
  {
   "cell_type": "code",
   "execution_count": 4,
   "metadata": {
    "colab": {
     "base_uri": "https://localhost:8080/"
    },
    "id": "UOqe3iSLfWHs",
    "outputId": "1177e453-a903-452f-b4a5-fccdd74432c6"
   },
   "outputs": [
    {
     "name": "stdout",
     "output_type": "stream",
     "text": [
      "(28638, 13)\n",
      "['ID', 'person_age', 'person_income', 'person_home_ownership', 'person_emp_length', 'loan_intent', 'loan_grade', 'loan_amnt', 'loan_int_rate', 'loan_status', 'loan_percent_income', 'cb_person_default_on_file', 'cb_person_cred_hist_length']\n"
     ]
    }
   ],
   "source": [
    "data = data.dropna()\n",
    "print(data.shape)\n",
    "print(list(data.columns))"
   ]
  },
  {
   "cell_type": "code",
   "execution_count": 5,
   "metadata": {
    "colab": {
     "base_uri": "https://localhost:8080/",
     "height": 256
    },
    "id": "1xfbzKusfWH0",
    "outputId": "60c3b10c-18e0-4672-a9f8-6963e96927f8",
    "scrolled": true
   },
   "outputs": [
    {
     "data": {
      "text/html": [
       "<div>\n",
       "<style scoped>\n",
       "    .dataframe tbody tr th:only-of-type {\n",
       "        vertical-align: middle;\n",
       "    }\n",
       "\n",
       "    .dataframe tbody tr th {\n",
       "        vertical-align: top;\n",
       "    }\n",
       "\n",
       "    .dataframe thead th {\n",
       "        text-align: right;\n",
       "    }\n",
       "</style>\n",
       "<table border=\"1\" class=\"dataframe\">\n",
       "  <thead>\n",
       "    <tr style=\"text-align: right;\">\n",
       "      <th></th>\n",
       "      <th>ID</th>\n",
       "      <th>person_age</th>\n",
       "      <th>person_income</th>\n",
       "      <th>person_home_ownership</th>\n",
       "      <th>person_emp_length</th>\n",
       "      <th>loan_intent</th>\n",
       "      <th>loan_grade</th>\n",
       "      <th>loan_amnt</th>\n",
       "      <th>loan_int_rate</th>\n",
       "      <th>loan_status</th>\n",
       "      <th>loan_percent_income</th>\n",
       "      <th>cb_person_default_on_file</th>\n",
       "      <th>cb_person_cred_hist_length</th>\n",
       "    </tr>\n",
       "  </thead>\n",
       "  <tbody>\n",
       "    <tr>\n",
       "      <th>0</th>\n",
       "      <td>1</td>\n",
       "      <td>22</td>\n",
       "      <td>59000</td>\n",
       "      <td>RENT</td>\n",
       "      <td>123.0</td>\n",
       "      <td>PERSONAL</td>\n",
       "      <td>D</td>\n",
       "      <td>35000</td>\n",
       "      <td>16.02</td>\n",
       "      <td>0</td>\n",
       "      <td>0.59</td>\n",
       "      <td>Y</td>\n",
       "      <td>3</td>\n",
       "    </tr>\n",
       "    <tr>\n",
       "      <th>1</th>\n",
       "      <td>2</td>\n",
       "      <td>21</td>\n",
       "      <td>9600</td>\n",
       "      <td>OWN</td>\n",
       "      <td>5.0</td>\n",
       "      <td>EDUCATION</td>\n",
       "      <td>B</td>\n",
       "      <td>1000</td>\n",
       "      <td>11.14</td>\n",
       "      <td>1</td>\n",
       "      <td>0.10</td>\n",
       "      <td>N</td>\n",
       "      <td>2</td>\n",
       "    </tr>\n",
       "    <tr>\n",
       "      <th>2</th>\n",
       "      <td>3</td>\n",
       "      <td>25</td>\n",
       "      <td>9600</td>\n",
       "      <td>MORTGAGE</td>\n",
       "      <td>1.0</td>\n",
       "      <td>MEDICAL</td>\n",
       "      <td>C</td>\n",
       "      <td>5500</td>\n",
       "      <td>12.87</td>\n",
       "      <td>0</td>\n",
       "      <td>0.57</td>\n",
       "      <td>N</td>\n",
       "      <td>3</td>\n",
       "    </tr>\n",
       "    <tr>\n",
       "      <th>3</th>\n",
       "      <td>4</td>\n",
       "      <td>23</td>\n",
       "      <td>65500</td>\n",
       "      <td>RENT</td>\n",
       "      <td>4.0</td>\n",
       "      <td>MEDICAL</td>\n",
       "      <td>C</td>\n",
       "      <td>35000</td>\n",
       "      <td>15.23</td>\n",
       "      <td>0</td>\n",
       "      <td>0.53</td>\n",
       "      <td>N</td>\n",
       "      <td>2</td>\n",
       "    </tr>\n",
       "    <tr>\n",
       "      <th>4</th>\n",
       "      <td>5</td>\n",
       "      <td>24</td>\n",
       "      <td>54400</td>\n",
       "      <td>RENT</td>\n",
       "      <td>8.0</td>\n",
       "      <td>MEDICAL</td>\n",
       "      <td>C</td>\n",
       "      <td>35000</td>\n",
       "      <td>14.27</td>\n",
       "      <td>0</td>\n",
       "      <td>0.55</td>\n",
       "      <td>Y</td>\n",
       "      <td>4</td>\n",
       "    </tr>\n",
       "  </tbody>\n",
       "</table>\n",
       "</div>"
      ],
      "text/plain": [
       "   ID  person_age  person_income person_home_ownership  person_emp_length  \\\n",
       "0   1          22          59000                  RENT              123.0   \n",
       "1   2          21           9600                   OWN                5.0   \n",
       "2   3          25           9600              MORTGAGE                1.0   \n",
       "3   4          23          65500                  RENT                4.0   \n",
       "4   5          24          54400                  RENT                8.0   \n",
       "\n",
       "  loan_intent loan_grade  loan_amnt  loan_int_rate  loan_status  \\\n",
       "0    PERSONAL          D      35000          16.02            0   \n",
       "1   EDUCATION          B       1000          11.14            1   \n",
       "2     MEDICAL          C       5500          12.87            0   \n",
       "3     MEDICAL          C      35000          15.23            0   \n",
       "4     MEDICAL          C      35000          14.27            0   \n",
       "\n",
       "   loan_percent_income cb_person_default_on_file  cb_person_cred_hist_length  \n",
       "0                 0.59                         Y                           3  \n",
       "1                 0.10                         N                           2  \n",
       "2                 0.57                         N                           3  \n",
       "3                 0.53                         N                           2  \n",
       "4                 0.55                         Y                           4  "
      ]
     },
     "execution_count": 5,
     "metadata": {},
     "output_type": "execute_result"
    }
   ],
   "source": [
    "data.head()"
   ]
  },
  {
   "cell_type": "code",
   "execution_count": 6,
   "metadata": {
    "colab": {
     "base_uri": "https://localhost:8080/"
    },
    "id": "zReuxnbUfWH0",
    "outputId": "806dd621-da8f-43e3-b3f4-8ec1653a5474"
   },
   "outputs": [
    {
     "data": {
      "text/plain": [
       "array(['PERSONAL', 'EDUCATION', 'MEDICAL', 'VENTURE', 'HOMEIMPROVEMENT',\n",
       "       'DEBTCONSOLIDATION'], dtype=object)"
      ]
     },
     "execution_count": 6,
     "metadata": {},
     "output_type": "execute_result"
    }
   ],
   "source": [
    "data['loan_intent'].unique()"
   ]
  },
  {
   "cell_type": "code",
   "execution_count": 7,
   "metadata": {
    "colab": {
     "base_uri": "https://localhost:8080/"
    },
    "id": "d6TBKc2lfWH1",
    "outputId": "f1d08a5f-c80d-46c2-f543-9b21733970ab"
   },
   "outputs": [
    {
     "data": {
      "text/plain": [
       "1    22435\n",
       "0     6203\n",
       "Name: loan_status, dtype: int64"
      ]
     },
     "execution_count": 7,
     "metadata": {},
     "output_type": "execute_result"
    }
   ],
   "source": [
    "data['loan_status'].value_counts()"
   ]
  },
  {
   "cell_type": "code",
   "execution_count": 8,
   "metadata": {
    "colab": {
     "base_uri": "https://localhost:8080/",
     "height": 550
    },
    "id": "8UT6c2oafWH2",
    "outputId": "b93625ab-cc64-4207-806e-48f8928995cc"
   },
   "outputs": [
    {
     "data": {
      "image/png": "[encoded data removed]",
      "text/plain": [
       "<Figure size 432x288 with 1 Axes>"
      ]
     },
     "metadata": {},
     "output_type": "display_data"
    }
   ],
   "source": [
    "sns.countplot(x='loan_status', data=data, palette='hls')\n",
    "plt.show()"
   ]
  },
  {
   "cell_type": "code",
   "execution_count": 9,
   "metadata": {
    "colab": {
     "base_uri": "https://localhost:8080/"
    },
    "id": "DtA1YBeufWH2",
    "outputId": "82c4e415-921d-4a5d-be8c-8adacf675b83"
   },
   "outputs": [
    {
     "name": "stdout",
     "output_type": "stream",
     "text": [
      "\u001b[1m percentage of no default is 21.660032125148405\n",
      "\u001b[1m percentage of default 78.3399678748516\n"
     ]
    }
   ],
   "source": [
    "count_no_default = len(data[data['loan_status']==0])\n",
    "count_default = len(data[data['loan_status']==1])\n",
    "pct_of_no_default = count_no_default/(count_no_default+count_default)\n",
    "print(\"\\033[1m percentage of no default is\", pct_of_no_default*100)\n",
    "pct_of_default = count_default/(count_no_default+count_default)\n",
    "print(\"\\033[1m percentage of default\", pct_of_default*100)"
   ]
  },
  {
   "cell_type": "code",
   "execution_count": 10,
   "metadata": {
    "colab": {
     "base_uri": "https://localhost:8080/",
     "height": 264
    },
    "id": "5M979rQzfWH5",
    "outputId": "fe2c989f-3aa8-4b8d-f857-4b11c603e4ae"
   },
   "outputs": [
    {
     "data": {
      "text/html": [
       "<div>\n",
       "<style scoped>\n",
       "    .dataframe tbody tr th:only-of-type {\n",
       "        vertical-align: middle;\n",
       "    }\n",
       "\n",
       "    .dataframe tbody tr th {\n",
       "        vertical-align: top;\n",
       "    }\n",
       "\n",
       "    .dataframe thead th {\n",
       "        text-align: right;\n",
       "    }\n",
       "</style>\n",
       "<table border=\"1\" class=\"dataframe\">\n",
       "  <thead>\n",
       "    <tr style=\"text-align: right;\">\n",
       "      <th></th>\n",
       "      <th>ID</th>\n",
       "      <th>person_age</th>\n",
       "      <th>person_income</th>\n",
       "      <th>person_emp_length</th>\n",
       "      <th>loan_amnt</th>\n",
       "      <th>loan_int_rate</th>\n",
       "      <th>loan_percent_income</th>\n",
       "      <th>cb_person_cred_hist_length</th>\n",
       "    </tr>\n",
       "    <tr>\n",
       "      <th>loan_status</th>\n",
       "      <th></th>\n",
       "      <th></th>\n",
       "      <th></th>\n",
       "      <th></th>\n",
       "      <th></th>\n",
       "      <th></th>\n",
       "      <th></th>\n",
       "      <th></th>\n",
       "    </tr>\n",
       "  </thead>\n",
       "  <tbody>\n",
       "    <tr>\n",
       "      <th>0</th>\n",
       "      <td>15173.938094</td>\n",
       "      <td>27.447203</td>\n",
       "      <td>50054.547477</td>\n",
       "      <td>4.135741</td>\n",
       "      <td>11023.351604</td>\n",
       "      <td>13.123975</td>\n",
       "      <td>0.246311</td>\n",
       "      <td>5.673545</td>\n",
       "    </tr>\n",
       "    <tr>\n",
       "      <th>1</th>\n",
       "      <td>16602.712458</td>\n",
       "      <td>27.804636</td>\n",
       "      <td>71237.635569</td>\n",
       "      <td>4.969200</td>\n",
       "      <td>9278.573657</td>\n",
       "      <td>10.463636</td>\n",
       "      <td>0.148247</td>\n",
       "      <td>5.826967</td>\n",
       "    </tr>\n",
       "  </tbody>\n",
       "</table>\n",
       "</div>"
      ],
      "text/plain": [
       "                       ID  person_age  person_income  person_emp_length  \\\n",
       "loan_status                                                               \n",
       "0            15173.938094   27.447203   50054.547477           4.135741   \n",
       "1            16602.712458   27.804636   71237.635569           4.969200   \n",
       "\n",
       "                loan_amnt  loan_int_rate  loan_percent_income  \\\n",
       "loan_status                                                     \n",
       "0            11023.351604      13.123975             0.246311   \n",
       "1             9278.573657      10.463636             0.148247   \n",
       "\n",
       "             cb_person_cred_hist_length  \n",
       "loan_status                              \n",
       "0                              5.673545  \n",
       "1                              5.826967  "
      ]
     },
     "execution_count": 10,
     "metadata": {},
     "output_type": "execute_result"
    }
   ],
   "source": [
    "data.groupby('loan_status').mean()"
   ]
  },
  {
   "cell_type": "markdown",
   "metadata": {},
   "source": [
    "Observations:\n",
    "\n",
    "    The average age of loan applicants who defaulted on their loans is slightly less than that of the loan applicants who didn’t.\n",
    "    People with more income are less likely to default than those who make less income \n",
    "    People with bigger loans are more likely to default than people with less loans\n",
    "    Percentage of income compared to loan also show that people who people with a less percentage of loan compared to income default less compared to those who don't"
   ]
  },
  {
   "cell_type": "code",
   "execution_count": 11,
   "metadata": {
    "colab": {
     "base_uri": "https://localhost:8080/",
     "height": 296
    },
    "id": "a80I0EmgfWH7",
    "outputId": "7ddd14cf-bac1-4869-828e-5dde4eb866a6"
   },
   "outputs": [
    {
     "data": {
      "text/html": [
       "<div>\n",
       "<style scoped>\n",
       "    .dataframe tbody tr th:only-of-type {\n",
       "        vertical-align: middle;\n",
       "    }\n",
       "\n",
       "    .dataframe tbody tr th {\n",
       "        vertical-align: top;\n",
       "    }\n",
       "\n",
       "    .dataframe thead th {\n",
       "        text-align: right;\n",
       "    }\n",
       "</style>\n",
       "<table border=\"1\" class=\"dataframe\">\n",
       "  <thead>\n",
       "    <tr style=\"text-align: right;\">\n",
       "      <th></th>\n",
       "      <th>ID</th>\n",
       "      <th>person_age</th>\n",
       "      <th>person_income</th>\n",
       "      <th>person_emp_length</th>\n",
       "      <th>loan_amnt</th>\n",
       "      <th>loan_int_rate</th>\n",
       "      <th>loan_status</th>\n",
       "      <th>loan_percent_income</th>\n",
       "      <th>cb_person_cred_hist_length</th>\n",
       "    </tr>\n",
       "    <tr>\n",
       "      <th>person_home_ownership</th>\n",
       "      <th></th>\n",
       "      <th></th>\n",
       "      <th></th>\n",
       "      <th></th>\n",
       "      <th></th>\n",
       "      <th></th>\n",
       "      <th></th>\n",
       "      <th></th>\n",
       "      <th></th>\n",
       "    </tr>\n",
       "  </thead>\n",
       "  <tbody>\n",
       "    <tr>\n",
       "      <th>MORTGAGE</th>\n",
       "      <td>17705.635709</td>\n",
       "      <td>27.984323</td>\n",
       "      <td>81602.937632</td>\n",
       "      <td>5.891280</td>\n",
       "      <td>10635.755444</td>\n",
       "      <td>10.525132</td>\n",
       "      <td>0.874163</td>\n",
       "      <td>0.151044</td>\n",
       "      <td>5.903906</td>\n",
       "    </tr>\n",
       "    <tr>\n",
       "      <th>OTHER</th>\n",
       "      <td>14840.074468</td>\n",
       "      <td>26.904255</td>\n",
       "      <td>79079.861702</td>\n",
       "      <td>3.840426</td>\n",
       "      <td>11128.989362</td>\n",
       "      <td>12.030638</td>\n",
       "      <td>0.712766</td>\n",
       "      <td>0.189681</td>\n",
       "      <td>5.361702</td>\n",
       "    </tr>\n",
       "    <tr>\n",
       "      <th>OWN</th>\n",
       "      <td>16853.250000</td>\n",
       "      <td>27.775091</td>\n",
       "      <td>59549.615420</td>\n",
       "      <td>5.176095</td>\n",
       "      <td>9130.748175</td>\n",
       "      <td>10.963855</td>\n",
       "      <td>0.933394</td>\n",
       "      <td>0.184808</td>\n",
       "      <td>5.918339</td>\n",
       "    </tr>\n",
       "    <tr>\n",
       "      <th>RENT</th>\n",
       "      <td>15072.798708</td>\n",
       "      <td>27.516803</td>\n",
       "      <td>55511.111333</td>\n",
       "      <td>3.842210</td>\n",
       "      <td>8931.989210</td>\n",
       "      <td>11.462372</td>\n",
       "      <td>0.687650</td>\n",
       "      <td>0.182008</td>\n",
       "      <td>5.688406</td>\n",
       "    </tr>\n",
       "  </tbody>\n",
       "</table>\n",
       "</div>"
      ],
      "text/plain": [
       "                                 ID  person_age  person_income  \\\n",
       "person_home_ownership                                            \n",
       "MORTGAGE               17705.635709   27.984323   81602.937632   \n",
       "OTHER                  14840.074468   26.904255   79079.861702   \n",
       "OWN                    16853.250000   27.775091   59549.615420   \n",
       "RENT                   15072.798708   27.516803   55511.111333   \n",
       "\n",
       "                       person_emp_length     loan_amnt  loan_int_rate  \\\n",
       "person_home_ownership                                                   \n",
       "MORTGAGE                        5.891280  10635.755444      10.525132   \n",
       "OTHER                           3.840426  11128.989362      12.030638   \n",
       "OWN                             5.176095   9130.748175      10.963855   \n",
       "RENT                            3.842210   8931.989210      11.462372   \n",
       "\n",
       "                       loan_status  loan_percent_income  \\\n",
       "person_home_ownership                                     \n",
       "MORTGAGE                  0.874163             0.151044   \n",
       "OTHER                     0.712766             0.189681   \n",
       "OWN                       0.933394             0.184808   \n",
       "RENT                      0.687650             0.182008   \n",
       "\n",
       "                       cb_person_cred_hist_length  \n",
       "person_home_ownership                              \n",
       "MORTGAGE                                 5.903906  \n",
       "OTHER                                    5.361702  \n",
       "OWN                                      5.918339  \n",
       "RENT                                     5.688406  "
      ]
     },
     "execution_count": 11,
     "metadata": {},
     "output_type": "execute_result"
    }
   ],
   "source": [
    "data.groupby('person_home_ownership').mean()"
   ]
  },
  {
   "cell_type": "code",
   "execution_count": 12,
   "metadata": {
    "colab": {
     "base_uri": "https://localhost:8080/",
     "height": 499
    },
    "id": "CiPRHo75fWH-",
    "outputId": "8cf8a712-f2a6-4884-b556-61708b558cbf"
   },
   "outputs": [
    {
     "name": "stderr",
     "output_type": "stream",
     "text": [
      "/opt/anaconda3/lib/python3.9/site-packages/seaborn/distributions.py:316: UserWarning: Dataset has 0 variance; skipping density estimate. Pass `warn_singular=False` to disable this warning.\n",
      "  warnings.warn(msg, UserWarning)\n",
      "/opt/anaconda3/lib/python3.9/site-packages/seaborn/distributions.py:316: UserWarning: Dataset has 0 variance; skipping density estimate. Pass `warn_singular=False` to disable this warning.\n",
      "  warnings.warn(msg, UserWarning)\n"
     ]
    },
    {
     "data": {
      "text/plain": [
       "<AxesSubplot:xlabel='loan_amnt', ylabel='Density'>"
      ]
     },
     "execution_count": 12,
     "metadata": {},
     "output_type": "execute_result"
    },
    {
     "data": {
      "image/png": "[encoded data removed]",
      "text/plain": [
       "<Figure size 720x432 with 1 Axes>"
      ]
     },
     "metadata": {},
     "output_type": "display_data"
    }
   ],
   "source": [
    "import seaborn as sns\n",
    "sns.set(style=\"white\")\n",
    "import matplotlib\n",
    "matplotlib.rcParams['figure.figsize'] = (10.0 , 6.0)\n",
    "sns.kdeplot( data['loan_amnt'].loc[data['loan_status'] == 0], hue=data['loan_status'], shade=True)\n",
    "sns.kdeplot( data['loan_amnt'].loc[data['loan_status'] == 1], hue=data['loan_status'], shade=True)"
   ]
  },
  {
   "cell_type": "code",
   "execution_count": 13,
   "metadata": {
    "colab": {
     "base_uri": "https://localhost:8080/"
    },
    "id": "ON3cbKzmfWIB",
    "outputId": "e1e3b6d0-03d5-4049-c013-c66f5b58e519"
   },
   "outputs": [
    {
     "data": {
      "text/plain": [
       "count     6203.000000\n",
       "mean     11023.351604\n",
       "std       7161.100407\n",
       "min        900.000000\n",
       "25%       5000.000000\n",
       "50%      10000.000000\n",
       "75%      15000.000000\n",
       "max      35000.000000\n",
       "Name: loan_amnt, dtype: float64"
      ]
     },
     "execution_count": 13,
     "metadata": {},
     "output_type": "execute_result"
    }
   ],
   "source": [
    "data['loan_amnt'].loc[data['loan_status'] == 0].describe()"
   ]
  },
  {
   "cell_type": "code",
   "execution_count": 14,
   "metadata": {
    "colab": {
     "base_uri": "https://localhost:8080/"
    },
    "id": "vU5Pnje_fWIB",
    "outputId": "0e1f6d0c-f965-473c-d8b4-4695675119f1"
   },
   "outputs": [
    {
     "data": {
      "text/plain": [
       "count    22435.000000\n",
       "mean      9278.573657\n",
       "std       6025.480030\n",
       "min        500.000000\n",
       "25%       5000.000000\n",
       "50%       8000.000000\n",
       "75%      12000.000000\n",
       "max      35000.000000\n",
       "Name: loan_amnt, dtype: float64"
      ]
     },
     "execution_count": 14,
     "metadata": {},
     "output_type": "execute_result"
    }
   ],
   "source": [
    "data['loan_amnt'].loc[data['loan_status'] == 1].describe()"
   ]
  },
  {
   "cell_type": "code",
   "execution_count": 15,
   "metadata": {
    "colab": {
     "base_uri": "https://localhost:8080/",
     "height": 645
    },
    "id": "Ox5y4JDKfWIC",
    "outputId": "13620fbc-f26c-4579-ba9b-3721901f0505"
   },
   "outputs": [
    {
     "data": {
      "image/png": "[encoded data removed]",
      "text/plain": [
       "<Figure size 720x432 with 1 Axes>"
      ]
     },
     "metadata": {},
     "output_type": "display_data"
    }
   ],
   "source": [
    "table=pd.crosstab(data.person_home_ownership,data.loan_status)\n",
    "table.div(table.sum(1).astype(float), axis=0).plot(kind='bar', stacked=True)\n",
    "plt.title('Stacked Bar Chart of person_home_ownership vs Default')\n",
    "plt.xlabel('person_home_ownership')\n",
    "plt.ylabel('Proportion of Applicants')\n",
    "plt.savefig('person_home_ownership_vs_def_stack')"
   ]
  },
  {
   "cell_type": "markdown",
   "metadata": {},
   "source": [
    "Person home ownership does seem to be a strong predictor for the target variable"
   ]
  },
  {
   "cell_type": "code",
   "execution_count": 16,
   "metadata": {},
   "outputs": [
    {
     "name": "stderr",
     "output_type": "stream",
     "text": [
      "/opt/anaconda3/lib/python3.9/site-packages/seaborn/distributions.py:316: UserWarning: Dataset has 0 variance; skipping density estimate. Pass `warn_singular=False` to disable this warning.\n",
      "  warnings.warn(msg, UserWarning)\n",
      "/opt/anaconda3/lib/python3.9/site-packages/seaborn/distributions.py:316: UserWarning: Dataset has 0 variance; skipping density estimate. Pass `warn_singular=False` to disable this warning.\n",
      "  warnings.warn(msg, UserWarning)\n"
     ]
    },
    {
     "data": {
      "text/plain": [
       "<AxesSubplot:xlabel='loan_int_rate', ylabel='Density'>"
      ]
     },
     "execution_count": 16,
     "metadata": {},
     "output_type": "execute_result"
    },
    {
     "data": {
      "image/png": "[encoded data removed]",
      "text/plain": [
       "<Figure size 720x432 with 1 Axes>"
      ]
     },
     "metadata": {},
     "output_type": "display_data"
    }
   ],
   "source": [
    "import seaborn as sns\n",
    "sns.set(style=\"white\")\n",
    "import matplotlib\n",
    "matplotlib.rcParams['figure.figsize'] = (10.0 , 6.0)\n",
    "sns.kdeplot( data['loan_int_rate'].loc[data['loan_status'] == 0], hue=data['loan_status'], shade=True)\n",
    "sns.kdeplot( data['loan_int_rate'].loc[data['loan_status'] == 1], hue=data['loan_status'], shade=True)"
   ]
  },
  {
   "cell_type": "code",
   "execution_count": 17,
   "metadata": {
    "id": "1e7RnI25fWID",
    "outputId": "6d836a32-0997-4811-8b66-ab03fdb50174"
   },
   "outputs": [
    {
     "data": {
      "text/plain": [
       "count    6203.000000\n",
       "mean       13.123975\n",
       "std         3.262529\n",
       "min         5.420000\n",
       "25%        10.910000\n",
       "50%        13.490000\n",
       "75%        15.580000\n",
       "max        23.220000\n",
       "Name: loan_int_rate, dtype: float64"
      ]
     },
     "execution_count": 17,
     "metadata": {},
     "output_type": "execute_result"
    }
   ],
   "source": [
    "data['loan_int_rate'].loc[data['loan_status'] == 0].describe()"
   ]
  },
  {
   "cell_type": "code",
   "execution_count": 18,
   "metadata": {
    "id": "4DJLnqjWfWIE",
    "outputId": "681d6547-c8d9-4090-b94c-eb45dcb32f71"
   },
   "outputs": [
    {
     "data": {
      "text/plain": [
       "count    22435.000000\n",
       "mean        10.463636\n",
       "std          2.972669\n",
       "min          5.420000\n",
       "25%          7.740000\n",
       "50%         10.620000\n",
       "75%         12.690000\n",
       "max         22.060000\n",
       "Name: loan_int_rate, dtype: float64"
      ]
     },
     "execution_count": 18,
     "metadata": {},
     "output_type": "execute_result"
    }
   ],
   "source": [
    "data['loan_int_rate'].loc[data['loan_status'] == 1].describe()"
   ]
  },
  {
   "cell_type": "code",
   "execution_count": 19,
   "metadata": {
    "id": "UztWV4DnfWIF",
    "outputId": "6d08403b-2aa3-4559-848c-824c96af06bc"
   },
   "outputs": [
    {
     "name": "stderr",
     "output_type": "stream",
     "text": [
      "/opt/anaconda3/lib/python3.9/site-packages/seaborn/distributions.py:316: UserWarning: Dataset has 0 variance; skipping density estimate. Pass `warn_singular=False` to disable this warning.\n",
      "  warnings.warn(msg, UserWarning)\n",
      "/opt/anaconda3/lib/python3.9/site-packages/seaborn/distributions.py:316: UserWarning: Dataset has 0 variance; skipping density estimate. Pass `warn_singular=False` to disable this warning.\n",
      "  warnings.warn(msg, UserWarning)\n"
     ]
    },
    {
     "data": {
      "text/plain": [
       "<AxesSubplot:xlabel='loan_percent_income', ylabel='Density'>"
      ]
     },
     "execution_count": 19,
     "metadata": {},
     "output_type": "execute_result"
    },
    {
     "data": {
      "image/png": "[encoded data removed]",
      "text/plain": [
       "<Figure size 720x432 with 1 Axes>"
      ]
     },
     "metadata": {},
     "output_type": "display_data"
    }
   ],
   "source": [
    "import seaborn as sns\n",
    "sns.set(style=\"white\")\n",
    "import matplotlib\n",
    "matplotlib.rcParams['figure.figsize'] = (10.0 , 6.0)\n",
    "sns.kdeplot( data['loan_percent_income'].loc[data['loan_status'] == 0], hue=data['loan_status'], shade=True)\n",
    "sns.kdeplot( data['loan_percent_income'].loc[data['loan_status'] == 1], hue=data['loan_status'], shade=True)"
   ]
  },
  {
   "cell_type": "code",
   "execution_count": 20,
   "metadata": {
    "id": "1C7iCwwQfWIF",
    "outputId": "c6dfac12-4369-437c-ac36-bb81390d40c1"
   },
   "outputs": [
    {
     "data": {
      "text/plain": [
       "count    6203.000000\n",
       "mean        0.246311\n",
       "std         0.132724\n",
       "min         0.010000\n",
       "25%         0.140000\n",
       "50%         0.240000\n",
       "75%         0.340000\n",
       "max         0.780000\n",
       "Name: loan_percent_income, dtype: float64"
      ]
     },
     "execution_count": 20,
     "metadata": {},
     "output_type": "execute_result"
    }
   ],
   "source": [
    "data['loan_percent_income'].loc[data['loan_status'] == 0].describe()"
   ]
  },
  {
   "cell_type": "code",
   "execution_count": 21,
   "metadata": {
    "id": "d9QXREiVfWIF",
    "outputId": "c61c9c74-4e65-4971-9b09-5a04dacc81b9"
   },
   "outputs": [
    {
     "data": {
      "text/plain": [
       "count    22435.000000\n",
       "mean         0.148247\n",
       "std          0.086581\n",
       "min          0.000000\n",
       "25%          0.080000\n",
       "50%          0.130000\n",
       "75%          0.200000\n",
       "max          0.830000\n",
       "Name: loan_percent_income, dtype: float64"
      ]
     },
     "execution_count": 21,
     "metadata": {},
     "output_type": "execute_result"
    }
   ],
   "source": [
    "data['loan_percent_income'].loc[data['loan_status'] == 1].describe()"
   ]
  },
  {
   "cell_type": "code",
   "execution_count": 22,
   "metadata": {
    "id": "dOYQRajufWIG",
    "outputId": "75150b65-d108-44be-95d0-b06b2144a53a"
   },
   "outputs": [
    {
     "name": "stderr",
     "output_type": "stream",
     "text": [
      "/opt/anaconda3/lib/python3.9/site-packages/seaborn/distributions.py:316: UserWarning: Dataset has 0 variance; skipping density estimate. Pass `warn_singular=False` to disable this warning.\n",
      "  warnings.warn(msg, UserWarning)\n",
      "/opt/anaconda3/lib/python3.9/site-packages/seaborn/distributions.py:316: UserWarning: Dataset has 0 variance; skipping density estimate. Pass `warn_singular=False` to disable this warning.\n",
      "  warnings.warn(msg, UserWarning)\n"
     ]
    },
    {
     "data": {
      "text/plain": [
       "<AxesSubplot:xlabel='person_income', ylabel='Density'>"
      ]
     },
     "execution_count": 22,
     "metadata": {},
     "output_type": "execute_result"
    },
    {
     "data": {
      "image/png": "[encoded data removed]",
      "text/plain": [
       "<Figure size 720x432 with 1 Axes>"
      ]
     },
     "metadata": {},
     "output_type": "display_data"
    }
   ],
   "source": [
    "import seaborn as sns\n",
    "sns.set(style=\"white\")\n",
    "import matplotlib\n",
    "matplotlib.rcParams['figure.figsize'] = (10.0 , 6.0)\n",
    "sns.kdeplot( data['person_income'].loc[data['loan_status'] == 0], hue=data['loan_status'], shade=True)\n",
    "sns.kdeplot( data['person_income'].loc[data['loan_status'] == 1], hue=data['loan_status'], shade=True)"
   ]
  },
  {
   "cell_type": "code",
   "execution_count": 23,
   "metadata": {},
   "outputs": [
    {
     "data": {
      "text/plain": [
       "count      6203.000000\n",
       "mean      50054.547477\n",
       "std       36896.713589\n",
       "min        4000.000000\n",
       "25%       30000.000000\n",
       "50%       42000.000000\n",
       "75%       60000.000000\n",
       "max      703800.000000\n",
       "Name: person_income, dtype: float64"
      ]
     },
     "execution_count": 23,
     "metadata": {},
     "output_type": "execute_result"
    }
   ],
   "source": [
    "data['person_income'].loc[data['loan_status'] == 0].describe()"
   ]
  },
  {
   "cell_type": "code",
   "execution_count": 24,
   "metadata": {},
   "outputs": [
    {
     "data": {
      "text/plain": [
       "count    2.243500e+04\n",
       "mean     7.123764e+04\n",
       "std      6.700667e+04\n",
       "min      7.200000e+03\n",
       "25%      4.250400e+04\n",
       "50%      6.000000e+04\n",
       "75%      8.500000e+04\n",
       "max      6.000000e+06\n",
       "Name: person_income, dtype: float64"
      ]
     },
     "execution_count": 24,
     "metadata": {},
     "output_type": "execute_result"
    }
   ],
   "source": [
    "data['person_income'].loc[data['loan_status'] == 1].describe()"
   ]
  },
  {
   "cell_type": "code",
   "execution_count": 25,
   "metadata": {
    "id": "eerSo3ACfWIH",
    "outputId": "46370c84-9fff-4f1b-c2ac-dbd4c18c06ee"
   },
   "outputs": [
    {
     "name": "stderr",
     "output_type": "stream",
     "text": [
      "/opt/anaconda3/lib/python3.9/site-packages/seaborn/distributions.py:316: UserWarning: Dataset has 0 variance; skipping density estimate. Pass `warn_singular=False` to disable this warning.\n",
      "  warnings.warn(msg, UserWarning)\n",
      "/opt/anaconda3/lib/python3.9/site-packages/seaborn/distributions.py:316: UserWarning: Dataset has 0 variance; skipping density estimate. Pass `warn_singular=False` to disable this warning.\n",
      "  warnings.warn(msg, UserWarning)\n"
     ]
    },
    {
     "data": {
      "text/plain": [
       "<AxesSubplot:xlabel='person_age', ylabel='Density'>"
      ]
     },
     "execution_count": 25,
     "metadata": {},
     "output_type": "execute_result"
    },
    {
     "data": {
      "image/png": "[encoded data removed]",
      "text/plain": [
       "<Figure size 720x432 with 1 Axes>"
      ]
     },
     "metadata": {},
     "output_type": "display_data"
    }
   ],
   "source": [
    "import seaborn as sns\n",
    "sns.set(style=\"white\")\n",
    "import matplotlib\n",
    "matplotlib.rcParams['figure.figsize'] = (10.0 , 6.0)\n",
    "sns.kdeplot( data['person_age'].loc[data['loan_status'] == 0], hue=data['loan_status'], shade=True)\n",
    "sns.kdeplot( data['person_age'].loc[data['loan_status'] == 1], hue=data['loan_status'], shade=True)"
   ]
  },
  {
   "cell_type": "code",
   "execution_count": 26,
   "metadata": {
    "id": "AODSxof8fWII",
    "outputId": "01380b61-e966-4b2e-c2fa-4ea45eb9167b"
   },
   "outputs": [
    {
     "data": {
      "text/plain": [
       "count    6203.000000\n",
       "mean       27.447203\n",
       "std         6.212141\n",
       "min        20.000000\n",
       "25%        23.000000\n",
       "50%        26.000000\n",
       "75%        30.000000\n",
       "max        70.000000\n",
       "Name: person_age, dtype: float64"
      ]
     },
     "execution_count": 26,
     "metadata": {},
     "output_type": "execute_result"
    }
   ],
   "source": [
    "data['person_age'].loc[data['loan_status'] == 0].describe()"
   ]
  },
  {
   "cell_type": "code",
   "execution_count": 27,
   "metadata": {
    "id": "K6Rf2R0FfWII",
    "outputId": "4758ad1e-452e-44e6-cde3-e8710da7454a"
   },
   "outputs": [
    {
     "data": {
      "text/plain": [
       "count    22435.000000\n",
       "mean        27.804636\n",
       "std          6.335304\n",
       "min         20.000000\n",
       "25%         23.000000\n",
       "50%         26.000000\n",
       "75%         30.000000\n",
       "max        144.000000\n",
       "Name: person_age, dtype: float64"
      ]
     },
     "execution_count": 27,
     "metadata": {},
     "output_type": "execute_result"
    }
   ],
   "source": [
    "data['person_age'].loc[data['loan_status'] == 1].describe()"
   ]
  },
  {
   "cell_type": "code",
   "execution_count": 28,
   "metadata": {
    "id": "KynS1HHJfWIJ",
    "outputId": "589d0847-af50-49bf-e38f-a7d55d1fd3b5"
   },
   "outputs": [
    {
     "name": "stderr",
     "output_type": "stream",
     "text": [
      "/opt/anaconda3/lib/python3.9/site-packages/seaborn/distributions.py:316: UserWarning: Dataset has 0 variance; skipping density estimate. Pass `warn_singular=False` to disable this warning.\n",
      "  warnings.warn(msg, UserWarning)\n",
      "/opt/anaconda3/lib/python3.9/site-packages/seaborn/distributions.py:316: UserWarning: Dataset has 0 variance; skipping density estimate. Pass `warn_singular=False` to disable this warning.\n",
      "  warnings.warn(msg, UserWarning)\n"
     ]
    },
    {
     "data": {
      "text/plain": [
       "<AxesSubplot:xlabel='cb_person_cred_hist_length', ylabel='Density'>"
      ]
     },
     "execution_count": 28,
     "metadata": {},
     "output_type": "execute_result"
    },
    {
     "data": {
      "image/png": "[encoded data removed]",
      "text/plain": [
       "<Figure size 720x432 with 1 Axes>"
      ]
     },
     "metadata": {},
     "output_type": "display_data"
    }
   ],
   "source": [
    "import seaborn as sns\n",
    "sns.set(style=\"white\")\n",
    "import matplotlib\n",
    "matplotlib.rcParams['figure.figsize'] = (10.0 , 6.0)\n",
    "sns.kdeplot( data['cb_person_cred_hist_length'].loc[data['loan_status'] == 0], hue=data['loan_status'], shade=True)\n",
    "sns.kdeplot( data['cb_person_cred_hist_length'].loc[data['loan_status'] == 1], hue=data['loan_status'], shade=True)"
   ]
  },
  {
   "cell_type": "code",
   "execution_count": 29,
   "metadata": {
    "id": "RWOJ8j5mfWIK",
    "outputId": "277bec57-e742-455a-a19f-582029c19c22"
   },
   "outputs": [
    {
     "data": {
      "text/plain": [
       "count    6203.000000\n",
       "mean        5.673545\n",
       "std         4.087560\n",
       "min         2.000000\n",
       "25%         3.000000\n",
       "50%         4.000000\n",
       "75%         8.000000\n",
       "max        30.000000\n",
       "Name: cb_person_cred_hist_length, dtype: float64"
      ]
     },
     "execution_count": 29,
     "metadata": {},
     "output_type": "execute_result"
    }
   ],
   "source": [
    "data['cb_person_cred_hist_length'].loc[data['loan_status'] == 0].describe()"
   ]
  },
  {
   "cell_type": "code",
   "execution_count": 30,
   "metadata": {
    "id": "1Xc_agyKfWIL",
    "outputId": "c5f877fc-0150-4f91-c5e9-211c49aef663"
   },
   "outputs": [
    {
     "data": {
      "text/plain": [
       "count    22435.000000\n",
       "mean         5.826967\n",
       "std          4.024266\n",
       "min          2.000000\n",
       "25%          3.000000\n",
       "50%          4.000000\n",
       "75%          8.000000\n",
       "max         30.000000\n",
       "Name: cb_person_cred_hist_length, dtype: float64"
      ]
     },
     "execution_count": 30,
     "metadata": {},
     "output_type": "execute_result"
    }
   ],
   "source": [
    "data['cb_person_cred_hist_length'].loc[data['loan_status'] == 1].describe()"
   ]
  },
  {
   "cell_type": "markdown",
   "metadata": {
    "id": "wwzUpkU0fWIN"
   },
   "source": [
    "# 3. Data Preparation"
   ]
  },
  {
   "cell_type": "code",
   "execution_count": 31,
   "metadata": {},
   "outputs": [],
   "source": [
    "cat_vars=['person_home_ownership']\n",
    "for var in cat_vars:\n",
    "    cat_list='var'+'_'+var\n",
    "    cat_list = pd.get_dummies(data[var], prefix=var)\n",
    "    data1=data.join(cat_list)\n",
    "    data=data1\n",
    "cat_vars=['person_home_ownership']\n",
    "data_vars=data.columns.values.tolist()\n",
    "to_keep=[i for i in data_vars if i not in cat_vars]"
   ]
  },
  {
   "cell_type": "code",
   "execution_count": 32,
   "metadata": {},
   "outputs": [],
   "source": [
    "# Import LabelEncoder\n",
    "from sklearn.preprocessing import LabelEncoder\n",
    "\n",
    "# Instantiate LabelEncoder\n",
    "le=LabelEncoder()\n",
    "\n",
    "# Iterate over all the values of each column and extract their dtypes\n",
    "for col in data.columns.values:\n",
    "    # Compare if the dtype is object\n",
    "    if data[col].dtype=='object':\n",
    "    # Use LabelEncoder to do the numeric transformation\n",
    "        data[col]=le.fit_transform(data[col])"
   ]
  },
  {
   "cell_type": "code",
   "execution_count": 33,
   "metadata": {},
   "outputs": [
    {
     "data": {
      "text/html": [
       "<div>\n",
       "<style scoped>\n",
       "    .dataframe tbody tr th:only-of-type {\n",
       "        vertical-align: middle;\n",
       "    }\n",
       "\n",
       "    .dataframe tbody tr th {\n",
       "        vertical-align: top;\n",
       "    }\n",
       "\n",
       "    .dataframe thead th {\n",
       "        text-align: right;\n",
       "    }\n",
       "</style>\n",
       "<table border=\"1\" class=\"dataframe\">\n",
       "  <thead>\n",
       "    <tr style=\"text-align: right;\">\n",
       "      <th></th>\n",
       "      <th>ID</th>\n",
       "      <th>person_age</th>\n",
       "      <th>person_income</th>\n",
       "      <th>person_home_ownership</th>\n",
       "      <th>person_emp_length</th>\n",
       "      <th>loan_intent</th>\n",
       "      <th>loan_grade</th>\n",
       "      <th>loan_amnt</th>\n",
       "      <th>loan_int_rate</th>\n",
       "      <th>loan_status</th>\n",
       "      <th>loan_percent_income</th>\n",
       "      <th>cb_person_default_on_file</th>\n",
       "      <th>cb_person_cred_hist_length</th>\n",
       "      <th>person_home_ownership_MORTGAGE</th>\n",
       "      <th>person_home_ownership_OTHER</th>\n",
       "      <th>person_home_ownership_OWN</th>\n",
       "      <th>person_home_ownership_RENT</th>\n",
       "    </tr>\n",
       "  </thead>\n",
       "  <tbody>\n",
       "    <tr>\n",
       "      <th>0</th>\n",
       "      <td>1</td>\n",
       "      <td>22</td>\n",
       "      <td>59000</td>\n",
       "      <td>3</td>\n",
       "      <td>123.0</td>\n",
       "      <td>4</td>\n",
       "      <td>3</td>\n",
       "      <td>35000</td>\n",
       "      <td>16.02</td>\n",
       "      <td>0</td>\n",
       "      <td>0.59</td>\n",
       "      <td>1</td>\n",
       "      <td>3</td>\n",
       "      <td>0</td>\n",
       "      <td>0</td>\n",
       "      <td>0</td>\n",
       "      <td>1</td>\n",
       "    </tr>\n",
       "    <tr>\n",
       "      <th>1</th>\n",
       "      <td>2</td>\n",
       "      <td>21</td>\n",
       "      <td>9600</td>\n",
       "      <td>2</td>\n",
       "      <td>5.0</td>\n",
       "      <td>1</td>\n",
       "      <td>1</td>\n",
       "      <td>1000</td>\n",
       "      <td>11.14</td>\n",
       "      <td>1</td>\n",
       "      <td>0.10</td>\n",
       "      <td>0</td>\n",
       "      <td>2</td>\n",
       "      <td>0</td>\n",
       "      <td>0</td>\n",
       "      <td>1</td>\n",
       "      <td>0</td>\n",
       "    </tr>\n",
       "    <tr>\n",
       "      <th>2</th>\n",
       "      <td>3</td>\n",
       "      <td>25</td>\n",
       "      <td>9600</td>\n",
       "      <td>0</td>\n",
       "      <td>1.0</td>\n",
       "      <td>3</td>\n",
       "      <td>2</td>\n",
       "      <td>5500</td>\n",
       "      <td>12.87</td>\n",
       "      <td>0</td>\n",
       "      <td>0.57</td>\n",
       "      <td>0</td>\n",
       "      <td>3</td>\n",
       "      <td>1</td>\n",
       "      <td>0</td>\n",
       "      <td>0</td>\n",
       "      <td>0</td>\n",
       "    </tr>\n",
       "    <tr>\n",
       "      <th>3</th>\n",
       "      <td>4</td>\n",
       "      <td>23</td>\n",
       "      <td>65500</td>\n",
       "      <td>3</td>\n",
       "      <td>4.0</td>\n",
       "      <td>3</td>\n",
       "      <td>2</td>\n",
       "      <td>35000</td>\n",
       "      <td>15.23</td>\n",
       "      <td>0</td>\n",
       "      <td>0.53</td>\n",
       "      <td>0</td>\n",
       "      <td>2</td>\n",
       "      <td>0</td>\n",
       "      <td>0</td>\n",
       "      <td>0</td>\n",
       "      <td>1</td>\n",
       "    </tr>\n",
       "    <tr>\n",
       "      <th>4</th>\n",
       "      <td>5</td>\n",
       "      <td>24</td>\n",
       "      <td>54400</td>\n",
       "      <td>3</td>\n",
       "      <td>8.0</td>\n",
       "      <td>3</td>\n",
       "      <td>2</td>\n",
       "      <td>35000</td>\n",
       "      <td>14.27</td>\n",
       "      <td>0</td>\n",
       "      <td>0.55</td>\n",
       "      <td>1</td>\n",
       "      <td>4</td>\n",
       "      <td>0</td>\n",
       "      <td>0</td>\n",
       "      <td>0</td>\n",
       "      <td>1</td>\n",
       "    </tr>\n",
       "    <tr>\n",
       "      <th>...</th>\n",
       "      <td>...</td>\n",
       "      <td>...</td>\n",
       "      <td>...</td>\n",
       "      <td>...</td>\n",
       "      <td>...</td>\n",
       "      <td>...</td>\n",
       "      <td>...</td>\n",
       "      <td>...</td>\n",
       "      <td>...</td>\n",
       "      <td>...</td>\n",
       "      <td>...</td>\n",
       "      <td>...</td>\n",
       "      <td>...</td>\n",
       "      <td>...</td>\n",
       "      <td>...</td>\n",
       "      <td>...</td>\n",
       "      <td>...</td>\n",
       "    </tr>\n",
       "    <tr>\n",
       "      <th>32576</th>\n",
       "      <td>32577</td>\n",
       "      <td>57</td>\n",
       "      <td>53000</td>\n",
       "      <td>0</td>\n",
       "      <td>1.0</td>\n",
       "      <td>4</td>\n",
       "      <td>2</td>\n",
       "      <td>5800</td>\n",
       "      <td>13.16</td>\n",
       "      <td>1</td>\n",
       "      <td>0.11</td>\n",
       "      <td>0</td>\n",
       "      <td>30</td>\n",
       "      <td>1</td>\n",
       "      <td>0</td>\n",
       "      <td>0</td>\n",
       "      <td>0</td>\n",
       "    </tr>\n",
       "    <tr>\n",
       "      <th>32577</th>\n",
       "      <td>32578</td>\n",
       "      <td>54</td>\n",
       "      <td>120000</td>\n",
       "      <td>0</td>\n",
       "      <td>4.0</td>\n",
       "      <td>4</td>\n",
       "      <td>0</td>\n",
       "      <td>17625</td>\n",
       "      <td>7.49</td>\n",
       "      <td>1</td>\n",
       "      <td>0.15</td>\n",
       "      <td>0</td>\n",
       "      <td>19</td>\n",
       "      <td>1</td>\n",
       "      <td>0</td>\n",
       "      <td>0</td>\n",
       "      <td>0</td>\n",
       "    </tr>\n",
       "    <tr>\n",
       "      <th>32578</th>\n",
       "      <td>32579</td>\n",
       "      <td>65</td>\n",
       "      <td>76000</td>\n",
       "      <td>3</td>\n",
       "      <td>3.0</td>\n",
       "      <td>2</td>\n",
       "      <td>1</td>\n",
       "      <td>35000</td>\n",
       "      <td>10.99</td>\n",
       "      <td>0</td>\n",
       "      <td>0.46</td>\n",
       "      <td>0</td>\n",
       "      <td>28</td>\n",
       "      <td>0</td>\n",
       "      <td>0</td>\n",
       "      <td>0</td>\n",
       "      <td>1</td>\n",
       "    </tr>\n",
       "    <tr>\n",
       "      <th>32579</th>\n",
       "      <td>32580</td>\n",
       "      <td>56</td>\n",
       "      <td>150000</td>\n",
       "      <td>0</td>\n",
       "      <td>5.0</td>\n",
       "      <td>4</td>\n",
       "      <td>1</td>\n",
       "      <td>15000</td>\n",
       "      <td>11.48</td>\n",
       "      <td>1</td>\n",
       "      <td>0.10</td>\n",
       "      <td>0</td>\n",
       "      <td>26</td>\n",
       "      <td>1</td>\n",
       "      <td>0</td>\n",
       "      <td>0</td>\n",
       "      <td>0</td>\n",
       "    </tr>\n",
       "    <tr>\n",
       "      <th>32580</th>\n",
       "      <td>32581</td>\n",
       "      <td>66</td>\n",
       "      <td>42000</td>\n",
       "      <td>3</td>\n",
       "      <td>2.0</td>\n",
       "      <td>3</td>\n",
       "      <td>1</td>\n",
       "      <td>6475</td>\n",
       "      <td>9.99</td>\n",
       "      <td>1</td>\n",
       "      <td>0.15</td>\n",
       "      <td>0</td>\n",
       "      <td>30</td>\n",
       "      <td>0</td>\n",
       "      <td>0</td>\n",
       "      <td>0</td>\n",
       "      <td>1</td>\n",
       "    </tr>\n",
       "  </tbody>\n",
       "</table>\n",
       "<p>28638 rows × 17 columns</p>\n",
       "</div>"
      ],
      "text/plain": [
       "          ID  person_age  person_income  person_home_ownership  \\\n",
       "0          1          22          59000                      3   \n",
       "1          2          21           9600                      2   \n",
       "2          3          25           9600                      0   \n",
       "3          4          23          65500                      3   \n",
       "4          5          24          54400                      3   \n",
       "...      ...         ...            ...                    ...   \n",
       "32576  32577          57          53000                      0   \n",
       "32577  32578          54         120000                      0   \n",
       "32578  32579          65          76000                      3   \n",
       "32579  32580          56         150000                      0   \n",
       "32580  32581          66          42000                      3   \n",
       "\n",
       "       person_emp_length  loan_intent  loan_grade  loan_amnt  loan_int_rate  \\\n",
       "0                  123.0            4           3      35000          16.02   \n",
       "1                    5.0            1           1       1000          11.14   \n",
       "2                    1.0            3           2       5500          12.87   \n",
       "3                    4.0            3           2      35000          15.23   \n",
       "4                    8.0            3           2      35000          14.27   \n",
       "...                  ...          ...         ...        ...            ...   \n",
       "32576                1.0            4           2       5800          13.16   \n",
       "32577                4.0            4           0      17625           7.49   \n",
       "32578                3.0            2           1      35000          10.99   \n",
       "32579                5.0            4           1      15000          11.48   \n",
       "32580                2.0            3           1       6475           9.99   \n",
       "\n",
       "       loan_status  loan_percent_income  cb_person_default_on_file  \\\n",
       "0                0                 0.59                          1   \n",
       "1                1                 0.10                          0   \n",
       "2                0                 0.57                          0   \n",
       "3                0                 0.53                          0   \n",
       "4                0                 0.55                          1   \n",
       "...            ...                  ...                        ...   \n",
       "32576            1                 0.11                          0   \n",
       "32577            1                 0.15                          0   \n",
       "32578            0                 0.46                          0   \n",
       "32579            1                 0.10                          0   \n",
       "32580            1                 0.15                          0   \n",
       "\n",
       "       cb_person_cred_hist_length  person_home_ownership_MORTGAGE  \\\n",
       "0                               3                               0   \n",
       "1                               2                               0   \n",
       "2                               3                               1   \n",
       "3                               2                               0   \n",
       "4                               4                               0   \n",
       "...                           ...                             ...   \n",
       "32576                          30                               1   \n",
       "32577                          19                               1   \n",
       "32578                          28                               0   \n",
       "32579                          26                               1   \n",
       "32580                          30                               0   \n",
       "\n",
       "       person_home_ownership_OTHER  person_home_ownership_OWN  \\\n",
       "0                                0                          0   \n",
       "1                                0                          1   \n",
       "2                                0                          0   \n",
       "3                                0                          0   \n",
       "4                                0                          0   \n",
       "...                            ...                        ...   \n",
       "32576                            0                          0   \n",
       "32577                            0                          0   \n",
       "32578                            0                          0   \n",
       "32579                            0                          0   \n",
       "32580                            0                          0   \n",
       "\n",
       "       person_home_ownership_RENT  \n",
       "0                               1  \n",
       "1                               0  \n",
       "2                               0  \n",
       "3                               1  \n",
       "4                               1  \n",
       "...                           ...  \n",
       "32576                           0  \n",
       "32577                           0  \n",
       "32578                           1  \n",
       "32579                           0  \n",
       "32580                           1  \n",
       "\n",
       "[28638 rows x 17 columns]"
      ]
     },
     "execution_count": 33,
     "metadata": {},
     "output_type": "execute_result"
    }
   ],
   "source": [
    "data"
   ]
  },
  {
   "cell_type": "code",
   "execution_count": 34,
   "metadata": {},
   "outputs": [],
   "source": [
    "# Create feature and target variable for problem\n",
    "X_class= data.drop('loan_status', axis=1)\n",
    "y_class = data['loan_status']"
   ]
  },
  {
   "cell_type": "code",
   "execution_count": 35,
   "metadata": {},
   "outputs": [
    {
     "data": {
      "text/plain": [
       "1    22435\n",
       "0     6203\n",
       "Name: loan_status, dtype: int64"
      ]
     },
     "execution_count": 35,
     "metadata": {},
     "output_type": "execute_result"
    }
   ],
   "source": [
    "y_class.value_counts()"
   ]
  },
  {
   "cell_type": "code",
   "execution_count": 36,
   "metadata": {},
   "outputs": [
    {
     "data": {
      "text/plain": [
       "0    22435\n",
       "1    22435\n",
       "Name: loan_status, dtype: int64"
      ]
     },
     "execution_count": 36,
     "metadata": {},
     "output_type": "execute_result"
    }
   ],
   "source": [
    " # Dealing with imbalanced data set\n",
    "\n",
    "from imblearn.over_sampling import SMOTE\n",
    "smote = SMOTE (sampling_strategy='minority')\n",
    "X_sm, y_sm = smote. fit_resample(X_class,y_class)\n",
    "\n",
    "y_sm.value_counts()"
   ]
  },
  {
   "cell_type": "code",
   "execution_count": 37,
   "metadata": {},
   "outputs": [],
   "source": [
    "from sklearn.model_selection import train_test_split"
   ]
  },
  {
   "cell_type": "code",
   "execution_count": 38,
   "metadata": {},
   "outputs": [],
   "source": [
    "x_train,x_test,y_train,y_test=train_test_split(X_sm,y_sm,train_size=0.75,random_state=15)"
   ]
  },
  {
   "cell_type": "code",
   "execution_count": 39,
   "metadata": {},
   "outputs": [
    {
     "data": {
      "text/plain": [
       "(33652, 16)"
      ]
     },
     "execution_count": 39,
     "metadata": {},
     "output_type": "execute_result"
    }
   ],
   "source": [
    "x_train.shape"
   ]
  },
  {
   "cell_type": "markdown",
   "metadata": {},
   "source": [
    "Recursive Feature Elimination\n",
    "\n",
    "Recursive Feature Elimination (RFE) is based on the idea to repeatedly construct a model and choose either the best or worst performing feature, setting the feature aside and then repeating the process with the rest of the features. This process is applied until all features in the dataset are exhausted. The goal of RFE is to select features by recursively considering smaller and smaller sets of features."
   ]
  },
  {
   "cell_type": "code",
   "execution_count": 40,
   "metadata": {},
   "outputs": [],
   "source": [
    "from sklearn.feature_selection import RFE"
   ]
  },
  {
   "cell_type": "code",
   "execution_count": 41,
   "metadata": {},
   "outputs": [
    {
     "name": "stderr",
     "output_type": "stream",
     "text": [
      "/opt/anaconda3/lib/python3.9/site-packages/sklearn/linear_model/_logistic.py:814: ConvergenceWarning: lbfgs failed to converge (status=1):\n",
      "STOP: TOTAL NO. of ITERATIONS REACHED LIMIT.\n",
      "\n",
      "Increase the number of iterations (max_iter) or scale the data as shown in:\n",
      "    https://scikit-learn.org/stable/modules/preprocessing.html\n",
      "Please also refer to the documentation for alternative solver options:\n",
      "    https://scikit-learn.org/stable/modules/linear_model.html#logistic-regression\n",
      "  n_iter_i = _check_optimize_result(\n",
      "/opt/anaconda3/lib/python3.9/site-packages/sklearn/linear_model/_logistic.py:814: ConvergenceWarning: lbfgs failed to converge (status=1):\n",
      "STOP: TOTAL NO. of ITERATIONS REACHED LIMIT.\n",
      "\n",
      "Increase the number of iterations (max_iter) or scale the data as shown in:\n",
      "    https://scikit-learn.org/stable/modules/preprocessing.html\n",
      "Please also refer to the documentation for alternative solver options:\n",
      "    https://scikit-learn.org/stable/modules/linear_model.html#logistic-regression\n",
      "  n_iter_i = _check_optimize_result(\n",
      "/opt/anaconda3/lib/python3.9/site-packages/sklearn/linear_model/_logistic.py:814: ConvergenceWarning: lbfgs failed to converge (status=1):\n",
      "STOP: TOTAL NO. of ITERATIONS REACHED LIMIT.\n",
      "\n",
      "Increase the number of iterations (max_iter) or scale the data as shown in:\n",
      "    https://scikit-learn.org/stable/modules/preprocessing.html\n",
      "Please also refer to the documentation for alternative solver options:\n",
      "    https://scikit-learn.org/stable/modules/linear_model.html#logistic-regression\n",
      "  n_iter_i = _check_optimize_result(\n",
      "/opt/anaconda3/lib/python3.9/site-packages/sklearn/linear_model/_logistic.py:814: ConvergenceWarning: lbfgs failed to converge (status=1):\n",
      "STOP: TOTAL NO. of ITERATIONS REACHED LIMIT.\n",
      "\n",
      "Increase the number of iterations (max_iter) or scale the data as shown in:\n",
      "    https://scikit-learn.org/stable/modules/preprocessing.html\n",
      "Please also refer to the documentation for alternative solver options:\n",
      "    https://scikit-learn.org/stable/modules/linear_model.html#logistic-regression\n",
      "  n_iter_i = _check_optimize_result(\n",
      "/opt/anaconda3/lib/python3.9/site-packages/sklearn/linear_model/_logistic.py:814: ConvergenceWarning: lbfgs failed to converge (status=1):\n",
      "STOP: TOTAL NO. of ITERATIONS REACHED LIMIT.\n",
      "\n",
      "Increase the number of iterations (max_iter) or scale the data as shown in:\n",
      "    https://scikit-learn.org/stable/modules/preprocessing.html\n",
      "Please also refer to the documentation for alternative solver options:\n",
      "    https://scikit-learn.org/stable/modules/linear_model.html#logistic-regression\n",
      "  n_iter_i = _check_optimize_result(\n",
      "/opt/anaconda3/lib/python3.9/site-packages/sklearn/linear_model/_logistic.py:814: ConvergenceWarning: lbfgs failed to converge (status=1):\n",
      "STOP: TOTAL NO. of ITERATIONS REACHED LIMIT.\n",
      "\n",
      "Increase the number of iterations (max_iter) or scale the data as shown in:\n",
      "    https://scikit-learn.org/stable/modules/preprocessing.html\n",
      "Please also refer to the documentation for alternative solver options:\n",
      "    https://scikit-learn.org/stable/modules/linear_model.html#logistic-regression\n",
      "  n_iter_i = _check_optimize_result(\n"
     ]
    },
    {
     "name": "stdout",
     "output_type": "stream",
     "text": [
      "[False False False  True False False False False  True  True  True False\n",
      "  True  True  True  True]\n"
     ]
    }
   ],
   "source": [
    "# Create a logistic regression model\n",
    "model = LogisticRegression()\n",
    "\n",
    "# Use RFE to select the top 10 features\n",
    "rfe = RFE(model, n_features_to_select=8)\n",
    "rfe.fit(x_train,y_train)\n",
    "\n",
    "# Print the selected features\n",
    "print(rfe.support_)"
   ]
  },
  {
   "cell_type": "code",
   "execution_count": 42,
   "metadata": {},
   "outputs": [
    {
     "data": {
      "text/plain": [
       "Index(['ID', 'person_age', 'person_income', 'person_home_ownership',\n",
       "       'person_emp_length', 'loan_intent', 'loan_grade', 'loan_amnt',\n",
       "       'loan_int_rate', 'loan_percent_income', 'cb_person_default_on_file',\n",
       "       'cb_person_cred_hist_length', 'person_home_ownership_MORTGAGE',\n",
       "       'person_home_ownership_OTHER', 'person_home_ownership_OWN',\n",
       "       'person_home_ownership_RENT'],\n",
       "      dtype='object')"
      ]
     },
     "execution_count": 42,
     "metadata": {},
     "output_type": "execute_result"
    }
   ],
   "source": [
    "x_train.columns"
   ]
  },
  {
   "cell_type": "code",
   "execution_count": 43,
   "metadata": {},
   "outputs": [
    {
     "data": {
      "text/html": [
       "<div>\n",
       "<style scoped>\n",
       "    .dataframe tbody tr th:only-of-type {\n",
       "        vertical-align: middle;\n",
       "    }\n",
       "\n",
       "    .dataframe tbody tr th {\n",
       "        vertical-align: top;\n",
       "    }\n",
       "\n",
       "    .dataframe thead th {\n",
       "        text-align: right;\n",
       "    }\n",
       "</style>\n",
       "<table border=\"1\" class=\"dataframe\">\n",
       "  <thead>\n",
       "    <tr style=\"text-align: right;\">\n",
       "      <th></th>\n",
       "      <th>Feature</th>\n",
       "      <th>Importance</th>\n",
       "    </tr>\n",
       "  </thead>\n",
       "  <tbody>\n",
       "    <tr>\n",
       "      <th>3</th>\n",
       "      <td>person_home_ownership</td>\n",
       "      <td>1</td>\n",
       "    </tr>\n",
       "    <tr>\n",
       "      <th>8</th>\n",
       "      <td>loan_int_rate</td>\n",
       "      <td>1</td>\n",
       "    </tr>\n",
       "    <tr>\n",
       "      <th>9</th>\n",
       "      <td>loan_percent_income</td>\n",
       "      <td>1</td>\n",
       "    </tr>\n",
       "    <tr>\n",
       "      <th>10</th>\n",
       "      <td>cb_person_default_on_file</td>\n",
       "      <td>1</td>\n",
       "    </tr>\n",
       "    <tr>\n",
       "      <th>12</th>\n",
       "      <td>person_home_ownership_MORTGAGE</td>\n",
       "      <td>1</td>\n",
       "    </tr>\n",
       "    <tr>\n",
       "      <th>13</th>\n",
       "      <td>person_home_ownership_OTHER</td>\n",
       "      <td>1</td>\n",
       "    </tr>\n",
       "    <tr>\n",
       "      <th>14</th>\n",
       "      <td>person_home_ownership_OWN</td>\n",
       "      <td>1</td>\n",
       "    </tr>\n",
       "    <tr>\n",
       "      <th>15</th>\n",
       "      <td>person_home_ownership_RENT</td>\n",
       "      <td>1</td>\n",
       "    </tr>\n",
       "    <tr>\n",
       "      <th>5</th>\n",
       "      <td>loan_intent</td>\n",
       "      <td>2</td>\n",
       "    </tr>\n",
       "    <tr>\n",
       "      <th>6</th>\n",
       "      <td>loan_grade</td>\n",
       "      <td>3</td>\n",
       "    </tr>\n",
       "    <tr>\n",
       "      <th>11</th>\n",
       "      <td>cb_person_cred_hist_length</td>\n",
       "      <td>4</td>\n",
       "    </tr>\n",
       "    <tr>\n",
       "      <th>4</th>\n",
       "      <td>person_emp_length</td>\n",
       "      <td>5</td>\n",
       "    </tr>\n",
       "    <tr>\n",
       "      <th>1</th>\n",
       "      <td>person_age</td>\n",
       "      <td>6</td>\n",
       "    </tr>\n",
       "    <tr>\n",
       "      <th>7</th>\n",
       "      <td>loan_amnt</td>\n",
       "      <td>7</td>\n",
       "    </tr>\n",
       "    <tr>\n",
       "      <th>2</th>\n",
       "      <td>person_income</td>\n",
       "      <td>8</td>\n",
       "    </tr>\n",
       "    <tr>\n",
       "      <th>0</th>\n",
       "      <td>ID</td>\n",
       "      <td>9</td>\n",
       "    </tr>\n",
       "  </tbody>\n",
       "</table>\n",
       "</div>"
      ],
      "text/plain": [
       "                           Feature  Importance\n",
       "3            person_home_ownership           1\n",
       "8                    loan_int_rate           1\n",
       "9              loan_percent_income           1\n",
       "10       cb_person_default_on_file           1\n",
       "12  person_home_ownership_MORTGAGE           1\n",
       "13     person_home_ownership_OTHER           1\n",
       "14       person_home_ownership_OWN           1\n",
       "15      person_home_ownership_RENT           1\n",
       "5                      loan_intent           2\n",
       "6                       loan_grade           3\n",
       "11      cb_person_cred_hist_length           4\n",
       "4                person_emp_length           5\n",
       "1                       person_age           6\n",
       "7                        loan_amnt           7\n",
       "2                    person_income           8\n",
       "0                               ID           9"
      ]
     },
     "execution_count": 43,
     "metadata": {},
     "output_type": "execute_result"
    }
   ],
   "source": [
    "data_X1 = pd.DataFrame({\n",
    "    'Feature': x_train.columns,\n",
    "    'Importance': rfe.ranking_},)\n",
    "data_X1.sort_values(by=['Importance'])"
   ]
  },
  {
   "cell_type": "code",
   "execution_count": 44,
   "metadata": {
    "id": "QDPDIezLfWIR",
    "outputId": "a558fe2f-1db1-45ac-afd0-df8cf106775d"
   },
   "outputs": [
    {
     "name": "stdout",
     "output_type": "stream",
     "text": [
      "['person_home_ownership', 'loan_int_rate', 'loan_percent_income', 'cb_person_default_on_file', 'person_home_ownership_MORTGAGE', 'person_home_ownership_OTHER', 'person_home_ownership_OWN', 'person_home_ownership_RENT']\n",
      "8\n"
     ]
    }
   ],
   "source": [
    "cols=[]\n",
    "for i in range (0, len(data_X1[\"Importance\"])):\n",
    "    if data_X1[\"Importance\"][i] == 1:\n",
    "        cols.append(data_X1[\"Feature\"][i])\n",
    "print(cols)\n",
    "print(len(cols))"
   ]
  },
  {
   "cell_type": "markdown",
   "metadata": {},
   "source": [
    "The RFE has helped us select the following features: \n",
    "    'ID', 'person_age', 'person_income', 'person_emp_length', 'loan_intent', 'loan_grade', 'loan_amnt', 'loan_int_rate"
   ]
  },
  {
   "cell_type": "code",
   "execution_count": 45,
   "metadata": {},
   "outputs": [],
   "source": [
    "X=x_train[cols]\n",
    "y=y_train"
   ]
  },
  {
   "cell_type": "markdown",
   "metadata": {
    "id": "VvF6fNMCfWIS"
   },
   "source": [
    "# 4. Modeling"
   ]
  },
  {
   "cell_type": "code",
   "execution_count": 46,
   "metadata": {
    "id": "QgsAMC5hfWIS",
    "outputId": "5ceb1c1e-b140-4d84-9680-82b9bfe61450"
   },
   "outputs": [
    {
     "name": "stdout",
     "output_type": "stream",
     "text": [
      "Warning: Maximum number of iterations has been exceeded.\n",
      "         Current function value: 0.438883\n",
      "         Iterations: 35\n",
      "                                    Results: Logit\n",
      "======================================================================================\n",
      "Model:                     Logit                   Pseudo R-squared:        0.367     \n",
      "Dependent Variable:        loan_status             AIC:                     29554.5882\n",
      "Date:                      2023-09-25 17:47        BIC:                     29621.9788\n",
      "No. Observations:          33652                   Log-Likelihood:          -14769.   \n",
      "Df Model:                  7                       LL-Null:                 -23326.   \n",
      "Df Residuals:              33644                   LLR p-value:             0.0000    \n",
      "Converged:                 0.0000                  Scale:                   1.0000    \n",
      "No. Iterations:            35.0000                                                    \n",
      "--------------------------------------------------------------------------------------\n",
      "                                Coef.    Std.Err.    z     P>|z|    [0.025     0.975] \n",
      "--------------------------------------------------------------------------------------\n",
      "person_home_ownership          -15.2728 1552.7317  -0.0098 0.9922 -3058.5709 3028.0254\n",
      "loan_int_rate                   -0.3628    0.0057 -63.2138 0.0000    -0.3740   -0.3515\n",
      "loan_percent_income             -8.8834    0.1413 -62.8712 0.0000    -9.1604   -8.6065\n",
      "cb_person_default_on_file        0.8189    0.0413  19.8344 0.0000     0.7380    0.8999\n",
      "person_home_ownership_MORTGAGE   6.5898    0.0814  80.9580 0.0000     6.4303    6.7494\n",
      "person_home_ownership_OTHER     22.6698 1552.7317   0.0146 0.9884 -3020.6285 3065.9680\n",
      "person_home_ownership_OWN       38.6550 3105.4634   0.0124 0.9901 -6047.9413 6125.2513\n",
      "person_home_ownership_RENT      51.4009 4658.1950   0.0110 0.9912 -9078.4936 9181.2954\n",
      "======================================================================================\n",
      "\n"
     ]
    },
    {
     "name": "stderr",
     "output_type": "stream",
     "text": [
      "/opt/anaconda3/lib/python3.9/site-packages/statsmodels/base/model.py:604: ConvergenceWarning: Maximum Likelihood optimization failed to converge. Check mle_retvals\n",
      "  warnings.warn(\"Maximum Likelihood optimization failed to \"\n"
     ]
    }
   ],
   "source": [
    "import statsmodels.api as sm\n",
    "logit_model=sm.Logit(y,X)\n",
    "result=logit_model.fit()\n",
    "print(result.summary2())"
   ]
  },
  {
   "cell_type": "code",
   "execution_count": 47,
   "metadata": {
    "id": "sLicXJA5fWIT",
    "outputId": "0e8a318c-b2af-4ffd-a4f1-72fa9bd299ae"
   },
   "outputs": [
    {
     "data": {
      "text/html": [
       "<div>\n",
       "<style scoped>\n",
       "    .dataframe tbody tr th:only-of-type {\n",
       "        vertical-align: middle;\n",
       "    }\n",
       "\n",
       "    .dataframe tbody tr th {\n",
       "        vertical-align: top;\n",
       "    }\n",
       "\n",
       "    .dataframe thead th {\n",
       "        text-align: right;\n",
       "    }\n",
       "</style>\n",
       "<table border=\"1\" class=\"dataframe\">\n",
       "  <thead>\n",
       "    <tr style=\"text-align: right;\">\n",
       "      <th></th>\n",
       "      <th>p_value</th>\n",
       "    </tr>\n",
       "  </thead>\n",
       "  <tbody>\n",
       "    <tr>\n",
       "      <th>person_home_ownership</th>\n",
       "      <td>9.921521e-01</td>\n",
       "    </tr>\n",
       "    <tr>\n",
       "      <th>loan_int_rate</th>\n",
       "      <td>0.000000e+00</td>\n",
       "    </tr>\n",
       "    <tr>\n",
       "      <th>loan_percent_income</th>\n",
       "      <td>0.000000e+00</td>\n",
       "    </tr>\n",
       "    <tr>\n",
       "      <th>cb_person_default_on_file</th>\n",
       "      <td>1.504158e-87</td>\n",
       "    </tr>\n",
       "    <tr>\n",
       "      <th>person_home_ownership_MORTGAGE</th>\n",
       "      <td>0.000000e+00</td>\n",
       "    </tr>\n",
       "    <tr>\n",
       "      <th>person_home_ownership_OTHER</th>\n",
       "      <td>9.883514e-01</td>\n",
       "    </tr>\n",
       "    <tr>\n",
       "      <th>person_home_ownership_OWN</th>\n",
       "      <td>9.900687e-01</td>\n",
       "    </tr>\n",
       "    <tr>\n",
       "      <th>person_home_ownership_RENT</th>\n",
       "      <td>9.911959e-01</td>\n",
       "    </tr>\n",
       "  </tbody>\n",
       "</table>\n",
       "</div>"
      ],
      "text/plain": [
       "                                     p_value\n",
       "person_home_ownership           9.921521e-01\n",
       "loan_int_rate                   0.000000e+00\n",
       "loan_percent_income             0.000000e+00\n",
       "cb_person_default_on_file       1.504158e-87\n",
       "person_home_ownership_MORTGAGE  0.000000e+00\n",
       "person_home_ownership_OTHER     9.883514e-01\n",
       "person_home_ownership_OWN       9.900687e-01\n",
       "person_home_ownership_RENT      9.911959e-01"
      ]
     },
     "execution_count": 47,
     "metadata": {},
     "output_type": "execute_result"
    }
   ],
   "source": [
    "pvalue = pd.DataFrame(result.pvalues,columns={'p_value'},)\n",
    "pvalue"
   ]
  },
  {
   "cell_type": "code",
   "execution_count": 48,
   "metadata": {
    "id": "bihvBgmEfWIU",
    "outputId": "f7d1a849-2ede-497f-fcd5-e95e200a48bd"
   },
   "outputs": [
    {
     "name": "stdout",
     "output_type": "stream",
     "text": [
      "['loan_int_rate', 'loan_percent_income', 'cb_person_default_on_file', 'person_home_ownership_MORTGAGE']\n",
      "4\n"
     ]
    }
   ],
   "source": [
    "pvs=[]\n",
    "for i in range (0, len(pvalue[\"p_value\"])):\n",
    "    if pvalue[\"p_value\"][i] < 0.05:\n",
    "        pvs.append(pvalue.index[i])\n",
    "\n",
    "if 'const' in pvs:\n",
    "    pvs.remove('const')\n",
    "else:\n",
    "    pvs\n",
    "print(pvs)\n",
    "print(len(pvs))"
   ]
  },
  {
   "cell_type": "code",
   "execution_count": 49,
   "metadata": {
    "id": "6kyeG213fWIU",
    "outputId": "8982a6e0-fc30-4fa8-df1d-b795ab043730"
   },
   "outputs": [
    {
     "name": "stdout",
     "output_type": "stream",
     "text": [
      "Optimization terminated successfully.\n",
      "         Current function value: 0.603161\n",
      "         Iterations 5\n",
      "                           Logit Regression Results                           \n",
      "==============================================================================\n",
      "Dep. Variable:            loan_status   No. Observations:                33652\n",
      "Model:                          Logit   Df Residuals:                    33648\n",
      "Method:                           MLE   Df Model:                            3\n",
      "Date:                Mon, 25 Sep 2023   Pseudo R-squ.:                  0.1298\n",
      "Time:                        17:47:26   Log-Likelihood:                -20298.\n",
      "converged:                       True   LL-Null:                       -23326.\n",
      "Covariance Type:            nonrobust   LLR p-value:                     0.000\n",
      "==================================================================================================\n",
      "                                     coef    std err          z      P>|z|      [0.025      0.975]\n",
      "--------------------------------------------------------------------------------------------------\n",
      "loan_int_rate                     -0.0011      0.002     -0.549      0.583      -0.005       0.003\n",
      "loan_percent_income               -3.5027      0.102    -34.451      0.000      -3.702      -3.303\n",
      "cb_person_default_on_file          0.0726      0.035      2.083      0.037       0.004       0.141\n",
      "person_home_ownership_MORTGAGE     1.5067      0.025     59.958      0.000       1.457       1.556\n",
      "==================================================================================================\n"
     ]
    }
   ],
   "source": [
    "X=x_train[pvs]\n",
    "y=y_train\n",
    "\n",
    "logit_model=sm.Logit(y,X)\n",
    "result=logit_model.fit()\n",
    "print(result.summary())"
   ]
  },
  {
   "cell_type": "code",
   "execution_count": 50,
   "metadata": {
    "id": "yFYu5R2jfWIV",
    "outputId": "26ec601f-e6db-41de-ae3f-0ae7392f8701"
   },
   "outputs": [
    {
     "data": {
      "text/plain": [
       "LogisticRegression()"
      ]
     },
     "execution_count": 50,
     "metadata": {},
     "output_type": "execute_result"
    }
   ],
   "source": [
    "from sklearn.linear_model import LogisticRegression\n",
    "from sklearn import metrics\n",
    "\n",
    "X_train, X_test, y_train, y_test = train_test_split(X, y, test_size=0.33, random_state=42)\n",
    "logreg = LogisticRegression()\n",
    "logreg.fit(X_train, y_train)"
   ]
  },
  {
   "cell_type": "markdown",
   "metadata": {
    "id": "mBdg2eGmfWIW"
   },
   "source": [
    "# 5. Evaluation"
   ]
  },
  {
   "cell_type": "code",
   "execution_count": 51,
   "metadata": {
    "id": "GEbShUgkfWIW",
    "outputId": "9a8ea482-f034-4921-b6c1-c72f767eff1f"
   },
   "outputs": [
    {
     "name": "stdout",
     "output_type": "stream",
     "text": [
      "Accuracy of logistic regression classifier on test set: 0.77\n"
     ]
    }
   ],
   "source": [
    "from sklearn.metrics import accuracy_score\n",
    "y_pred = logreg.predict(X_test)\n",
    "print('Accuracy of logistic regression classifier on test set: {:.2f}'.format(accuracy_score(y_test, y_pred)))"
   ]
  },
  {
   "cell_type": "code",
   "execution_count": 52,
   "metadata": {
    "id": "UzD8j6MtfWIX",
    "outputId": "547ead1a-add8-426c-fd32-4d64484bbbe1"
   },
   "outputs": [
    {
     "name": "stdout",
     "output_type": "stream",
     "text": [
      "[[4264 1340]\n",
      " [1247 4255]]\n"
     ]
    }
   ],
   "source": [
    "from sklearn.metrics import confusion_matrix\n",
    "confusion_matrix = confusion_matrix(y_test, y_pred)\n",
    "print(confusion_matrix)"
   ]
  },
  {
   "cell_type": "code",
   "execution_count": 53,
   "metadata": {
    "id": "sruu0xsVfWIX",
    "outputId": "9dfeac3b-1e41-4b8c-b844-c051ac381c62"
   },
   "outputs": [
    {
     "name": "stdout",
     "output_type": "stream",
     "text": [
      "\u001b[1m The result is telling us that we have:  8519 correct predictions\u001b[1m\n",
      "\u001b[1m The result is telling us that we have:  2587 incorrect predictions\u001b[1m\n",
      "\u001b[1m We have a total predictions of:  11106\n"
     ]
    }
   ],
   "source": [
    "print(\"\\033[1m The result is telling us that we have: \",(confusion_matrix[0,0]+confusion_matrix[1,1]),\"correct predictions\\033[1m\")\n",
    "print(\"\\033[1m The result is telling us that we have: \",(confusion_matrix[0,1]+confusion_matrix[1,0]),\"incorrect predictions\\033[1m\")\n",
    "print(\"\\033[1m We have a total predictions of: \",(confusion_matrix.sum()))"
   ]
  },
  {
   "cell_type": "code",
   "execution_count": 54,
   "metadata": {
    "id": "XU0UV9D5fWIY",
    "outputId": "5d1da72b-9010-46fc-f596-cc656b760170"
   },
   "outputs": [
    {
     "name": "stdout",
     "output_type": "stream",
     "text": [
      "              precision    recall  f1-score   support\n",
      "\n",
      "           0       0.77      0.76      0.77      5604\n",
      "           1       0.76      0.77      0.77      5502\n",
      "\n",
      "    accuracy                           0.77     11106\n",
      "   macro avg       0.77      0.77      0.77     11106\n",
      "weighted avg       0.77      0.77      0.77     11106\n",
      "\n"
     ]
    }
   ],
   "source": [
    "from sklearn.metrics import classification_report\n",
    "print(classification_report(y_test, y_pred))"
   ]
  },
  {
   "cell_type": "markdown",
   "metadata": {},
   "source": [
    "Interpretations:\n",
    "\n",
    "    The precision of class 1 in the test set, that is the positive predicted value of our model, tells us out of all the “bad” loan applicants which our model has identified how many were actually “bad” loan applicants. So, 77% of the “bad” loan applicants which our model managed to identify were actually “bad” loan applicants.\n",
    "    The recall of class 1 in the test set, that is the sensitivity of our model, tells us how many “bad” loan applicants our model has managed to identify out of all the “bad” loan applicants existing in our test set. So, our model managed to identify 77% “bad” loan applicants out of all the “bad” loan applicants existing in the test set."
   ]
  },
  {
   "cell_type": "code",
   "execution_count": 55,
   "metadata": {
    "id": "qLHNGiHEfWIY",
    "outputId": "013e0e7c-5734-4171-deca-a3eb234f53eb"
   },
   "outputs": [
    {
     "data": {
      "image/png": "[encoded data removed]",
      "text/plain": [
       "<Figure size 720x432 with 1 Axes>"
      ]
     },
     "metadata": {},
     "output_type": "display_data"
    }
   ],
   "source": [
    "from sklearn.metrics import roc_auc_score\n",
    "from sklearn.metrics import roc_curve\n",
    "sns.set(style=\"whitegrid\", color_codes=True)\n",
    "logit_roc_auc = roc_auc_score(y_test, logreg.predict(X_test))\n",
    "fpr, tpr, thresholds = roc_curve(y_test, logreg.predict_proba(X_test)[:,1])\n",
    "plt.figure()\n",
    "plt.plot(fpr, tpr, label='Logistic Regression (area = %0.2f)' % logit_roc_auc)\n",
    "plt.plot([0, 1], [0, 1],'r--')\n",
    "plt.xlim([0.0, 1.0])\n",
    "plt.ylim([0.0, 1.05])\n",
    "plt.xlabel('False Positive Rate')\n",
    "plt.ylabel('True Positive Rate')\n",
    "plt.title('Receiver operating characteristic')\n",
    "plt.legend(loc=\"lower right\")\n",
    "plt.savefig('Log_ROC')\n",
    "plt.show()"
   ]
  },
  {
   "cell_type": "markdown",
   "metadata": {
    "id": "Xjws-6MVfWIZ"
   },
   "source": [
    "# 6. Deployment"
   ]
  },
  {
   "cell_type": "markdown",
   "metadata": {},
   "source": [
    "Finally, the best way to use the model we have built is to assign a probability to default to each of the loan applicant. In order to obtain the probability of probability to default from our model, we will use the following code:"
   ]
  },
  {
   "cell_type": "code",
   "execution_count": 56,
   "metadata": {
    "id": "lu_O2onLfWIa",
    "outputId": "9c8f72f6-3ebb-41ea-b190-0585622c073f"
   },
   "outputs": [
    {
     "data": {
      "text/html": [
       "<div>\n",
       "<style scoped>\n",
       "    .dataframe tbody tr th:only-of-type {\n",
       "        vertical-align: middle;\n",
       "    }\n",
       "\n",
       "    .dataframe tbody tr th {\n",
       "        vertical-align: top;\n",
       "    }\n",
       "\n",
       "    .dataframe thead th {\n",
       "        text-align: right;\n",
       "    }\n",
       "</style>\n",
       "<table border=\"1\" class=\"dataframe\">\n",
       "  <thead>\n",
       "    <tr style=\"text-align: right;\">\n",
       "      <th></th>\n",
       "      <th>ID</th>\n",
       "      <th>PD</th>\n",
       "    </tr>\n",
       "  </thead>\n",
       "  <tbody>\n",
       "    <tr>\n",
       "      <th>0</th>\n",
       "      <td>1</td>\n",
       "      <td>0.014544</td>\n",
       "    </tr>\n",
       "    <tr>\n",
       "      <th>1</th>\n",
       "      <td>2</td>\n",
       "      <td>0.639610</td>\n",
       "    </tr>\n",
       "    <tr>\n",
       "      <th>2</th>\n",
       "      <td>3</td>\n",
       "      <td>0.060170</td>\n",
       "    </tr>\n",
       "    <tr>\n",
       "      <th>3</th>\n",
       "      <td>4</td>\n",
       "      <td>0.013102</td>\n",
       "    </tr>\n",
       "    <tr>\n",
       "      <th>4</th>\n",
       "      <td>5</td>\n",
       "      <td>0.036812</td>\n",
       "    </tr>\n",
       "    <tr>\n",
       "      <th>5</th>\n",
       "      <td>6</td>\n",
       "      <td>0.696738</td>\n",
       "    </tr>\n",
       "    <tr>\n",
       "      <th>6</th>\n",
       "      <td>7</td>\n",
       "      <td>0.064843</td>\n",
       "    </tr>\n",
       "    <tr>\n",
       "      <th>7</th>\n",
       "      <td>8</td>\n",
       "      <td>0.107667</td>\n",
       "    </tr>\n",
       "    <tr>\n",
       "      <th>8</th>\n",
       "      <td>9</td>\n",
       "      <td>0.239500</td>\n",
       "    </tr>\n",
       "    <tr>\n",
       "      <th>9</th>\n",
       "      <td>10</td>\n",
       "      <td>0.230268</td>\n",
       "    </tr>\n",
       "  </tbody>\n",
       "</table>\n",
       "</div>"
      ],
      "text/plain": [
       "   ID        PD\n",
       "0   1  0.014544\n",
       "1   2  0.639610\n",
       "2   3  0.060170\n",
       "3   4  0.013102\n",
       "4   5  0.036812\n",
       "5   6  0.696738\n",
       "6   7  0.064843\n",
       "7   8  0.107667\n",
       "8   9  0.239500\n",
       "9  10  0.230268"
      ]
     },
     "execution_count": 56,
     "metadata": {},
     "output_type": "execute_result"
    }
   ],
   "source": [
    "data['PD'] = logreg.predict_proba(data[X_train.columns])[:,1]\n",
    "data[['ID', 'PD']].head(10)"
   ]
  },
  {
   "cell_type": "code",
   "execution_count": 57,
   "metadata": {
    "id": "ePZn-cA2fWIa",
    "outputId": "5d114c86-0ed1-4f88-b871-315d2f134295"
   },
   "outputs": [
    {
     "data": {
      "text/plain": [
       "Index(['loan_int_rate', 'loan_percent_income', 'cb_person_default_on_file',\n",
       "       'person_home_ownership_MORTGAGE'],\n",
       "      dtype='object')"
      ]
     },
     "execution_count": 57,
     "metadata": {},
     "output_type": "execute_result"
    }
   ],
   "source": [
    "X_train.columns"
   ]
  },
  {
   "cell_type": "markdown",
   "metadata": {},
   "source": [
    "#### So, our Logistic Regression model is a good model for predicting the probability of default. Now how do we predict the probability of default for new loan applicant?Suppose there is a new loan applicant, which has: loan_int_rate:12.02, loan_percent_income:0.42, cb_person_default_on_file:Y and person_home_ownership_MORTGAGE:1 . We can take these new data and use it to predict the probability of default for new loan applicant."
   ]
  },
  {
   "cell_type": "code",
   "execution_count": 58,
   "metadata": {
    "id": "aD0W87QMfWIb",
    "outputId": "14214fc2-ad91-4641-8332-36763a547824"
   },
   "outputs": [
    {
     "name": "stdout",
     "output_type": "stream",
     "text": [
      "\u001b[1m This new loan applicant has a 40.58% chance of paying off the new loan\n"
     ]
    },
    {
     "name": "stderr",
     "output_type": "stream",
     "text": [
      "/opt/anaconda3/lib/python3.9/site-packages/sklearn/base.py:450: UserWarning: X does not have valid feature names, but LogisticRegression was fitted with feature names\n",
      "  warnings.warn(\n"
     ]
    }
   ],
   "source": [
    "new_data = np.array([12.02,0.42,1,1]).reshape(1, -1)\n",
    "new_pred=logreg.predict_proba(new_data)[:,1][0]\n",
    "print(\"\\033[1m This new loan applicant has a {:.2%}\".format(new_pred), \"chance of paying off the new loan\")"
   ]
  }
 ],
 "metadata": {
  "colab": {
   "provenance": []
  },
  "kernelspec": {
   "display_name": "Python 3 (ipykernel)",
   "language": "python",
   "name": "python3"
  },
  "language_info": {
   "codemirror_mode": {
    "name": "ipython",
    "version": 3
   },
   "file_extension": ".py",
   "mimetype": "text/x-python",
   "name": "python",
   "nbconvert_exporter": "python",
   "pygments_lexer": "ipython3",
   "version": "3.9.12"
  }
 },
 "nbformat": 4,
 "nbformat_minor": 1
}
