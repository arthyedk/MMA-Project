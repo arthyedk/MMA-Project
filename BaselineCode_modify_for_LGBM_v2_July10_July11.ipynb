{
  "cells": [
    {
      "cell_type": "code",
      "execution_count": null,
      "id": "5734f33a",
      "metadata": {
        "id": "5734f33a"
      },
      "outputs": [],
      "source": [
        "#GIVEN THE BENCHMARK SUBMISSION: https://www.drivendata.co/blog/predict-flu-vaccine-data-benchmark/"
      ]
    },
    {
      "cell_type": "code",
      "execution_count": null,
      "id": "9f31ab00",
      "metadata": {
        "id": "9f31ab00"
      },
      "outputs": [],
      "source": [
        "from pathlib import Path\n",
        "\n",
        "import numpy as np\n",
        "import pandas as pd\n",
        "\n",
        "pd.set_option(\"display.max_columns\", 100)"
      ]
    },
    {
      "cell_type": "code",
      "execution_count": null,
      "id": "4988e3f2",
      "metadata": {
        "id": "4988e3f2"
      },
      "outputs": [],
      "source": [
        "DATA_PATH = Path.cwd().parent / \"flu\""
      ]
    },
    {
      "cell_type": "code",
      "execution_count": null,
      "id": "239f7c38",
      "metadata": {
        "id": "239f7c38"
      },
      "outputs": [],
      "source": [
        "features_df = pd.read_csv(\n",
        "    DATA_PATH / \"training_set_features.csv\", \n",
        "    index_col=\"respondent_id\"\n",
        ")\n",
        "labels_df = pd.read_csv(\n",
        "    DATA_PATH / \"training_set_labels.csv\", \n",
        "    index_col=\"respondent_id\"\n",
        ")"
      ]
    },
    {
      "cell_type": "code",
      "execution_count": null,
      "id": "5ec73a08",
      "metadata": {
        "id": "5ec73a08",
        "outputId": "64f2cdb4-0f83-4fc1-a0dc-a18c6b5e8e30"
      },
      "outputs": [
        {
          "name": "stdout",
          "output_type": "stream",
          "text": [
            "features_df.shape (26707, 35)\n",
            "<class 'pandas.core.frame.DataFrame'>\n",
            "Int64Index: 26707 entries, 0 to 26706\n",
            "Data columns (total 35 columns):\n",
            " #   Column                       Non-Null Count  Dtype  \n",
            "---  ------                       --------------  -----  \n",
            " 0   h1n1_concern                 26615 non-null  float64\n",
            " 1   h1n1_knowledge               26591 non-null  float64\n",
            " 2   behavioral_antiviral_meds    26636 non-null  float64\n",
            " 3   behavioral_avoidance         26499 non-null  float64\n",
            " 4   behavioral_face_mask         26688 non-null  float64\n",
            " 5   behavioral_wash_hands        26665 non-null  float64\n",
            " 6   behavioral_large_gatherings  26620 non-null  float64\n",
            " 7   behavioral_outside_home      26625 non-null  float64\n",
            " 8   behavioral_touch_face        26579 non-null  float64\n",
            " 9   doctor_recc_h1n1             24547 non-null  float64\n",
            " 10  doctor_recc_seasonal         24547 non-null  float64\n",
            " 11  chronic_med_condition        25736 non-null  float64\n",
            " 12  child_under_6_months         25887 non-null  float64\n",
            " 13  health_worker                25903 non-null  float64\n",
            " 14  health_insurance             14433 non-null  float64\n",
            " 15  opinion_h1n1_vacc_effective  26316 non-null  float64\n",
            " 16  opinion_h1n1_risk            26319 non-null  float64\n",
            " 17  opinion_h1n1_sick_from_vacc  26312 non-null  float64\n",
            " 18  opinion_seas_vacc_effective  26245 non-null  float64\n",
            " 19  opinion_seas_risk            26193 non-null  float64\n",
            " 20  opinion_seas_sick_from_vacc  26170 non-null  float64\n",
            " 21  age_group                    26707 non-null  object \n",
            " 22  education                    25300 non-null  object \n",
            " 23  race                         26707 non-null  object \n",
            " 24  sex                          26707 non-null  object \n",
            " 25  income_poverty               22284 non-null  object \n",
            " 26  marital_status               25299 non-null  object \n",
            " 27  rent_or_own                  24665 non-null  object \n",
            " 28  employment_status            25244 non-null  object \n",
            " 29  hhs_geo_region               26707 non-null  object \n",
            " 30  census_msa                   26707 non-null  object \n",
            " 31  household_adults             26458 non-null  float64\n",
            " 32  household_children           26458 non-null  float64\n",
            " 33  employment_industry          13377 non-null  object \n",
            " 34  employment_occupation        13237 non-null  object \n",
            "dtypes: float64(23), object(12)\n",
            "memory usage: 7.3+ MB\n"
          ]
        },
        {
          "data": {
            "text/plain": [
              "h1n1_concern                   float64\n",
              "h1n1_knowledge                 float64\n",
              "behavioral_antiviral_meds      float64\n",
              "behavioral_avoidance           float64\n",
              "behavioral_face_mask           float64\n",
              "behavioral_wash_hands          float64\n",
              "behavioral_large_gatherings    float64\n",
              "behavioral_outside_home        float64\n",
              "behavioral_touch_face          float64\n",
              "doctor_recc_h1n1               float64\n",
              "doctor_recc_seasonal           float64\n",
              "chronic_med_condition          float64\n",
              "child_under_6_months           float64\n",
              "health_worker                  float64\n",
              "health_insurance               float64\n",
              "opinion_h1n1_vacc_effective    float64\n",
              "opinion_h1n1_risk              float64\n",
              "opinion_h1n1_sick_from_vacc    float64\n",
              "opinion_seas_vacc_effective    float64\n",
              "opinion_seas_risk              float64\n",
              "opinion_seas_sick_from_vacc    float64\n",
              "age_group                       object\n",
              "education                       object\n",
              "race                            object\n",
              "sex                             object\n",
              "income_poverty                  object\n",
              "marital_status                  object\n",
              "rent_or_own                     object\n",
              "employment_status               object\n",
              "hhs_geo_region                  object\n",
              "census_msa                      object\n",
              "household_adults               float64\n",
              "household_children             float64\n",
              "employment_industry             object\n",
              "employment_occupation           object\n",
              "dtype: object"
            ]
          },
          "execution_count": 5,
          "metadata": {},
          "output_type": "execute_result"
        }
      ],
      "source": [
        "print(\"features_df.shape\", features_df.shape)\n",
        "features_df.info()\n",
        "features_df.head()\n",
        "features_df.describe() #shows summary of the numerical attributes\n",
        "features_df.dtypes"
      ]
    },
    {
      "cell_type": "code",
      "execution_count": null,
      "id": "ac59d47a",
      "metadata": {
        "id": "ac59d47a",
        "outputId": "f54ffb5a-5fa5-47f6-db86-9dad4fb2d426"
      },
      "outputs": [
        {
          "data": {
            "text/html": [
              "<div>\n",
              "<style scoped>\n",
              "    .dataframe tbody tr th:only-of-type {\n",
              "        vertical-align: middle;\n",
              "    }\n",
              "\n",
              "    .dataframe tbody tr th {\n",
              "        vertical-align: top;\n",
              "    }\n",
              "\n",
              "    .dataframe thead th {\n",
              "        text-align: right;\n",
              "    }\n",
              "</style>\n",
              "<table border=\"1\" class=\"dataframe\">\n",
              "  <thead>\n",
              "    <tr style=\"text-align: right;\">\n",
              "      <th></th>\n",
              "      <th>column_name</th>\n",
              "      <th>null_count</th>\n",
              "      <th>null_percentage</th>\n",
              "    </tr>\n",
              "  </thead>\n",
              "  <tbody>\n",
              "    <tr>\n",
              "      <th>34</th>\n",
              "      <td>employment_occupation</td>\n",
              "      <td>13470</td>\n",
              "      <td>50.44</td>\n",
              "    </tr>\n",
              "    <tr>\n",
              "      <th>33</th>\n",
              "      <td>employment_industry</td>\n",
              "      <td>13330</td>\n",
              "      <td>49.91</td>\n",
              "    </tr>\n",
              "    <tr>\n",
              "      <th>14</th>\n",
              "      <td>health_insurance</td>\n",
              "      <td>12274</td>\n",
              "      <td>45.96</td>\n",
              "    </tr>\n",
              "    <tr>\n",
              "      <th>25</th>\n",
              "      <td>income_poverty</td>\n",
              "      <td>4423</td>\n",
              "      <td>16.56</td>\n",
              "    </tr>\n",
              "    <tr>\n",
              "      <th>9</th>\n",
              "      <td>doctor_recc_h1n1</td>\n",
              "      <td>2160</td>\n",
              "      <td>8.09</td>\n",
              "    </tr>\n",
              "    <tr>\n",
              "      <th>10</th>\n",
              "      <td>doctor_recc_seasonal</td>\n",
              "      <td>2160</td>\n",
              "      <td>8.09</td>\n",
              "    </tr>\n",
              "    <tr>\n",
              "      <th>27</th>\n",
              "      <td>rent_or_own</td>\n",
              "      <td>2042</td>\n",
              "      <td>7.65</td>\n",
              "    </tr>\n",
              "    <tr>\n",
              "      <th>28</th>\n",
              "      <td>employment_status</td>\n",
              "      <td>1463</td>\n",
              "      <td>5.48</td>\n",
              "    </tr>\n",
              "    <tr>\n",
              "      <th>26</th>\n",
              "      <td>marital_status</td>\n",
              "      <td>1408</td>\n",
              "      <td>5.27</td>\n",
              "    </tr>\n",
              "    <tr>\n",
              "      <th>22</th>\n",
              "      <td>education</td>\n",
              "      <td>1407</td>\n",
              "      <td>5.27</td>\n",
              "    </tr>\n",
              "    <tr>\n",
              "      <th>11</th>\n",
              "      <td>chronic_med_condition</td>\n",
              "      <td>971</td>\n",
              "      <td>3.64</td>\n",
              "    </tr>\n",
              "    <tr>\n",
              "      <th>12</th>\n",
              "      <td>child_under_6_months</td>\n",
              "      <td>820</td>\n",
              "      <td>3.07</td>\n",
              "    </tr>\n",
              "    <tr>\n",
              "      <th>13</th>\n",
              "      <td>health_worker</td>\n",
              "      <td>804</td>\n",
              "      <td>3.01</td>\n",
              "    </tr>\n",
              "    <tr>\n",
              "      <th>20</th>\n",
              "      <td>opinion_seas_sick_from_vacc</td>\n",
              "      <td>537</td>\n",
              "      <td>2.01</td>\n",
              "    </tr>\n",
              "    <tr>\n",
              "      <th>19</th>\n",
              "      <td>opinion_seas_risk</td>\n",
              "      <td>514</td>\n",
              "      <td>1.92</td>\n",
              "    </tr>\n",
              "    <tr>\n",
              "      <th>18</th>\n",
              "      <td>opinion_seas_vacc_effective</td>\n",
              "      <td>462</td>\n",
              "      <td>1.73</td>\n",
              "    </tr>\n",
              "    <tr>\n",
              "      <th>17</th>\n",
              "      <td>opinion_h1n1_sick_from_vacc</td>\n",
              "      <td>395</td>\n",
              "      <td>1.48</td>\n",
              "    </tr>\n",
              "    <tr>\n",
              "      <th>15</th>\n",
              "      <td>opinion_h1n1_vacc_effective</td>\n",
              "      <td>391</td>\n",
              "      <td>1.46</td>\n",
              "    </tr>\n",
              "    <tr>\n",
              "      <th>16</th>\n",
              "      <td>opinion_h1n1_risk</td>\n",
              "      <td>388</td>\n",
              "      <td>1.45</td>\n",
              "    </tr>\n",
              "    <tr>\n",
              "      <th>32</th>\n",
              "      <td>household_children</td>\n",
              "      <td>249</td>\n",
              "      <td>0.93</td>\n",
              "    </tr>\n",
              "    <tr>\n",
              "      <th>31</th>\n",
              "      <td>household_adults</td>\n",
              "      <td>249</td>\n",
              "      <td>0.93</td>\n",
              "    </tr>\n",
              "    <tr>\n",
              "      <th>3</th>\n",
              "      <td>behavioral_avoidance</td>\n",
              "      <td>208</td>\n",
              "      <td>0.78</td>\n",
              "    </tr>\n",
              "    <tr>\n",
              "      <th>8</th>\n",
              "      <td>behavioral_touch_face</td>\n",
              "      <td>128</td>\n",
              "      <td>0.48</td>\n",
              "    </tr>\n",
              "    <tr>\n",
              "      <th>1</th>\n",
              "      <td>h1n1_knowledge</td>\n",
              "      <td>116</td>\n",
              "      <td>0.43</td>\n",
              "    </tr>\n",
              "    <tr>\n",
              "      <th>0</th>\n",
              "      <td>h1n1_concern</td>\n",
              "      <td>92</td>\n",
              "      <td>0.34</td>\n",
              "    </tr>\n",
              "    <tr>\n",
              "      <th>6</th>\n",
              "      <td>behavioral_large_gatherings</td>\n",
              "      <td>87</td>\n",
              "      <td>0.33</td>\n",
              "    </tr>\n",
              "    <tr>\n",
              "      <th>7</th>\n",
              "      <td>behavioral_outside_home</td>\n",
              "      <td>82</td>\n",
              "      <td>0.31</td>\n",
              "    </tr>\n",
              "    <tr>\n",
              "      <th>2</th>\n",
              "      <td>behavioral_antiviral_meds</td>\n",
              "      <td>71</td>\n",
              "      <td>0.27</td>\n",
              "    </tr>\n",
              "    <tr>\n",
              "      <th>5</th>\n",
              "      <td>behavioral_wash_hands</td>\n",
              "      <td>42</td>\n",
              "      <td>0.16</td>\n",
              "    </tr>\n",
              "    <tr>\n",
              "      <th>4</th>\n",
              "      <td>behavioral_face_mask</td>\n",
              "      <td>19</td>\n",
              "      <td>0.07</td>\n",
              "    </tr>\n",
              "    <tr>\n",
              "      <th>24</th>\n",
              "      <td>sex</td>\n",
              "      <td>0</td>\n",
              "      <td>0.00</td>\n",
              "    </tr>\n",
              "    <tr>\n",
              "      <th>23</th>\n",
              "      <td>race</td>\n",
              "      <td>0</td>\n",
              "      <td>0.00</td>\n",
              "    </tr>\n",
              "    <tr>\n",
              "      <th>29</th>\n",
              "      <td>hhs_geo_region</td>\n",
              "      <td>0</td>\n",
              "      <td>0.00</td>\n",
              "    </tr>\n",
              "    <tr>\n",
              "      <th>30</th>\n",
              "      <td>census_msa</td>\n",
              "      <td>0</td>\n",
              "      <td>0.00</td>\n",
              "    </tr>\n",
              "    <tr>\n",
              "      <th>21</th>\n",
              "      <td>age_group</td>\n",
              "      <td>0</td>\n",
              "      <td>0.00</td>\n",
              "    </tr>\n",
              "  </tbody>\n",
              "</table>\n",
              "</div>"
            ],
            "text/plain": [
              "                    column_name  null_count  null_percentage\n",
              "34        employment_occupation       13470            50.44\n",
              "33          employment_industry       13330            49.91\n",
              "14             health_insurance       12274            45.96\n",
              "25               income_poverty        4423            16.56\n",
              "9              doctor_recc_h1n1        2160             8.09\n",
              "10         doctor_recc_seasonal        2160             8.09\n",
              "27                  rent_or_own        2042             7.65\n",
              "28            employment_status        1463             5.48\n",
              "26               marital_status        1408             5.27\n",
              "22                    education        1407             5.27\n",
              "11        chronic_med_condition         971             3.64\n",
              "12         child_under_6_months         820             3.07\n",
              "13                health_worker         804             3.01\n",
              "20  opinion_seas_sick_from_vacc         537             2.01\n",
              "19            opinion_seas_risk         514             1.92\n",
              "18  opinion_seas_vacc_effective         462             1.73\n",
              "17  opinion_h1n1_sick_from_vacc         395             1.48\n",
              "15  opinion_h1n1_vacc_effective         391             1.46\n",
              "16            opinion_h1n1_risk         388             1.45\n",
              "32           household_children         249             0.93\n",
              "31             household_adults         249             0.93\n",
              "3          behavioral_avoidance         208             0.78\n",
              "8         behavioral_touch_face         128             0.48\n",
              "1                h1n1_knowledge         116             0.43\n",
              "0                  h1n1_concern          92             0.34\n",
              "6   behavioral_large_gatherings          87             0.33\n",
              "7       behavioral_outside_home          82             0.31\n",
              "2     behavioral_antiviral_meds          71             0.27\n",
              "5         behavioral_wash_hands          42             0.16\n",
              "4          behavioral_face_mask          19             0.07\n",
              "24                          sex           0             0.00\n",
              "23                         race           0             0.00\n",
              "29               hhs_geo_region           0             0.00\n",
              "30                   census_msa           0             0.00\n",
              "21                    age_group           0             0.00"
            ]
          },
          "execution_count": 6,
          "metadata": {},
          "output_type": "execute_result"
        }
      ],
      "source": [
        "#propotion of missing values\n",
        "null_count = features_df.isnull().sum()\n",
        "null_percentage = round((features_df.isnull().sum()/features_df.shape[0])*100, 2)\n",
        "null_df = pd.DataFrame({'column_name' : features_df.columns,'null_count' : null_count,'null_percentage': null_percentage})\n",
        "null_df.reset_index(drop = True, inplace = True)\n",
        "null_df.sort_values(by = 'null_percentage', ascending = False)"
      ]
    },
    {
      "cell_type": "code",
      "execution_count": null,
      "id": "6d3459d4",
      "metadata": {
        "scrolled": true,
        "id": "6d3459d4",
        "outputId": "b69cabea-e34d-474c-bb1f-3fb35824ab72"
      },
      "outputs": [
        {
          "data": {
            "image/png": "[encoded data removed]",
            "text/plain": [
              "<Figure size 1440x1080 with 25 Axes>"
            ]
          },
          "metadata": {
            "needs_background": "light"
          },
          "output_type": "display_data"
        }
      ],
      "source": [
        "#plot a histogram for each numerical attribute\n",
        "%matplotlib inline  \n",
        "import matplotlib.pyplot as plt\n",
        "features_df.hist(bins=50, figsize=(20,15))\n",
        "plt.show()"
      ]
    },
    {
      "cell_type": "code",
      "execution_count": null,
      "id": "0b799eb0",
      "metadata": {
        "id": "0b799eb0",
        "outputId": "762d8e2c-8c31-4b92-a25c-2e260fa05acf"
      },
      "outputs": [
        {
          "name": "stdout",
          "output_type": "stream",
          "text": [
            "labels_df.shape (26707, 2)\n",
            "<class 'pandas.core.frame.DataFrame'>\n",
            "Int64Index: 26707 entries, 0 to 26706\n",
            "Data columns (total 2 columns):\n",
            " #   Column            Non-Null Count  Dtype\n",
            "---  ------            --------------  -----\n",
            " 0   h1n1_vaccine      26707 non-null  int64\n",
            " 1   seasonal_vaccine  26707 non-null  int64\n",
            "dtypes: int64(2)\n",
            "memory usage: 625.9 KB\n"
          ]
        },
        {
          "data": {
            "text/html": [
              "<div>\n",
              "<style scoped>\n",
              "    .dataframe tbody tr th:only-of-type {\n",
              "        vertical-align: middle;\n",
              "    }\n",
              "\n",
              "    .dataframe tbody tr th {\n",
              "        vertical-align: top;\n",
              "    }\n",
              "\n",
              "    .dataframe thead th {\n",
              "        text-align: right;\n",
              "    }\n",
              "</style>\n",
              "<table border=\"1\" class=\"dataframe\">\n",
              "  <thead>\n",
              "    <tr style=\"text-align: right;\">\n",
              "      <th></th>\n",
              "      <th>h1n1_vaccine</th>\n",
              "      <th>seasonal_vaccine</th>\n",
              "    </tr>\n",
              "    <tr>\n",
              "      <th>respondent_id</th>\n",
              "      <th></th>\n",
              "      <th></th>\n",
              "    </tr>\n",
              "  </thead>\n",
              "  <tbody>\n",
              "    <tr>\n",
              "      <th>0</th>\n",
              "      <td>0</td>\n",
              "      <td>0</td>\n",
              "    </tr>\n",
              "    <tr>\n",
              "      <th>1</th>\n",
              "      <td>0</td>\n",
              "      <td>1</td>\n",
              "    </tr>\n",
              "    <tr>\n",
              "      <th>2</th>\n",
              "      <td>0</td>\n",
              "      <td>0</td>\n",
              "    </tr>\n",
              "    <tr>\n",
              "      <th>3</th>\n",
              "      <td>0</td>\n",
              "      <td>1</td>\n",
              "    </tr>\n",
              "    <tr>\n",
              "      <th>4</th>\n",
              "      <td>0</td>\n",
              "      <td>0</td>\n",
              "    </tr>\n",
              "  </tbody>\n",
              "</table>\n",
              "</div>"
            ],
            "text/plain": [
              "               h1n1_vaccine  seasonal_vaccine\n",
              "respondent_id                                \n",
              "0                         0                 0\n",
              "1                         0                 1\n",
              "2                         0                 0\n",
              "3                         0                 1\n",
              "4                         0                 0"
            ]
          },
          "execution_count": 8,
          "metadata": {},
          "output_type": "execute_result"
        }
      ],
      "source": [
        "print(\"labels_df.shape\", labels_df.shape)\n",
        "labels_df.info()\n",
        "labels_df.head()\n",
        "labels_df.head()"
      ]
    },
    {
      "cell_type": "code",
      "execution_count": null,
      "id": "8c514efd",
      "metadata": {
        "id": "8c514efd"
      },
      "outputs": [],
      "source": [
        "np.testing.assert_array_equal(features_df.index.values, labels_df.index.values)"
      ]
    },
    {
      "cell_type": "code",
      "execution_count": null,
      "id": "268c5185",
      "metadata": {
        "id": "268c5185"
      },
      "outputs": [],
      "source": [
        "#The assertion ran, and nothing happened. That's good, it means there is no problem. If the two index arrays were not the same, there would be an error."
      ]
    },
    {
      "cell_type": "code",
      "execution_count": null,
      "id": "0c4dbfe0",
      "metadata": {
        "id": "0c4dbfe0"
      },
      "outputs": [],
      "source": [
        "%matplotlib inline\n",
        "import matplotlib.pyplot as plt"
      ]
    },
    {
      "cell_type": "code",
      "execution_count": null,
      "id": "0334c696",
      "metadata": {
        "id": "0334c696",
        "outputId": "30198cb2-c9fe-4885-981d-0330bfe25ea6"
      },
      "outputs": [
        {
          "data": {
            "image/png": "[encoded data removed]",
            "text/plain": [
              "<Figure size 432x288 with 2 Axes>"
            ]
          },
          "metadata": {
            "needs_background": "light"
          },
          "output_type": "display_data"
        }
      ],
      "source": [
        "fig, ax = plt.subplots(2, 1, sharex=True)\n",
        "\n",
        "n_obs = labels_df.shape[0]\n",
        "\n",
        "(labels_df['h1n1_vaccine']\n",
        "    .value_counts()\n",
        "    .div(n_obs)\n",
        "    .plot.barh(title=\"Proportion of H1N1 Vaccine\", ax=ax[0])\n",
        ")\n",
        "ax[0].set_ylabel(\"h1n1_vaccine\")\n",
        "\n",
        "(labels_df['seasonal_vaccine']\n",
        "    .value_counts()\n",
        "    .div(n_obs)\n",
        "    .plot.barh(title=\"Proportion of Seasonal Vaccine\", ax=ax[1])\n",
        ")\n",
        "ax[1].set_ylabel(\"seasonal_vaccine\")\n",
        "\n",
        "fig.tight_layout()"
      ]
    },
    {
      "cell_type": "code",
      "execution_count": null,
      "id": "5c9600cb",
      "metadata": {
        "id": "5c9600cb"
      },
      "outputs": [],
      "source": [
        "#It looks like roughy half of people received the seasonal flu vaccine, but only about 20% of people received the H1N1 flu vaccine. In terms of class balance, we say that the seasonal flu vaccine target has balanced classes, but the H1N1 flu vaccine target has moderately imbalanced classes."
      ]
    },
    {
      "cell_type": "code",
      "execution_count": null,
      "id": "400d19db",
      "metadata": {
        "id": "400d19db",
        "outputId": "32388bd7-f3d6-4937-c99b-a8a63adce61c"
      },
      "outputs": [
        {
          "data": {
            "text/html": [
              "<div>\n",
              "<style scoped>\n",
              "    .dataframe tbody tr th:only-of-type {\n",
              "        vertical-align: middle;\n",
              "    }\n",
              "\n",
              "    .dataframe tbody tr th {\n",
              "        vertical-align: top;\n",
              "    }\n",
              "\n",
              "    .dataframe thead th {\n",
              "        text-align: right;\n",
              "    }\n",
              "</style>\n",
              "<table border=\"1\" class=\"dataframe\">\n",
              "  <thead>\n",
              "    <tr style=\"text-align: right;\">\n",
              "      <th>seasonal_vaccine</th>\n",
              "      <th>0</th>\n",
              "      <th>1</th>\n",
              "      <th>All</th>\n",
              "    </tr>\n",
              "    <tr>\n",
              "      <th>h1n1_vaccine</th>\n",
              "      <th></th>\n",
              "      <th></th>\n",
              "      <th></th>\n",
              "    </tr>\n",
              "  </thead>\n",
              "  <tbody>\n",
              "    <tr>\n",
              "      <th>0</th>\n",
              "      <td>0.497810</td>\n",
              "      <td>0.289737</td>\n",
              "      <td>0.787546</td>\n",
              "    </tr>\n",
              "    <tr>\n",
              "      <th>1</th>\n",
              "      <td>0.036582</td>\n",
              "      <td>0.175871</td>\n",
              "      <td>0.212454</td>\n",
              "    </tr>\n",
              "    <tr>\n",
              "      <th>All</th>\n",
              "      <td>0.534392</td>\n",
              "      <td>0.465608</td>\n",
              "      <td>1.000000</td>\n",
              "    </tr>\n",
              "  </tbody>\n",
              "</table>\n",
              "</div>"
            ],
            "text/plain": [
              "seasonal_vaccine         0         1       All\n",
              "h1n1_vaccine                                  \n",
              "0                 0.497810  0.289737  0.787546\n",
              "1                 0.036582  0.175871  0.212454\n",
              "All               0.534392  0.465608  1.000000"
            ]
          },
          "execution_count": 14,
          "metadata": {},
          "output_type": "execute_result"
        }
      ],
      "source": [
        "#are the two target variables independent?\n",
        "\n",
        "pd.crosstab(\n",
        "    labels_df[\"h1n1_vaccine\"], \n",
        "    labels_df[\"seasonal_vaccine\"], \n",
        "    margins=True,\n",
        "    normalize=True\n",
        ")"
      ]
    },
    {
      "cell_type": "code",
      "execution_count": null,
      "id": "50b34926",
      "metadata": {
        "id": "50b34926",
        "outputId": "44aec754-1deb-42b9-bb42-4612a898ad38"
      },
      "outputs": [
        {
          "data": {
            "text/plain": [
              "0.3771426530614447"
            ]
          },
          "execution_count": 15,
          "metadata": {},
          "output_type": "execute_result"
        }
      ],
      "source": [
        "# Phi Coefficient is the same as Pearson for two binary variables\n",
        "(labels_df[\"h1n1_vaccine\"]\n",
        "     .corr(labels_df[\"seasonal_vaccine\"], method=\"pearson\")\n",
        ")"
      ]
    },
    {
      "cell_type": "code",
      "execution_count": null,
      "id": "237a9075",
      "metadata": {
        "id": "237a9075"
      },
      "outputs": [],
      "source": [
        "#phi coefficient of 0.37 is a moderate positive correlation\n",
        "#Most people who got an H1N1 flu vaccine also got the seasonal flu vaccine. \n",
        "#While a minority of people who got the seasonal vaccine got the H1N1 vaccine, they got the H1N1 vaccine at a higher rate than those who did not get the seasonal vaccine."
      ]
    },
    {
      "cell_type": "code",
      "execution_count": null,
      "id": "7a617db7",
      "metadata": {
        "id": "7a617db7",
        "outputId": "089d2784-bb59-43be-9f73-19f37ef88c92"
      },
      "outputs": [
        {
          "name": "stdout",
          "output_type": "stream",
          "text": [
            "(26707, 37)\n"
          ]
        },
        {
          "data": {
            "text/html": [
              "<div>\n",
              "<style scoped>\n",
              "    .dataframe tbody tr th:only-of-type {\n",
              "        vertical-align: middle;\n",
              "    }\n",
              "\n",
              "    .dataframe tbody tr th {\n",
              "        vertical-align: top;\n",
              "    }\n",
              "\n",
              "    .dataframe thead th {\n",
              "        text-align: right;\n",
              "    }\n",
              "</style>\n",
              "<table border=\"1\" class=\"dataframe\">\n",
              "  <thead>\n",
              "    <tr style=\"text-align: right;\">\n",
              "      <th></th>\n",
              "      <th>h1n1_concern</th>\n",
              "      <th>h1n1_knowledge</th>\n",
              "      <th>behavioral_antiviral_meds</th>\n",
              "      <th>behavioral_avoidance</th>\n",
              "      <th>behavioral_face_mask</th>\n",
              "      <th>behavioral_wash_hands</th>\n",
              "      <th>behavioral_large_gatherings</th>\n",
              "      <th>behavioral_outside_home</th>\n",
              "      <th>behavioral_touch_face</th>\n",
              "      <th>doctor_recc_h1n1</th>\n",
              "      <th>doctor_recc_seasonal</th>\n",
              "      <th>chronic_med_condition</th>\n",
              "      <th>child_under_6_months</th>\n",
              "      <th>health_worker</th>\n",
              "      <th>health_insurance</th>\n",
              "      <th>opinion_h1n1_vacc_effective</th>\n",
              "      <th>opinion_h1n1_risk</th>\n",
              "      <th>opinion_h1n1_sick_from_vacc</th>\n",
              "      <th>opinion_seas_vacc_effective</th>\n",
              "      <th>opinion_seas_risk</th>\n",
              "      <th>opinion_seas_sick_from_vacc</th>\n",
              "      <th>age_group</th>\n",
              "      <th>education</th>\n",
              "      <th>race</th>\n",
              "      <th>sex</th>\n",
              "      <th>income_poverty</th>\n",
              "      <th>marital_status</th>\n",
              "      <th>rent_or_own</th>\n",
              "      <th>employment_status</th>\n",
              "      <th>hhs_geo_region</th>\n",
              "      <th>census_msa</th>\n",
              "      <th>household_adults</th>\n",
              "      <th>household_children</th>\n",
              "      <th>employment_industry</th>\n",
              "      <th>employment_occupation</th>\n",
              "      <th>h1n1_vaccine</th>\n",
              "      <th>seasonal_vaccine</th>\n",
              "    </tr>\n",
              "    <tr>\n",
              "      <th>respondent_id</th>\n",
              "      <th></th>\n",
              "      <th></th>\n",
              "      <th></th>\n",
              "      <th></th>\n",
              "      <th></th>\n",
              "      <th></th>\n",
              "      <th></th>\n",
              "      <th></th>\n",
              "      <th></th>\n",
              "      <th></th>\n",
              "      <th></th>\n",
              "      <th></th>\n",
              "      <th></th>\n",
              "      <th></th>\n",
              "      <th></th>\n",
              "      <th></th>\n",
              "      <th></th>\n",
              "      <th></th>\n",
              "      <th></th>\n",
              "      <th></th>\n",
              "      <th></th>\n",
              "      <th></th>\n",
              "      <th></th>\n",
              "      <th></th>\n",
              "      <th></th>\n",
              "      <th></th>\n",
              "      <th></th>\n",
              "      <th></th>\n",
              "      <th></th>\n",
              "      <th></th>\n",
              "      <th></th>\n",
              "      <th></th>\n",
              "      <th></th>\n",
              "      <th></th>\n",
              "      <th></th>\n",
              "      <th></th>\n",
              "      <th></th>\n",
              "    </tr>\n",
              "  </thead>\n",
              "  <tbody>\n",
              "    <tr>\n",
              "      <th>0</th>\n",
              "      <td>1.0</td>\n",
              "      <td>0.0</td>\n",
              "      <td>0.0</td>\n",
              "      <td>0.0</td>\n",
              "      <td>0.0</td>\n",
              "      <td>0.0</td>\n",
              "      <td>0.0</td>\n",
              "      <td>1.0</td>\n",
              "      <td>1.0</td>\n",
              "      <td>0.0</td>\n",
              "      <td>0.0</td>\n",
              "      <td>0.0</td>\n",
              "      <td>0.0</td>\n",
              "      <td>0.0</td>\n",
              "      <td>1.0</td>\n",
              "      <td>3.0</td>\n",
              "      <td>1.0</td>\n",
              "      <td>2.0</td>\n",
              "      <td>2.0</td>\n",
              "      <td>1.0</td>\n",
              "      <td>2.0</td>\n",
              "      <td>55 - 64 Years</td>\n",
              "      <td>&lt; 12 Years</td>\n",
              "      <td>White</td>\n",
              "      <td>Female</td>\n",
              "      <td>Below Poverty</td>\n",
              "      <td>Not Married</td>\n",
              "      <td>Own</td>\n",
              "      <td>Not in Labor Force</td>\n",
              "      <td>oxchjgsf</td>\n",
              "      <td>Non-MSA</td>\n",
              "      <td>0.0</td>\n",
              "      <td>0.0</td>\n",
              "      <td>NaN</td>\n",
              "      <td>NaN</td>\n",
              "      <td>0</td>\n",
              "      <td>0</td>\n",
              "    </tr>\n",
              "    <tr>\n",
              "      <th>1</th>\n",
              "      <td>3.0</td>\n",
              "      <td>2.0</td>\n",
              "      <td>0.0</td>\n",
              "      <td>1.0</td>\n",
              "      <td>0.0</td>\n",
              "      <td>1.0</td>\n",
              "      <td>0.0</td>\n",
              "      <td>1.0</td>\n",
              "      <td>1.0</td>\n",
              "      <td>0.0</td>\n",
              "      <td>0.0</td>\n",
              "      <td>0.0</td>\n",
              "      <td>0.0</td>\n",
              "      <td>0.0</td>\n",
              "      <td>1.0</td>\n",
              "      <td>5.0</td>\n",
              "      <td>4.0</td>\n",
              "      <td>4.0</td>\n",
              "      <td>4.0</td>\n",
              "      <td>2.0</td>\n",
              "      <td>4.0</td>\n",
              "      <td>35 - 44 Years</td>\n",
              "      <td>12 Years</td>\n",
              "      <td>White</td>\n",
              "      <td>Male</td>\n",
              "      <td>Below Poverty</td>\n",
              "      <td>Not Married</td>\n",
              "      <td>Rent</td>\n",
              "      <td>Employed</td>\n",
              "      <td>bhuqouqj</td>\n",
              "      <td>MSA, Not Principle  City</td>\n",
              "      <td>0.0</td>\n",
              "      <td>0.0</td>\n",
              "      <td>pxcmvdjn</td>\n",
              "      <td>xgwztkwe</td>\n",
              "      <td>0</td>\n",
              "      <td>1</td>\n",
              "    </tr>\n",
              "    <tr>\n",
              "      <th>2</th>\n",
              "      <td>1.0</td>\n",
              "      <td>1.0</td>\n",
              "      <td>0.0</td>\n",
              "      <td>1.0</td>\n",
              "      <td>0.0</td>\n",
              "      <td>0.0</td>\n",
              "      <td>0.0</td>\n",
              "      <td>0.0</td>\n",
              "      <td>0.0</td>\n",
              "      <td>NaN</td>\n",
              "      <td>NaN</td>\n",
              "      <td>1.0</td>\n",
              "      <td>0.0</td>\n",
              "      <td>0.0</td>\n",
              "      <td>NaN</td>\n",
              "      <td>3.0</td>\n",
              "      <td>1.0</td>\n",
              "      <td>1.0</td>\n",
              "      <td>4.0</td>\n",
              "      <td>1.0</td>\n",
              "      <td>2.0</td>\n",
              "      <td>18 - 34 Years</td>\n",
              "      <td>College Graduate</td>\n",
              "      <td>White</td>\n",
              "      <td>Male</td>\n",
              "      <td>&lt;= $75,000, Above Poverty</td>\n",
              "      <td>Not Married</td>\n",
              "      <td>Own</td>\n",
              "      <td>Employed</td>\n",
              "      <td>qufhixun</td>\n",
              "      <td>MSA, Not Principle  City</td>\n",
              "      <td>2.0</td>\n",
              "      <td>0.0</td>\n",
              "      <td>rucpziij</td>\n",
              "      <td>xtkaffoo</td>\n",
              "      <td>0</td>\n",
              "      <td>0</td>\n",
              "    </tr>\n",
              "    <tr>\n",
              "      <th>3</th>\n",
              "      <td>1.0</td>\n",
              "      <td>1.0</td>\n",
              "      <td>0.0</td>\n",
              "      <td>1.0</td>\n",
              "      <td>0.0</td>\n",
              "      <td>1.0</td>\n",
              "      <td>1.0</td>\n",
              "      <td>0.0</td>\n",
              "      <td>0.0</td>\n",
              "      <td>0.0</td>\n",
              "      <td>1.0</td>\n",
              "      <td>1.0</td>\n",
              "      <td>0.0</td>\n",
              "      <td>0.0</td>\n",
              "      <td>NaN</td>\n",
              "      <td>3.0</td>\n",
              "      <td>3.0</td>\n",
              "      <td>5.0</td>\n",
              "      <td>5.0</td>\n",
              "      <td>4.0</td>\n",
              "      <td>1.0</td>\n",
              "      <td>65+ Years</td>\n",
              "      <td>12 Years</td>\n",
              "      <td>White</td>\n",
              "      <td>Female</td>\n",
              "      <td>Below Poverty</td>\n",
              "      <td>Not Married</td>\n",
              "      <td>Rent</td>\n",
              "      <td>Not in Labor Force</td>\n",
              "      <td>lrircsnp</td>\n",
              "      <td>MSA, Principle City</td>\n",
              "      <td>0.0</td>\n",
              "      <td>0.0</td>\n",
              "      <td>NaN</td>\n",
              "      <td>NaN</td>\n",
              "      <td>0</td>\n",
              "      <td>1</td>\n",
              "    </tr>\n",
              "    <tr>\n",
              "      <th>4</th>\n",
              "      <td>2.0</td>\n",
              "      <td>1.0</td>\n",
              "      <td>0.0</td>\n",
              "      <td>1.0</td>\n",
              "      <td>0.0</td>\n",
              "      <td>1.0</td>\n",
              "      <td>1.0</td>\n",
              "      <td>0.0</td>\n",
              "      <td>1.0</td>\n",
              "      <td>0.0</td>\n",
              "      <td>0.0</td>\n",
              "      <td>0.0</td>\n",
              "      <td>0.0</td>\n",
              "      <td>0.0</td>\n",
              "      <td>NaN</td>\n",
              "      <td>3.0</td>\n",
              "      <td>3.0</td>\n",
              "      <td>2.0</td>\n",
              "      <td>3.0</td>\n",
              "      <td>1.0</td>\n",
              "      <td>4.0</td>\n",
              "      <td>45 - 54 Years</td>\n",
              "      <td>Some College</td>\n",
              "      <td>White</td>\n",
              "      <td>Female</td>\n",
              "      <td>&lt;= $75,000, Above Poverty</td>\n",
              "      <td>Married</td>\n",
              "      <td>Own</td>\n",
              "      <td>Employed</td>\n",
              "      <td>qufhixun</td>\n",
              "      <td>MSA, Not Principle  City</td>\n",
              "      <td>1.0</td>\n",
              "      <td>0.0</td>\n",
              "      <td>wxleyezf</td>\n",
              "      <td>emcorrxb</td>\n",
              "      <td>0</td>\n",
              "      <td>0</td>\n",
              "    </tr>\n",
              "  </tbody>\n",
              "</table>\n",
              "</div>"
            ],
            "text/plain": [
              "               h1n1_concern  h1n1_knowledge  behavioral_antiviral_meds  \\\n",
              "respondent_id                                                            \n",
              "0                       1.0             0.0                        0.0   \n",
              "1                       3.0             2.0                        0.0   \n",
              "2                       1.0             1.0                        0.0   \n",
              "3                       1.0             1.0                        0.0   \n",
              "4                       2.0             1.0                        0.0   \n",
              "\n",
              "               behavioral_avoidance  behavioral_face_mask  \\\n",
              "respondent_id                                               \n",
              "0                               0.0                   0.0   \n",
              "1                               1.0                   0.0   \n",
              "2                               1.0                   0.0   \n",
              "3                               1.0                   0.0   \n",
              "4                               1.0                   0.0   \n",
              "\n",
              "               behavioral_wash_hands  behavioral_large_gatherings  \\\n",
              "respondent_id                                                       \n",
              "0                                0.0                          0.0   \n",
              "1                                1.0                          0.0   \n",
              "2                                0.0                          0.0   \n",
              "3                                1.0                          1.0   \n",
              "4                                1.0                          1.0   \n",
              "\n",
              "               behavioral_outside_home  behavioral_touch_face  \\\n",
              "respondent_id                                                   \n",
              "0                                  1.0                    1.0   \n",
              "1                                  1.0                    1.0   \n",
              "2                                  0.0                    0.0   \n",
              "3                                  0.0                    0.0   \n",
              "4                                  0.0                    1.0   \n",
              "\n",
              "               doctor_recc_h1n1  doctor_recc_seasonal  chronic_med_condition  \\\n",
              "respondent_id                                                                  \n",
              "0                           0.0                   0.0                    0.0   \n",
              "1                           0.0                   0.0                    0.0   \n",
              "2                           NaN                   NaN                    1.0   \n",
              "3                           0.0                   1.0                    1.0   \n",
              "4                           0.0                   0.0                    0.0   \n",
              "\n",
              "               child_under_6_months  health_worker  health_insurance  \\\n",
              "respondent_id                                                          \n",
              "0                               0.0            0.0               1.0   \n",
              "1                               0.0            0.0               1.0   \n",
              "2                               0.0            0.0               NaN   \n",
              "3                               0.0            0.0               NaN   \n",
              "4                               0.0            0.0               NaN   \n",
              "\n",
              "               opinion_h1n1_vacc_effective  opinion_h1n1_risk  \\\n",
              "respondent_id                                                   \n",
              "0                                      3.0                1.0   \n",
              "1                                      5.0                4.0   \n",
              "2                                      3.0                1.0   \n",
              "3                                      3.0                3.0   \n",
              "4                                      3.0                3.0   \n",
              "\n",
              "               opinion_h1n1_sick_from_vacc  opinion_seas_vacc_effective  \\\n",
              "respondent_id                                                             \n",
              "0                                      2.0                          2.0   \n",
              "1                                      4.0                          4.0   \n",
              "2                                      1.0                          4.0   \n",
              "3                                      5.0                          5.0   \n",
              "4                                      2.0                          3.0   \n",
              "\n",
              "               opinion_seas_risk  opinion_seas_sick_from_vacc      age_group  \\\n",
              "respondent_id                                                                  \n",
              "0                            1.0                          2.0  55 - 64 Years   \n",
              "1                            2.0                          4.0  35 - 44 Years   \n",
              "2                            1.0                          2.0  18 - 34 Years   \n",
              "3                            4.0                          1.0      65+ Years   \n",
              "4                            1.0                          4.0  45 - 54 Years   \n",
              "\n",
              "                      education   race     sex             income_poverty  \\\n",
              "respondent_id                                                               \n",
              "0                    < 12 Years  White  Female              Below Poverty   \n",
              "1                      12 Years  White    Male              Below Poverty   \n",
              "2              College Graduate  White    Male  <= $75,000, Above Poverty   \n",
              "3                      12 Years  White  Female              Below Poverty   \n",
              "4                  Some College  White  Female  <= $75,000, Above Poverty   \n",
              "\n",
              "              marital_status rent_or_own   employment_status hhs_geo_region  \\\n",
              "respondent_id                                                                 \n",
              "0                Not Married         Own  Not in Labor Force       oxchjgsf   \n",
              "1                Not Married        Rent            Employed       bhuqouqj   \n",
              "2                Not Married         Own            Employed       qufhixun   \n",
              "3                Not Married        Rent  Not in Labor Force       lrircsnp   \n",
              "4                    Married         Own            Employed       qufhixun   \n",
              "\n",
              "                             census_msa  household_adults  household_children  \\\n",
              "respondent_id                                                                   \n",
              "0                               Non-MSA               0.0                 0.0   \n",
              "1              MSA, Not Principle  City               0.0                 0.0   \n",
              "2              MSA, Not Principle  City               2.0                 0.0   \n",
              "3                   MSA, Principle City               0.0                 0.0   \n",
              "4              MSA, Not Principle  City               1.0                 0.0   \n",
              "\n",
              "              employment_industry employment_occupation  h1n1_vaccine  \\\n",
              "respondent_id                                                           \n",
              "0                             NaN                   NaN             0   \n",
              "1                        pxcmvdjn              xgwztkwe             0   \n",
              "2                        rucpziij              xtkaffoo             0   \n",
              "3                             NaN                   NaN             0   \n",
              "4                        wxleyezf              emcorrxb             0   \n",
              "\n",
              "               seasonal_vaccine  \n",
              "respondent_id                    \n",
              "0                             0  \n",
              "1                             1  \n",
              "2                             0  \n",
              "3                             1  \n",
              "4                             0  "
            ]
          },
          "execution_count": 17,
          "metadata": {},
          "output_type": "execute_result"
        }
      ],
      "source": [
        "joined_df = features_df.join(labels_df)\n",
        "#joined_df = features_df.join(labels_df.set_index('respondent_id'),on='respondent_id')\n",
        "print(joined_df.shape)\n",
        "joined_df.head()\n"
      ]
    },
    {
      "cell_type": "code",
      "execution_count": null,
      "id": "8a713382",
      "metadata": {
        "id": "8a713382"
      },
      "outputs": [],
      "source": [
        "corr_matrix = joined_df.corr()"
      ]
    },
    {
      "cell_type": "code",
      "execution_count": null,
      "id": "fa49e8d7",
      "metadata": {
        "id": "fa49e8d7",
        "outputId": "09d1ab10-ddc2-4e49-e5c0-fd67e6b9a7c3"
      },
      "outputs": [
        {
          "data": {
            "text/plain": [
              "h1n1_vaccine                   1.000000\n",
              "doctor_recc_h1n1               0.393890\n",
              "seasonal_vaccine               0.377143\n",
              "opinion_h1n1_risk              0.323265\n",
              "opinion_h1n1_vacc_effective    0.269347\n",
              "opinion_seas_risk              0.258571\n",
              "doctor_recc_seasonal           0.209864\n",
              "opinion_seas_vacc_effective    0.179272\n",
              "health_worker                  0.169768\n",
              "h1n1_concern                   0.121929\n",
              "health_insurance               0.121170\n",
              "h1n1_knowledge                 0.117951\n",
              "chronic_med_condition          0.095207\n",
              "opinion_h1n1_sick_from_vacc    0.075091\n",
              "behavioral_wash_hands          0.074712\n",
              "behavioral_touch_face          0.071648\n",
              "behavioral_face_mask           0.070498\n",
              "child_under_6_months           0.066962\n",
              "behavioral_avoidance           0.047690\n",
              "behavioral_antiviral_meds      0.040608\n",
              "behavioral_outside_home        0.021768\n",
              "behavioral_large_gatherings    0.017822\n",
              "opinion_seas_sick_from_vacc    0.008360\n",
              "household_adults               0.007545\n",
              "household_children            -0.003320\n",
              "Name: h1n1_vaccine, dtype: float64"
            ]
          },
          "execution_count": 19,
          "metadata": {},
          "output_type": "execute_result"
        }
      ],
      "source": [
        "corr_matrix[\"h1n1_vaccine\"].sort_values(ascending=False)"
      ]
    },
    {
      "cell_type": "code",
      "execution_count": null,
      "id": "13565a5c",
      "metadata": {
        "id": "13565a5c",
        "outputId": "96d74c0a-dad5-478a-aeab-27297e455cc5"
      },
      "outputs": [
        {
          "data": {
            "text/plain": [
              "seasonal_vaccine               1.000000\n",
              "opinion_seas_risk              0.390106\n",
              "h1n1_vaccine                   0.377143\n",
              "doctor_recc_seasonal           0.369190\n",
              "opinion_seas_vacc_effective    0.361875\n",
              "opinion_h1n1_risk              0.216625\n",
              "opinion_h1n1_vacc_effective    0.205072\n",
              "health_insurance               0.200858\n",
              "doctor_recc_h1n1               0.198607\n",
              "chronic_med_condition          0.170174\n",
              "h1n1_concern                   0.154828\n",
              "health_worker                  0.127311\n",
              "behavioral_touch_face          0.120228\n",
              "h1n1_knowledge                 0.120152\n",
              "behavioral_wash_hands          0.112414\n",
              "behavioral_avoidance           0.076395\n",
              "behavioral_large_gatherings    0.064025\n",
              "behavioral_outside_home        0.053509\n",
              "behavioral_face_mask           0.050083\n",
              "opinion_h1n1_sick_from_vacc    0.027404\n",
              "child_under_6_months           0.012097\n",
              "behavioral_antiviral_meds      0.006277\n",
              "opinion_seas_sick_from_vacc   -0.061510\n",
              "household_adults              -0.064840\n",
              "household_children            -0.114614\n",
              "Name: seasonal_vaccine, dtype: float64"
            ]
          },
          "execution_count": 20,
          "metadata": {},
          "output_type": "execute_result"
        }
      ],
      "source": [
        "corr_matrix[\"seasonal_vaccine\"].sort_values(ascending=False)"
      ]
    },
    {
      "cell_type": "code",
      "execution_count": null,
      "id": "0763da8a",
      "metadata": {
        "id": "0763da8a"
      },
      "outputs": [],
      "source": [
        "from sklearn.preprocessing import StandardScaler, OneHotEncoder, FunctionTransformer\n",
        "from sklearn.impute import SimpleImputer\n",
        "from sklearn.compose import ColumnTransformer\n",
        "\n",
        "from sklearn.linear_model import LogisticRegression\n",
        "from sklearn.multioutput import MultiOutputClassifier\n",
        "\n",
        "from sklearn.pipeline import Pipeline, make_pipeline\n",
        "\n",
        "from sklearn.model_selection import train_test_split\n",
        "\n",
        "from sklearn.metrics import roc_curve, roc_auc_score\n",
        "\n",
        "RANDOM_SEED = 6    # Set a random seed for reproducibility!"
      ]
    },
    {
      "cell_type": "code",
      "execution_count": null,
      "id": "23a4a347",
      "metadata": {
        "id": "23a4a347",
        "outputId": "84f0df9f-ff98-4c4c-de08-64a6ba46688a"
      },
      "outputs": [
        {
          "data": {
            "text/plain": [
              "h1n1_concern                    True\n",
              "h1n1_knowledge                  True\n",
              "behavioral_antiviral_meds       True\n",
              "behavioral_avoidance            True\n",
              "behavioral_face_mask            True\n",
              "behavioral_wash_hands           True\n",
              "behavioral_large_gatherings     True\n",
              "behavioral_outside_home         True\n",
              "behavioral_touch_face           True\n",
              "doctor_recc_h1n1                True\n",
              "doctor_recc_seasonal            True\n",
              "chronic_med_condition           True\n",
              "child_under_6_months            True\n",
              "health_worker                   True\n",
              "health_insurance                True\n",
              "opinion_h1n1_vacc_effective     True\n",
              "opinion_h1n1_risk               True\n",
              "opinion_h1n1_sick_from_vacc     True\n",
              "opinion_seas_vacc_effective     True\n",
              "opinion_seas_risk               True\n",
              "opinion_seas_sick_from_vacc     True\n",
              "age_group                      False\n",
              "education                      False\n",
              "race                           False\n",
              "sex                            False\n",
              "income_poverty                 False\n",
              "marital_status                 False\n",
              "rent_or_own                    False\n",
              "employment_status              False\n",
              "hhs_geo_region                 False\n",
              "census_msa                     False\n",
              "household_adults                True\n",
              "household_children              True\n",
              "employment_industry            False\n",
              "employment_occupation          False\n",
              "dtype: bool"
            ]
          },
          "execution_count": 22,
          "metadata": {},
          "output_type": "execute_result"
        }
      ],
      "source": [
        "features_df.dtypes != \"object\""
      ]
    },
    {
      "cell_type": "code",
      "execution_count": null,
      "id": "6248196a",
      "metadata": {
        "id": "6248196a",
        "outputId": "e2fdca3c-28bf-4156-ec7e-58541f1e6cf0"
      },
      "outputs": [
        {
          "name": "stdout",
          "output_type": "stream",
          "text": [
            "['h1n1_concern' 'h1n1_knowledge' 'behavioral_antiviral_meds'\n",
            " 'behavioral_avoidance' 'behavioral_face_mask' 'behavioral_wash_hands'\n",
            " 'behavioral_large_gatherings' 'behavioral_outside_home'\n",
            " 'behavioral_touch_face' 'doctor_recc_h1n1' 'doctor_recc_seasonal'\n",
            " 'chronic_med_condition' 'child_under_6_months' 'health_worker'\n",
            " 'health_insurance' 'opinion_h1n1_vacc_effective' 'opinion_h1n1_risk'\n",
            " 'opinion_h1n1_sick_from_vacc' 'opinion_seas_vacc_effective'\n",
            " 'opinion_seas_risk' 'opinion_seas_sick_from_vacc' 'household_adults'\n",
            " 'household_children']\n"
          ]
        }
      ],
      "source": [
        "numeric_cols = features_df.columns[features_df.dtypes != \"object\"].values\n",
        "print(numeric_cols)"
      ]
    },
    {
      "cell_type": "code",
      "execution_count": null,
      "id": "4005a858",
      "metadata": {
        "id": "4005a858",
        "outputId": "2bbd209c-770b-4c21-8a27-796416649bad"
      },
      "outputs": [
        {
          "name": "stdout",
          "output_type": "stream",
          "text": [
            "['age_group' 'education' 'race' 'sex' 'income_poverty' 'marital_status'\n",
            " 'rent_or_own' 'employment_status' 'hhs_geo_region' 'census_msa'\n",
            " 'employment_industry' 'employment_occupation']\n"
          ]
        }
      ],
      "source": [
        "categorical_cols = features_df.columns[features_df.dtypes == \"object\"].values\n",
        "print(categorical_cols)"
      ]
    },
    {
      "cell_type": "code",
      "execution_count": null,
      "id": "b70b4422",
      "metadata": {
        "id": "b70b4422"
      },
      "outputs": [],
      "source": [
        "#chain preprocessing into a Pipeline object\n",
        "#each step is a tuple of (name you chose, sklearn transformer)\n",
        "\n",
        "#changed to mean from most frequent\n",
        "numeric_preprocessing_steps = Pipeline([\n",
        "    ('standard_scaler', StandardScaler()),\n",
        "    ('simple_imputer', SimpleImputer(strategy='mean'))\n",
        "])\n",
        "\n",
        "categorical_preprocessing_steps = Pipeline([\n",
        "      ('encoder', OneHotEncoder(handle_unknown='ignore')),\n",
        "      ])\n",
        "\n",
        "#create the preprocessor stage of final pipeline\n",
        "#each entry in the transformer list is a tuple of\n",
        "#(name you choose, sklearn transformer, list of columns)\n",
        "\n",
        "\n",
        "preprocessor = Pipeline(steps=[\n",
        "    ('ct', ColumnTransformer(\n",
        "    transformers = [\n",
        "        (\"numeric\", numeric_preprocessing_steps, numeric_cols),\n",
        "        ('cat', categorical_preprocessing_steps, categorical_cols)],\n",
        "        remainder = \"passthrough\",\n",
        "        sparse_threshold=0)),\n",
        "])"
      ]
    },
    {
      "cell_type": "code",
      "execution_count": null,
      "id": "e2632d48",
      "metadata": {
        "id": "e2632d48"
      },
      "outputs": [],
      "source": [
        "from lightgbm import LGBMClassifier\n",
        "from sklearn.model_selection import cross_validate"
      ]
    },
    {
      "cell_type": "code",
      "execution_count": null,
      "id": "078df9fb",
      "metadata": {
        "id": "078df9fb"
      },
      "outputs": [],
      "source": [
        "#features_df[categorical_cols] = features_df[categorical_cols].astype('category')\n",
        "#cat_col = features_df.select_dtypes('object').columns.tolist()\n",
        "\n",
        "#what changed from July6: is_unbalance:false, max_depth 8, num_leaves 72\n",
        "# max_depth 10, num_leaves 82\n",
        "\n",
        "params = {\n",
        "      'objective': 'binary',\n",
        "      'metric': 'multi_auc',\n",
        "      \"cat_l2\": 10,\n",
        "      \"cat_smooth\": 10,\n",
        "      \"colsample_bytree\": 0.8,\n",
        "      \"feature_fraction_bynode\":  0.8,\n",
        "      \"learning_rate\": 0.03,\n",
        "      \"max_depth\": 10,\n",
        "      \"min_child_samples\": 63,\n",
        "      \"min_data_per_group\": 100,\n",
        "      \"n_estimators\":200,\n",
        "      \"num_leaves\": 82,\n",
        "      \"path_smooth\": 0,\n",
        "      \"reg_alpha\":  0.05,\n",
        "      \"reg_lambda\": 0.05,\n",
        "      \"subsample_freq\": 1,\n",
        "      \"subsample\": 0.8,\n",
        "      \"max_bin\": 122,\n",
        "      \"extra_trees\": False,\n",
        "      \"is_unbalance\": False,\n",
        "      \"boosting_type\": 'gbdt',\n",
        "      \"n_jobs\": 1,\n",
        "      \"verbosity\": -1,\n",
        "      \"seed\": 42,\n",
        "}\n",
        "        \n",
        "#fit_params= {\n",
        " #   'feature_name': \"auto\",\n",
        "  #  'categorical_feature': categorical_cols,\n",
        "#}\n",
        "\n",
        "#search_params = {}\n"
      ]
    },
    {
      "cell_type": "code",
      "execution_count": null,
      "id": "512f80bb",
      "metadata": {
        "id": "512f80bb"
      },
      "outputs": [],
      "source": [
        "#neptune.ai/blog/lightgbm-parameters-guide\n",
        "#boosting type = gradient boosted decision trees\n"
      ]
    },
    {
      "cell_type": "code",
      "execution_count": null,
      "id": "d08111f2",
      "metadata": {
        "id": "d08111f2"
      },
      "outputs": [],
      "source": [
        "estimators = MultiOutputClassifier(LGBMClassifier(**params))"
      ]
    },
    {
      "cell_type": "markdown",
      "id": "23c46ad0",
      "metadata": {
        "id": "23c46ad0"
      },
      "source": [
        "print_feat(feat_imp = pd.Series(estimators.feature_importances_, index=features_df.columns)),\n",
        "    (feat_imp.nlargest(30).plot(kind='barh', figsize=(8,10))"
      ]
    },
    {
      "cell_type": "code",
      "execution_count": null,
      "id": "1a896aa3",
      "metadata": {
        "id": "1a896aa3"
      },
      "outputs": [],
      "source": [
        "full_pipeline = Pipeline([\n",
        "    (\"preprocessor\", preprocessor),\n",
        "    (\"estimators\", estimators),\n",
        "])"
      ]
    },
    {
      "cell_type": "code",
      "execution_count": null,
      "id": "48b86312",
      "metadata": {
        "id": "48b86312"
      },
      "outputs": [],
      "source": [
        "X_train, X_eval, y_train, y_eval = train_test_split(\n",
        "    features_df,\n",
        "    labels_df,\n",
        "    test_size=0.2,\n",
        "    shuffle=True,\n",
        "    stratify=labels_df,\n",
        "    random_state=42\n",
        ")"
      ]
    },
    {
      "cell_type": "code",
      "execution_count": null,
      "id": "131ca522",
      "metadata": {
        "id": "131ca522",
        "outputId": "6d4a811e-ae37-41d5-d700-12196d804595"
      },
      "outputs": [
        {
          "name": "stdout",
          "output_type": "stream",
          "text": [
            "Wall time: 1.79 s\n"
          ]
        }
      ],
      "source": [
        "%%time\n",
        "\n",
        "# Train model\n",
        "full_pipeline.fit(X_train, y_train)\n",
        "\n",
        "\n",
        "\n",
        "None   # So we don't print out the whole pipeline representation"
      ]
    },
    {
      "cell_type": "code",
      "execution_count": null,
      "id": "3cc7b5a9",
      "metadata": {
        "id": "3cc7b5a9",
        "outputId": "4a8202eb-362a-45f8-aad3-6eb7c3d1bd23"
      },
      "outputs": [
        {
          "data": {
            "text/plain": [
              "[array([[0.98682949, 0.01317051],\n",
              "        [0.50491807, 0.49508193],\n",
              "        [0.95287399, 0.04712601],\n",
              "        ...,\n",
              "        [0.96280648, 0.03719352],\n",
              "        [0.54421149, 0.45578851],\n",
              "        [0.70453621, 0.29546379]]),\n",
              " array([[0.66547035, 0.33452965],\n",
              "        [0.19323907, 0.80676093],\n",
              "        [0.94162959, 0.05837041],\n",
              "        ...,\n",
              "        [0.88875432, 0.11124568],\n",
              "        [0.41856599, 0.58143401],\n",
              "        [0.47937276, 0.52062724]])]"
            ]
          },
          "execution_count": 33,
          "metadata": {},
          "output_type": "execute_result"
        }
      ],
      "source": [
        "# Predict on evaluation set\n",
        "# This competition wants probabilities, not labels\n",
        "\n",
        "preds = full_pipeline.predict_proba(X_eval)\n",
        "preds\n"
      ]
    },
    {
      "cell_type": "code",
      "execution_count": null,
      "id": "38c88913",
      "metadata": {
        "id": "38c88913",
        "outputId": "dcda4765-90c8-46fb-df3e-28a5ce4bc19a"
      },
      "outputs": [
        {
          "name": "stdout",
          "output_type": "stream",
          "text": [
            "test_probas[0].shape (5342, 2)\n",
            "test_probas[1].shape (5342, 2)\n"
          ]
        }
      ],
      "source": [
        "print(\"test_probas[0].shape\", preds[0].shape)\n",
        "print(\"test_probas[1].shape\", preds[1].shape)"
      ]
    },
    {
      "cell_type": "code",
      "execution_count": null,
      "id": "34e7882b",
      "metadata": {
        "id": "34e7882b",
        "outputId": "dc21349b-6da8-46e9-9767-e6d783e03cd8"
      },
      "outputs": [
        {
          "name": "stdout",
          "output_type": "stream",
          "text": [
            "y_preds.shape: (5342, 2)\n"
          ]
        },
        {
          "data": {
            "text/html": [
              "<div>\n",
              "<style scoped>\n",
              "    .dataframe tbody tr th:only-of-type {\n",
              "        vertical-align: middle;\n",
              "    }\n",
              "\n",
              "    .dataframe tbody tr th {\n",
              "        vertical-align: top;\n",
              "    }\n",
              "\n",
              "    .dataframe thead th {\n",
              "        text-align: right;\n",
              "    }\n",
              "</style>\n",
              "<table border=\"1\" class=\"dataframe\">\n",
              "  <thead>\n",
              "    <tr style=\"text-align: right;\">\n",
              "      <th></th>\n",
              "      <th>h1n1_vaccine</th>\n",
              "      <th>seasonal_vaccine</th>\n",
              "    </tr>\n",
              "    <tr>\n",
              "      <th>respondent_id</th>\n",
              "      <th></th>\n",
              "      <th></th>\n",
              "    </tr>\n",
              "  </thead>\n",
              "  <tbody>\n",
              "    <tr>\n",
              "      <th>22317</th>\n",
              "      <td>0.013171</td>\n",
              "      <td>0.334530</td>\n",
              "    </tr>\n",
              "    <tr>\n",
              "      <th>1215</th>\n",
              "      <td>0.495082</td>\n",
              "      <td>0.806761</td>\n",
              "    </tr>\n",
              "    <tr>\n",
              "      <th>10540</th>\n",
              "      <td>0.047126</td>\n",
              "      <td>0.058370</td>\n",
              "    </tr>\n",
              "    <tr>\n",
              "      <th>7407</th>\n",
              "      <td>0.184026</td>\n",
              "      <td>0.270370</td>\n",
              "    </tr>\n",
              "    <tr>\n",
              "      <th>14697</th>\n",
              "      <td>0.093778</td>\n",
              "      <td>0.206626</td>\n",
              "    </tr>\n",
              "  </tbody>\n",
              "</table>\n",
              "</div>"
            ],
            "text/plain": [
              "               h1n1_vaccine  seasonal_vaccine\n",
              "respondent_id                                \n",
              "22317              0.013171          0.334530\n",
              "1215               0.495082          0.806761\n",
              "10540              0.047126          0.058370\n",
              "7407               0.184026          0.270370\n",
              "14697              0.093778          0.206626"
            ]
          },
          "execution_count": 35,
          "metadata": {},
          "output_type": "execute_result"
        }
      ],
      "source": [
        "y_preds = pd.DataFrame(\n",
        "    {\n",
        "        \"h1n1_vaccine\": preds[0][:, 1],\n",
        "        \"seasonal_vaccine\": preds[1][:, 1],\n",
        "    },\n",
        "    index = y_eval.index\n",
        ")\n",
        "print(\"y_preds.shape:\", y_preds.shape)\n",
        "y_preds.head()"
      ]
    },
    {
      "cell_type": "code",
      "execution_count": null,
      "id": "14f5ba62",
      "metadata": {
        "id": "14f5ba62"
      },
      "outputs": [],
      "source": [
        "def plot_roc(y_true, y_score, label_name, ax):\n",
        "    fpr, tpr, thresholds = roc_curve(y_true, y_score)\n",
        "    ax.plot(fpr, tpr)\n",
        "    ax.plot([0, 1], [0, 1], color='grey', linestyle='--')\n",
        "    ax.set_ylabel('TPR')\n",
        "    ax.set_xlabel('FPR')\n",
        "    ax.set_title(\n",
        "        f\"{label_name}: AUC = {roc_auc_score(y_true, y_score):.4f}\"\n",
        "    )"
      ]
    },
    {
      "cell_type": "code",
      "execution_count": null,
      "id": "f9301134",
      "metadata": {
        "scrolled": true,
        "id": "f9301134",
        "outputId": "33ff2983-5ce4-4b85-aa94-5f7c86ae0ed7"
      },
      "outputs": [
        {
          "data": {
            "image/png": "[encoded data removed]",
            "text/plain": [
              "<Figure size 504x252 with 2 Axes>"
            ]
          },
          "metadata": {
            "needs_background": "light"
          },
          "output_type": "display_data"
        }
      ],
      "source": [
        "fig, ax = plt.subplots(1, 2, figsize=(7, 3.5))\n",
        "\n",
        "plot_roc(\n",
        "    y_eval['h1n1_vaccine'], \n",
        "    y_preds['h1n1_vaccine'], \n",
        "    'h1n1_vaccine',\n",
        "    ax=ax[0]\n",
        ")\n",
        "plot_roc(\n",
        "    y_eval['seasonal_vaccine'], \n",
        "    y_preds['seasonal_vaccine'], \n",
        "    'seasonal_vaccine',\n",
        "    ax=ax[1]\n",
        ")\n",
        "fig.tight_layout()"
      ]
    },
    {
      "cell_type": "code",
      "execution_count": null,
      "id": "9233dc3e",
      "metadata": {
        "id": "9233dc3e",
        "outputId": "2f173f58-c032-4122-a1ef-855e7a8cc08c"
      },
      "outputs": [
        {
          "data": {
            "text/plain": [
              "0.8698892622088569"
            ]
          },
          "execution_count": 38,
          "metadata": {},
          "output_type": "execute_result"
        }
      ],
      "source": [
        "roc_auc_score(y_eval, y_preds)"
      ]
    },
    {
      "cell_type": "code",
      "execution_count": null,
      "id": "8c40ffaa",
      "metadata": {
        "id": "8c40ffaa"
      },
      "outputs": [],
      "source": [
        "#0.8698892622088569 num_leaves to 82, max_depth 10\n",
        "#0.8697263774020288 num_leaves to 72, max_depth 8\n",
        "#0.8695796079604736 is_unbalance= False\n",
        "#0.8690751996504833 mean\n",
        "#0.8527496971858513 (split match sandbox plus the extra fields from baseline)\n",
        "#0.852128736376434 (when change train test split exact match to sandbox settings)"
      ]
    },
    {
      "cell_type": "code",
      "execution_count": null,
      "id": "7becc3c8",
      "metadata": {
        "id": "7becc3c8",
        "outputId": "aa127f63-cf42-4ee1-8309-2f6e7433080a"
      },
      "outputs": [
        {
          "name": "stdout",
          "output_type": "stream",
          "text": [
            "Wall time: 2.2 s\n"
          ]
        }
      ],
      "source": [
        "%%time \n",
        "\n",
        "full_pipeline.fit(features_df, labels_df)\n",
        "\n",
        "None"
      ]
    },
    {
      "cell_type": "code",
      "execution_count": null,
      "id": "b91fc44b",
      "metadata": {
        "id": "b91fc44b"
      },
      "outputs": [],
      "source": [
        "test_features_df = pd.read_csv(DATA_PATH / \"test_set_features.csv\", \n",
        "                               index_col=\"respondent_id\")"
      ]
    },
    {
      "cell_type": "code",
      "execution_count": null,
      "id": "59bdb8bc",
      "metadata": {
        "id": "59bdb8bc",
        "outputId": "7b9598ee-aa21-4663-9687-d674e860940c"
      },
      "outputs": [
        {
          "data": {
            "text/plain": [
              "[array([[0.85967047, 0.14032953],\n",
              "        [0.97038505, 0.02961495],\n",
              "        [0.7543349 , 0.2456651 ],\n",
              "        ...,\n",
              "        [0.84310993, 0.15689007],\n",
              "        [0.9798461 , 0.0201539 ],\n",
              "        [0.36048119, 0.63951881]]),\n",
              " array([[0.76874172, 0.23125828],\n",
              "        [0.96271342, 0.03728658],\n",
              "        [0.31055134, 0.68944866],\n",
              "        ...,\n",
              "        [0.82641298, 0.17358702],\n",
              "        [0.6953423 , 0.3046577 ],\n",
              "        [0.40632751, 0.59367249]])]"
            ]
          },
          "execution_count": 42,
          "metadata": {},
          "output_type": "execute_result"
        }
      ],
      "source": [
        "test_probas = full_pipeline.predict_proba(test_features_df)\n",
        "test_probas"
      ]
    },
    {
      "cell_type": "code",
      "execution_count": null,
      "id": "1a8d2f70",
      "metadata": {
        "id": "1a8d2f70"
      },
      "outputs": [],
      "source": [
        "submission_df = pd.read_csv(DATA_PATH / \"submission_format.csv\", \n",
        "                            index_col=\"respondent_id\")"
      ]
    },
    {
      "cell_type": "code",
      "execution_count": null,
      "id": "67ca0d5b",
      "metadata": {
        "id": "67ca0d5b",
        "outputId": "f88c73b4-d0b1-4564-f6b6-c85ed21f68c4"
      },
      "outputs": [
        {
          "data": {
            "text/html": [
              "<div>\n",
              "<style scoped>\n",
              "    .dataframe tbody tr th:only-of-type {\n",
              "        vertical-align: middle;\n",
              "    }\n",
              "\n",
              "    .dataframe tbody tr th {\n",
              "        vertical-align: top;\n",
              "    }\n",
              "\n",
              "    .dataframe thead th {\n",
              "        text-align: right;\n",
              "    }\n",
              "</style>\n",
              "<table border=\"1\" class=\"dataframe\">\n",
              "  <thead>\n",
              "    <tr style=\"text-align: right;\">\n",
              "      <th></th>\n",
              "      <th>h1n1_vaccine</th>\n",
              "      <th>seasonal_vaccine</th>\n",
              "    </tr>\n",
              "    <tr>\n",
              "      <th>respondent_id</th>\n",
              "      <th></th>\n",
              "      <th></th>\n",
              "    </tr>\n",
              "  </thead>\n",
              "  <tbody>\n",
              "    <tr>\n",
              "      <th>26707</th>\n",
              "      <td>0.5</td>\n",
              "      <td>0.7</td>\n",
              "    </tr>\n",
              "    <tr>\n",
              "      <th>26708</th>\n",
              "      <td>0.5</td>\n",
              "      <td>0.7</td>\n",
              "    </tr>\n",
              "    <tr>\n",
              "      <th>26709</th>\n",
              "      <td>0.5</td>\n",
              "      <td>0.7</td>\n",
              "    </tr>\n",
              "    <tr>\n",
              "      <th>26710</th>\n",
              "      <td>0.5</td>\n",
              "      <td>0.7</td>\n",
              "    </tr>\n",
              "    <tr>\n",
              "      <th>26711</th>\n",
              "      <td>0.5</td>\n",
              "      <td>0.7</td>\n",
              "    </tr>\n",
              "  </tbody>\n",
              "</table>\n",
              "</div>"
            ],
            "text/plain": [
              "               h1n1_vaccine  seasonal_vaccine\n",
              "respondent_id                                \n",
              "26707                   0.5               0.7\n",
              "26708                   0.5               0.7\n",
              "26709                   0.5               0.7\n",
              "26710                   0.5               0.7\n",
              "26711                   0.5               0.7"
            ]
          },
          "execution_count": 44,
          "metadata": {},
          "output_type": "execute_result"
        }
      ],
      "source": [
        "submission_df.head()"
      ]
    },
    {
      "cell_type": "code",
      "execution_count": null,
      "id": "61015e51",
      "metadata": {
        "id": "61015e51",
        "outputId": "c1b93f56-1ee7-456f-eec1-0937adbd8fb2"
      },
      "outputs": [
        {
          "data": {
            "text/html": [
              "<div>\n",
              "<style scoped>\n",
              "    .dataframe tbody tr th:only-of-type {\n",
              "        vertical-align: middle;\n",
              "    }\n",
              "\n",
              "    .dataframe tbody tr th {\n",
              "        vertical-align: top;\n",
              "    }\n",
              "\n",
              "    .dataframe thead th {\n",
              "        text-align: right;\n",
              "    }\n",
              "</style>\n",
              "<table border=\"1\" class=\"dataframe\">\n",
              "  <thead>\n",
              "    <tr style=\"text-align: right;\">\n",
              "      <th></th>\n",
              "      <th>h1n1_vaccine</th>\n",
              "      <th>seasonal_vaccine</th>\n",
              "    </tr>\n",
              "    <tr>\n",
              "      <th>respondent_id</th>\n",
              "      <th></th>\n",
              "      <th></th>\n",
              "    </tr>\n",
              "  </thead>\n",
              "  <tbody>\n",
              "    <tr>\n",
              "      <th>26707</th>\n",
              "      <td>0.140330</td>\n",
              "      <td>0.231258</td>\n",
              "    </tr>\n",
              "    <tr>\n",
              "      <th>26708</th>\n",
              "      <td>0.029615</td>\n",
              "      <td>0.037287</td>\n",
              "    </tr>\n",
              "    <tr>\n",
              "      <th>26709</th>\n",
              "      <td>0.245665</td>\n",
              "      <td>0.689449</td>\n",
              "    </tr>\n",
              "    <tr>\n",
              "      <th>26710</th>\n",
              "      <td>0.741402</td>\n",
              "      <td>0.905098</td>\n",
              "    </tr>\n",
              "    <tr>\n",
              "      <th>26711</th>\n",
              "      <td>0.306600</td>\n",
              "      <td>0.432156</td>\n",
              "    </tr>\n",
              "  </tbody>\n",
              "</table>\n",
              "</div>"
            ],
            "text/plain": [
              "               h1n1_vaccine  seasonal_vaccine\n",
              "respondent_id                                \n",
              "26707              0.140330          0.231258\n",
              "26708              0.029615          0.037287\n",
              "26709              0.245665          0.689449\n",
              "26710              0.741402          0.905098\n",
              "26711              0.306600          0.432156"
            ]
          },
          "execution_count": 45,
          "metadata": {},
          "output_type": "execute_result"
        }
      ],
      "source": [
        "# Make sure we have the rows in the same order\n",
        "np.testing.assert_array_equal(test_features_df.index.values, \n",
        "                              submission_df.index.values)\n",
        "\n",
        "# Save predictions to submission data frame\n",
        "submission_df[\"h1n1_vaccine\"] = test_probas[0][:, 1]\n",
        "submission_df[\"seasonal_vaccine\"] = test_probas[1][:, 1]\n",
        "\n",
        "submission_df.head()"
      ]
    },
    {
      "cell_type": "code",
      "execution_count": null,
      "id": "80b22324",
      "metadata": {
        "id": "80b22324"
      },
      "outputs": [],
      "source": [
        "submission_df.to_csv('my_submissionLGBM v2 July10 Clean Jul11.csv', index=True)"
      ]
    },
    {
      "cell_type": "code",
      "execution_count": null,
      "id": "616dc859",
      "metadata": {
        "id": "616dc859"
      },
      "outputs": [],
      "source": []
    },
    {
      "cell_type": "code",
      "execution_count": null,
      "id": "167c9048",
      "metadata": {
        "id": "167c9048"
      },
      "outputs": [],
      "source": []
    },
    {
      "cell_type": "code",
      "execution_count": null,
      "id": "d26c5a3b",
      "metadata": {
        "id": "d26c5a3b"
      },
      "outputs": [],
      "source": []
    }
  ],
  "metadata": {
    "kernelspec": {
      "display_name": "Python 3",
      "language": "python",
      "name": "python3"
    },
    "language_info": {
      "codemirror_mode": {
        "name": "ipython",
        "version": 3
      },
      "file_extension": ".py",
      "mimetype": "text/x-python",
      "name": "python",
      "nbconvert_exporter": "python",
      "pygments_lexer": "ipython3",
      "version": "3.8.8"
    },
    "colab": {
      "provenance": []
    }
  },
  "nbformat": 4,
  "nbformat_minor": 5
}