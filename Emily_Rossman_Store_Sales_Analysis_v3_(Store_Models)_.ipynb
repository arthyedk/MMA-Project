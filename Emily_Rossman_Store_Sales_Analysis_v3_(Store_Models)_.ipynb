{
  "cells": [
    {
      "cell_type": "markdown",
      "id": "46a7ab37",
      "metadata": {
        "id": "46a7ab37"
      },
      "source": [
        "## Data Import / Exploration"
      ]
    },
    {
      "cell_type": "code",
      "execution_count": null,
      "id": "6e442059",
      "metadata": {
        "id": "6e442059"
      },
      "outputs": [],
      "source": [
        "#Importing Training Data and Examining ###"
      ]
    },
    {
      "cell_type": "code",
      "execution_count": null,
      "id": "2b7e4cce",
      "metadata": {
        "id": "2b7e4cce"
      },
      "outputs": [],
      "source": [
        "import pandas as pd"
      ]
    },
    {
      "cell_type": "code",
      "execution_count": null,
      "id": "7e756041",
      "metadata": {
        "id": "7e756041",
        "outputId": "49ce68aa-b612-4785-83a5-7da97cd319bd"
      },
      "outputs": [
        {
          "name": "stderr",
          "output_type": "stream",
          "text": [
            "C:\\Users\\emily\\AppData\\Local\\Temp\\ipykernel_23808\\1251928732.py:1: DtypeWarning: Columns (7) have mixed types. Specify dtype option on import or set low_memory=False.\n",
            "  train_df = pd.read_csv (r'C:\\Users\\emily\\OneDrive\\Documents\\1-Queens MMA\\10 - MMA 831 - Marketing Anaytics\\EMC\\rossmann-store-sales\\train.csv')\n"
          ]
        }
      ],
      "source": [
        "train_df = pd.read_csv (r'C:\\Users\\emily\\OneDrive\\Documents\\1-Queens MMA\\10 - MMA 831 - Marketing Anaytics\\EMC\\rossmann-store-sales\\train.csv')"
      ]
    },
    {
      "cell_type": "code",
      "execution_count": null,
      "id": "a080b6fc",
      "metadata": {
        "id": "a080b6fc",
        "outputId": "5338da79-d05b-40f1-9c3d-17311a609fea"
      },
      "outputs": [
        {
          "data": {
            "text/plain": [
              "(1017209, 9)"
            ]
          },
          "execution_count": 4,
          "metadata": {},
          "output_type": "execute_result"
        }
      ],
      "source": [
        "train_df.shape"
      ]
    },
    {
      "cell_type": "code",
      "execution_count": null,
      "id": "669cd5ac",
      "metadata": {
        "id": "669cd5ac",
        "outputId": "a0a94041-c5c8-488b-bcf5-eb4ff9b8e93b"
      },
      "outputs": [
        {
          "data": {
            "text/html": [
              "<div>\n",
              "<style scoped>\n",
              "    .dataframe tbody tr th:only-of-type {\n",
              "        vertical-align: middle;\n",
              "    }\n",
              "\n",
              "    .dataframe tbody tr th {\n",
              "        vertical-align: top;\n",
              "    }\n",
              "\n",
              "    .dataframe thead th {\n",
              "        text-align: right;\n",
              "    }\n",
              "</style>\n",
              "<table border=\"1\" class=\"dataframe\">\n",
              "  <thead>\n",
              "    <tr style=\"text-align: right;\">\n",
              "      <th></th>\n",
              "      <th>Store</th>\n",
              "      <th>DayOfWeek</th>\n",
              "      <th>Date</th>\n",
              "      <th>Sales</th>\n",
              "      <th>Customers</th>\n",
              "      <th>Open</th>\n",
              "      <th>Promo</th>\n",
              "      <th>StateHoliday</th>\n",
              "      <th>SchoolHoliday</th>\n",
              "    </tr>\n",
              "  </thead>\n",
              "  <tbody>\n",
              "    <tr>\n",
              "      <th>0</th>\n",
              "      <td>1</td>\n",
              "      <td>5</td>\n",
              "      <td>2015-07-31</td>\n",
              "      <td>5263</td>\n",
              "      <td>555</td>\n",
              "      <td>1</td>\n",
              "      <td>1</td>\n",
              "      <td>0</td>\n",
              "      <td>1</td>\n",
              "    </tr>\n",
              "    <tr>\n",
              "      <th>1</th>\n",
              "      <td>2</td>\n",
              "      <td>5</td>\n",
              "      <td>2015-07-31</td>\n",
              "      <td>6064</td>\n",
              "      <td>625</td>\n",
              "      <td>1</td>\n",
              "      <td>1</td>\n",
              "      <td>0</td>\n",
              "      <td>1</td>\n",
              "    </tr>\n",
              "    <tr>\n",
              "      <th>2</th>\n",
              "      <td>3</td>\n",
              "      <td>5</td>\n",
              "      <td>2015-07-31</td>\n",
              "      <td>8314</td>\n",
              "      <td>821</td>\n",
              "      <td>1</td>\n",
              "      <td>1</td>\n",
              "      <td>0</td>\n",
              "      <td>1</td>\n",
              "    </tr>\n",
              "    <tr>\n",
              "      <th>3</th>\n",
              "      <td>4</td>\n",
              "      <td>5</td>\n",
              "      <td>2015-07-31</td>\n",
              "      <td>13995</td>\n",
              "      <td>1498</td>\n",
              "      <td>1</td>\n",
              "      <td>1</td>\n",
              "      <td>0</td>\n",
              "      <td>1</td>\n",
              "    </tr>\n",
              "    <tr>\n",
              "      <th>4</th>\n",
              "      <td>5</td>\n",
              "      <td>5</td>\n",
              "      <td>2015-07-31</td>\n",
              "      <td>4822</td>\n",
              "      <td>559</td>\n",
              "      <td>1</td>\n",
              "      <td>1</td>\n",
              "      <td>0</td>\n",
              "      <td>1</td>\n",
              "    </tr>\n",
              "  </tbody>\n",
              "</table>\n",
              "</div>"
            ],
            "text/plain": [
              "   Store  DayOfWeek        Date  Sales  Customers  Open  Promo StateHoliday  \\\n",
              "0      1          5  2015-07-31   5263        555     1      1            0   \n",
              "1      2          5  2015-07-31   6064        625     1      1            0   \n",
              "2      3          5  2015-07-31   8314        821     1      1            0   \n",
              "3      4          5  2015-07-31  13995       1498     1      1            0   \n",
              "4      5          5  2015-07-31   4822        559     1      1            0   \n",
              "\n",
              "   SchoolHoliday  \n",
              "0              1  \n",
              "1              1  \n",
              "2              1  \n",
              "3              1  \n",
              "4              1  "
            ]
          },
          "execution_count": 5,
          "metadata": {},
          "output_type": "execute_result"
        }
      ],
      "source": [
        "train_df.head()"
      ]
    },
    {
      "cell_type": "code",
      "execution_count": null,
      "id": "14dd3a79",
      "metadata": {
        "id": "14dd3a79",
        "outputId": "f1267a65-8316-4333-e70b-251b7ecede34"
      },
      "outputs": [
        {
          "data": {
            "text/plain": [
              "array([   1,    2,    3, ..., 1113, 1114, 1115], dtype=int64)"
            ]
          },
          "execution_count": 6,
          "metadata": {},
          "output_type": "execute_result"
        }
      ],
      "source": [
        "train_df['Store'].unique()"
      ]
    },
    {
      "cell_type": "code",
      "execution_count": null,
      "id": "654a4814",
      "metadata": {
        "id": "654a4814",
        "outputId": "eeeed655-2584-4e99-9c3d-b5ff8c4bf9e9"
      },
      "outputs": [
        {
          "data": {
            "text/plain": [
              "array([5, 4, 3, 2, 1, 7, 6], dtype=int64)"
            ]
          },
          "execution_count": 7,
          "metadata": {},
          "output_type": "execute_result"
        }
      ],
      "source": [
        "train_df['DayOfWeek'].unique()"
      ]
    },
    {
      "cell_type": "code",
      "execution_count": null,
      "id": "42608e26",
      "metadata": {
        "id": "42608e26",
        "outputId": "fafe33d3-9428-4300-8666-5cf0438f020f"
      },
      "outputs": [
        {
          "data": {
            "text/plain": [
              "array([1, 0], dtype=int64)"
            ]
          },
          "execution_count": 8,
          "metadata": {},
          "output_type": "execute_result"
        }
      ],
      "source": [
        "train_df['Open'].unique()"
      ]
    },
    {
      "cell_type": "code",
      "execution_count": null,
      "id": "d0838207",
      "metadata": {
        "id": "d0838207",
        "outputId": "1d32b40d-77da-40af-eef7-aefae6e28b36"
      },
      "outputs": [
        {
          "data": {
            "text/plain": [
              "array([1, 0], dtype=int64)"
            ]
          },
          "execution_count": 9,
          "metadata": {},
          "output_type": "execute_result"
        }
      ],
      "source": [
        "train_df['Promo'].unique()"
      ]
    },
    {
      "cell_type": "code",
      "execution_count": null,
      "id": "e8720529",
      "metadata": {
        "id": "e8720529",
        "outputId": "665f5f6f-0ce6-4ed8-c85a-c588885a3e4a"
      },
      "outputs": [
        {
          "data": {
            "text/plain": [
              "array(['0', 'a', 'b', 'c', 0], dtype=object)"
            ]
          },
          "execution_count": 10,
          "metadata": {},
          "output_type": "execute_result"
        }
      ],
      "source": [
        "train_df['StateHoliday'].unique()"
      ]
    },
    {
      "cell_type": "code",
      "execution_count": null,
      "id": "4c34bd08",
      "metadata": {
        "id": "4c34bd08",
        "outputId": "9ffed15a-ae3e-40a0-95ff-1a95ba99aa6a"
      },
      "outputs": [
        {
          "data": {
            "text/plain": [
              "array([1, 0], dtype=int64)"
            ]
          },
          "execution_count": 11,
          "metadata": {},
          "output_type": "execute_result"
        }
      ],
      "source": [
        "train_df['SchoolHoliday'].unique()"
      ]
    },
    {
      "cell_type": "code",
      "execution_count": null,
      "id": "846feb56",
      "metadata": {
        "id": "846feb56",
        "outputId": "c51c669f-dfad-4feb-953d-63ced3c1c380"
      },
      "outputs": [
        {
          "name": "stdout",
          "output_type": "stream",
          "text": [
            "<class 'pandas.core.frame.DataFrame'>\n",
            "RangeIndex: 1017209 entries, 0 to 1017208\n",
            "Data columns (total 9 columns):\n",
            " #   Column         Non-Null Count    Dtype \n",
            "---  ------         --------------    ----- \n",
            " 0   Store          1017209 non-null  int64 \n",
            " 1   DayOfWeek      1017209 non-null  int64 \n",
            " 2   Date           1017209 non-null  object\n",
            " 3   Sales          1017209 non-null  int64 \n",
            " 4   Customers      1017209 non-null  int64 \n",
            " 5   Open           1017209 non-null  int64 \n",
            " 6   Promo          1017209 non-null  int64 \n",
            " 7   StateHoliday   1017209 non-null  object\n",
            " 8   SchoolHoliday  1017209 non-null  int64 \n",
            "dtypes: int64(7), object(2)\n",
            "memory usage: 69.8+ MB\n"
          ]
        }
      ],
      "source": [
        "train_df.info()"
      ]
    },
    {
      "cell_type": "code",
      "execution_count": null,
      "id": "12666537",
      "metadata": {
        "id": "12666537",
        "outputId": "a2bfa65f-1268-4563-b53a-24919ad0ca46"
      },
      "outputs": [
        {
          "data": {
            "text/html": [
              "<div>\n",
              "<style scoped>\n",
              "    .dataframe tbody tr th:only-of-type {\n",
              "        vertical-align: middle;\n",
              "    }\n",
              "\n",
              "    .dataframe tbody tr th {\n",
              "        vertical-align: top;\n",
              "    }\n",
              "\n",
              "    .dataframe thead th {\n",
              "        text-align: right;\n",
              "    }\n",
              "</style>\n",
              "<table border=\"1\" class=\"dataframe\">\n",
              "  <thead>\n",
              "    <tr style=\"text-align: right;\">\n",
              "      <th></th>\n",
              "      <th>Store</th>\n",
              "      <th>DayOfWeek</th>\n",
              "      <th>Sales</th>\n",
              "      <th>Customers</th>\n",
              "      <th>Open</th>\n",
              "      <th>Promo</th>\n",
              "      <th>SchoolHoliday</th>\n",
              "    </tr>\n",
              "  </thead>\n",
              "  <tbody>\n",
              "    <tr>\n",
              "      <th>count</th>\n",
              "      <td>1.017209e+06</td>\n",
              "      <td>1.017209e+06</td>\n",
              "      <td>1.017209e+06</td>\n",
              "      <td>1.017209e+06</td>\n",
              "      <td>1.017209e+06</td>\n",
              "      <td>1.017209e+06</td>\n",
              "      <td>1.017209e+06</td>\n",
              "    </tr>\n",
              "    <tr>\n",
              "      <th>mean</th>\n",
              "      <td>5.584297e+02</td>\n",
              "      <td>3.998341e+00</td>\n",
              "      <td>5.773819e+03</td>\n",
              "      <td>6.331459e+02</td>\n",
              "      <td>8.301067e-01</td>\n",
              "      <td>3.815145e-01</td>\n",
              "      <td>1.786467e-01</td>\n",
              "    </tr>\n",
              "    <tr>\n",
              "      <th>std</th>\n",
              "      <td>3.219087e+02</td>\n",
              "      <td>1.997391e+00</td>\n",
              "      <td>3.849926e+03</td>\n",
              "      <td>4.644117e+02</td>\n",
              "      <td>3.755392e-01</td>\n",
              "      <td>4.857586e-01</td>\n",
              "      <td>3.830564e-01</td>\n",
              "    </tr>\n",
              "    <tr>\n",
              "      <th>min</th>\n",
              "      <td>1.000000e+00</td>\n",
              "      <td>1.000000e+00</td>\n",
              "      <td>0.000000e+00</td>\n",
              "      <td>0.000000e+00</td>\n",
              "      <td>0.000000e+00</td>\n",
              "      <td>0.000000e+00</td>\n",
              "      <td>0.000000e+00</td>\n",
              "    </tr>\n",
              "    <tr>\n",
              "      <th>25%</th>\n",
              "      <td>2.800000e+02</td>\n",
              "      <td>2.000000e+00</td>\n",
              "      <td>3.727000e+03</td>\n",
              "      <td>4.050000e+02</td>\n",
              "      <td>1.000000e+00</td>\n",
              "      <td>0.000000e+00</td>\n",
              "      <td>0.000000e+00</td>\n",
              "    </tr>\n",
              "    <tr>\n",
              "      <th>50%</th>\n",
              "      <td>5.580000e+02</td>\n",
              "      <td>4.000000e+00</td>\n",
              "      <td>5.744000e+03</td>\n",
              "      <td>6.090000e+02</td>\n",
              "      <td>1.000000e+00</td>\n",
              "      <td>0.000000e+00</td>\n",
              "      <td>0.000000e+00</td>\n",
              "    </tr>\n",
              "    <tr>\n",
              "      <th>75%</th>\n",
              "      <td>8.380000e+02</td>\n",
              "      <td>6.000000e+00</td>\n",
              "      <td>7.856000e+03</td>\n",
              "      <td>8.370000e+02</td>\n",
              "      <td>1.000000e+00</td>\n",
              "      <td>1.000000e+00</td>\n",
              "      <td>0.000000e+00</td>\n",
              "    </tr>\n",
              "    <tr>\n",
              "      <th>max</th>\n",
              "      <td>1.115000e+03</td>\n",
              "      <td>7.000000e+00</td>\n",
              "      <td>4.155100e+04</td>\n",
              "      <td>7.388000e+03</td>\n",
              "      <td>1.000000e+00</td>\n",
              "      <td>1.000000e+00</td>\n",
              "      <td>1.000000e+00</td>\n",
              "    </tr>\n",
              "  </tbody>\n",
              "</table>\n",
              "</div>"
            ],
            "text/plain": [
              "              Store     DayOfWeek         Sales     Customers          Open  \\\n",
              "count  1.017209e+06  1.017209e+06  1.017209e+06  1.017209e+06  1.017209e+06   \n",
              "mean   5.584297e+02  3.998341e+00  5.773819e+03  6.331459e+02  8.301067e-01   \n",
              "std    3.219087e+02  1.997391e+00  3.849926e+03  4.644117e+02  3.755392e-01   \n",
              "min    1.000000e+00  1.000000e+00  0.000000e+00  0.000000e+00  0.000000e+00   \n",
              "25%    2.800000e+02  2.000000e+00  3.727000e+03  4.050000e+02  1.000000e+00   \n",
              "50%    5.580000e+02  4.000000e+00  5.744000e+03  6.090000e+02  1.000000e+00   \n",
              "75%    8.380000e+02  6.000000e+00  7.856000e+03  8.370000e+02  1.000000e+00   \n",
              "max    1.115000e+03  7.000000e+00  4.155100e+04  7.388000e+03  1.000000e+00   \n",
              "\n",
              "              Promo  SchoolHoliday  \n",
              "count  1.017209e+06   1.017209e+06  \n",
              "mean   3.815145e-01   1.786467e-01  \n",
              "std    4.857586e-01   3.830564e-01  \n",
              "min    0.000000e+00   0.000000e+00  \n",
              "25%    0.000000e+00   0.000000e+00  \n",
              "50%    0.000000e+00   0.000000e+00  \n",
              "75%    1.000000e+00   0.000000e+00  \n",
              "max    1.000000e+00   1.000000e+00  "
            ]
          },
          "execution_count": 13,
          "metadata": {},
          "output_type": "execute_result"
        }
      ],
      "source": [
        "train_df.describe()"
      ]
    },
    {
      "cell_type": "code",
      "execution_count": null,
      "id": "8c6dfd01",
      "metadata": {
        "id": "8c6dfd01"
      },
      "outputs": [],
      "source": [
        "import pandas as pd\n",
        "import numpy as np\n",
        "import matplotlib.pyplot as plt\n",
        "import seaborn as sns"
      ]
    },
    {
      "cell_type": "code",
      "execution_count": null,
      "id": "fffe1b38",
      "metadata": {
        "id": "fffe1b38",
        "outputId": "80a03eec-f4ba-48ab-8f5e-ec74f8934dc4"
      },
      "outputs": [
        {
          "data": {
            "text/plain": [
              "<AxesSubplot:xlabel='Store'>"
            ]
          },
          "execution_count": 15,
          "metadata": {},
          "output_type": "execute_result"
        },
        {
          "data": {
            "image/png": "[encoded data removed]",
            "text/plain": [
              "<Figure size 432x288 with 1 Axes>"
            ]
          },
          "metadata": {
            "needs_background": "light"
          },
          "output_type": "display_data"
        }
      ],
      "source": [
        "train_df.groupby('Store').Sales.sum().plot(kind='bar')"
      ]
    },
    {
      "cell_type": "code",
      "execution_count": null,
      "id": "c84d5fd7",
      "metadata": {
        "id": "c84d5fd7",
        "outputId": "a697125f-ec42-4152-ad7e-aac2a370b54a"
      },
      "outputs": [
        {
          "data": {
            "text/plain": [
              "<AxesSubplot:xlabel='DayOfWeek'>"
            ]
          },
          "execution_count": 16,
          "metadata": {},
          "output_type": "execute_result"
        },
        {
          "data": {
            "image/png": "[encoded data removed]",
            "text/plain": [
              "<Figure size 432x288 with 1 Axes>"
            ]
          },
          "metadata": {
            "needs_background": "light"
          },
          "output_type": "display_data"
        }
      ],
      "source": [
        "train_df.groupby('DayOfWeek').Sales.sum().plot(kind='bar')"
      ]
    },
    {
      "cell_type": "code",
      "execution_count": null,
      "id": "36147971",
      "metadata": {
        "id": "36147971",
        "outputId": "60104303-f075-46f8-e6d2-59dd2144393c"
      },
      "outputs": [
        {
          "data": {
            "text/plain": [
              "<AxesSubplot:xlabel='Open'>"
            ]
          },
          "execution_count": 17,
          "metadata": {},
          "output_type": "execute_result"
        },
        {
          "data": {
            "image/png": "[encoded data removed]",
            "text/plain": [
              "<Figure size 432x288 with 1 Axes>"
            ]
          },
          "metadata": {
            "needs_background": "light"
          },
          "output_type": "display_data"
        }
      ],
      "source": [
        "train_df.groupby('Open').Sales.sum().plot(kind='bar')"
      ]
    },
    {
      "cell_type": "code",
      "execution_count": null,
      "id": "f12c88f2",
      "metadata": {
        "id": "f12c88f2",
        "outputId": "4698a05e-3b8c-4b00-9f55-9903ee5616b4"
      },
      "outputs": [
        {
          "data": {
            "text/plain": [
              "<AxesSubplot:xlabel='Promo'>"
            ]
          },
          "execution_count": 18,
          "metadata": {},
          "output_type": "execute_result"
        },
        {
          "data": {
            "image/png": "[encoded data removed]",
            "text/plain": [
              "<Figure size 432x288 with 1 Axes>"
            ]
          },
          "metadata": {
            "needs_background": "light"
          },
          "output_type": "display_data"
        }
      ],
      "source": [
        "train_df.groupby('Promo').Sales.sum().plot(kind='bar')"
      ]
    },
    {
      "cell_type": "code",
      "execution_count": null,
      "id": "1953af44",
      "metadata": {
        "id": "1953af44",
        "outputId": "48e21998-de4c-4e0b-d383-2618328bf18b"
      },
      "outputs": [
        {
          "data": {
            "text/plain": [
              "<AxesSubplot:xlabel='SchoolHoliday'>"
            ]
          },
          "execution_count": 19,
          "metadata": {},
          "output_type": "execute_result"
        },
        {
          "data": {
            "image/png": "[encoded data removed]",
            "text/plain": [
              "<Figure size 432x288 with 1 Axes>"
            ]
          },
          "metadata": {
            "needs_background": "light"
          },
          "output_type": "display_data"
        }
      ],
      "source": [
        "train_df.groupby('SchoolHoliday').Sales.sum().plot(kind='bar')"
      ]
    },
    {
      "cell_type": "code",
      "execution_count": null,
      "id": "f4c839e3",
      "metadata": {
        "id": "f4c839e3"
      },
      "outputs": [],
      "source": [
        "#Importing the Stores Dataframe and Examining "
      ]
    },
    {
      "cell_type": "code",
      "execution_count": null,
      "id": "7487d3eb",
      "metadata": {
        "id": "7487d3eb"
      },
      "outputs": [],
      "source": [
        "store_df = pd.read_csv (r'C:\\Users\\emily\\OneDrive\\Documents\\1-Queens MMA\\10 - MMA 831 - Marketing Anaytics\\EMC\\rossmann-store-sales\\store.csv')"
      ]
    },
    {
      "cell_type": "code",
      "execution_count": null,
      "id": "8decfba6",
      "metadata": {
        "id": "8decfba6",
        "outputId": "5ec4e470-a45e-4ec6-bf45-643084b07981"
      },
      "outputs": [
        {
          "data": {
            "text/plain": [
              "(1115, 10)"
            ]
          },
          "execution_count": 22,
          "metadata": {},
          "output_type": "execute_result"
        }
      ],
      "source": [
        "store_df.shape"
      ]
    },
    {
      "cell_type": "code",
      "execution_count": null,
      "id": "bd110dc9",
      "metadata": {
        "id": "bd110dc9",
        "outputId": "2e642259-2eb9-4757-eac0-2d8ba774b3b9"
      },
      "outputs": [
        {
          "data": {
            "text/html": [
              "<div>\n",
              "<style scoped>\n",
              "    .dataframe tbody tr th:only-of-type {\n",
              "        vertical-align: middle;\n",
              "    }\n",
              "\n",
              "    .dataframe tbody tr th {\n",
              "        vertical-align: top;\n",
              "    }\n",
              "\n",
              "    .dataframe thead th {\n",
              "        text-align: right;\n",
              "    }\n",
              "</style>\n",
              "<table border=\"1\" class=\"dataframe\">\n",
              "  <thead>\n",
              "    <tr style=\"text-align: right;\">\n",
              "      <th></th>\n",
              "      <th>Store</th>\n",
              "      <th>StoreType</th>\n",
              "      <th>Assortment</th>\n",
              "      <th>CompetitionDistance</th>\n",
              "      <th>CompetitionOpenSinceMonth</th>\n",
              "      <th>CompetitionOpenSinceYear</th>\n",
              "      <th>Promo2</th>\n",
              "      <th>Promo2SinceWeek</th>\n",
              "      <th>Promo2SinceYear</th>\n",
              "      <th>PromoInterval</th>\n",
              "    </tr>\n",
              "  </thead>\n",
              "  <tbody>\n",
              "    <tr>\n",
              "      <th>0</th>\n",
              "      <td>1</td>\n",
              "      <td>c</td>\n",
              "      <td>a</td>\n",
              "      <td>1270.0</td>\n",
              "      <td>9.0</td>\n",
              "      <td>2008.0</td>\n",
              "      <td>0</td>\n",
              "      <td>NaN</td>\n",
              "      <td>NaN</td>\n",
              "      <td>NaN</td>\n",
              "    </tr>\n",
              "    <tr>\n",
              "      <th>1</th>\n",
              "      <td>2</td>\n",
              "      <td>a</td>\n",
              "      <td>a</td>\n",
              "      <td>570.0</td>\n",
              "      <td>11.0</td>\n",
              "      <td>2007.0</td>\n",
              "      <td>1</td>\n",
              "      <td>13.0</td>\n",
              "      <td>2010.0</td>\n",
              "      <td>Jan,Apr,Jul,Oct</td>\n",
              "    </tr>\n",
              "    <tr>\n",
              "      <th>2</th>\n",
              "      <td>3</td>\n",
              "      <td>a</td>\n",
              "      <td>a</td>\n",
              "      <td>14130.0</td>\n",
              "      <td>12.0</td>\n",
              "      <td>2006.0</td>\n",
              "      <td>1</td>\n",
              "      <td>14.0</td>\n",
              "      <td>2011.0</td>\n",
              "      <td>Jan,Apr,Jul,Oct</td>\n",
              "    </tr>\n",
              "    <tr>\n",
              "      <th>3</th>\n",
              "      <td>4</td>\n",
              "      <td>c</td>\n",
              "      <td>c</td>\n",
              "      <td>620.0</td>\n",
              "      <td>9.0</td>\n",
              "      <td>2009.0</td>\n",
              "      <td>0</td>\n",
              "      <td>NaN</td>\n",
              "      <td>NaN</td>\n",
              "      <td>NaN</td>\n",
              "    </tr>\n",
              "    <tr>\n",
              "      <th>4</th>\n",
              "      <td>5</td>\n",
              "      <td>a</td>\n",
              "      <td>a</td>\n",
              "      <td>29910.0</td>\n",
              "      <td>4.0</td>\n",
              "      <td>2015.0</td>\n",
              "      <td>0</td>\n",
              "      <td>NaN</td>\n",
              "      <td>NaN</td>\n",
              "      <td>NaN</td>\n",
              "    </tr>\n",
              "  </tbody>\n",
              "</table>\n",
              "</div>"
            ],
            "text/plain": [
              "   Store StoreType Assortment  CompetitionDistance  CompetitionOpenSinceMonth  \\\n",
              "0      1         c          a               1270.0                        9.0   \n",
              "1      2         a          a                570.0                       11.0   \n",
              "2      3         a          a              14130.0                       12.0   \n",
              "3      4         c          c                620.0                        9.0   \n",
              "4      5         a          a              29910.0                        4.0   \n",
              "\n",
              "   CompetitionOpenSinceYear  Promo2  Promo2SinceWeek  Promo2SinceYear  \\\n",
              "0                    2008.0       0              NaN              NaN   \n",
              "1                    2007.0       1             13.0           2010.0   \n",
              "2                    2006.0       1             14.0           2011.0   \n",
              "3                    2009.0       0              NaN              NaN   \n",
              "4                    2015.0       0              NaN              NaN   \n",
              "\n",
              "     PromoInterval  \n",
              "0              NaN  \n",
              "1  Jan,Apr,Jul,Oct  \n",
              "2  Jan,Apr,Jul,Oct  \n",
              "3              NaN  \n",
              "4              NaN  "
            ]
          },
          "execution_count": 23,
          "metadata": {},
          "output_type": "execute_result"
        }
      ],
      "source": [
        "store_df.head()"
      ]
    },
    {
      "cell_type": "code",
      "execution_count": null,
      "id": "89df0c91",
      "metadata": {
        "id": "89df0c91",
        "outputId": "8fc87d2e-d17b-4814-da16-8008950df153"
      },
      "outputs": [
        {
          "data": {
            "text/plain": [
              "array(['c', 'a', 'd', 'b'], dtype=object)"
            ]
          },
          "execution_count": 24,
          "metadata": {},
          "output_type": "execute_result"
        }
      ],
      "source": [
        "store_df['StoreType'].unique()"
      ]
    },
    {
      "cell_type": "code",
      "execution_count": null,
      "id": "bdcc940a",
      "metadata": {
        "id": "bdcc940a",
        "outputId": "544a9766-ea63-4954-ad90-9983910e93fd"
      },
      "outputs": [
        {
          "data": {
            "text/plain": [
              "array(['a', 'c', 'b'], dtype=object)"
            ]
          },
          "execution_count": 25,
          "metadata": {},
          "output_type": "execute_result"
        }
      ],
      "source": [
        "store_df['Assortment'].unique()"
      ]
    },
    {
      "cell_type": "code",
      "execution_count": null,
      "id": "1f4fafe8",
      "metadata": {
        "id": "1f4fafe8",
        "outputId": "ff89e9f8-5588-4449-fa07-0d02a221680a"
      },
      "outputs": [
        {
          "data": {
            "text/plain": [
              "array([0, 1], dtype=int64)"
            ]
          },
          "execution_count": 26,
          "metadata": {},
          "output_type": "execute_result"
        }
      ],
      "source": [
        "store_df['Promo2'].unique()"
      ]
    },
    {
      "cell_type": "code",
      "execution_count": null,
      "id": "43682b07",
      "metadata": {
        "id": "43682b07",
        "outputId": "d0a9a659-07ca-47a1-b1ec-6784ed06a866"
      },
      "outputs": [
        {
          "data": {
            "text/plain": [
              "array([nan, 'Jan,Apr,Jul,Oct', 'Feb,May,Aug,Nov', 'Mar,Jun,Sept,Dec'],\n",
              "      dtype=object)"
            ]
          },
          "execution_count": 27,
          "metadata": {},
          "output_type": "execute_result"
        }
      ],
      "source": [
        "store_df['PromoInterval'].unique()"
      ]
    },
    {
      "cell_type": "code",
      "execution_count": null,
      "id": "e4f4a3fe",
      "metadata": {
        "id": "e4f4a3fe",
        "outputId": "06e4ada5-ae03-4c2d-d3b0-7862f4ea9505"
      },
      "outputs": [
        {
          "name": "stdout",
          "output_type": "stream",
          "text": [
            "<class 'pandas.core.frame.DataFrame'>\n",
            "RangeIndex: 1115 entries, 0 to 1114\n",
            "Data columns (total 10 columns):\n",
            " #   Column                     Non-Null Count  Dtype  \n",
            "---  ------                     --------------  -----  \n",
            " 0   Store                      1115 non-null   int64  \n",
            " 1   StoreType                  1115 non-null   object \n",
            " 2   Assortment                 1115 non-null   object \n",
            " 3   CompetitionDistance        1112 non-null   float64\n",
            " 4   CompetitionOpenSinceMonth  761 non-null    float64\n",
            " 5   CompetitionOpenSinceYear   761 non-null    float64\n",
            " 6   Promo2                     1115 non-null   int64  \n",
            " 7   Promo2SinceWeek            571 non-null    float64\n",
            " 8   Promo2SinceYear            571 non-null    float64\n",
            " 9   PromoInterval              571 non-null    object \n",
            "dtypes: float64(5), int64(2), object(3)\n",
            "memory usage: 87.2+ KB\n"
          ]
        }
      ],
      "source": [
        "store_df.info()"
      ]
    },
    {
      "cell_type": "code",
      "execution_count": null,
      "id": "76ea37a3",
      "metadata": {
        "id": "76ea37a3",
        "outputId": "a028f643-d1fd-4db0-b320-7a52cb5734f2"
      },
      "outputs": [
        {
          "data": {
            "text/html": [
              "<div>\n",
              "<style scoped>\n",
              "    .dataframe tbody tr th:only-of-type {\n",
              "        vertical-align: middle;\n",
              "    }\n",
              "\n",
              "    .dataframe tbody tr th {\n",
              "        vertical-align: top;\n",
              "    }\n",
              "\n",
              "    .dataframe thead th {\n",
              "        text-align: right;\n",
              "    }\n",
              "</style>\n",
              "<table border=\"1\" class=\"dataframe\">\n",
              "  <thead>\n",
              "    <tr style=\"text-align: right;\">\n",
              "      <th></th>\n",
              "      <th>Store</th>\n",
              "      <th>CompetitionDistance</th>\n",
              "      <th>CompetitionOpenSinceMonth</th>\n",
              "      <th>CompetitionOpenSinceYear</th>\n",
              "      <th>Promo2</th>\n",
              "      <th>Promo2SinceWeek</th>\n",
              "      <th>Promo2SinceYear</th>\n",
              "    </tr>\n",
              "  </thead>\n",
              "  <tbody>\n",
              "    <tr>\n",
              "      <th>count</th>\n",
              "      <td>1115.00000</td>\n",
              "      <td>1112.000000</td>\n",
              "      <td>761.000000</td>\n",
              "      <td>761.000000</td>\n",
              "      <td>1115.000000</td>\n",
              "      <td>571.000000</td>\n",
              "      <td>571.000000</td>\n",
              "    </tr>\n",
              "    <tr>\n",
              "      <th>mean</th>\n",
              "      <td>558.00000</td>\n",
              "      <td>5404.901079</td>\n",
              "      <td>7.224704</td>\n",
              "      <td>2008.668857</td>\n",
              "      <td>0.512108</td>\n",
              "      <td>23.595447</td>\n",
              "      <td>2011.763573</td>\n",
              "    </tr>\n",
              "    <tr>\n",
              "      <th>std</th>\n",
              "      <td>322.01708</td>\n",
              "      <td>7663.174720</td>\n",
              "      <td>3.212348</td>\n",
              "      <td>6.195983</td>\n",
              "      <td>0.500078</td>\n",
              "      <td>14.141984</td>\n",
              "      <td>1.674935</td>\n",
              "    </tr>\n",
              "    <tr>\n",
              "      <th>min</th>\n",
              "      <td>1.00000</td>\n",
              "      <td>20.000000</td>\n",
              "      <td>1.000000</td>\n",
              "      <td>1900.000000</td>\n",
              "      <td>0.000000</td>\n",
              "      <td>1.000000</td>\n",
              "      <td>2009.000000</td>\n",
              "    </tr>\n",
              "    <tr>\n",
              "      <th>25%</th>\n",
              "      <td>279.50000</td>\n",
              "      <td>717.500000</td>\n",
              "      <td>4.000000</td>\n",
              "      <td>2006.000000</td>\n",
              "      <td>0.000000</td>\n",
              "      <td>13.000000</td>\n",
              "      <td>2011.000000</td>\n",
              "    </tr>\n",
              "    <tr>\n",
              "      <th>50%</th>\n",
              "      <td>558.00000</td>\n",
              "      <td>2325.000000</td>\n",
              "      <td>8.000000</td>\n",
              "      <td>2010.000000</td>\n",
              "      <td>1.000000</td>\n",
              "      <td>22.000000</td>\n",
              "      <td>2012.000000</td>\n",
              "    </tr>\n",
              "    <tr>\n",
              "      <th>75%</th>\n",
              "      <td>836.50000</td>\n",
              "      <td>6882.500000</td>\n",
              "      <td>10.000000</td>\n",
              "      <td>2013.000000</td>\n",
              "      <td>1.000000</td>\n",
              "      <td>37.000000</td>\n",
              "      <td>2013.000000</td>\n",
              "    </tr>\n",
              "    <tr>\n",
              "      <th>max</th>\n",
              "      <td>1115.00000</td>\n",
              "      <td>75860.000000</td>\n",
              "      <td>12.000000</td>\n",
              "      <td>2015.000000</td>\n",
              "      <td>1.000000</td>\n",
              "      <td>50.000000</td>\n",
              "      <td>2015.000000</td>\n",
              "    </tr>\n",
              "  </tbody>\n",
              "</table>\n",
              "</div>"
            ],
            "text/plain": [
              "            Store  CompetitionDistance  CompetitionOpenSinceMonth  \\\n",
              "count  1115.00000          1112.000000                 761.000000   \n",
              "mean    558.00000          5404.901079                   7.224704   \n",
              "std     322.01708          7663.174720                   3.212348   \n",
              "min       1.00000            20.000000                   1.000000   \n",
              "25%     279.50000           717.500000                   4.000000   \n",
              "50%     558.00000          2325.000000                   8.000000   \n",
              "75%     836.50000          6882.500000                  10.000000   \n",
              "max    1115.00000         75860.000000                  12.000000   \n",
              "\n",
              "       CompetitionOpenSinceYear       Promo2  Promo2SinceWeek  Promo2SinceYear  \n",
              "count                761.000000  1115.000000       571.000000       571.000000  \n",
              "mean                2008.668857     0.512108        23.595447      2011.763573  \n",
              "std                    6.195983     0.500078        14.141984         1.674935  \n",
              "min                 1900.000000     0.000000         1.000000      2009.000000  \n",
              "25%                 2006.000000     0.000000        13.000000      2011.000000  \n",
              "50%                 2010.000000     1.000000        22.000000      2012.000000  \n",
              "75%                 2013.000000     1.000000        37.000000      2013.000000  \n",
              "max                 2015.000000     1.000000        50.000000      2015.000000  "
            ]
          },
          "execution_count": 29,
          "metadata": {},
          "output_type": "execute_result"
        }
      ],
      "source": [
        "store_df.describe()"
      ]
    },
    {
      "cell_type": "code",
      "execution_count": null,
      "id": "14e29c57",
      "metadata": {
        "id": "14e29c57"
      },
      "outputs": [],
      "source": [
        "#Merging the 2 Datasets "
      ]
    },
    {
      "cell_type": "code",
      "execution_count": null,
      "id": "8920f66f",
      "metadata": {
        "id": "8920f66f"
      },
      "outputs": [],
      "source": [
        "train_df2 = pd.merge(train_df, store_df, how = 'inner', on = 'Store')"
      ]
    },
    {
      "cell_type": "code",
      "execution_count": null,
      "id": "40c14cc4",
      "metadata": {
        "id": "40c14cc4",
        "outputId": "3ea1afaf-578a-4357-a87b-70c8339192aa"
      },
      "outputs": [
        {
          "data": {
            "text/plain": [
              "(1017209, 18)"
            ]
          },
          "execution_count": 32,
          "metadata": {},
          "output_type": "execute_result"
        }
      ],
      "source": [
        "train_df2.shape"
      ]
    },
    {
      "cell_type": "code",
      "execution_count": null,
      "id": "05485fda",
      "metadata": {
        "id": "05485fda",
        "outputId": "d4d57979-2d92-44fe-ee7b-191757935720"
      },
      "outputs": [
        {
          "data": {
            "text/html": [
              "<div>\n",
              "<style scoped>\n",
              "    .dataframe tbody tr th:only-of-type {\n",
              "        vertical-align: middle;\n",
              "    }\n",
              "\n",
              "    .dataframe tbody tr th {\n",
              "        vertical-align: top;\n",
              "    }\n",
              "\n",
              "    .dataframe thead th {\n",
              "        text-align: right;\n",
              "    }\n",
              "</style>\n",
              "<table border=\"1\" class=\"dataframe\">\n",
              "  <thead>\n",
              "    <tr style=\"text-align: right;\">\n",
              "      <th></th>\n",
              "      <th>Store</th>\n",
              "      <th>DayOfWeek</th>\n",
              "      <th>Date</th>\n",
              "      <th>Sales</th>\n",
              "      <th>Customers</th>\n",
              "      <th>Open</th>\n",
              "      <th>Promo</th>\n",
              "      <th>StateHoliday</th>\n",
              "      <th>SchoolHoliday</th>\n",
              "      <th>StoreType</th>\n",
              "      <th>Assortment</th>\n",
              "      <th>CompetitionDistance</th>\n",
              "      <th>CompetitionOpenSinceMonth</th>\n",
              "      <th>CompetitionOpenSinceYear</th>\n",
              "      <th>Promo2</th>\n",
              "      <th>Promo2SinceWeek</th>\n",
              "      <th>Promo2SinceYear</th>\n",
              "      <th>PromoInterval</th>\n",
              "    </tr>\n",
              "  </thead>\n",
              "  <tbody>\n",
              "    <tr>\n",
              "      <th>0</th>\n",
              "      <td>1</td>\n",
              "      <td>5</td>\n",
              "      <td>2015-07-31</td>\n",
              "      <td>5263</td>\n",
              "      <td>555</td>\n",
              "      <td>1</td>\n",
              "      <td>1</td>\n",
              "      <td>0</td>\n",
              "      <td>1</td>\n",
              "      <td>c</td>\n",
              "      <td>a</td>\n",
              "      <td>1270.0</td>\n",
              "      <td>9.0</td>\n",
              "      <td>2008.0</td>\n",
              "      <td>0</td>\n",
              "      <td>NaN</td>\n",
              "      <td>NaN</td>\n",
              "      <td>NaN</td>\n",
              "    </tr>\n",
              "    <tr>\n",
              "      <th>1</th>\n",
              "      <td>1</td>\n",
              "      <td>4</td>\n",
              "      <td>2015-07-30</td>\n",
              "      <td>5020</td>\n",
              "      <td>546</td>\n",
              "      <td>1</td>\n",
              "      <td>1</td>\n",
              "      <td>0</td>\n",
              "      <td>1</td>\n",
              "      <td>c</td>\n",
              "      <td>a</td>\n",
              "      <td>1270.0</td>\n",
              "      <td>9.0</td>\n",
              "      <td>2008.0</td>\n",
              "      <td>0</td>\n",
              "      <td>NaN</td>\n",
              "      <td>NaN</td>\n",
              "      <td>NaN</td>\n",
              "    </tr>\n",
              "    <tr>\n",
              "      <th>2</th>\n",
              "      <td>1</td>\n",
              "      <td>3</td>\n",
              "      <td>2015-07-29</td>\n",
              "      <td>4782</td>\n",
              "      <td>523</td>\n",
              "      <td>1</td>\n",
              "      <td>1</td>\n",
              "      <td>0</td>\n",
              "      <td>1</td>\n",
              "      <td>c</td>\n",
              "      <td>a</td>\n",
              "      <td>1270.0</td>\n",
              "      <td>9.0</td>\n",
              "      <td>2008.0</td>\n",
              "      <td>0</td>\n",
              "      <td>NaN</td>\n",
              "      <td>NaN</td>\n",
              "      <td>NaN</td>\n",
              "    </tr>\n",
              "    <tr>\n",
              "      <th>3</th>\n",
              "      <td>1</td>\n",
              "      <td>2</td>\n",
              "      <td>2015-07-28</td>\n",
              "      <td>5011</td>\n",
              "      <td>560</td>\n",
              "      <td>1</td>\n",
              "      <td>1</td>\n",
              "      <td>0</td>\n",
              "      <td>1</td>\n",
              "      <td>c</td>\n",
              "      <td>a</td>\n",
              "      <td>1270.0</td>\n",
              "      <td>9.0</td>\n",
              "      <td>2008.0</td>\n",
              "      <td>0</td>\n",
              "      <td>NaN</td>\n",
              "      <td>NaN</td>\n",
              "      <td>NaN</td>\n",
              "    </tr>\n",
              "    <tr>\n",
              "      <th>4</th>\n",
              "      <td>1</td>\n",
              "      <td>1</td>\n",
              "      <td>2015-07-27</td>\n",
              "      <td>6102</td>\n",
              "      <td>612</td>\n",
              "      <td>1</td>\n",
              "      <td>1</td>\n",
              "      <td>0</td>\n",
              "      <td>1</td>\n",
              "      <td>c</td>\n",
              "      <td>a</td>\n",
              "      <td>1270.0</td>\n",
              "      <td>9.0</td>\n",
              "      <td>2008.0</td>\n",
              "      <td>0</td>\n",
              "      <td>NaN</td>\n",
              "      <td>NaN</td>\n",
              "      <td>NaN</td>\n",
              "    </tr>\n",
              "  </tbody>\n",
              "</table>\n",
              "</div>"
            ],
            "text/plain": [
              "   Store  DayOfWeek        Date  Sales  Customers  Open  Promo StateHoliday  \\\n",
              "0      1          5  2015-07-31   5263        555     1      1            0   \n",
              "1      1          4  2015-07-30   5020        546     1      1            0   \n",
              "2      1          3  2015-07-29   4782        523     1      1            0   \n",
              "3      1          2  2015-07-28   5011        560     1      1            0   \n",
              "4      1          1  2015-07-27   6102        612     1      1            0   \n",
              "\n",
              "   SchoolHoliday StoreType Assortment  CompetitionDistance  \\\n",
              "0              1         c          a               1270.0   \n",
              "1              1         c          a               1270.0   \n",
              "2              1         c          a               1270.0   \n",
              "3              1         c          a               1270.0   \n",
              "4              1         c          a               1270.0   \n",
              "\n",
              "   CompetitionOpenSinceMonth  CompetitionOpenSinceYear  Promo2  \\\n",
              "0                        9.0                    2008.0       0   \n",
              "1                        9.0                    2008.0       0   \n",
              "2                        9.0                    2008.0       0   \n",
              "3                        9.0                    2008.0       0   \n",
              "4                        9.0                    2008.0       0   \n",
              "\n",
              "   Promo2SinceWeek  Promo2SinceYear PromoInterval  \n",
              "0              NaN              NaN           NaN  \n",
              "1              NaN              NaN           NaN  \n",
              "2              NaN              NaN           NaN  \n",
              "3              NaN              NaN           NaN  \n",
              "4              NaN              NaN           NaN  "
            ]
          },
          "execution_count": 33,
          "metadata": {},
          "output_type": "execute_result"
        }
      ],
      "source": [
        "train_df2.head()"
      ]
    },
    {
      "cell_type": "code",
      "execution_count": null,
      "id": "38d383f9",
      "metadata": {
        "id": "38d383f9",
        "outputId": "43eb31ee-6969-42f1-ef3c-6e2c00d5cea9"
      },
      "outputs": [
        {
          "name": "stdout",
          "output_type": "stream",
          "text": [
            "<class 'pandas.core.frame.DataFrame'>\n",
            "Int64Index: 1017209 entries, 0 to 1017208\n",
            "Data columns (total 18 columns):\n",
            " #   Column                     Non-Null Count    Dtype  \n",
            "---  ------                     --------------    -----  \n",
            " 0   Store                      1017209 non-null  int64  \n",
            " 1   DayOfWeek                  1017209 non-null  int64  \n",
            " 2   Date                       1017209 non-null  object \n",
            " 3   Sales                      1017209 non-null  int64  \n",
            " 4   Customers                  1017209 non-null  int64  \n",
            " 5   Open                       1017209 non-null  int64  \n",
            " 6   Promo                      1017209 non-null  int64  \n",
            " 7   StateHoliday               1017209 non-null  object \n",
            " 8   SchoolHoliday              1017209 non-null  int64  \n",
            " 9   StoreType                  1017209 non-null  object \n",
            " 10  Assortment                 1017209 non-null  object \n",
            " 11  CompetitionDistance        1014567 non-null  float64\n",
            " 12  CompetitionOpenSinceMonth  693861 non-null   float64\n",
            " 13  CompetitionOpenSinceYear   693861 non-null   float64\n",
            " 14  Promo2                     1017209 non-null  int64  \n",
            " 15  Promo2SinceWeek            509178 non-null   float64\n",
            " 16  Promo2SinceYear            509178 non-null   float64\n",
            " 17  PromoInterval              509178 non-null   object \n",
            "dtypes: float64(5), int64(8), object(5)\n",
            "memory usage: 147.5+ MB\n"
          ]
        }
      ],
      "source": [
        "train_df2.info()"
      ]
    },
    {
      "cell_type": "code",
      "execution_count": null,
      "id": "dee69d99",
      "metadata": {
        "scrolled": true,
        "id": "dee69d99",
        "outputId": "0ccc9847-442d-408b-8158-342d062adca1"
      },
      "outputs": [
        {
          "data": {
            "image/png": "[encoded data removed]",
            "text/plain": [
              "<Figure size 1440x1440 with 2 Axes>"
            ]
          },
          "metadata": {
            "needs_background": "light"
          },
          "output_type": "display_data"
        }
      ],
      "source": [
        "correlations = train_df2.corr()\n",
        "f, ax = plt.subplots(figsize=(20,20))\n",
        "sns.heatmap(correlations, annot = True);"
      ]
    },
    {
      "cell_type": "code",
      "execution_count": null,
      "id": "a43433b0",
      "metadata": {
        "id": "a43433b0",
        "outputId": "3445083f-c4b2-40cb-def7-cf637c27cd9a"
      },
      "outputs": [
        {
          "data": {
            "text/plain": [
              "DayOfWeek                   -0.462125\n",
              "Promo2                      -0.091040\n",
              "CompetitionOpenSinceMonth   -0.028257\n",
              "Promo2SinceYear             -0.021127\n",
              "CompetitionDistance         -0.019229\n",
              "Store                        0.005126\n",
              "CompetitionOpenSinceYear     0.012659\n",
              "Promo2SinceWeek              0.059558\n",
              "SchoolHoliday                0.085124\n",
              "Promo                        0.452345\n",
              "Open                         0.678472\n",
              "Customers                    0.894711\n",
              "Sales                        1.000000\n",
              "Name: Sales, dtype: float64"
            ]
          },
          "execution_count": 36,
          "metadata": {},
          "output_type": "execute_result"
        }
      ],
      "source": [
        "correlations = train_df2.corr()['Sales'].sort_values()\n",
        "correlations"
      ]
    },
    {
      "cell_type": "markdown",
      "id": "9b4b3fab",
      "metadata": {
        "id": "9b4b3fab"
      },
      "source": [
        "## Quick Data Clean"
      ]
    },
    {
      "cell_type": "code",
      "execution_count": null,
      "id": "d729b213",
      "metadata": {
        "id": "d729b213",
        "outputId": "7d41f309-2668-4313-f22e-21dc57a23eca"
      },
      "outputs": [
        {
          "data": {
            "text/html": [
              "<div>\n",
              "<style scoped>\n",
              "    .dataframe tbody tr th:only-of-type {\n",
              "        vertical-align: middle;\n",
              "    }\n",
              "\n",
              "    .dataframe tbody tr th {\n",
              "        vertical-align: top;\n",
              "    }\n",
              "\n",
              "    .dataframe thead th {\n",
              "        text-align: right;\n",
              "    }\n",
              "</style>\n",
              "<table border=\"1\" class=\"dataframe\">\n",
              "  <thead>\n",
              "    <tr style=\"text-align: right;\">\n",
              "      <th></th>\n",
              "      <th>Store</th>\n",
              "      <th>DayOfWeek</th>\n",
              "      <th>Date</th>\n",
              "      <th>Sales</th>\n",
              "      <th>Customers</th>\n",
              "      <th>Open</th>\n",
              "      <th>Promo</th>\n",
              "      <th>StateHoliday</th>\n",
              "      <th>SchoolHoliday</th>\n",
              "      <th>StoreType</th>\n",
              "      <th>Assortment</th>\n",
              "      <th>CompetitionDistance</th>\n",
              "      <th>CompetitionOpenSinceMonth</th>\n",
              "      <th>CompetitionOpenSinceYear</th>\n",
              "      <th>Promo2</th>\n",
              "      <th>Promo2SinceWeek</th>\n",
              "      <th>Promo2SinceYear</th>\n",
              "      <th>PromoInterval</th>\n",
              "    </tr>\n",
              "  </thead>\n",
              "  <tbody>\n",
              "    <tr>\n",
              "      <th>0</th>\n",
              "      <td>1</td>\n",
              "      <td>5</td>\n",
              "      <td>2015-07-31</td>\n",
              "      <td>5263</td>\n",
              "      <td>555</td>\n",
              "      <td>1</td>\n",
              "      <td>1</td>\n",
              "      <td>0</td>\n",
              "      <td>1</td>\n",
              "      <td>c</td>\n",
              "      <td>a</td>\n",
              "      <td>1270.0</td>\n",
              "      <td>9.0</td>\n",
              "      <td>2008.0</td>\n",
              "      <td>0</td>\n",
              "      <td>NaN</td>\n",
              "      <td>NaN</td>\n",
              "      <td>NaN</td>\n",
              "    </tr>\n",
              "    <tr>\n",
              "      <th>1</th>\n",
              "      <td>1</td>\n",
              "      <td>4</td>\n",
              "      <td>2015-07-30</td>\n",
              "      <td>5020</td>\n",
              "      <td>546</td>\n",
              "      <td>1</td>\n",
              "      <td>1</td>\n",
              "      <td>0</td>\n",
              "      <td>1</td>\n",
              "      <td>c</td>\n",
              "      <td>a</td>\n",
              "      <td>1270.0</td>\n",
              "      <td>9.0</td>\n",
              "      <td>2008.0</td>\n",
              "      <td>0</td>\n",
              "      <td>NaN</td>\n",
              "      <td>NaN</td>\n",
              "      <td>NaN</td>\n",
              "    </tr>\n",
              "    <tr>\n",
              "      <th>2</th>\n",
              "      <td>1</td>\n",
              "      <td>3</td>\n",
              "      <td>2015-07-29</td>\n",
              "      <td>4782</td>\n",
              "      <td>523</td>\n",
              "      <td>1</td>\n",
              "      <td>1</td>\n",
              "      <td>0</td>\n",
              "      <td>1</td>\n",
              "      <td>c</td>\n",
              "      <td>a</td>\n",
              "      <td>1270.0</td>\n",
              "      <td>9.0</td>\n",
              "      <td>2008.0</td>\n",
              "      <td>0</td>\n",
              "      <td>NaN</td>\n",
              "      <td>NaN</td>\n",
              "      <td>NaN</td>\n",
              "    </tr>\n",
              "    <tr>\n",
              "      <th>3</th>\n",
              "      <td>1</td>\n",
              "      <td>2</td>\n",
              "      <td>2015-07-28</td>\n",
              "      <td>5011</td>\n",
              "      <td>560</td>\n",
              "      <td>1</td>\n",
              "      <td>1</td>\n",
              "      <td>0</td>\n",
              "      <td>1</td>\n",
              "      <td>c</td>\n",
              "      <td>a</td>\n",
              "      <td>1270.0</td>\n",
              "      <td>9.0</td>\n",
              "      <td>2008.0</td>\n",
              "      <td>0</td>\n",
              "      <td>NaN</td>\n",
              "      <td>NaN</td>\n",
              "      <td>NaN</td>\n",
              "    </tr>\n",
              "    <tr>\n",
              "      <th>4</th>\n",
              "      <td>1</td>\n",
              "      <td>1</td>\n",
              "      <td>2015-07-27</td>\n",
              "      <td>6102</td>\n",
              "      <td>612</td>\n",
              "      <td>1</td>\n",
              "      <td>1</td>\n",
              "      <td>0</td>\n",
              "      <td>1</td>\n",
              "      <td>c</td>\n",
              "      <td>a</td>\n",
              "      <td>1270.0</td>\n",
              "      <td>9.0</td>\n",
              "      <td>2008.0</td>\n",
              "      <td>0</td>\n",
              "      <td>NaN</td>\n",
              "      <td>NaN</td>\n",
              "      <td>NaN</td>\n",
              "    </tr>\n",
              "  </tbody>\n",
              "</table>\n",
              "</div>"
            ],
            "text/plain": [
              "   Store  DayOfWeek        Date  Sales  Customers  Open  Promo StateHoliday  \\\n",
              "0      1          5  2015-07-31   5263        555     1      1            0   \n",
              "1      1          4  2015-07-30   5020        546     1      1            0   \n",
              "2      1          3  2015-07-29   4782        523     1      1            0   \n",
              "3      1          2  2015-07-28   5011        560     1      1            0   \n",
              "4      1          1  2015-07-27   6102        612     1      1            0   \n",
              "\n",
              "   SchoolHoliday StoreType Assortment  CompetitionDistance  \\\n",
              "0              1         c          a               1270.0   \n",
              "1              1         c          a               1270.0   \n",
              "2              1         c          a               1270.0   \n",
              "3              1         c          a               1270.0   \n",
              "4              1         c          a               1270.0   \n",
              "\n",
              "   CompetitionOpenSinceMonth  CompetitionOpenSinceYear  Promo2  \\\n",
              "0                        9.0                    2008.0       0   \n",
              "1                        9.0                    2008.0       0   \n",
              "2                        9.0                    2008.0       0   \n",
              "3                        9.0                    2008.0       0   \n",
              "4                        9.0                    2008.0       0   \n",
              "\n",
              "   Promo2SinceWeek  Promo2SinceYear PromoInterval  \n",
              "0              NaN              NaN           NaN  \n",
              "1              NaN              NaN           NaN  \n",
              "2              NaN              NaN           NaN  \n",
              "3              NaN              NaN           NaN  \n",
              "4              NaN              NaN           NaN  "
            ]
          },
          "execution_count": 37,
          "metadata": {},
          "output_type": "execute_result"
        }
      ],
      "source": [
        "train_df2.head()"
      ]
    },
    {
      "cell_type": "code",
      "execution_count": null,
      "id": "dab0ef20",
      "metadata": {
        "id": "dab0ef20"
      },
      "outputs": [],
      "source": [
        "#Dropping the last 3 columns as about 50% of the info is missing + its \"object data \""
      ]
    },
    {
      "cell_type": "code",
      "execution_count": null,
      "id": "ca2af3e3",
      "metadata": {
        "id": "ca2af3e3"
      },
      "outputs": [],
      "source": [
        "train_df2 = train_df2.drop(columns=['Promo2SinceWeek', 'Promo2SinceYear','PromoInterval'])"
      ]
    },
    {
      "cell_type": "code",
      "execution_count": null,
      "id": "47fc6d08",
      "metadata": {
        "id": "47fc6d08",
        "outputId": "62608f42-9630-4a22-e34c-d614d14a3b9c"
      },
      "outputs": [
        {
          "data": {
            "text/html": [
              "<div>\n",
              "<style scoped>\n",
              "    .dataframe tbody tr th:only-of-type {\n",
              "        vertical-align: middle;\n",
              "    }\n",
              "\n",
              "    .dataframe tbody tr th {\n",
              "        vertical-align: top;\n",
              "    }\n",
              "\n",
              "    .dataframe thead th {\n",
              "        text-align: right;\n",
              "    }\n",
              "</style>\n",
              "<table border=\"1\" class=\"dataframe\">\n",
              "  <thead>\n",
              "    <tr style=\"text-align: right;\">\n",
              "      <th></th>\n",
              "      <th>Store</th>\n",
              "      <th>DayOfWeek</th>\n",
              "      <th>Date</th>\n",
              "      <th>Sales</th>\n",
              "      <th>Customers</th>\n",
              "      <th>Open</th>\n",
              "      <th>Promo</th>\n",
              "      <th>StateHoliday</th>\n",
              "      <th>SchoolHoliday</th>\n",
              "      <th>StoreType</th>\n",
              "      <th>Assortment</th>\n",
              "      <th>CompetitionDistance</th>\n",
              "      <th>CompetitionOpenSinceMonth</th>\n",
              "      <th>CompetitionOpenSinceYear</th>\n",
              "      <th>Promo2</th>\n",
              "    </tr>\n",
              "  </thead>\n",
              "  <tbody>\n",
              "    <tr>\n",
              "      <th>0</th>\n",
              "      <td>1</td>\n",
              "      <td>5</td>\n",
              "      <td>2015-07-31</td>\n",
              "      <td>5263</td>\n",
              "      <td>555</td>\n",
              "      <td>1</td>\n",
              "      <td>1</td>\n",
              "      <td>0</td>\n",
              "      <td>1</td>\n",
              "      <td>c</td>\n",
              "      <td>a</td>\n",
              "      <td>1270.0</td>\n",
              "      <td>9.0</td>\n",
              "      <td>2008.0</td>\n",
              "      <td>0</td>\n",
              "    </tr>\n",
              "    <tr>\n",
              "      <th>1</th>\n",
              "      <td>1</td>\n",
              "      <td>4</td>\n",
              "      <td>2015-07-30</td>\n",
              "      <td>5020</td>\n",
              "      <td>546</td>\n",
              "      <td>1</td>\n",
              "      <td>1</td>\n",
              "      <td>0</td>\n",
              "      <td>1</td>\n",
              "      <td>c</td>\n",
              "      <td>a</td>\n",
              "      <td>1270.0</td>\n",
              "      <td>9.0</td>\n",
              "      <td>2008.0</td>\n",
              "      <td>0</td>\n",
              "    </tr>\n",
              "    <tr>\n",
              "      <th>2</th>\n",
              "      <td>1</td>\n",
              "      <td>3</td>\n",
              "      <td>2015-07-29</td>\n",
              "      <td>4782</td>\n",
              "      <td>523</td>\n",
              "      <td>1</td>\n",
              "      <td>1</td>\n",
              "      <td>0</td>\n",
              "      <td>1</td>\n",
              "      <td>c</td>\n",
              "      <td>a</td>\n",
              "      <td>1270.0</td>\n",
              "      <td>9.0</td>\n",
              "      <td>2008.0</td>\n",
              "      <td>0</td>\n",
              "    </tr>\n",
              "    <tr>\n",
              "      <th>3</th>\n",
              "      <td>1</td>\n",
              "      <td>2</td>\n",
              "      <td>2015-07-28</td>\n",
              "      <td>5011</td>\n",
              "      <td>560</td>\n",
              "      <td>1</td>\n",
              "      <td>1</td>\n",
              "      <td>0</td>\n",
              "      <td>1</td>\n",
              "      <td>c</td>\n",
              "      <td>a</td>\n",
              "      <td>1270.0</td>\n",
              "      <td>9.0</td>\n",
              "      <td>2008.0</td>\n",
              "      <td>0</td>\n",
              "    </tr>\n",
              "    <tr>\n",
              "      <th>4</th>\n",
              "      <td>1</td>\n",
              "      <td>1</td>\n",
              "      <td>2015-07-27</td>\n",
              "      <td>6102</td>\n",
              "      <td>612</td>\n",
              "      <td>1</td>\n",
              "      <td>1</td>\n",
              "      <td>0</td>\n",
              "      <td>1</td>\n",
              "      <td>c</td>\n",
              "      <td>a</td>\n",
              "      <td>1270.0</td>\n",
              "      <td>9.0</td>\n",
              "      <td>2008.0</td>\n",
              "      <td>0</td>\n",
              "    </tr>\n",
              "  </tbody>\n",
              "</table>\n",
              "</div>"
            ],
            "text/plain": [
              "   Store  DayOfWeek        Date  Sales  Customers  Open  Promo StateHoliday  \\\n",
              "0      1          5  2015-07-31   5263        555     1      1            0   \n",
              "1      1          4  2015-07-30   5020        546     1      1            0   \n",
              "2      1          3  2015-07-29   4782        523     1      1            0   \n",
              "3      1          2  2015-07-28   5011        560     1      1            0   \n",
              "4      1          1  2015-07-27   6102        612     1      1            0   \n",
              "\n",
              "   SchoolHoliday StoreType Assortment  CompetitionDistance  \\\n",
              "0              1         c          a               1270.0   \n",
              "1              1         c          a               1270.0   \n",
              "2              1         c          a               1270.0   \n",
              "3              1         c          a               1270.0   \n",
              "4              1         c          a               1270.0   \n",
              "\n",
              "   CompetitionOpenSinceMonth  CompetitionOpenSinceYear  Promo2  \n",
              "0                        9.0                    2008.0       0  \n",
              "1                        9.0                    2008.0       0  \n",
              "2                        9.0                    2008.0       0  \n",
              "3                        9.0                    2008.0       0  \n",
              "4                        9.0                    2008.0       0  "
            ]
          },
          "execution_count": 40,
          "metadata": {},
          "output_type": "execute_result"
        }
      ],
      "source": [
        "train_df2.head()"
      ]
    },
    {
      "cell_type": "code",
      "execution_count": null,
      "id": "ce3fb248",
      "metadata": {
        "id": "ce3fb248"
      },
      "outputs": [],
      "source": [
        "#Fixing the date column "
      ]
    },
    {
      "cell_type": "code",
      "execution_count": null,
      "id": "7788006f",
      "metadata": {
        "id": "7788006f"
      },
      "outputs": [],
      "source": [
        "train_df2['Date'] = pd.to_datetime(train_df2['Date'])"
      ]
    },
    {
      "cell_type": "code",
      "execution_count": null,
      "id": "89d5ddcc",
      "metadata": {
        "id": "89d5ddcc"
      },
      "outputs": [],
      "source": [
        "train_df2['Year'] = pd.to_datetime(train_df2['Date']).dt.year"
      ]
    },
    {
      "cell_type": "code",
      "execution_count": null,
      "id": "1767472a",
      "metadata": {
        "id": "1767472a"
      },
      "outputs": [],
      "source": [
        "train_df2['Month'] = pd.to_datetime(train_df2['Date']).dt.month"
      ]
    },
    {
      "cell_type": "code",
      "execution_count": null,
      "id": "658f16dd",
      "metadata": {
        "id": "658f16dd"
      },
      "outputs": [],
      "source": [
        "#Ordinal Encoding the StateHoliday, StoreType, and Assortment Columns (I messed up which is why I had to do the thing below twice)"
      ]
    },
    {
      "cell_type": "code",
      "execution_count": null,
      "id": "ac423e11",
      "metadata": {
        "id": "ac423e11"
      },
      "outputs": [],
      "source": [
        "train_df2.loc[train_df2.StateHoliday == 'a', 'StateHoliday'] = \"1\"\n",
        "train_df2.loc[train_df2.StateHoliday == 'b', 'StateHoliday'] = \"2\"\n",
        "train_df2.loc[train_df2.StateHoliday == 'c', 'StateHoliday'] = \"3\"\n",
        "train_df2.loc[train_df2.StateHoliday == '0', 'StateHoliday'] = \"0\""
      ]
    },
    {
      "cell_type": "code",
      "execution_count": null,
      "id": "b3751886",
      "metadata": {
        "id": "b3751886"
      },
      "outputs": [],
      "source": [
        "train_df2.loc[train_df2.StateHoliday == '1', 'StateHoliday'] = 1\n",
        "train_df2.loc[train_df2.StateHoliday == '2', 'StateHoliday'] = 2\n",
        "train_df2.loc[train_df2.StateHoliday == '3', 'StateHoliday'] = 3\n",
        "train_df2.loc[train_df2.StateHoliday == '0', 'StateHoliday'] = 0"
      ]
    },
    {
      "cell_type": "code",
      "execution_count": null,
      "id": "73b3363d",
      "metadata": {
        "id": "73b3363d",
        "outputId": "d746178c-3205-4894-f011-f78513df24d8"
      },
      "outputs": [
        {
          "data": {
            "text/plain": [
              "array([0, 1, 2, 3], dtype=object)"
            ]
          },
          "execution_count": 48,
          "metadata": {},
          "output_type": "execute_result"
        }
      ],
      "source": [
        "train_df2['StateHoliday'].unique()"
      ]
    },
    {
      "cell_type": "code",
      "execution_count": null,
      "id": "bdf271ca",
      "metadata": {
        "id": "bdf271ca"
      },
      "outputs": [],
      "source": [
        "from sklearn.preprocessing import OrdinalEncoder"
      ]
    },
    {
      "cell_type": "code",
      "execution_count": null,
      "id": "0a9ecd18",
      "metadata": {
        "id": "0a9ecd18"
      },
      "outputs": [],
      "source": [
        "enc = OrdinalEncoder()"
      ]
    },
    {
      "cell_type": "code",
      "execution_count": null,
      "id": "4c6caa3f",
      "metadata": {
        "id": "4c6caa3f",
        "outputId": "55fec1d2-5742-46c2-abdf-e0a408eadc8b"
      },
      "outputs": [
        {
          "data": {
            "text/plain": [
              "OrdinalEncoder()"
            ]
          },
          "execution_count": 51,
          "metadata": {},
          "output_type": "execute_result"
        }
      ],
      "source": [
        "enc.fit(train_df2[[\"StateHoliday\", \"StoreType\", \"Assortment\"]])"
      ]
    },
    {
      "cell_type": "code",
      "execution_count": null,
      "id": "320fbd2e",
      "metadata": {
        "id": "320fbd2e"
      },
      "outputs": [],
      "source": [
        "train_df2[[\"StateHoliday\", \"StoreType\", \"Assortment\"]] = enc.fit_transform(train_df2[[\"StateHoliday\",\"StoreType\",\"Assortment\"]])"
      ]
    },
    {
      "cell_type": "code",
      "execution_count": null,
      "id": "cba2415e",
      "metadata": {
        "id": "cba2415e",
        "outputId": "8b1ec5b0-747a-44b4-9012-0319877c2988"
      },
      "outputs": [
        {
          "data": {
            "text/html": [
              "<div>\n",
              "<style scoped>\n",
              "    .dataframe tbody tr th:only-of-type {\n",
              "        vertical-align: middle;\n",
              "    }\n",
              "\n",
              "    .dataframe tbody tr th {\n",
              "        vertical-align: top;\n",
              "    }\n",
              "\n",
              "    .dataframe thead th {\n",
              "        text-align: right;\n",
              "    }\n",
              "</style>\n",
              "<table border=\"1\" class=\"dataframe\">\n",
              "  <thead>\n",
              "    <tr style=\"text-align: right;\">\n",
              "      <th></th>\n",
              "      <th>Store</th>\n",
              "      <th>DayOfWeek</th>\n",
              "      <th>Date</th>\n",
              "      <th>Sales</th>\n",
              "      <th>Customers</th>\n",
              "      <th>Open</th>\n",
              "      <th>Promo</th>\n",
              "      <th>StateHoliday</th>\n",
              "      <th>SchoolHoliday</th>\n",
              "      <th>StoreType</th>\n",
              "      <th>Assortment</th>\n",
              "      <th>CompetitionDistance</th>\n",
              "      <th>CompetitionOpenSinceMonth</th>\n",
              "      <th>CompetitionOpenSinceYear</th>\n",
              "      <th>Promo2</th>\n",
              "      <th>Year</th>\n",
              "      <th>Month</th>\n",
              "    </tr>\n",
              "  </thead>\n",
              "  <tbody>\n",
              "    <tr>\n",
              "      <th>0</th>\n",
              "      <td>1</td>\n",
              "      <td>5</td>\n",
              "      <td>2015-07-31</td>\n",
              "      <td>5263</td>\n",
              "      <td>555</td>\n",
              "      <td>1</td>\n",
              "      <td>1</td>\n",
              "      <td>0.0</td>\n",
              "      <td>1</td>\n",
              "      <td>2.0</td>\n",
              "      <td>0.0</td>\n",
              "      <td>1270.0</td>\n",
              "      <td>9.0</td>\n",
              "      <td>2008.0</td>\n",
              "      <td>0</td>\n",
              "      <td>2015</td>\n",
              "      <td>7</td>\n",
              "    </tr>\n",
              "    <tr>\n",
              "      <th>1</th>\n",
              "      <td>1</td>\n",
              "      <td>4</td>\n",
              "      <td>2015-07-30</td>\n",
              "      <td>5020</td>\n",
              "      <td>546</td>\n",
              "      <td>1</td>\n",
              "      <td>1</td>\n",
              "      <td>0.0</td>\n",
              "      <td>1</td>\n",
              "      <td>2.0</td>\n",
              "      <td>0.0</td>\n",
              "      <td>1270.0</td>\n",
              "      <td>9.0</td>\n",
              "      <td>2008.0</td>\n",
              "      <td>0</td>\n",
              "      <td>2015</td>\n",
              "      <td>7</td>\n",
              "    </tr>\n",
              "    <tr>\n",
              "      <th>2</th>\n",
              "      <td>1</td>\n",
              "      <td>3</td>\n",
              "      <td>2015-07-29</td>\n",
              "      <td>4782</td>\n",
              "      <td>523</td>\n",
              "      <td>1</td>\n",
              "      <td>1</td>\n",
              "      <td>0.0</td>\n",
              "      <td>1</td>\n",
              "      <td>2.0</td>\n",
              "      <td>0.0</td>\n",
              "      <td>1270.0</td>\n",
              "      <td>9.0</td>\n",
              "      <td>2008.0</td>\n",
              "      <td>0</td>\n",
              "      <td>2015</td>\n",
              "      <td>7</td>\n",
              "    </tr>\n",
              "    <tr>\n",
              "      <th>3</th>\n",
              "      <td>1</td>\n",
              "      <td>2</td>\n",
              "      <td>2015-07-28</td>\n",
              "      <td>5011</td>\n",
              "      <td>560</td>\n",
              "      <td>1</td>\n",
              "      <td>1</td>\n",
              "      <td>0.0</td>\n",
              "      <td>1</td>\n",
              "      <td>2.0</td>\n",
              "      <td>0.0</td>\n",
              "      <td>1270.0</td>\n",
              "      <td>9.0</td>\n",
              "      <td>2008.0</td>\n",
              "      <td>0</td>\n",
              "      <td>2015</td>\n",
              "      <td>7</td>\n",
              "    </tr>\n",
              "    <tr>\n",
              "      <th>4</th>\n",
              "      <td>1</td>\n",
              "      <td>1</td>\n",
              "      <td>2015-07-27</td>\n",
              "      <td>6102</td>\n",
              "      <td>612</td>\n",
              "      <td>1</td>\n",
              "      <td>1</td>\n",
              "      <td>0.0</td>\n",
              "      <td>1</td>\n",
              "      <td>2.0</td>\n",
              "      <td>0.0</td>\n",
              "      <td>1270.0</td>\n",
              "      <td>9.0</td>\n",
              "      <td>2008.0</td>\n",
              "      <td>0</td>\n",
              "      <td>2015</td>\n",
              "      <td>7</td>\n",
              "    </tr>\n",
              "  </tbody>\n",
              "</table>\n",
              "</div>"
            ],
            "text/plain": [
              "   Store  DayOfWeek       Date  Sales  Customers  Open  Promo  StateHoliday  \\\n",
              "0      1          5 2015-07-31   5263        555     1      1           0.0   \n",
              "1      1          4 2015-07-30   5020        546     1      1           0.0   \n",
              "2      1          3 2015-07-29   4782        523     1      1           0.0   \n",
              "3      1          2 2015-07-28   5011        560     1      1           0.0   \n",
              "4      1          1 2015-07-27   6102        612     1      1           0.0   \n",
              "\n",
              "   SchoolHoliday  StoreType  Assortment  CompetitionDistance  \\\n",
              "0              1        2.0         0.0               1270.0   \n",
              "1              1        2.0         0.0               1270.0   \n",
              "2              1        2.0         0.0               1270.0   \n",
              "3              1        2.0         0.0               1270.0   \n",
              "4              1        2.0         0.0               1270.0   \n",
              "\n",
              "   CompetitionOpenSinceMonth  CompetitionOpenSinceYear  Promo2  Year  Month  \n",
              "0                        9.0                    2008.0       0  2015      7  \n",
              "1                        9.0                    2008.0       0  2015      7  \n",
              "2                        9.0                    2008.0       0  2015      7  \n",
              "3                        9.0                    2008.0       0  2015      7  \n",
              "4                        9.0                    2008.0       0  2015      7  "
            ]
          },
          "execution_count": 53,
          "metadata": {},
          "output_type": "execute_result"
        }
      ],
      "source": [
        "train_df2.head()"
      ]
    },
    {
      "cell_type": "code",
      "execution_count": null,
      "id": "4acfc7a2",
      "metadata": {
        "id": "4acfc7a2",
        "outputId": "2b7e7e4e-c470-458f-bcbb-ead08daf9a9e"
      },
      "outputs": [
        {
          "name": "stdout",
          "output_type": "stream",
          "text": [
            "<class 'pandas.core.frame.DataFrame'>\n",
            "Int64Index: 1017209 entries, 0 to 1017208\n",
            "Data columns (total 17 columns):\n",
            " #   Column                     Non-Null Count    Dtype         \n",
            "---  ------                     --------------    -----         \n",
            " 0   Store                      1017209 non-null  int64         \n",
            " 1   DayOfWeek                  1017209 non-null  int64         \n",
            " 2   Date                       1017209 non-null  datetime64[ns]\n",
            " 3   Sales                      1017209 non-null  int64         \n",
            " 4   Customers                  1017209 non-null  int64         \n",
            " 5   Open                       1017209 non-null  int64         \n",
            " 6   Promo                      1017209 non-null  int64         \n",
            " 7   StateHoliday               1017209 non-null  float64       \n",
            " 8   SchoolHoliday              1017209 non-null  int64         \n",
            " 9   StoreType                  1017209 non-null  float64       \n",
            " 10  Assortment                 1017209 non-null  float64       \n",
            " 11  CompetitionDistance        1014567 non-null  float64       \n",
            " 12  CompetitionOpenSinceMonth  693861 non-null   float64       \n",
            " 13  CompetitionOpenSinceYear   693861 non-null   float64       \n",
            " 14  Promo2                     1017209 non-null  int64         \n",
            " 15  Year                       1017209 non-null  int64         \n",
            " 16  Month                      1017209 non-null  int64         \n",
            "dtypes: datetime64[ns](1), float64(6), int64(10)\n",
            "memory usage: 139.7 MB\n"
          ]
        }
      ],
      "source": [
        "train_df2.info()"
      ]
    },
    {
      "cell_type": "code",
      "execution_count": null,
      "id": "d664ba4e",
      "metadata": {
        "id": "d664ba4e"
      },
      "outputs": [],
      "source": [
        "#Now I will fill  CompetitionOpenSinceMonth and #Now I will fill  CompetitionOpenSinceMonth and   CompetitionOpenSinceYear with the median\n",
        "#NOTE: Need to do this after Train TestSplit Next time to avoid overfitting. "
      ]
    },
    {
      "cell_type": "code",
      "execution_count": null,
      "id": "2df7afa6",
      "metadata": {
        "id": "2df7afa6"
      },
      "outputs": [],
      "source": [
        "train_df2[['CompetitionOpenSinceMonth', 'CompetitionOpenSinceYear', 'CompetitionDistance']] = train_df2[['CompetitionOpenSinceMonth', 'CompetitionOpenSinceYear', 'CompetitionDistance']].fillna(train_df2[['CompetitionOpenSinceMonth', 'CompetitionOpenSinceYear','CompetitionDistance']].median())"
      ]
    },
    {
      "cell_type": "code",
      "execution_count": null,
      "id": "4927175a",
      "metadata": {
        "id": "4927175a",
        "outputId": "f2701cf9-01aa-4b5a-834d-f90971eba37d"
      },
      "outputs": [
        {
          "name": "stdout",
          "output_type": "stream",
          "text": [
            "<class 'pandas.core.frame.DataFrame'>\n",
            "Int64Index: 1017209 entries, 0 to 1017208\n",
            "Data columns (total 17 columns):\n",
            " #   Column                     Non-Null Count    Dtype         \n",
            "---  ------                     --------------    -----         \n",
            " 0   Store                      1017209 non-null  int64         \n",
            " 1   DayOfWeek                  1017209 non-null  int64         \n",
            " 2   Date                       1017209 non-null  datetime64[ns]\n",
            " 3   Sales                      1017209 non-null  int64         \n",
            " 4   Customers                  1017209 non-null  int64         \n",
            " 5   Open                       1017209 non-null  int64         \n",
            " 6   Promo                      1017209 non-null  int64         \n",
            " 7   StateHoliday               1017209 non-null  float64       \n",
            " 8   SchoolHoliday              1017209 non-null  int64         \n",
            " 9   StoreType                  1017209 non-null  float64       \n",
            " 10  Assortment                 1017209 non-null  float64       \n",
            " 11  CompetitionDistance        1017209 non-null  float64       \n",
            " 12  CompetitionOpenSinceMonth  1017209 non-null  float64       \n",
            " 13  CompetitionOpenSinceYear   1017209 non-null  float64       \n",
            " 14  Promo2                     1017209 non-null  int64         \n",
            " 15  Year                       1017209 non-null  int64         \n",
            " 16  Month                      1017209 non-null  int64         \n",
            "dtypes: datetime64[ns](1), float64(6), int64(10)\n",
            "memory usage: 139.7 MB\n"
          ]
        }
      ],
      "source": [
        "train_df2.info()"
      ]
    },
    {
      "cell_type": "markdown",
      "id": "4d2aa7a1",
      "metadata": {
        "id": "4d2aa7a1"
      },
      "source": [
        "## Train Test Split "
      ]
    },
    {
      "cell_type": "code",
      "execution_count": null,
      "id": "d7a0f660",
      "metadata": {
        "id": "d7a0f660"
      },
      "outputs": [],
      "source": [
        "#I want to use all of the 2015 data (most recent) as test, and 2013 - 2014 as train "
      ]
    },
    {
      "cell_type": "code",
      "execution_count": null,
      "id": "290f5c12",
      "metadata": {
        "id": "290f5c12"
      },
      "outputs": [],
      "source": [
        "is_2015 = train_df2['Year']==2015"
      ]
    },
    {
      "cell_type": "code",
      "execution_count": null,
      "id": "78ba2534",
      "metadata": {
        "id": "78ba2534"
      },
      "outputs": [],
      "source": [
        "df_test = train_df2[is_2015]"
      ]
    },
    {
      "cell_type": "code",
      "execution_count": null,
      "id": "70467669",
      "metadata": {
        "id": "70467669"
      },
      "outputs": [],
      "source": [
        "is_other=train_df2['Year']!=2015"
      ]
    },
    {
      "cell_type": "code",
      "execution_count": null,
      "id": "4eab05a7",
      "metadata": {
        "id": "4eab05a7"
      },
      "outputs": [],
      "source": [
        "df_train = train_df2[is_other]"
      ]
    },
    {
      "cell_type": "code",
      "execution_count": null,
      "id": "12dc0825",
      "metadata": {
        "id": "12dc0825",
        "outputId": "ccfdc7bc-49d9-4d59-b420-7029ec7816ca"
      },
      "outputs": [
        {
          "data": {
            "text/html": [
              "<div>\n",
              "<style scoped>\n",
              "    .dataframe tbody tr th:only-of-type {\n",
              "        vertical-align: middle;\n",
              "    }\n",
              "\n",
              "    .dataframe tbody tr th {\n",
              "        vertical-align: top;\n",
              "    }\n",
              "\n",
              "    .dataframe thead th {\n",
              "        text-align: right;\n",
              "    }\n",
              "</style>\n",
              "<table border=\"1\" class=\"dataframe\">\n",
              "  <thead>\n",
              "    <tr style=\"text-align: right;\">\n",
              "      <th></th>\n",
              "      <th>Store</th>\n",
              "      <th>DayOfWeek</th>\n",
              "      <th>Date</th>\n",
              "      <th>Sales</th>\n",
              "      <th>Customers</th>\n",
              "      <th>Open</th>\n",
              "      <th>Promo</th>\n",
              "      <th>StateHoliday</th>\n",
              "      <th>SchoolHoliday</th>\n",
              "      <th>StoreType</th>\n",
              "      <th>Assortment</th>\n",
              "      <th>CompetitionDistance</th>\n",
              "      <th>CompetitionOpenSinceMonth</th>\n",
              "      <th>CompetitionOpenSinceYear</th>\n",
              "      <th>Promo2</th>\n",
              "      <th>Year</th>\n",
              "      <th>Month</th>\n",
              "    </tr>\n",
              "  </thead>\n",
              "  <tbody>\n",
              "    <tr>\n",
              "      <th>212</th>\n",
              "      <td>1</td>\n",
              "      <td>3</td>\n",
              "      <td>2014-12-31</td>\n",
              "      <td>2605</td>\n",
              "      <td>327</td>\n",
              "      <td>1</td>\n",
              "      <td>0</td>\n",
              "      <td>0.0</td>\n",
              "      <td>1</td>\n",
              "      <td>2.0</td>\n",
              "      <td>0.0</td>\n",
              "      <td>1270.0</td>\n",
              "      <td>9.0</td>\n",
              "      <td>2008.0</td>\n",
              "      <td>0</td>\n",
              "      <td>2014</td>\n",
              "      <td>12</td>\n",
              "    </tr>\n",
              "    <tr>\n",
              "      <th>213</th>\n",
              "      <td>1</td>\n",
              "      <td>2</td>\n",
              "      <td>2014-12-30</td>\n",
              "      <td>6466</td>\n",
              "      <td>703</td>\n",
              "      <td>1</td>\n",
              "      <td>0</td>\n",
              "      <td>0.0</td>\n",
              "      <td>1</td>\n",
              "      <td>2.0</td>\n",
              "      <td>0.0</td>\n",
              "      <td>1270.0</td>\n",
              "      <td>9.0</td>\n",
              "      <td>2008.0</td>\n",
              "      <td>0</td>\n",
              "      <td>2014</td>\n",
              "      <td>12</td>\n",
              "    </tr>\n",
              "    <tr>\n",
              "      <th>214</th>\n",
              "      <td>1</td>\n",
              "      <td>1</td>\n",
              "      <td>2014-12-29</td>\n",
              "      <td>6463</td>\n",
              "      <td>700</td>\n",
              "      <td>1</td>\n",
              "      <td>0</td>\n",
              "      <td>0.0</td>\n",
              "      <td>1</td>\n",
              "      <td>2.0</td>\n",
              "      <td>0.0</td>\n",
              "      <td>1270.0</td>\n",
              "      <td>9.0</td>\n",
              "      <td>2008.0</td>\n",
              "      <td>0</td>\n",
              "      <td>2014</td>\n",
              "      <td>12</td>\n",
              "    </tr>\n",
              "    <tr>\n",
              "      <th>215</th>\n",
              "      <td>1</td>\n",
              "      <td>7</td>\n",
              "      <td>2014-12-28</td>\n",
              "      <td>0</td>\n",
              "      <td>0</td>\n",
              "      <td>0</td>\n",
              "      <td>0</td>\n",
              "      <td>0.0</td>\n",
              "      <td>1</td>\n",
              "      <td>2.0</td>\n",
              "      <td>0.0</td>\n",
              "      <td>1270.0</td>\n",
              "      <td>9.0</td>\n",
              "      <td>2008.0</td>\n",
              "      <td>0</td>\n",
              "      <td>2014</td>\n",
              "      <td>12</td>\n",
              "    </tr>\n",
              "    <tr>\n",
              "      <th>216</th>\n",
              "      <td>1</td>\n",
              "      <td>6</td>\n",
              "      <td>2014-12-27</td>\n",
              "      <td>6057</td>\n",
              "      <td>684</td>\n",
              "      <td>1</td>\n",
              "      <td>0</td>\n",
              "      <td>0.0</td>\n",
              "      <td>1</td>\n",
              "      <td>2.0</td>\n",
              "      <td>0.0</td>\n",
              "      <td>1270.0</td>\n",
              "      <td>9.0</td>\n",
              "      <td>2008.0</td>\n",
              "      <td>0</td>\n",
              "      <td>2014</td>\n",
              "      <td>12</td>\n",
              "    </tr>\n",
              "  </tbody>\n",
              "</table>\n",
              "</div>"
            ],
            "text/plain": [
              "     Store  DayOfWeek       Date  Sales  Customers  Open  Promo  StateHoliday  \\\n",
              "212      1          3 2014-12-31   2605        327     1      0           0.0   \n",
              "213      1          2 2014-12-30   6466        703     1      0           0.0   \n",
              "214      1          1 2014-12-29   6463        700     1      0           0.0   \n",
              "215      1          7 2014-12-28      0          0     0      0           0.0   \n",
              "216      1          6 2014-12-27   6057        684     1      0           0.0   \n",
              "\n",
              "     SchoolHoliday  StoreType  Assortment  CompetitionDistance  \\\n",
              "212              1        2.0         0.0               1270.0   \n",
              "213              1        2.0         0.0               1270.0   \n",
              "214              1        2.0         0.0               1270.0   \n",
              "215              1        2.0         0.0               1270.0   \n",
              "216              1        2.0         0.0               1270.0   \n",
              "\n",
              "     CompetitionOpenSinceMonth  CompetitionOpenSinceYear  Promo2  Year  Month  \n",
              "212                        9.0                    2008.0       0  2014     12  \n",
              "213                        9.0                    2008.0       0  2014     12  \n",
              "214                        9.0                    2008.0       0  2014     12  \n",
              "215                        9.0                    2008.0       0  2014     12  \n",
              "216                        9.0                    2008.0       0  2014     12  "
            ]
          },
          "execution_count": 63,
          "metadata": {},
          "output_type": "execute_result"
        }
      ],
      "source": [
        "df_train.head()"
      ]
    },
    {
      "cell_type": "code",
      "execution_count": null,
      "id": "0424bacd",
      "metadata": {
        "id": "0424bacd",
        "outputId": "f02b6ed0-321d-4a63-ab2c-987c0963e174"
      },
      "outputs": [
        {
          "data": {
            "text/plain": [
              "(236380, 17)"
            ]
          },
          "execution_count": 64,
          "metadata": {},
          "output_type": "execute_result"
        }
      ],
      "source": [
        "df_test.shape"
      ]
    },
    {
      "cell_type": "code",
      "execution_count": null,
      "id": "23064a0a",
      "metadata": {
        "id": "23064a0a",
        "outputId": "2781e7ce-a189-4f6f-8121-0df410acfba4"
      },
      "outputs": [
        {
          "data": {
            "text/plain": [
              "(780829, 17)"
            ]
          },
          "execution_count": 65,
          "metadata": {},
          "output_type": "execute_result"
        }
      ],
      "source": [
        "df_train.shape"
      ]
    },
    {
      "cell_type": "code",
      "execution_count": null,
      "id": "2b5da1e3",
      "metadata": {
        "id": "2b5da1e3"
      },
      "outputs": [],
      "source": [
        "#X_Train = df_train.drop(columns=[\"Date\", \"Sales\"])"
      ]
    },
    {
      "cell_type": "code",
      "execution_count": null,
      "id": "83b9bcf5",
      "metadata": {
        "id": "83b9bcf5"
      },
      "outputs": [],
      "source": [
        "#Y_Train = df_train[['Sales']]"
      ]
    },
    {
      "cell_type": "code",
      "execution_count": null,
      "id": "dcd211f3",
      "metadata": {
        "id": "dcd211f3"
      },
      "outputs": [],
      "source": [
        "#X_Test = df_test.drop(columns=[\"Date\",\"Sales\"])"
      ]
    },
    {
      "cell_type": "code",
      "execution_count": null,
      "id": "43caa209",
      "metadata": {
        "id": "43caa209"
      },
      "outputs": [],
      "source": [
        "#Y_Test = df_test[['Sales']]"
      ]
    },
    {
      "cell_type": "markdown",
      "id": "ef7f1877",
      "metadata": {
        "id": "ef7f1877"
      },
      "source": [
        "## Linear Regression Model "
      ]
    },
    {
      "cell_type": "code",
      "execution_count": null,
      "id": "97910c29",
      "metadata": {
        "id": "97910c29"
      },
      "outputs": [],
      "source": [
        "from sklearn.linear_model import LinearRegression\n",
        "import statsmodels.formula.api as smf\n"
      ]
    },
    {
      "cell_type": "code",
      "execution_count": null,
      "id": "6e12fdb4",
      "metadata": {
        "id": "6e12fdb4"
      },
      "outputs": [],
      "source": [
        "lrmodel = smf.ols(\"Sales ~ Store + DayOfWeek + Customers + Open + Promo + StateHoliday + StoreType + Assortment + CompetitionDistance + CompetitionOpenSinceMonth + Promo2 + Year + Month\", data=df_train).fit()"
      ]
    },
    {
      "cell_type": "code",
      "execution_count": null,
      "id": "df911748",
      "metadata": {
        "id": "df911748"
      },
      "outputs": [],
      "source": [
        "#removed CompetitionOpenSinceYear and SchoolHoliday as they were not significant "
      ]
    },
    {
      "cell_type": "code",
      "execution_count": null,
      "id": "e01fa780",
      "metadata": {
        "scrolled": true,
        "id": "e01fa780",
        "outputId": "d8c86215-6fea-45b8-b13a-7f74e5f4df5f"
      },
      "outputs": [
        {
          "name": "stdout",
          "output_type": "stream",
          "text": [
            "                            OLS Regression Results                            \n",
            "==============================================================================\n",
            "Dep. Variable:                  Sales   R-squared:                       0.869\n",
            "Model:                            OLS   Adj. R-squared:                  0.869\n",
            "Method:                 Least Squares   F-statistic:                 3.984e+05\n",
            "Date:                Tue, 30 Aug 2022   Prob (F-statistic):               0.00\n",
            "Time:                        23:37:07   Log-Likelihood:            -6.7613e+06\n",
            "No. Observations:              780829   AIC:                         1.352e+07\n",
            "Df Residuals:                  780815   BIC:                         1.352e+07\n",
            "Df Model:                          13                                         \n",
            "Covariance Type:            nonrobust                                         \n",
            "=============================================================================================\n",
            "                                coef    std err          t      P>|t|      [0.025      0.975]\n",
            "---------------------------------------------------------------------------------------------\n",
            "Intercept                 -1.754e+05   6369.980    -27.530      0.000   -1.88e+05   -1.63e+05\n",
            "Store                        -0.1304      0.005    -26.551      0.000      -0.140      -0.121\n",
            "DayOfWeek                   -70.3605      1.008    -69.777      0.000     -72.337     -68.384\n",
            "Customers                     6.3320      0.005   1385.105      0.000       6.323       6.341\n",
            "Open                       1315.7316      6.310    208.505      0.000    1303.364    1328.100\n",
            "Promo                      1229.2055      3.611    340.444      0.000    1222.129    1236.282\n",
            "StateHoliday               -319.7099      5.913    -54.068      0.000    -331.299    -308.120\n",
            "StoreType                   220.6671      1.214    181.758      0.000     218.288     223.047\n",
            "Assortment                  154.5766      1.651     93.609      0.000     151.340     157.813\n",
            "CompetitionDistance           0.0245      0.000    115.634      0.000       0.024       0.025\n",
            "CompetitionOpenSinceMonth    -8.4929      0.592    -14.358      0.000      -9.652      -7.334\n",
            "Promo2                      186.4589      3.268     57.049      0.000     180.053     192.865\n",
            "Year                         86.9577      3.164     27.487      0.000      80.757      93.158\n",
            "Month                        36.6879      0.460     79.842      0.000      35.787      37.588\n",
            "==============================================================================\n",
            "Omnibus:                   145616.967   Durbin-Watson:                   0.651\n",
            "Prob(Omnibus):                  0.000   Jarque-Bera (JB):          4240987.439\n",
            "Skew:                          -0.000   Prob(JB):                         0.00\n",
            "Kurtosis:                      14.417   Cond. No.                     3.85e+07\n",
            "==============================================================================\n",
            "\n",
            "Notes:\n",
            "[1] Standard Errors assume that the covariance matrix of the errors is correctly specified.\n",
            "[2] The condition number is large, 3.85e+07. This might indicate that there are\n",
            "strong multicollinearity or other numerical problems.\n"
          ]
        }
      ],
      "source": [
        "print(lrmodel.summary())"
      ]
    },
    {
      "cell_type": "code",
      "execution_count": null,
      "id": "de84838e",
      "metadata": {
        "id": "de84838e"
      },
      "outputs": [],
      "source": [
        "predictions = lrmodel.predict(df_test) "
      ]
    },
    {
      "cell_type": "code",
      "execution_count": null,
      "id": "9f655d52",
      "metadata": {
        "id": "9f655d52",
        "outputId": "c0c715d1-bd21-4648-cd07-7c6a27baee7f"
      },
      "outputs": [
        {
          "data": {
            "text/plain": [
              "(236380,)"
            ]
          },
          "execution_count": 75,
          "metadata": {},
          "output_type": "execute_result"
        }
      ],
      "source": [
        "predictions.shape"
      ]
    },
    {
      "cell_type": "code",
      "execution_count": null,
      "id": "b723d593",
      "metadata": {
        "id": "b723d593"
      },
      "outputs": [],
      "source": [
        "Y_pred = predictions"
      ]
    },
    {
      "cell_type": "code",
      "execution_count": null,
      "id": "3db516fe",
      "metadata": {
        "id": "3db516fe",
        "outputId": "fecd81b5-abe9-4641-f119-c78929ef666f"
      },
      "outputs": [
        {
          "name": "stdout",
          "output_type": "stream",
          "text": [
            "<class 'pandas.core.series.Series'>\n",
            "Int64Index: 236380 entries, 0 to 1016478\n",
            "Series name: None\n",
            "Non-Null Count   Dtype  \n",
            "--------------   -----  \n",
            "236380 non-null  float64\n",
            "dtypes: float64(1)\n",
            "memory usage: 3.6 MB\n"
          ]
        }
      ],
      "source": [
        "Y_pred.info()"
      ]
    },
    {
      "cell_type": "code",
      "execution_count": null,
      "id": "7f4086ec",
      "metadata": {
        "id": "7f4086ec"
      },
      "outputs": [],
      "source": [
        "Y_pred= Y_pred.to_frame()"
      ]
    },
    {
      "cell_type": "code",
      "execution_count": null,
      "id": "6db59955",
      "metadata": {
        "id": "6db59955",
        "outputId": "c9e3a14b-af59-4d89-b30d-5459523baac3"
      },
      "outputs": [
        {
          "data": {
            "text/html": [
              "<div>\n",
              "<style scoped>\n",
              "    .dataframe tbody tr th:only-of-type {\n",
              "        vertical-align: middle;\n",
              "    }\n",
              "\n",
              "    .dataframe tbody tr th {\n",
              "        vertical-align: top;\n",
              "    }\n",
              "\n",
              "    .dataframe thead th {\n",
              "        text-align: right;\n",
              "    }\n",
              "</style>\n",
              "<table border=\"1\" class=\"dataframe\">\n",
              "  <thead>\n",
              "    <tr style=\"text-align: right;\">\n",
              "      <th></th>\n",
              "      <th>0</th>\n",
              "    </tr>\n",
              "  </thead>\n",
              "  <tbody>\n",
              "    <tr>\n",
              "      <th>0</th>\n",
              "      <td>6214.893393</td>\n",
              "    </tr>\n",
              "    <tr>\n",
              "      <th>1</th>\n",
              "      <td>6228.265518</td>\n",
              "    </tr>\n",
              "    <tr>\n",
              "      <th>2</th>\n",
              "      <td>6152.989041</td>\n",
              "    </tr>\n",
              "    <tr>\n",
              "      <th>3</th>\n",
              "      <td>6457.635139</td>\n",
              "    </tr>\n",
              "    <tr>\n",
              "      <th>4</th>\n",
              "      <td>6857.261881</td>\n",
              "    </tr>\n",
              "    <tr>\n",
              "      <th>...</th>\n",
              "      <td>...</td>\n",
              "    </tr>\n",
              "    <tr>\n",
              "      <th>1016474</th>\n",
              "      <td>7114.182921</td>\n",
              "    </tr>\n",
              "    <tr>\n",
              "      <th>1016475</th>\n",
              "      <td>474.497866</td>\n",
              "    </tr>\n",
              "    <tr>\n",
              "      <th>1016476</th>\n",
              "      <td>4830.318117</td>\n",
              "    </tr>\n",
              "    <tr>\n",
              "      <th>1016477</th>\n",
              "      <td>5343.921631</td>\n",
              "    </tr>\n",
              "    <tr>\n",
              "      <th>1016478</th>\n",
              "      <td>365.869509</td>\n",
              "    </tr>\n",
              "  </tbody>\n",
              "</table>\n",
              "<p>236380 rows × 1 columns</p>\n",
              "</div>"
            ],
            "text/plain": [
              "                   0\n",
              "0        6214.893393\n",
              "1        6228.265518\n",
              "2        6152.989041\n",
              "3        6457.635139\n",
              "4        6857.261881\n",
              "...              ...\n",
              "1016474  7114.182921\n",
              "1016475   474.497866\n",
              "1016476  4830.318117\n",
              "1016477  5343.921631\n",
              "1016478   365.869509\n",
              "\n",
              "[236380 rows x 1 columns]"
            ]
          },
          "execution_count": 79,
          "metadata": {},
          "output_type": "execute_result"
        }
      ],
      "source": [
        "Y_pred"
      ]
    },
    {
      "cell_type": "code",
      "execution_count": null,
      "id": "fa534980",
      "metadata": {
        "id": "fa534980"
      },
      "outputs": [],
      "source": [
        "Y_pred.rename( columns={0:'Prediction'}, inplace=True )"
      ]
    },
    {
      "cell_type": "code",
      "execution_count": null,
      "id": "b17668ed",
      "metadata": {
        "id": "b17668ed",
        "outputId": "97b15a50-f734-4d10-c3c0-37413e8e214a"
      },
      "outputs": [
        {
          "data": {
            "text/html": [
              "<div>\n",
              "<style scoped>\n",
              "    .dataframe tbody tr th:only-of-type {\n",
              "        vertical-align: middle;\n",
              "    }\n",
              "\n",
              "    .dataframe tbody tr th {\n",
              "        vertical-align: top;\n",
              "    }\n",
              "\n",
              "    .dataframe thead th {\n",
              "        text-align: right;\n",
              "    }\n",
              "</style>\n",
              "<table border=\"1\" class=\"dataframe\">\n",
              "  <thead>\n",
              "    <tr style=\"text-align: right;\">\n",
              "      <th></th>\n",
              "      <th>Prediction</th>\n",
              "    </tr>\n",
              "  </thead>\n",
              "  <tbody>\n",
              "    <tr>\n",
              "      <th>0</th>\n",
              "      <td>6214.893393</td>\n",
              "    </tr>\n",
              "    <tr>\n",
              "      <th>1</th>\n",
              "      <td>6228.265518</td>\n",
              "    </tr>\n",
              "    <tr>\n",
              "      <th>2</th>\n",
              "      <td>6152.989041</td>\n",
              "    </tr>\n",
              "    <tr>\n",
              "      <th>3</th>\n",
              "      <td>6457.635139</td>\n",
              "    </tr>\n",
              "    <tr>\n",
              "      <th>4</th>\n",
              "      <td>6857.261881</td>\n",
              "    </tr>\n",
              "    <tr>\n",
              "      <th>...</th>\n",
              "      <td>...</td>\n",
              "    </tr>\n",
              "    <tr>\n",
              "      <th>1016474</th>\n",
              "      <td>7114.182921</td>\n",
              "    </tr>\n",
              "    <tr>\n",
              "      <th>1016475</th>\n",
              "      <td>474.497866</td>\n",
              "    </tr>\n",
              "    <tr>\n",
              "      <th>1016476</th>\n",
              "      <td>4830.318117</td>\n",
              "    </tr>\n",
              "    <tr>\n",
              "      <th>1016477</th>\n",
              "      <td>5343.921631</td>\n",
              "    </tr>\n",
              "    <tr>\n",
              "      <th>1016478</th>\n",
              "      <td>365.869509</td>\n",
              "    </tr>\n",
              "  </tbody>\n",
              "</table>\n",
              "<p>236380 rows × 1 columns</p>\n",
              "</div>"
            ],
            "text/plain": [
              "          Prediction\n",
              "0        6214.893393\n",
              "1        6228.265518\n",
              "2        6152.989041\n",
              "3        6457.635139\n",
              "4        6857.261881\n",
              "...              ...\n",
              "1016474  7114.182921\n",
              "1016475   474.497866\n",
              "1016476  4830.318117\n",
              "1016477  5343.921631\n",
              "1016478   365.869509\n",
              "\n",
              "[236380 rows x 1 columns]"
            ]
          },
          "execution_count": 81,
          "metadata": {},
          "output_type": "execute_result"
        }
      ],
      "source": [
        "Y_pred"
      ]
    },
    {
      "cell_type": "code",
      "execution_count": null,
      "id": "90729357",
      "metadata": {
        "id": "90729357"
      },
      "outputs": [],
      "source": [
        "testrsquared = df_test['Sales'].corr(Y_pred['Prediction'])**2"
      ]
    },
    {
      "cell_type": "code",
      "execution_count": null,
      "id": "762ec1f9",
      "metadata": {
        "id": "762ec1f9",
        "outputId": "3c9c50d0-3912-427c-f82b-c887c63f316c"
      },
      "outputs": [
        {
          "data": {
            "text/plain": [
              "0.8625695890136531"
            ]
          },
          "execution_count": 83,
          "metadata": {},
          "output_type": "execute_result"
        }
      ],
      "source": [
        "testrsquared "
      ]
    },
    {
      "cell_type": "code",
      "execution_count": null,
      "id": "8e5cd452",
      "metadata": {
        "id": "8e5cd452",
        "outputId": "2f41bb25-acef-4cea-b423-e21a47e20ee2"
      },
      "outputs": [
        {
          "data": {
            "image/png": "[encoded data removed]",
            "text/plain": [
              "<Figure size 720x720 with 1 Axes>"
            ]
          },
          "metadata": {
            "needs_background": "light"
          },
          "output_type": "display_data"
        }
      ],
      "source": [
        "plt.figure(figsize=(10,10))\n",
        "df_test[\"Sales\"][:25,].plot.line()\n",
        "Y_pred[\"Prediction\"][:25,].plot.line()\n",
        "plt.legend()\n",
        "plt.show()"
      ]
    },
    {
      "cell_type": "markdown",
      "id": "9e51322f",
      "metadata": {
        "id": "9e51322f"
      },
      "source": [
        "## Standardize Variables for Co-efficient Comparability "
      ]
    },
    {
      "cell_type": "code",
      "execution_count": null,
      "id": "97316395",
      "metadata": {
        "id": "97316395"
      },
      "outputs": [],
      "source": [
        "from sklearn import preprocessing"
      ]
    },
    {
      "cell_type": "code",
      "execution_count": null,
      "id": "003423f0",
      "metadata": {
        "id": "003423f0"
      },
      "outputs": [],
      "source": [
        "from sklearn.preprocessing import normalize, StandardScaler"
      ]
    },
    {
      "cell_type": "code",
      "execution_count": null,
      "id": "72c10c9d",
      "metadata": {
        "id": "72c10c9d"
      },
      "outputs": [],
      "source": [
        "cols = ['Store','DayOfWeek','Customers','Open','Promo','StateHoliday','SchoolHoliday','StoreType','Assortment','CompetitionDistance','CompetitionOpenSinceMonth','CompetitionOpenSinceYear','Promo2','Year','Month']\n",
        "standard_scaler = StandardScaler()\n",
        "#Overwrite old columns with transformed columns\n"
      ]
    },
    {
      "cell_type": "code",
      "execution_count": null,
      "id": "8ceaa3b3",
      "metadata": {
        "id": "8ceaa3b3"
      },
      "outputs": [],
      "source": [
        "import pandas as pd\n",
        "pd.options.mode.chained_assignment = None  # default='warn'"
      ]
    },
    {
      "cell_type": "code",
      "execution_count": null,
      "id": "e27de896",
      "metadata": {
        "id": "e27de896"
      },
      "outputs": [],
      "source": [
        "df_train_stan = df_train.copy()"
      ]
    },
    {
      "cell_type": "code",
      "execution_count": null,
      "id": "d507df09",
      "metadata": {
        "id": "d507df09"
      },
      "outputs": [],
      "source": [
        "df_train_stan[cols] = standard_scaler.fit_transform(df_train_stan[cols])"
      ]
    },
    {
      "cell_type": "code",
      "execution_count": null,
      "id": "2e12f273",
      "metadata": {
        "id": "2e12f273"
      },
      "outputs": [],
      "source": [
        "lrmodel_stan = smf.ols(\"Sales ~ Store + DayOfWeek + Customers + Open + Promo + StateHoliday + StoreType + Assortment + CompetitionDistance + CompetitionOpenSinceMonth + Promo2 + Year + Month\", data=df_train_stan).fit()"
      ]
    },
    {
      "cell_type": "code",
      "execution_count": null,
      "id": "0afe9318",
      "metadata": {
        "scrolled": true,
        "id": "0afe9318",
        "outputId": "9dee3536-b925-4c72-dde0-fca3279d1fa0"
      },
      "outputs": [
        {
          "name": "stdout",
          "output_type": "stream",
          "text": [
            "                            OLS Regression Results                            \n",
            "==============================================================================\n",
            "Dep. Variable:                  Sales   R-squared:                       0.869\n",
            "Model:                            OLS   Adj. R-squared:                  0.869\n",
            "Method:                 Least Squares   F-statistic:                 3.984e+05\n",
            "Date:                Tue, 30 Aug 2022   Prob (F-statistic):               0.00\n",
            "Time:                        23:37:10   Log-Likelihood:            -6.7613e+06\n",
            "No. Observations:              780829   AIC:                         1.352e+07\n",
            "Df Residuals:                  780815   BIC:                         1.352e+07\n",
            "Df Model:                          13                                         \n",
            "Covariance Type:            nonrobust                                         \n",
            "=============================================================================================\n",
            "                                coef    std err          t      P>|t|      [0.025      0.975]\n",
            "---------------------------------------------------------------------------------------------\n",
            "Intercept                  5742.2060      1.578   3638.980      0.000    5739.113    5745.299\n",
            "Store                       -41.9747      1.581    -26.551      0.000     -45.073     -38.876\n",
            "DayOfWeek                  -140.6576      2.016    -69.777      0.000    -144.609    -136.707\n",
            "Customers                  2962.2245      2.139   1385.105      0.000    2958.033    2966.416\n",
            "Open                        493.8290      2.368    208.505      0.000     489.187     498.471\n",
            "Promo                       595.2869      1.749    340.444      0.000     591.860     598.714\n",
            "StateHoliday                -94.2390      1.743    -54.068      0.000     -97.655     -90.823\n",
            "StoreType                   301.0526      1.656    181.758      0.000     297.806     304.299\n",
            "Assortment                  153.6371      1.641     93.609      0.000     150.420     156.854\n",
            "CompetitionDistance         189.6001      1.640    115.634      0.000     186.386     192.814\n",
            "CompetitionOpenSinceMonth   -22.7393      1.584    -14.358      0.000     -25.843     -19.635\n",
            "Promo2                       93.2278      1.634     57.049      0.000      90.025      96.431\n",
            "Year                         43.4397      1.580     27.487      0.000      40.342      46.537\n",
            "Month                       126.4416      1.584     79.842      0.000     123.338     129.545\n",
            "==============================================================================\n",
            "Omnibus:                   145616.967   Durbin-Watson:                   0.651\n",
            "Prob(Omnibus):                  0.000   Jarque-Bera (JB):          4240987.439\n",
            "Skew:                          -0.000   Prob(JB):                         0.00\n",
            "Kurtosis:                      14.417   Cond. No.                         2.89\n",
            "==============================================================================\n",
            "\n",
            "Notes:\n",
            "[1] Standard Errors assume that the covariance matrix of the errors is correctly specified.\n"
          ]
        }
      ],
      "source": [
        "print(lrmodel_stan.summary())"
      ]
    },
    {
      "cell_type": "markdown",
      "id": "00fa422b",
      "metadata": {
        "id": "00fa422b"
      },
      "source": [
        "## What Impact Does Store Model Have On Promotions "
      ]
    },
    {
      "cell_type": "code",
      "execution_count": null,
      "id": "c1f8dec9",
      "metadata": {
        "id": "c1f8dec9"
      },
      "outputs": [],
      "source": [
        "import patsy"
      ]
    },
    {
      "cell_type": "code",
      "execution_count": null,
      "id": "8513a796",
      "metadata": {
        "id": "8513a796"
      },
      "outputs": [],
      "source": [
        "#patsy will encode the categorical natire of StateHoliday, StoreType, and Assortment "
      ]
    },
    {
      "cell_type": "code",
      "execution_count": null,
      "id": "ff48cd63",
      "metadata": {
        "id": "ff48cd63"
      },
      "outputs": [],
      "source": [
        "lrmodel3 = smf.ols(\"Sales ~ Store + DayOfWeek + Customers + Open + Promo + C(StateHoliday) + C(StoreType) + C(StoreType)*Promo  + C(Assortment) + CompetitionDistance + CompetitionOpenSinceMonth + Promo2 + Year + Month\", data=df_train).fit()"
      ]
    },
    {
      "cell_type": "code",
      "execution_count": null,
      "id": "9ca70094",
      "metadata": {
        "id": "9ca70094",
        "outputId": "f4921693-8b1b-4ec3-ce4b-2f7ceb7972b9"
      },
      "outputs": [
        {
          "name": "stdout",
          "output_type": "stream",
          "text": [
            "                            OLS Regression Results                            \n",
            "==============================================================================\n",
            "Dep. Variable:                  Sales   R-squared:                       0.902\n",
            "Model:                            OLS   Adj. R-squared:                  0.902\n",
            "Method:                 Least Squares   F-statistic:                 3.429e+05\n",
            "Date:                Tue, 30 Aug 2022   Prob (F-statistic):               0.00\n",
            "Time:                        23:45:35   Log-Likelihood:            -6.6473e+06\n",
            "No. Observations:              780829   AIC:                         1.329e+07\n",
            "Df Residuals:                  780807   BIC:                         1.329e+07\n",
            "Df Model:                          21                                         \n",
            "Covariance Type:            nonrobust                                         \n",
            "=============================================================================================\n",
            "                                coef    std err          t      P>|t|      [0.025      0.975]\n",
            "---------------------------------------------------------------------------------------------\n",
            "Intercept                 -1.733e+05   5504.711    -31.485      0.000   -1.84e+05   -1.63e+05\n",
            "C(StateHoliday)[T.1.0]     -555.2600     10.928    -50.810      0.000    -576.679    -533.841\n",
            "C(StateHoliday)[T.2.0]     -675.2478     18.727    -36.057      0.000    -711.953    -638.543\n",
            "C(StateHoliday)[T.3.0]     -281.0074     19.456    -14.443      0.000    -319.140    -242.875\n",
            "C(StoreType)[T.1.0]       -2819.6772     18.807   -149.929      0.000   -2856.538   -2782.817\n",
            "C(StoreType)[T.2.0]         -77.1972      5.274    -14.638      0.000     -87.534     -66.861\n",
            "C(StoreType)[T.3.0]         749.5137      4.025    186.219      0.000     741.625     757.402\n",
            "C(Assortment)[T.1.0]      -3947.2406     21.856   -180.600      0.000   -3990.078   -3904.403\n",
            "C(Assortment)[T.2.0]        239.4567      2.864     83.604      0.000     233.843     245.070\n",
            "Store                        -0.0878      0.004    -20.634      0.000      -0.096      -0.079\n",
            "DayOfWeek                   -51.7441      0.884    -58.528      0.000     -53.477     -50.011\n",
            "Customers                     7.2641      0.004   1647.601      0.000       7.255       7.273\n",
            "Open                        785.0017      5.667    138.522      0.000     773.895     796.109\n",
            "Promo                       993.4117      4.095    242.590      0.000     985.386    1001.438\n",
            "C(StoreType)[T.1.0]:Promo  -900.3788     22.844    -39.414      0.000    -945.153    -855.605\n",
            "C(StoreType)[T.2.0]:Promo   -99.4303      8.562    -11.613      0.000    -116.211     -82.649\n",
            "C(StoreType)[T.3.0]:Promo   438.1436      6.382     68.656      0.000     425.636     450.652\n",
            "CompetitionDistance           0.0211      0.000    114.124      0.000       0.021       0.021\n",
            "CompetitionOpenSinceMonth    -8.0347      0.512    -15.705      0.000      -9.037      -7.032\n",
            "Promo2                      229.3128      2.829     81.072      0.000     223.769     234.857\n",
            "Year                         85.9329      2.734     31.433      0.000      80.575      91.291\n",
            "Month                        30.8680      0.400     77.100      0.000      30.083      31.653\n",
            "==============================================================================\n",
            "Omnibus:                   209029.693   Durbin-Watson:                   0.760\n",
            "Prob(Omnibus):                  0.000   Jarque-Bera (JB):          2232059.928\n",
            "Skew:                           0.983   Prob(JB):                         0.00\n",
            "Kurtosis:                      11.046   Cond. No.                     3.85e+07\n",
            "==============================================================================\n",
            "\n",
            "Notes:\n",
            "[1] Standard Errors assume that the covariance matrix of the errors is correctly specified.\n",
            "[2] The condition number is large, 3.85e+07. This might indicate that there are\n",
            "strong multicollinearity or other numerical problems.\n"
          ]
        }
      ],
      "source": [
        "print(lrmodel3.summary())"
      ]
    },
    {
      "cell_type": "code",
      "execution_count": null,
      "id": "0c201937",
      "metadata": {
        "id": "0c201937"
      },
      "outputs": [],
      "source": [
        "predictions3 = lrmodel3.predict(df_test) "
      ]
    },
    {
      "cell_type": "code",
      "execution_count": null,
      "id": "c485a387",
      "metadata": {
        "id": "c485a387",
        "outputId": "5937c891-7698-4364-8e83-a2987dd523fd"
      },
      "outputs": [
        {
          "data": {
            "text/plain": [
              "(236380,)"
            ]
          },
          "execution_count": 99,
          "metadata": {},
          "output_type": "execute_result"
        }
      ],
      "source": [
        "predictions3.shape"
      ]
    },
    {
      "cell_type": "code",
      "execution_count": null,
      "id": "7f1adfe2",
      "metadata": {
        "id": "7f1adfe2"
      },
      "outputs": [],
      "source": [
        "Y_pred3 = predictions3"
      ]
    },
    {
      "cell_type": "code",
      "execution_count": null,
      "id": "91a74422",
      "metadata": {
        "id": "91a74422",
        "outputId": "4e462447-36ba-4838-8e00-646b4b5681c6"
      },
      "outputs": [
        {
          "name": "stdout",
          "output_type": "stream",
          "text": [
            "<class 'pandas.core.series.Series'>\n",
            "Int64Index: 236380 entries, 0 to 1016478\n",
            "Series name: None\n",
            "Non-Null Count   Dtype  \n",
            "--------------   -----  \n",
            "236380 non-null  float64\n",
            "dtypes: float64(1)\n",
            "memory usage: 3.6 MB\n"
          ]
        }
      ],
      "source": [
        "Y_pred3.info()"
      ]
    },
    {
      "cell_type": "code",
      "execution_count": null,
      "id": "79213b07",
      "metadata": {
        "id": "79213b07"
      },
      "outputs": [],
      "source": [
        "Y_pred3= Y_pred3.to_frame()"
      ]
    },
    {
      "cell_type": "code",
      "execution_count": null,
      "id": "ed94104e",
      "metadata": {
        "id": "ed94104e",
        "outputId": "c77c302f-c41c-458c-8d57-0be09b48edf2"
      },
      "outputs": [
        {
          "data": {
            "text/html": [
              "<div>\n",
              "<style scoped>\n",
              "    .dataframe tbody tr th:only-of-type {\n",
              "        vertical-align: middle;\n",
              "    }\n",
              "\n",
              "    .dataframe tbody tr th {\n",
              "        vertical-align: top;\n",
              "    }\n",
              "\n",
              "    .dataframe thead th {\n",
              "        text-align: right;\n",
              "    }\n",
              "</style>\n",
              "<table border=\"1\" class=\"dataframe\">\n",
              "  <thead>\n",
              "    <tr style=\"text-align: right;\">\n",
              "      <th></th>\n",
              "      <th>0</th>\n",
              "    </tr>\n",
              "  </thead>\n",
              "  <tbody>\n",
              "    <tr>\n",
              "      <th>0</th>\n",
              "      <td>5385.972562</td>\n",
              "    </tr>\n",
              "    <tr>\n",
              "      <th>1</th>\n",
              "      <td>5372.340031</td>\n",
              "    </tr>\n",
              "    <tr>\n",
              "      <th>2</th>\n",
              "      <td>5257.010519</td>\n",
              "    </tr>\n",
              "    <tr>\n",
              "      <th>3</th>\n",
              "      <td>5577.525214</td>\n",
              "    </tr>\n",
              "    <tr>\n",
              "      <th>4</th>\n",
              "      <td>6007.000961</td>\n",
              "    </tr>\n",
              "    <tr>\n",
              "      <th>...</th>\n",
              "      <td>...</td>\n",
              "    </tr>\n",
              "    <tr>\n",
              "      <th>1016474</th>\n",
              "      <td>7418.579368</td>\n",
              "    </tr>\n",
              "    <tr>\n",
              "      <th>1016475</th>\n",
              "      <td>678.397132</td>\n",
              "    </tr>\n",
              "    <tr>\n",
              "      <th>1016476</th>\n",
              "      <td>4921.991824</td>\n",
              "    </tr>\n",
              "    <tr>\n",
              "      <th>1016477</th>\n",
              "      <td>5482.220833</td>\n",
              "    </tr>\n",
              "    <tr>\n",
              "      <th>1016478</th>\n",
              "      <td>278.369411</td>\n",
              "    </tr>\n",
              "  </tbody>\n",
              "</table>\n",
              "<p>236380 rows × 1 columns</p>\n",
              "</div>"
            ],
            "text/plain": [
              "                   0\n",
              "0        5385.972562\n",
              "1        5372.340031\n",
              "2        5257.010519\n",
              "3        5577.525214\n",
              "4        6007.000961\n",
              "...              ...\n",
              "1016474  7418.579368\n",
              "1016475   678.397132\n",
              "1016476  4921.991824\n",
              "1016477  5482.220833\n",
              "1016478   278.369411\n",
              "\n",
              "[236380 rows x 1 columns]"
            ]
          },
          "execution_count": 103,
          "metadata": {},
          "output_type": "execute_result"
        }
      ],
      "source": [
        "Y_pred3"
      ]
    },
    {
      "cell_type": "code",
      "execution_count": null,
      "id": "4ba01b43",
      "metadata": {
        "id": "4ba01b43"
      },
      "outputs": [],
      "source": [
        "Y_pred3.rename( columns={0:'Prediction'}, inplace=True )"
      ]
    },
    {
      "cell_type": "code",
      "execution_count": null,
      "id": "523d4aea",
      "metadata": {
        "id": "523d4aea",
        "outputId": "4945a046-faa7-41e8-ba5a-b8ce23b082c1"
      },
      "outputs": [
        {
          "data": {
            "text/html": [
              "<div>\n",
              "<style scoped>\n",
              "    .dataframe tbody tr th:only-of-type {\n",
              "        vertical-align: middle;\n",
              "    }\n",
              "\n",
              "    .dataframe tbody tr th {\n",
              "        vertical-align: top;\n",
              "    }\n",
              "\n",
              "    .dataframe thead th {\n",
              "        text-align: right;\n",
              "    }\n",
              "</style>\n",
              "<table border=\"1\" class=\"dataframe\">\n",
              "  <thead>\n",
              "    <tr style=\"text-align: right;\">\n",
              "      <th></th>\n",
              "      <th>Prediction</th>\n",
              "    </tr>\n",
              "  </thead>\n",
              "  <tbody>\n",
              "    <tr>\n",
              "      <th>0</th>\n",
              "      <td>5385.972562</td>\n",
              "    </tr>\n",
              "    <tr>\n",
              "      <th>1</th>\n",
              "      <td>5372.340031</td>\n",
              "    </tr>\n",
              "    <tr>\n",
              "      <th>2</th>\n",
              "      <td>5257.010519</td>\n",
              "    </tr>\n",
              "    <tr>\n",
              "      <th>3</th>\n",
              "      <td>5577.525214</td>\n",
              "    </tr>\n",
              "    <tr>\n",
              "      <th>4</th>\n",
              "      <td>6007.000961</td>\n",
              "    </tr>\n",
              "    <tr>\n",
              "      <th>...</th>\n",
              "      <td>...</td>\n",
              "    </tr>\n",
              "    <tr>\n",
              "      <th>1016474</th>\n",
              "      <td>7418.579368</td>\n",
              "    </tr>\n",
              "    <tr>\n",
              "      <th>1016475</th>\n",
              "      <td>678.397132</td>\n",
              "    </tr>\n",
              "    <tr>\n",
              "      <th>1016476</th>\n",
              "      <td>4921.991824</td>\n",
              "    </tr>\n",
              "    <tr>\n",
              "      <th>1016477</th>\n",
              "      <td>5482.220833</td>\n",
              "    </tr>\n",
              "    <tr>\n",
              "      <th>1016478</th>\n",
              "      <td>278.369411</td>\n",
              "    </tr>\n",
              "  </tbody>\n",
              "</table>\n",
              "<p>236380 rows × 1 columns</p>\n",
              "</div>"
            ],
            "text/plain": [
              "          Prediction\n",
              "0        5385.972562\n",
              "1        5372.340031\n",
              "2        5257.010519\n",
              "3        5577.525214\n",
              "4        6007.000961\n",
              "...              ...\n",
              "1016474  7418.579368\n",
              "1016475   678.397132\n",
              "1016476  4921.991824\n",
              "1016477  5482.220833\n",
              "1016478   278.369411\n",
              "\n",
              "[236380 rows x 1 columns]"
            ]
          },
          "execution_count": 105,
          "metadata": {},
          "output_type": "execute_result"
        }
      ],
      "source": [
        "Y_pred3"
      ]
    },
    {
      "cell_type": "code",
      "execution_count": null,
      "id": "80624db4",
      "metadata": {
        "id": "80624db4"
      },
      "outputs": [],
      "source": [
        "testrsquared3 = df_test['Sales'].corr(Y_pred3['Prediction'])**2"
      ]
    },
    {
      "cell_type": "code",
      "execution_count": null,
      "id": "71458cc7",
      "metadata": {
        "id": "71458cc7",
        "outputId": "f11c5db4-08a9-497e-d28c-c623abdb5b43"
      },
      "outputs": [
        {
          "data": {
            "text/plain": [
              "0.8987607778796052"
            ]
          },
          "execution_count": 107,
          "metadata": {},
          "output_type": "execute_result"
        }
      ],
      "source": [
        "testrsquared3"
      ]
    },
    {
      "cell_type": "code",
      "execution_count": null,
      "id": "7c31759a",
      "metadata": {
        "id": "7c31759a",
        "outputId": "56c9fd36-548c-4d5b-c30c-9ec91a3534b6"
      },
      "outputs": [
        {
          "data": {
            "image/png": "[encoded data removed]",
            "text/plain": [
              "<Figure size 720x720 with 1 Axes>"
            ]
          },
          "metadata": {
            "needs_background": "light"
          },
          "output_type": "display_data"
        }
      ],
      "source": [
        "plt.figure(figsize=(10,10))\n",
        "df_test[\"Sales\"][:25,].plot.line()\n",
        "Y_pred3[\"Prediction\"][:25,].plot.line()\n",
        "plt.legend()\n",
        "plt.show()"
      ]
    },
    {
      "cell_type": "code",
      "execution_count": null,
      "id": "0f40d483",
      "metadata": {
        "id": "0f40d483"
      },
      "outputs": [],
      "source": []
    },
    {
      "cell_type": "code",
      "execution_count": null,
      "id": "43670229",
      "metadata": {
        "id": "43670229"
      },
      "outputs": [],
      "source": []
    },
    {
      "cell_type": "code",
      "execution_count": null,
      "id": "98f9aa07",
      "metadata": {
        "id": "98f9aa07"
      },
      "outputs": [],
      "source": []
    }
  ],
  "metadata": {
    "kernelspec": {
      "display_name": "Python 3 (ipykernel)",
      "language": "python",
      "name": "python3"
    },
    "language_info": {
      "codemirror_mode": {
        "name": "ipython",
        "version": 3
      },
      "file_extension": ".py",
      "mimetype": "text/x-python",
      "name": "python",
      "nbconvert_exporter": "python",
      "pygments_lexer": "ipython3",
      "version": "3.9.12"
    },
    "colab": {
      "provenance": []
    }
  },
  "nbformat": 4,
  "nbformat_minor": 5
}