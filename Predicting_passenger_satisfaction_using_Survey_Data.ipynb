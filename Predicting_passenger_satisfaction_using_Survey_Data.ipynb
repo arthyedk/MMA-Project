{
  "cells": [
    {
      "cell_type": "markdown",
      "source": [
        "Problem Statement\n",
        "Goal:\n",
        "The goal of the problem is to predict whether a passenger was satisfied or not considering his/her overall experience of traveling on the Shinkansen Bullet Train.\n",
        "\n",
        "Dataset: \n",
        "\n",
        "The problem consists of 1 dataset: Survey data. The survey data is aggregated data of surveys indicating the post-service experience. You are expected to treat the dataset as raw data and perform any necessary data cleaning/validation steps as required.\n",
        "\n",
        "The data has been split into two groups and provided in the Dataset folder. The folder contains both train and test data separately.\n",
        "\n",
        "    Train_Data\n",
        "    Test_Data\n",
        "\n",
        "\n",
        "Target Variable: Overall_Experience (1 represents ‘satisfied’, and 0 represents ‘not satisfied’)\n",
        "\n",
        "The training set can be used to build your machine learning model. The training set has labels for the target column - Overall_Experience.\n",
        "\n",
        "The testing set should be used to see how well your model performs on unseen data. For the test set, it is expected to predict the ‘Overall_Experience’ level for each participant.\n",
        "\n",
        "Data Dictionary:\n",
        "\n",
        "All the data is self-explanatory. The survey levels are explained in the Data Dictionary file.\n",
        "\n",
        "Submission File Format: You will need to submit a CSV file with exactly 35,602 entries plus a header row. The file should have exactly two columns\n",
        "\n",
        "    ID\n",
        "    Overall_Experience (contains 0 & 1 values, 1 represents ‘Satisfied’, and 0 represents ‘Not Satisfied’)\n",
        "\n",
        "Evaluation Criteria:\n",
        "\n",
        "Accuracy Score: The evaluation metric is simply the percentage of predictions made by the model that turned out to be correct. This is also called the accuracy of the model. It will be calculated as the total number of correct predictions (True Positives + True Negatives) divided by the total number of observations in the dataset.\n",
        " \n",
        "In other words, the best possible accuracy is 100% (or 1) and the worst possible accuracy 0%"
      ],
      "metadata": {
        "id": "6N9sYmjj8cmJ"
      }
    },
    {
      "cell_type": "code",
      "execution_count": 279,
      "metadata": {
        "id": "2gZrPBSl8wUR"
      },
      "outputs": [],
      "source": [
        "# Importing Libraries\n",
        "import pandas as pd\n",
        "import numpy as np\n",
        "\n",
        "import matplotlib.pyplot as plt\n",
        "import seaborn as sns\n",
        "\n",
        "import lightgbm as lgb\n",
        "from sklearn.model_selection import train_test_split\n",
        "\n",
        "import scipy as sc\n",
        "import numpy as np\n",
        "import pandas as pd\n",
        "\n",
        "%matplotlib inline\n",
        "import matplotlib.pyplot as plt\n",
        "import seaborn as sns\n",
        "\n",
        "import sklearn\n",
        "from sklearn import preprocessing\n",
        "from sklearn.compose import make_column_transformer\n",
        "from sklearn.pipeline import make_pipeline\n",
        "from sklearn.model_selection import KFold\n",
        "from sklearn.metrics import mean_squared_error\n",
        "from sklearn.preprocessing import LabelEncoder\n",
        "from sklearn.model_selection import train_test_split\n",
        "import keras \n",
        "import tensorflow\n",
        "\n",
        "\n",
        "from sklearn.preprocessing import StandardScaler, OneHotEncoder, FunctionTransformer\n",
        "from sklearn.impute import SimpleImputer\n",
        "from sklearn.compose import ColumnTransformer\n",
        "\n",
        "from sklearn.multioutput import MultiOutputClassifier\n",
        "\n",
        "from sklearn.pipeline import Pipeline\n",
        "\n",
        "from sklearn.model_selection import train_test_split\n",
        "\n",
        "from sklearn.metrics import roc_curve, roc_auc_score\n",
        "from sklearn.metrics import accuracy_score,confusion_matrix, classification_report\n",
        "\n",
        "\n",
        "from sklearn.model_selection import RandomizedSearchCV\n",
        "from scipy.stats import randint, uniform\n",
        "\n",
        "import time\n"
      ]
    },
    {
      "cell_type": "code",
      "execution_count": 280,
      "metadata": {
        "colab": {
          "base_uri": "https://localhost:8080/"
        },
        "id": "8xVKmF349S1Q",
        "outputId": "6330a58f-aefa-404a-bc36-c3e359df20b8"
      },
      "outputs": [
        {
          "output_type": "stream",
          "name": "stdout",
          "text": [
            "Drive already mounted at /content/drive; to attempt to forcibly remount, call drive.mount(\"/content/drive\", force_remount=True).\n"
          ]
        }
      ],
      "source": [
        "from google.colab import drive\n",
        "drive.mount('/content/drive')"
      ]
    },
    {
      "cell_type": "code",
      "execution_count": 281,
      "metadata": {
        "id": "NR9jEE7Z9h9h"
      },
      "outputs": [],
      "source": [
        "features_df = pd.read_csv(\"/content/drive/MyDrive/ML Learning csv/Surveydata_train.csv\")"
      ]
    },
    {
      "cell_type": "code",
      "execution_count": 282,
      "metadata": {
        "id": "ah1r-Nh1Jl5Y"
      },
      "outputs": [],
      "source": [
        "test_df = pd.read_csv(\"/content/drive/MyDrive/ML Learning csv/Surveydata_test.csv\")"
      ]
    },
    {
      "cell_type": "markdown",
      "source": [
        "###Inspecting the data"
      ],
      "metadata": {
        "id": "Lx-J_MFz_gaL"
      }
    },
    {
      "cell_type": "code",
      "execution_count": 283,
      "metadata": {
        "colab": {
          "base_uri": "https://localhost:8080/",
          "height": 575
        },
        "id": "qU5jMQQEIFMk",
        "outputId": "827fad07-a30b-4818-f042-208489b7bac6"
      },
      "outputs": [
        {
          "output_type": "execute_result",
          "data": {
            "text/plain": [
              "             ID  Overall_Experience       Seat_Comfort Seat_Class  \\\n",
              "0      98800001                   0  Needs Improvement  Green Car   \n",
              "1      98800002                   0               Poor   Ordinary   \n",
              "2      98800003                   1  Needs Improvement  Green Car   \n",
              "3      98800004                   0         Acceptable   Ordinary   \n",
              "4      98800005                   1         Acceptable   Ordinary   \n",
              "...         ...                 ...                ...        ...   \n",
              "94374  98894375                   0               Poor   Ordinary   \n",
              "94375  98894376                   1               Good   Ordinary   \n",
              "94376  98894377                   1  Needs Improvement  Green Car   \n",
              "94377  98894378                   0  Needs Improvement   Ordinary   \n",
              "94378  98894379                   0         Acceptable   Ordinary   \n",
              "\n",
              "      Arrival_Time_Convenient           Catering  Platform_Location  \\\n",
              "0                   Excellent          Excellent    Very Convenient   \n",
              "1                   Excellent               Poor  Needs Improvement   \n",
              "2           Needs Improvement  Needs Improvement  Needs Improvement   \n",
              "3           Needs Improvement                NaN  Needs Improvement   \n",
              "4                  Acceptable         Acceptable         Manageable   \n",
              "...                       ...                ...                ...   \n",
              "94374                    Good               Good         Convenient   \n",
              "94375                    Good               Good         Convenient   \n",
              "94376       Needs Improvement  Needs Improvement  Needs Improvement   \n",
              "94377                     NaN  Needs Improvement         Convenient   \n",
              "94378                    Poor         Acceptable         Manageable   \n",
              "\n",
              "      Onboard_Wifi_Service Onboard_Entertainment Online_Support  \\\n",
              "0                     Good     Needs Improvement     Acceptable   \n",
              "1                     Good                  Poor           Good   \n",
              "2        Needs Improvement                  Good      Excellent   \n",
              "3               Acceptable     Needs Improvement     Acceptable   \n",
              "4        Needs Improvement                  Good      Excellent   \n",
              "...                    ...                   ...            ...   \n",
              "94374                 Poor                  Poor           Poor   \n",
              "94375    Needs Improvement             Excellent      Excellent   \n",
              "94376                 Good             Excellent           Good   \n",
              "94377                 Good     Needs Improvement           Good   \n",
              "94378           Acceptable            Acceptable     Acceptable   \n",
              "\n",
              "      Ease_of_Online_Booking    Onboard_Service            Legroom  \\\n",
              "0          Needs Improvement  Needs Improvement         Acceptable   \n",
              "1                       Good          Excellent  Needs Improvement   \n",
              "2                  Excellent          Excellent          Excellent   \n",
              "3                 Acceptable         Acceptable         Acceptable   \n",
              "4                       Good               Good               Good   \n",
              "...                      ...                ...                ...   \n",
              "94374                   Poor               Good               Good   \n",
              "94375             Acceptable         Acceptable         Acceptable   \n",
              "94376                   Good               Good               Good   \n",
              "94377                   Good         Acceptable               Good   \n",
              "94378             Acceptable               Poor               Good   \n",
              "\n",
              "        Baggage_Handling    CheckIn_Service        Cleanliness Online_Boarding  \n",
              "0      Needs Improvement               Good  Needs Improvement            Poor  \n",
              "1                   Poor  Needs Improvement               Good            Good  \n",
              "2              Excellent               Good          Excellent       Excellent  \n",
              "3             Acceptable               Good         Acceptable      Acceptable  \n",
              "4                   Good               Good               Good            Good  \n",
              "...                  ...                ...                ...             ...  \n",
              "94374               Good  Needs Improvement               Good            Poor  \n",
              "94375         Acceptable               Good         Acceptable            Good  \n",
              "94376               Good         Acceptable               Good      Acceptable  \n",
              "94377               Good               Good          Excellent            Good  \n",
              "94378               Good               Poor               Good      Acceptable  \n",
              "\n",
              "[94379 rows x 17 columns]"
            ],
            "text/html": [
              "\n",
              "  <div id=\"df-137f940b-d0c5-485b-aa34-1d31713bd9d4\">\n",
              "    <div class=\"colab-df-container\">\n",
              "      <div>\n",
              "<style scoped>\n",
              "    .dataframe tbody tr th:only-of-type {\n",
              "        vertical-align: middle;\n",
              "    }\n",
              "\n",
              "    .dataframe tbody tr th {\n",
              "        vertical-align: top;\n",
              "    }\n",
              "\n",
              "    .dataframe thead th {\n",
              "        text-align: right;\n",
              "    }\n",
              "</style>\n",
              "<table border=\"1\" class=\"dataframe\">\n",
              "  <thead>\n",
              "    <tr style=\"text-align: right;\">\n",
              "      <th></th>\n",
              "      <th>ID</th>\n",
              "      <th>Overall_Experience</th>\n",
              "      <th>Seat_Comfort</th>\n",
              "      <th>Seat_Class</th>\n",
              "      <th>Arrival_Time_Convenient</th>\n",
              "      <th>Catering</th>\n",
              "      <th>Platform_Location</th>\n",
              "      <th>Onboard_Wifi_Service</th>\n",
              "      <th>Onboard_Entertainment</th>\n",
              "      <th>Online_Support</th>\n",
              "      <th>Ease_of_Online_Booking</th>\n",
              "      <th>Onboard_Service</th>\n",
              "      <th>Legroom</th>\n",
              "      <th>Baggage_Handling</th>\n",
              "      <th>CheckIn_Service</th>\n",
              "      <th>Cleanliness</th>\n",
              "      <th>Online_Boarding</th>\n",
              "    </tr>\n",
              "  </thead>\n",
              "  <tbody>\n",
              "    <tr>\n",
              "      <th>0</th>\n",
              "      <td>98800001</td>\n",
              "      <td>0</td>\n",
              "      <td>Needs Improvement</td>\n",
              "      <td>Green Car</td>\n",
              "      <td>Excellent</td>\n",
              "      <td>Excellent</td>\n",
              "      <td>Very Convenient</td>\n",
              "      <td>Good</td>\n",
              "      <td>Needs Improvement</td>\n",
              "      <td>Acceptable</td>\n",
              "      <td>Needs Improvement</td>\n",
              "      <td>Needs Improvement</td>\n",
              "      <td>Acceptable</td>\n",
              "      <td>Needs Improvement</td>\n",
              "      <td>Good</td>\n",
              "      <td>Needs Improvement</td>\n",
              "      <td>Poor</td>\n",
              "    </tr>\n",
              "    <tr>\n",
              "      <th>1</th>\n",
              "      <td>98800002</td>\n",
              "      <td>0</td>\n",
              "      <td>Poor</td>\n",
              "      <td>Ordinary</td>\n",
              "      <td>Excellent</td>\n",
              "      <td>Poor</td>\n",
              "      <td>Needs Improvement</td>\n",
              "      <td>Good</td>\n",
              "      <td>Poor</td>\n",
              "      <td>Good</td>\n",
              "      <td>Good</td>\n",
              "      <td>Excellent</td>\n",
              "      <td>Needs Improvement</td>\n",
              "      <td>Poor</td>\n",
              "      <td>Needs Improvement</td>\n",
              "      <td>Good</td>\n",
              "      <td>Good</td>\n",
              "    </tr>\n",
              "    <tr>\n",
              "      <th>2</th>\n",
              "      <td>98800003</td>\n",
              "      <td>1</td>\n",
              "      <td>Needs Improvement</td>\n",
              "      <td>Green Car</td>\n",
              "      <td>Needs Improvement</td>\n",
              "      <td>Needs Improvement</td>\n",
              "      <td>Needs Improvement</td>\n",
              "      <td>Needs Improvement</td>\n",
              "      <td>Good</td>\n",
              "      <td>Excellent</td>\n",
              "      <td>Excellent</td>\n",
              "      <td>Excellent</td>\n",
              "      <td>Excellent</td>\n",
              "      <td>Excellent</td>\n",
              "      <td>Good</td>\n",
              "      <td>Excellent</td>\n",
              "      <td>Excellent</td>\n",
              "    </tr>\n",
              "    <tr>\n",
              "      <th>3</th>\n",
              "      <td>98800004</td>\n",
              "      <td>0</td>\n",
              "      <td>Acceptable</td>\n",
              "      <td>Ordinary</td>\n",
              "      <td>Needs Improvement</td>\n",
              "      <td>NaN</td>\n",
              "      <td>Needs Improvement</td>\n",
              "      <td>Acceptable</td>\n",
              "      <td>Needs Improvement</td>\n",
              "      <td>Acceptable</td>\n",
              "      <td>Acceptable</td>\n",
              "      <td>Acceptable</td>\n",
              "      <td>Acceptable</td>\n",
              "      <td>Acceptable</td>\n",
              "      <td>Good</td>\n",
              "      <td>Acceptable</td>\n",
              "      <td>Acceptable</td>\n",
              "    </tr>\n",
              "    <tr>\n",
              "      <th>4</th>\n",
              "      <td>98800005</td>\n",
              "      <td>1</td>\n",
              "      <td>Acceptable</td>\n",
              "      <td>Ordinary</td>\n",
              "      <td>Acceptable</td>\n",
              "      <td>Acceptable</td>\n",
              "      <td>Manageable</td>\n",
              "      <td>Needs Improvement</td>\n",
              "      <td>Good</td>\n",
              "      <td>Excellent</td>\n",
              "      <td>Good</td>\n",
              "      <td>Good</td>\n",
              "      <td>Good</td>\n",
              "      <td>Good</td>\n",
              "      <td>Good</td>\n",
              "      <td>Good</td>\n",
              "      <td>Good</td>\n",
              "    </tr>\n",
              "    <tr>\n",
              "      <th>...</th>\n",
              "      <td>...</td>\n",
              "      <td>...</td>\n",
              "      <td>...</td>\n",
              "      <td>...</td>\n",
              "      <td>...</td>\n",
              "      <td>...</td>\n",
              "      <td>...</td>\n",
              "      <td>...</td>\n",
              "      <td>...</td>\n",
              "      <td>...</td>\n",
              "      <td>...</td>\n",
              "      <td>...</td>\n",
              "      <td>...</td>\n",
              "      <td>...</td>\n",
              "      <td>...</td>\n",
              "      <td>...</td>\n",
              "      <td>...</td>\n",
              "    </tr>\n",
              "    <tr>\n",
              "      <th>94374</th>\n",
              "      <td>98894375</td>\n",
              "      <td>0</td>\n",
              "      <td>Poor</td>\n",
              "      <td>Ordinary</td>\n",
              "      <td>Good</td>\n",
              "      <td>Good</td>\n",
              "      <td>Convenient</td>\n",
              "      <td>Poor</td>\n",
              "      <td>Poor</td>\n",
              "      <td>Poor</td>\n",
              "      <td>Poor</td>\n",
              "      <td>Good</td>\n",
              "      <td>Good</td>\n",
              "      <td>Good</td>\n",
              "      <td>Needs Improvement</td>\n",
              "      <td>Good</td>\n",
              "      <td>Poor</td>\n",
              "    </tr>\n",
              "    <tr>\n",
              "      <th>94375</th>\n",
              "      <td>98894376</td>\n",
              "      <td>1</td>\n",
              "      <td>Good</td>\n",
              "      <td>Ordinary</td>\n",
              "      <td>Good</td>\n",
              "      <td>Good</td>\n",
              "      <td>Convenient</td>\n",
              "      <td>Needs Improvement</td>\n",
              "      <td>Excellent</td>\n",
              "      <td>Excellent</td>\n",
              "      <td>Acceptable</td>\n",
              "      <td>Acceptable</td>\n",
              "      <td>Acceptable</td>\n",
              "      <td>Acceptable</td>\n",
              "      <td>Good</td>\n",
              "      <td>Acceptable</td>\n",
              "      <td>Good</td>\n",
              "    </tr>\n",
              "    <tr>\n",
              "      <th>94376</th>\n",
              "      <td>98894377</td>\n",
              "      <td>1</td>\n",
              "      <td>Needs Improvement</td>\n",
              "      <td>Green Car</td>\n",
              "      <td>Needs Improvement</td>\n",
              "      <td>Needs Improvement</td>\n",
              "      <td>Needs Improvement</td>\n",
              "      <td>Good</td>\n",
              "      <td>Excellent</td>\n",
              "      <td>Good</td>\n",
              "      <td>Good</td>\n",
              "      <td>Good</td>\n",
              "      <td>Good</td>\n",
              "      <td>Good</td>\n",
              "      <td>Acceptable</td>\n",
              "      <td>Good</td>\n",
              "      <td>Acceptable</td>\n",
              "    </tr>\n",
              "    <tr>\n",
              "      <th>94377</th>\n",
              "      <td>98894378</td>\n",
              "      <td>0</td>\n",
              "      <td>Needs Improvement</td>\n",
              "      <td>Ordinary</td>\n",
              "      <td>NaN</td>\n",
              "      <td>Needs Improvement</td>\n",
              "      <td>Convenient</td>\n",
              "      <td>Good</td>\n",
              "      <td>Needs Improvement</td>\n",
              "      <td>Good</td>\n",
              "      <td>Good</td>\n",
              "      <td>Acceptable</td>\n",
              "      <td>Good</td>\n",
              "      <td>Good</td>\n",
              "      <td>Good</td>\n",
              "      <td>Excellent</td>\n",
              "      <td>Good</td>\n",
              "    </tr>\n",
              "    <tr>\n",
              "      <th>94378</th>\n",
              "      <td>98894379</td>\n",
              "      <td>0</td>\n",
              "      <td>Acceptable</td>\n",
              "      <td>Ordinary</td>\n",
              "      <td>Poor</td>\n",
              "      <td>Acceptable</td>\n",
              "      <td>Manageable</td>\n",
              "      <td>Acceptable</td>\n",
              "      <td>Acceptable</td>\n",
              "      <td>Acceptable</td>\n",
              "      <td>Acceptable</td>\n",
              "      <td>Poor</td>\n",
              "      <td>Good</td>\n",
              "      <td>Good</td>\n",
              "      <td>Poor</td>\n",
              "      <td>Good</td>\n",
              "      <td>Acceptable</td>\n",
              "    </tr>\n",
              "  </tbody>\n",
              "</table>\n",
              "<p>94379 rows × 17 columns</p>\n",
              "</div>\n",
              "      <button class=\"colab-df-convert\" onclick=\"convertToInteractive('df-137f940b-d0c5-485b-aa34-1d31713bd9d4')\"\n",
              "              title=\"Convert this dataframe to an interactive table.\"\n",
              "              style=\"display:none;\">\n",
              "        \n",
              "  <svg xmlns=\"http://www.w3.org/2000/svg\" height=\"24px\"viewBox=\"0 0 24 24\"\n",
              "       width=\"24px\">\n",
              "    <path d=\"M0 0h24v24H0V0z\" fill=\"none\"/>\n",
              "    <path d=\"M18.56 5.44l.94 2.06.94-2.06 2.06-.94-2.06-.94-.94-2.06-.94 2.06-2.06.94zm-11 1L8.5 8.5l.94-2.06 2.06-.94-2.06-.94L8.5 2.5l-.94 2.06-2.06.94zm10 10l.94 2.06.94-2.06 2.06-.94-2.06-.94-.94-2.06-.94 2.06-2.06.94z\"/><path d=\"M17.41 7.96l-1.37-1.37c-.4-.4-.92-.59-1.43-.59-.52 0-1.04.2-1.43.59L10.3 9.45l-7.72 7.72c-.78.78-.78 2.05 0 2.83L4 21.41c.39.39.9.59 1.41.59.51 0 1.02-.2 1.41-.59l7.78-7.78 2.81-2.81c.8-.78.8-2.07 0-2.86zM5.41 20L4 18.59l7.72-7.72 1.47 1.35L5.41 20z\"/>\n",
              "  </svg>\n",
              "      </button>\n",
              "      \n",
              "  <style>\n",
              "    .colab-df-container {\n",
              "      display:flex;\n",
              "      flex-wrap:wrap;\n",
              "      gap: 12px;\n",
              "    }\n",
              "\n",
              "    .colab-df-convert {\n",
              "      background-color: #E8F0FE;\n",
              "      border: none;\n",
              "      border-radius: 50%;\n",
              "      cursor: pointer;\n",
              "      display: none;\n",
              "      fill: #1967D2;\n",
              "      height: 32px;\n",
              "      padding: 0 0 0 0;\n",
              "      width: 32px;\n",
              "    }\n",
              "\n",
              "    .colab-df-convert:hover {\n",
              "      background-color: #E2EBFA;\n",
              "      box-shadow: 0px 1px 2px rgba(60, 64, 67, 0.3), 0px 1px 3px 1px rgba(60, 64, 67, 0.15);\n",
              "      fill: #174EA6;\n",
              "    }\n",
              "\n",
              "    [theme=dark] .colab-df-convert {\n",
              "      background-color: #3B4455;\n",
              "      fill: #D2E3FC;\n",
              "    }\n",
              "\n",
              "    [theme=dark] .colab-df-convert:hover {\n",
              "      background-color: #434B5C;\n",
              "      box-shadow: 0px 1px 3px 1px rgba(0, 0, 0, 0.15);\n",
              "      filter: drop-shadow(0px 1px 2px rgba(0, 0, 0, 0.3));\n",
              "      fill: #FFFFFF;\n",
              "    }\n",
              "  </style>\n",
              "\n",
              "      <script>\n",
              "        const buttonEl =\n",
              "          document.querySelector('#df-137f940b-d0c5-485b-aa34-1d31713bd9d4 button.colab-df-convert');\n",
              "        buttonEl.style.display =\n",
              "          google.colab.kernel.accessAllowed ? 'block' : 'none';\n",
              "\n",
              "        async function convertToInteractive(key) {\n",
              "          const element = document.querySelector('#df-137f940b-d0c5-485b-aa34-1d31713bd9d4');\n",
              "          const dataTable =\n",
              "            await google.colab.kernel.invokeFunction('convertToInteractive',\n",
              "                                                     [key], {});\n",
              "          if (!dataTable) return;\n",
              "\n",
              "          const docLinkHtml = 'Like what you see? Visit the ' +\n",
              "            '<a target=\"_blank\" href=https://colab.research.google.com/notebooks/data_table.ipynb>data table notebook</a>'\n",
              "            + ' to learn more about interactive tables.';\n",
              "          element.innerHTML = '';\n",
              "          dataTable['output_type'] = 'display_data';\n",
              "          await google.colab.output.renderOutput(dataTable, element);\n",
              "          const docLink = document.createElement('div');\n",
              "          docLink.innerHTML = docLinkHtml;\n",
              "          element.appendChild(docLink);\n",
              "        }\n",
              "      </script>\n",
              "    </div>\n",
              "  </div>\n",
              "  "
            ]
          },
          "metadata": {},
          "execution_count": 283
        }
      ],
      "source": [
        "features_df"
      ]
    },
    {
      "cell_type": "markdown",
      "source": [
        "###Handling the missing values"
      ],
      "metadata": {
        "id": "6yNGKAZ6_wcR"
      }
    },
    {
      "cell_type": "code",
      "source": [
        "#plot a histogram for each numerical attribute\n",
        "%matplotlib inline  \n",
        "import matplotlib.pyplot as plt\n",
        "features_df.hist(bins=50, figsize=(18,14))\n",
        "plt.show()"
      ],
      "metadata": {
        "colab": {
          "base_uri": "https://localhost:8080/",
          "height": 838
        },
        "id": "e_DKQUiW__OJ",
        "outputId": "d0c04579-6c89-4a8c-c019-4db2d03e1941"
      },
      "execution_count": 284,
      "outputs": [
        {
          "output_type": "display_data",
          "data": {
            "text/plain": [
              "<Figure size 1296x1008 with 2 Axes>"
            ],
            "image/png": "[encoded data removed]"
          },
          "metadata": {
            "needs_background": "light"
          }
        }
      ]
    },
    {
      "cell_type": "code",
      "execution_count": 285,
      "metadata": {
        "colab": {
          "base_uri": "https://localhost:8080/",
          "height": 397
        },
        "id": "nyqusSehXpOF",
        "outputId": "40d2b12f-93e3-4e26-fab9-ea0b266665dc"
      },
      "outputs": [
        {
          "output_type": "execute_result",
          "data": {
            "text/plain": [
              "<matplotlib.axes._subplots.AxesSubplot at 0x7f99bd563be0>"
            ]
          },
          "metadata": {},
          "execution_count": 285
        },
        {
          "output_type": "display_data",
          "data": {
            "text/plain": [
              "<Figure size 432x288 with 1 Axes>"
            ],
            "image/png": "[encoded data removed]"
          },
          "metadata": {
            "needs_background": "light"
          }
        }
      ],
      "source": [
        "sns.heatmap(features_df.isnull(),yticklabels=False,cbar=False,cmap='viridis')"
      ]
    },
    {
      "cell_type": "code",
      "execution_count": 286,
      "metadata": {
        "colab": {
          "base_uri": "https://localhost:8080/",
          "height": 583
        },
        "id": "tjUXaZr9S24Z",
        "outputId": "093da010-f772-41e7-8908-53b7fe986bc2"
      },
      "outputs": [
        {
          "output_type": "execute_result",
          "data": {
            "text/plain": [
              "                column_name  null_count  null_percentage\n",
              "4   Arrival_Time_Convenient        8930             9.46\n",
              "5                  Catering        8741             9.26\n",
              "11          Onboard_Service        7601             8.05\n",
              "13         Baggage_Handling         142             0.15\n",
              "9            Online_Support          91             0.10\n",
              "12                  Legroom          90             0.10\n",
              "14          CheckIn_Service          77             0.08\n",
              "10   Ease_of_Online_Booking          73             0.08\n",
              "2              Seat_Comfort          61             0.06\n",
              "6         Platform_Location          30             0.03\n",
              "7      Onboard_Wifi_Service          30             0.03\n",
              "8     Onboard_Entertainment          18             0.02\n",
              "15              Cleanliness           6             0.01\n",
              "16          Online_Boarding           6             0.01\n",
              "1        Overall_Experience           0             0.00\n",
              "3                Seat_Class           0             0.00\n",
              "0                        ID           0             0.00"
            ],
            "text/html": [
              "\n",
              "  <div id=\"df-2f38bf38-2cc5-49b1-b2be-19af4279e584\">\n",
              "    <div class=\"colab-df-container\">\n",
              "      <div>\n",
              "<style scoped>\n",
              "    .dataframe tbody tr th:only-of-type {\n",
              "        vertical-align: middle;\n",
              "    }\n",
              "\n",
              "    .dataframe tbody tr th {\n",
              "        vertical-align: top;\n",
              "    }\n",
              "\n",
              "    .dataframe thead th {\n",
              "        text-align: right;\n",
              "    }\n",
              "</style>\n",
              "<table border=\"1\" class=\"dataframe\">\n",
              "  <thead>\n",
              "    <tr style=\"text-align: right;\">\n",
              "      <th></th>\n",
              "      <th>column_name</th>\n",
              "      <th>null_count</th>\n",
              "      <th>null_percentage</th>\n",
              "    </tr>\n",
              "  </thead>\n",
              "  <tbody>\n",
              "    <tr>\n",
              "      <th>4</th>\n",
              "      <td>Arrival_Time_Convenient</td>\n",
              "      <td>8930</td>\n",
              "      <td>9.46</td>\n",
              "    </tr>\n",
              "    <tr>\n",
              "      <th>5</th>\n",
              "      <td>Catering</td>\n",
              "      <td>8741</td>\n",
              "      <td>9.26</td>\n",
              "    </tr>\n",
              "    <tr>\n",
              "      <th>11</th>\n",
              "      <td>Onboard_Service</td>\n",
              "      <td>7601</td>\n",
              "      <td>8.05</td>\n",
              "    </tr>\n",
              "    <tr>\n",
              "      <th>13</th>\n",
              "      <td>Baggage_Handling</td>\n",
              "      <td>142</td>\n",
              "      <td>0.15</td>\n",
              "    </tr>\n",
              "    <tr>\n",
              "      <th>9</th>\n",
              "      <td>Online_Support</td>\n",
              "      <td>91</td>\n",
              "      <td>0.10</td>\n",
              "    </tr>\n",
              "    <tr>\n",
              "      <th>12</th>\n",
              "      <td>Legroom</td>\n",
              "      <td>90</td>\n",
              "      <td>0.10</td>\n",
              "    </tr>\n",
              "    <tr>\n",
              "      <th>14</th>\n",
              "      <td>CheckIn_Service</td>\n",
              "      <td>77</td>\n",
              "      <td>0.08</td>\n",
              "    </tr>\n",
              "    <tr>\n",
              "      <th>10</th>\n",
              "      <td>Ease_of_Online_Booking</td>\n",
              "      <td>73</td>\n",
              "      <td>0.08</td>\n",
              "    </tr>\n",
              "    <tr>\n",
              "      <th>2</th>\n",
              "      <td>Seat_Comfort</td>\n",
              "      <td>61</td>\n",
              "      <td>0.06</td>\n",
              "    </tr>\n",
              "    <tr>\n",
              "      <th>6</th>\n",
              "      <td>Platform_Location</td>\n",
              "      <td>30</td>\n",
              "      <td>0.03</td>\n",
              "    </tr>\n",
              "    <tr>\n",
              "      <th>7</th>\n",
              "      <td>Onboard_Wifi_Service</td>\n",
              "      <td>30</td>\n",
              "      <td>0.03</td>\n",
              "    </tr>\n",
              "    <tr>\n",
              "      <th>8</th>\n",
              "      <td>Onboard_Entertainment</td>\n",
              "      <td>18</td>\n",
              "      <td>0.02</td>\n",
              "    </tr>\n",
              "    <tr>\n",
              "      <th>15</th>\n",
              "      <td>Cleanliness</td>\n",
              "      <td>6</td>\n",
              "      <td>0.01</td>\n",
              "    </tr>\n",
              "    <tr>\n",
              "      <th>16</th>\n",
              "      <td>Online_Boarding</td>\n",
              "      <td>6</td>\n",
              "      <td>0.01</td>\n",
              "    </tr>\n",
              "    <tr>\n",
              "      <th>1</th>\n",
              "      <td>Overall_Experience</td>\n",
              "      <td>0</td>\n",
              "      <td>0.00</td>\n",
              "    </tr>\n",
              "    <tr>\n",
              "      <th>3</th>\n",
              "      <td>Seat_Class</td>\n",
              "      <td>0</td>\n",
              "      <td>0.00</td>\n",
              "    </tr>\n",
              "    <tr>\n",
              "      <th>0</th>\n",
              "      <td>ID</td>\n",
              "      <td>0</td>\n",
              "      <td>0.00</td>\n",
              "    </tr>\n",
              "  </tbody>\n",
              "</table>\n",
              "</div>\n",
              "      <button class=\"colab-df-convert\" onclick=\"convertToInteractive('df-2f38bf38-2cc5-49b1-b2be-19af4279e584')\"\n",
              "              title=\"Convert this dataframe to an interactive table.\"\n",
              "              style=\"display:none;\">\n",
              "        \n",
              "  <svg xmlns=\"http://www.w3.org/2000/svg\" height=\"24px\"viewBox=\"0 0 24 24\"\n",
              "       width=\"24px\">\n",
              "    <path d=\"M0 0h24v24H0V0z\" fill=\"none\"/>\n",
              "    <path d=\"M18.56 5.44l.94 2.06.94-2.06 2.06-.94-2.06-.94-.94-2.06-.94 2.06-2.06.94zm-11 1L8.5 8.5l.94-2.06 2.06-.94-2.06-.94L8.5 2.5l-.94 2.06-2.06.94zm10 10l.94 2.06.94-2.06 2.06-.94-2.06-.94-.94-2.06-.94 2.06-2.06.94z\"/><path d=\"M17.41 7.96l-1.37-1.37c-.4-.4-.92-.59-1.43-.59-.52 0-1.04.2-1.43.59L10.3 9.45l-7.72 7.72c-.78.78-.78 2.05 0 2.83L4 21.41c.39.39.9.59 1.41.59.51 0 1.02-.2 1.41-.59l7.78-7.78 2.81-2.81c.8-.78.8-2.07 0-2.86zM5.41 20L4 18.59l7.72-7.72 1.47 1.35L5.41 20z\"/>\n",
              "  </svg>\n",
              "      </button>\n",
              "      \n",
              "  <style>\n",
              "    .colab-df-container {\n",
              "      display:flex;\n",
              "      flex-wrap:wrap;\n",
              "      gap: 12px;\n",
              "    }\n",
              "\n",
              "    .colab-df-convert {\n",
              "      background-color: #E8F0FE;\n",
              "      border: none;\n",
              "      border-radius: 50%;\n",
              "      cursor: pointer;\n",
              "      display: none;\n",
              "      fill: #1967D2;\n",
              "      height: 32px;\n",
              "      padding: 0 0 0 0;\n",
              "      width: 32px;\n",
              "    }\n",
              "\n",
              "    .colab-df-convert:hover {\n",
              "      background-color: #E2EBFA;\n",
              "      box-shadow: 0px 1px 2px rgba(60, 64, 67, 0.3), 0px 1px 3px 1px rgba(60, 64, 67, 0.15);\n",
              "      fill: #174EA6;\n",
              "    }\n",
              "\n",
              "    [theme=dark] .colab-df-convert {\n",
              "      background-color: #3B4455;\n",
              "      fill: #D2E3FC;\n",
              "    }\n",
              "\n",
              "    [theme=dark] .colab-df-convert:hover {\n",
              "      background-color: #434B5C;\n",
              "      box-shadow: 0px 1px 3px 1px rgba(0, 0, 0, 0.15);\n",
              "      filter: drop-shadow(0px 1px 2px rgba(0, 0, 0, 0.3));\n",
              "      fill: #FFFFFF;\n",
              "    }\n",
              "  </style>\n",
              "\n",
              "      <script>\n",
              "        const buttonEl =\n",
              "          document.querySelector('#df-2f38bf38-2cc5-49b1-b2be-19af4279e584 button.colab-df-convert');\n",
              "        buttonEl.style.display =\n",
              "          google.colab.kernel.accessAllowed ? 'block' : 'none';\n",
              "\n",
              "        async function convertToInteractive(key) {\n",
              "          const element = document.querySelector('#df-2f38bf38-2cc5-49b1-b2be-19af4279e584');\n",
              "          const dataTable =\n",
              "            await google.colab.kernel.invokeFunction('convertToInteractive',\n",
              "                                                     [key], {});\n",
              "          if (!dataTable) return;\n",
              "\n",
              "          const docLinkHtml = 'Like what you see? Visit the ' +\n",
              "            '<a target=\"_blank\" href=https://colab.research.google.com/notebooks/data_table.ipynb>data table notebook</a>'\n",
              "            + ' to learn more about interactive tables.';\n",
              "          element.innerHTML = '';\n",
              "          dataTable['output_type'] = 'display_data';\n",
              "          await google.colab.output.renderOutput(dataTable, element);\n",
              "          const docLink = document.createElement('div');\n",
              "          docLink.innerHTML = docLinkHtml;\n",
              "          element.appendChild(docLink);\n",
              "        }\n",
              "      </script>\n",
              "    </div>\n",
              "  </div>\n",
              "  "
            ]
          },
          "metadata": {},
          "execution_count": 286
        }
      ],
      "source": [
        "#Propotion of missing values\n",
        "null_count = features_df.isnull().sum()\n",
        "null_percentage = round((features_df.isnull().sum()/features_df.shape[0])*100, 2)\n",
        "null_df = pd.DataFrame({'column_name' : features_df.columns,'null_count' : null_count,'null_percentage': null_percentage})\n",
        "null_df.reset_index(drop = True, inplace = True)\n",
        "null_df.sort_values(by = 'null_percentage', ascending = False)"
      ]
    },
    {
      "cell_type": "code",
      "execution_count": 287,
      "metadata": {
        "colab": {
          "base_uri": "https://localhost:8080/",
          "height": 322
        },
        "id": "_iF0Xe5OfJcc",
        "outputId": "b5df19df-871a-4042-a328-8b46197583e2"
      },
      "outputs": [
        {
          "output_type": "execute_result",
          "data": {
            "text/plain": [
              "         ID  Overall_Experience       Seat_Comfort Seat_Class  \\\n",
              "0  98800001                   0  Needs Improvement  Green Car   \n",
              "1  98800002                   0               Poor   Ordinary   \n",
              "2  98800003                   1  Needs Improvement  Green Car   \n",
              "3  98800004                   0         Acceptable   Ordinary   \n",
              "4  98800005                   1         Acceptable   Ordinary   \n",
              "\n",
              "  Arrival_Time_Convenient           Catering  Platform_Location  \\\n",
              "0               Excellent          Excellent    Very Convenient   \n",
              "1               Excellent               Poor  Needs Improvement   \n",
              "2       Needs Improvement  Needs Improvement  Needs Improvement   \n",
              "3       Needs Improvement                NaN  Needs Improvement   \n",
              "4              Acceptable         Acceptable         Manageable   \n",
              "\n",
              "  Onboard_Wifi_Service Onboard_Entertainment Online_Support  \\\n",
              "0                 Good     Needs Improvement     Acceptable   \n",
              "1                 Good                  Poor           Good   \n",
              "2    Needs Improvement                  Good      Excellent   \n",
              "3           Acceptable     Needs Improvement     Acceptable   \n",
              "4    Needs Improvement                  Good      Excellent   \n",
              "\n",
              "  Ease_of_Online_Booking    Onboard_Service            Legroom  \\\n",
              "0      Needs Improvement  Needs Improvement         Acceptable   \n",
              "1                   Good          Excellent  Needs Improvement   \n",
              "2              Excellent          Excellent          Excellent   \n",
              "3             Acceptable         Acceptable         Acceptable   \n",
              "4                   Good               Good               Good   \n",
              "\n",
              "    Baggage_Handling    CheckIn_Service        Cleanliness Online_Boarding  \n",
              "0  Needs Improvement               Good  Needs Improvement            Poor  \n",
              "1               Poor  Needs Improvement               Good            Good  \n",
              "2          Excellent               Good          Excellent       Excellent  \n",
              "3         Acceptable               Good         Acceptable      Acceptable  \n",
              "4               Good               Good               Good            Good  "
            ],
            "text/html": [
              "\n",
              "  <div id=\"df-8bd2f2ae-0cf9-43b6-ab52-9ef476a30a62\">\n",
              "    <div class=\"colab-df-container\">\n",
              "      <div>\n",
              "<style scoped>\n",
              "    .dataframe tbody tr th:only-of-type {\n",
              "        vertical-align: middle;\n",
              "    }\n",
              "\n",
              "    .dataframe tbody tr th {\n",
              "        vertical-align: top;\n",
              "    }\n",
              "\n",
              "    .dataframe thead th {\n",
              "        text-align: right;\n",
              "    }\n",
              "</style>\n",
              "<table border=\"1\" class=\"dataframe\">\n",
              "  <thead>\n",
              "    <tr style=\"text-align: right;\">\n",
              "      <th></th>\n",
              "      <th>ID</th>\n",
              "      <th>Overall_Experience</th>\n",
              "      <th>Seat_Comfort</th>\n",
              "      <th>Seat_Class</th>\n",
              "      <th>Arrival_Time_Convenient</th>\n",
              "      <th>Catering</th>\n",
              "      <th>Platform_Location</th>\n",
              "      <th>Onboard_Wifi_Service</th>\n",
              "      <th>Onboard_Entertainment</th>\n",
              "      <th>Online_Support</th>\n",
              "      <th>Ease_of_Online_Booking</th>\n",
              "      <th>Onboard_Service</th>\n",
              "      <th>Legroom</th>\n",
              "      <th>Baggage_Handling</th>\n",
              "      <th>CheckIn_Service</th>\n",
              "      <th>Cleanliness</th>\n",
              "      <th>Online_Boarding</th>\n",
              "    </tr>\n",
              "  </thead>\n",
              "  <tbody>\n",
              "    <tr>\n",
              "      <th>0</th>\n",
              "      <td>98800001</td>\n",
              "      <td>0</td>\n",
              "      <td>Needs Improvement</td>\n",
              "      <td>Green Car</td>\n",
              "      <td>Excellent</td>\n",
              "      <td>Excellent</td>\n",
              "      <td>Very Convenient</td>\n",
              "      <td>Good</td>\n",
              "      <td>Needs Improvement</td>\n",
              "      <td>Acceptable</td>\n",
              "      <td>Needs Improvement</td>\n",
              "      <td>Needs Improvement</td>\n",
              "      <td>Acceptable</td>\n",
              "      <td>Needs Improvement</td>\n",
              "      <td>Good</td>\n",
              "      <td>Needs Improvement</td>\n",
              "      <td>Poor</td>\n",
              "    </tr>\n",
              "    <tr>\n",
              "      <th>1</th>\n",
              "      <td>98800002</td>\n",
              "      <td>0</td>\n",
              "      <td>Poor</td>\n",
              "      <td>Ordinary</td>\n",
              "      <td>Excellent</td>\n",
              "      <td>Poor</td>\n",
              "      <td>Needs Improvement</td>\n",
              "      <td>Good</td>\n",
              "      <td>Poor</td>\n",
              "      <td>Good</td>\n",
              "      <td>Good</td>\n",
              "      <td>Excellent</td>\n",
              "      <td>Needs Improvement</td>\n",
              "      <td>Poor</td>\n",
              "      <td>Needs Improvement</td>\n",
              "      <td>Good</td>\n",
              "      <td>Good</td>\n",
              "    </tr>\n",
              "    <tr>\n",
              "      <th>2</th>\n",
              "      <td>98800003</td>\n",
              "      <td>1</td>\n",
              "      <td>Needs Improvement</td>\n",
              "      <td>Green Car</td>\n",
              "      <td>Needs Improvement</td>\n",
              "      <td>Needs Improvement</td>\n",
              "      <td>Needs Improvement</td>\n",
              "      <td>Needs Improvement</td>\n",
              "      <td>Good</td>\n",
              "      <td>Excellent</td>\n",
              "      <td>Excellent</td>\n",
              "      <td>Excellent</td>\n",
              "      <td>Excellent</td>\n",
              "      <td>Excellent</td>\n",
              "      <td>Good</td>\n",
              "      <td>Excellent</td>\n",
              "      <td>Excellent</td>\n",
              "    </tr>\n",
              "    <tr>\n",
              "      <th>3</th>\n",
              "      <td>98800004</td>\n",
              "      <td>0</td>\n",
              "      <td>Acceptable</td>\n",
              "      <td>Ordinary</td>\n",
              "      <td>Needs Improvement</td>\n",
              "      <td>NaN</td>\n",
              "      <td>Needs Improvement</td>\n",
              "      <td>Acceptable</td>\n",
              "      <td>Needs Improvement</td>\n",
              "      <td>Acceptable</td>\n",
              "      <td>Acceptable</td>\n",
              "      <td>Acceptable</td>\n",
              "      <td>Acceptable</td>\n",
              "      <td>Acceptable</td>\n",
              "      <td>Good</td>\n",
              "      <td>Acceptable</td>\n",
              "      <td>Acceptable</td>\n",
              "    </tr>\n",
              "    <tr>\n",
              "      <th>4</th>\n",
              "      <td>98800005</td>\n",
              "      <td>1</td>\n",
              "      <td>Acceptable</td>\n",
              "      <td>Ordinary</td>\n",
              "      <td>Acceptable</td>\n",
              "      <td>Acceptable</td>\n",
              "      <td>Manageable</td>\n",
              "      <td>Needs Improvement</td>\n",
              "      <td>Good</td>\n",
              "      <td>Excellent</td>\n",
              "      <td>Good</td>\n",
              "      <td>Good</td>\n",
              "      <td>Good</td>\n",
              "      <td>Good</td>\n",
              "      <td>Good</td>\n",
              "      <td>Good</td>\n",
              "      <td>Good</td>\n",
              "    </tr>\n",
              "  </tbody>\n",
              "</table>\n",
              "</div>\n",
              "      <button class=\"colab-df-convert\" onclick=\"convertToInteractive('df-8bd2f2ae-0cf9-43b6-ab52-9ef476a30a62')\"\n",
              "              title=\"Convert this dataframe to an interactive table.\"\n",
              "              style=\"display:none;\">\n",
              "        \n",
              "  <svg xmlns=\"http://www.w3.org/2000/svg\" height=\"24px\"viewBox=\"0 0 24 24\"\n",
              "       width=\"24px\">\n",
              "    <path d=\"M0 0h24v24H0V0z\" fill=\"none\"/>\n",
              "    <path d=\"M18.56 5.44l.94 2.06.94-2.06 2.06-.94-2.06-.94-.94-2.06-.94 2.06-2.06.94zm-11 1L8.5 8.5l.94-2.06 2.06-.94-2.06-.94L8.5 2.5l-.94 2.06-2.06.94zm10 10l.94 2.06.94-2.06 2.06-.94-2.06-.94-.94-2.06-.94 2.06-2.06.94z\"/><path d=\"M17.41 7.96l-1.37-1.37c-.4-.4-.92-.59-1.43-.59-.52 0-1.04.2-1.43.59L10.3 9.45l-7.72 7.72c-.78.78-.78 2.05 0 2.83L4 21.41c.39.39.9.59 1.41.59.51 0 1.02-.2 1.41-.59l7.78-7.78 2.81-2.81c.8-.78.8-2.07 0-2.86zM5.41 20L4 18.59l7.72-7.72 1.47 1.35L5.41 20z\"/>\n",
              "  </svg>\n",
              "      </button>\n",
              "      \n",
              "  <style>\n",
              "    .colab-df-container {\n",
              "      display:flex;\n",
              "      flex-wrap:wrap;\n",
              "      gap: 12px;\n",
              "    }\n",
              "\n",
              "    .colab-df-convert {\n",
              "      background-color: #E8F0FE;\n",
              "      border: none;\n",
              "      border-radius: 50%;\n",
              "      cursor: pointer;\n",
              "      display: none;\n",
              "      fill: #1967D2;\n",
              "      height: 32px;\n",
              "      padding: 0 0 0 0;\n",
              "      width: 32px;\n",
              "    }\n",
              "\n",
              "    .colab-df-convert:hover {\n",
              "      background-color: #E2EBFA;\n",
              "      box-shadow: 0px 1px 2px rgba(60, 64, 67, 0.3), 0px 1px 3px 1px rgba(60, 64, 67, 0.15);\n",
              "      fill: #174EA6;\n",
              "    }\n",
              "\n",
              "    [theme=dark] .colab-df-convert {\n",
              "      background-color: #3B4455;\n",
              "      fill: #D2E3FC;\n",
              "    }\n",
              "\n",
              "    [theme=dark] .colab-df-convert:hover {\n",
              "      background-color: #434B5C;\n",
              "      box-shadow: 0px 1px 3px 1px rgba(0, 0, 0, 0.15);\n",
              "      filter: drop-shadow(0px 1px 2px rgba(0, 0, 0, 0.3));\n",
              "      fill: #FFFFFF;\n",
              "    }\n",
              "  </style>\n",
              "\n",
              "      <script>\n",
              "        const buttonEl =\n",
              "          document.querySelector('#df-8bd2f2ae-0cf9-43b6-ab52-9ef476a30a62 button.colab-df-convert');\n",
              "        buttonEl.style.display =\n",
              "          google.colab.kernel.accessAllowed ? 'block' : 'none';\n",
              "\n",
              "        async function convertToInteractive(key) {\n",
              "          const element = document.querySelector('#df-8bd2f2ae-0cf9-43b6-ab52-9ef476a30a62');\n",
              "          const dataTable =\n",
              "            await google.colab.kernel.invokeFunction('convertToInteractive',\n",
              "                                                     [key], {});\n",
              "          if (!dataTable) return;\n",
              "\n",
              "          const docLinkHtml = 'Like what you see? Visit the ' +\n",
              "            '<a target=\"_blank\" href=https://colab.research.google.com/notebooks/data_table.ipynb>data table notebook</a>'\n",
              "            + ' to learn more about interactive tables.';\n",
              "          element.innerHTML = '';\n",
              "          dataTable['output_type'] = 'display_data';\n",
              "          await google.colab.output.renderOutput(dataTable, element);\n",
              "          const docLink = document.createElement('div');\n",
              "          docLink.innerHTML = docLinkHtml;\n",
              "          element.appendChild(docLink);\n",
              "        }\n",
              "      </script>\n",
              "    </div>\n",
              "  </div>\n",
              "  "
            ]
          },
          "metadata": {},
          "execution_count": 287
        }
      ],
      "source": [
        "features_df.head()"
      ]
    },
    {
      "cell_type": "code",
      "execution_count": 288,
      "metadata": {
        "colab": {
          "base_uri": "https://localhost:8080/"
        },
        "id": "O2uQ0ZPGI7wc",
        "outputId": "87252ff7-2f0e-4baf-948d-edddd32f0a9a"
      },
      "outputs": [
        {
          "output_type": "execute_result",
          "data": {
            "text/plain": [
              "ID                          True\n",
              "Overall_Experience          True\n",
              "Seat_Comfort               False\n",
              "Seat_Class                 False\n",
              "Arrival_Time_Convenient    False\n",
              "Catering                   False\n",
              "Platform_Location          False\n",
              "Onboard_Wifi_Service       False\n",
              "Onboard_Entertainment      False\n",
              "Online_Support             False\n",
              "Ease_of_Online_Booking     False\n",
              "Onboard_Service            False\n",
              "Legroom                    False\n",
              "Baggage_Handling           False\n",
              "CheckIn_Service            False\n",
              "Cleanliness                False\n",
              "Online_Boarding            False\n",
              "dtype: bool"
            ]
          },
          "metadata": {},
          "execution_count": 288
        }
      ],
      "source": [
        "features_df.dtypes != \"object\""
      ]
    },
    {
      "cell_type": "markdown",
      "source": [
        "###Fill in missing data with nan and then impute the data"
      ],
      "metadata": {
        "id": "frKW4u1YA39w"
      }
    },
    {
      "cell_type": "code",
      "source": [
        "# Replace Blank values with DataFrame.replace() methods.\n",
        "features_df = features_df.replace(r'^\\s*$', np.nan, regex=True)\n",
        "features_df"
      ],
      "metadata": {
        "id": "NejxWwAkyU4c",
        "outputId": "303a01b7-4bbe-42ef-b99a-afb6871900d0",
        "colab": {
          "base_uri": "https://localhost:8080/",
          "height": 575
        }
      },
      "execution_count": 289,
      "outputs": [
        {
          "output_type": "execute_result",
          "data": {
            "text/plain": [
              "             ID  Overall_Experience       Seat_Comfort Seat_Class  \\\n",
              "0      98800001                   0  Needs Improvement  Green Car   \n",
              "1      98800002                   0               Poor   Ordinary   \n",
              "2      98800003                   1  Needs Improvement  Green Car   \n",
              "3      98800004                   0         Acceptable   Ordinary   \n",
              "4      98800005                   1         Acceptable   Ordinary   \n",
              "...         ...                 ...                ...        ...   \n",
              "94374  98894375                   0               Poor   Ordinary   \n",
              "94375  98894376                   1               Good   Ordinary   \n",
              "94376  98894377                   1  Needs Improvement  Green Car   \n",
              "94377  98894378                   0  Needs Improvement   Ordinary   \n",
              "94378  98894379                   0         Acceptable   Ordinary   \n",
              "\n",
              "      Arrival_Time_Convenient           Catering  Platform_Location  \\\n",
              "0                   Excellent          Excellent    Very Convenient   \n",
              "1                   Excellent               Poor  Needs Improvement   \n",
              "2           Needs Improvement  Needs Improvement  Needs Improvement   \n",
              "3           Needs Improvement                NaN  Needs Improvement   \n",
              "4                  Acceptable         Acceptable         Manageable   \n",
              "...                       ...                ...                ...   \n",
              "94374                    Good               Good         Convenient   \n",
              "94375                    Good               Good         Convenient   \n",
              "94376       Needs Improvement  Needs Improvement  Needs Improvement   \n",
              "94377                     NaN  Needs Improvement         Convenient   \n",
              "94378                    Poor         Acceptable         Manageable   \n",
              "\n",
              "      Onboard_Wifi_Service Onboard_Entertainment Online_Support  \\\n",
              "0                     Good     Needs Improvement     Acceptable   \n",
              "1                     Good                  Poor           Good   \n",
              "2        Needs Improvement                  Good      Excellent   \n",
              "3               Acceptable     Needs Improvement     Acceptable   \n",
              "4        Needs Improvement                  Good      Excellent   \n",
              "...                    ...                   ...            ...   \n",
              "94374                 Poor                  Poor           Poor   \n",
              "94375    Needs Improvement             Excellent      Excellent   \n",
              "94376                 Good             Excellent           Good   \n",
              "94377                 Good     Needs Improvement           Good   \n",
              "94378           Acceptable            Acceptable     Acceptable   \n",
              "\n",
              "      Ease_of_Online_Booking    Onboard_Service            Legroom  \\\n",
              "0          Needs Improvement  Needs Improvement         Acceptable   \n",
              "1                       Good          Excellent  Needs Improvement   \n",
              "2                  Excellent          Excellent          Excellent   \n",
              "3                 Acceptable         Acceptable         Acceptable   \n",
              "4                       Good               Good               Good   \n",
              "...                      ...                ...                ...   \n",
              "94374                   Poor               Good               Good   \n",
              "94375             Acceptable         Acceptable         Acceptable   \n",
              "94376                   Good               Good               Good   \n",
              "94377                   Good         Acceptable               Good   \n",
              "94378             Acceptable               Poor               Good   \n",
              "\n",
              "        Baggage_Handling    CheckIn_Service        Cleanliness Online_Boarding  \n",
              "0      Needs Improvement               Good  Needs Improvement            Poor  \n",
              "1                   Poor  Needs Improvement               Good            Good  \n",
              "2              Excellent               Good          Excellent       Excellent  \n",
              "3             Acceptable               Good         Acceptable      Acceptable  \n",
              "4                   Good               Good               Good            Good  \n",
              "...                  ...                ...                ...             ...  \n",
              "94374               Good  Needs Improvement               Good            Poor  \n",
              "94375         Acceptable               Good         Acceptable            Good  \n",
              "94376               Good         Acceptable               Good      Acceptable  \n",
              "94377               Good               Good          Excellent            Good  \n",
              "94378               Good               Poor               Good      Acceptable  \n",
              "\n",
              "[94379 rows x 17 columns]"
            ],
            "text/html": [
              "\n",
              "  <div id=\"df-a1901d95-93c4-466c-a7f9-10d01d2b6ee2\">\n",
              "    <div class=\"colab-df-container\">\n",
              "      <div>\n",
              "<style scoped>\n",
              "    .dataframe tbody tr th:only-of-type {\n",
              "        vertical-align: middle;\n",
              "    }\n",
              "\n",
              "    .dataframe tbody tr th {\n",
              "        vertical-align: top;\n",
              "    }\n",
              "\n",
              "    .dataframe thead th {\n",
              "        text-align: right;\n",
              "    }\n",
              "</style>\n",
              "<table border=\"1\" class=\"dataframe\">\n",
              "  <thead>\n",
              "    <tr style=\"text-align: right;\">\n",
              "      <th></th>\n",
              "      <th>ID</th>\n",
              "      <th>Overall_Experience</th>\n",
              "      <th>Seat_Comfort</th>\n",
              "      <th>Seat_Class</th>\n",
              "      <th>Arrival_Time_Convenient</th>\n",
              "      <th>Catering</th>\n",
              "      <th>Platform_Location</th>\n",
              "      <th>Onboard_Wifi_Service</th>\n",
              "      <th>Onboard_Entertainment</th>\n",
              "      <th>Online_Support</th>\n",
              "      <th>Ease_of_Online_Booking</th>\n",
              "      <th>Onboard_Service</th>\n",
              "      <th>Legroom</th>\n",
              "      <th>Baggage_Handling</th>\n",
              "      <th>CheckIn_Service</th>\n",
              "      <th>Cleanliness</th>\n",
              "      <th>Online_Boarding</th>\n",
              "    </tr>\n",
              "  </thead>\n",
              "  <tbody>\n",
              "    <tr>\n",
              "      <th>0</th>\n",
              "      <td>98800001</td>\n",
              "      <td>0</td>\n",
              "      <td>Needs Improvement</td>\n",
              "      <td>Green Car</td>\n",
              "      <td>Excellent</td>\n",
              "      <td>Excellent</td>\n",
              "      <td>Very Convenient</td>\n",
              "      <td>Good</td>\n",
              "      <td>Needs Improvement</td>\n",
              "      <td>Acceptable</td>\n",
              "      <td>Needs Improvement</td>\n",
              "      <td>Needs Improvement</td>\n",
              "      <td>Acceptable</td>\n",
              "      <td>Needs Improvement</td>\n",
              "      <td>Good</td>\n",
              "      <td>Needs Improvement</td>\n",
              "      <td>Poor</td>\n",
              "    </tr>\n",
              "    <tr>\n",
              "      <th>1</th>\n",
              "      <td>98800002</td>\n",
              "      <td>0</td>\n",
              "      <td>Poor</td>\n",
              "      <td>Ordinary</td>\n",
              "      <td>Excellent</td>\n",
              "      <td>Poor</td>\n",
              "      <td>Needs Improvement</td>\n",
              "      <td>Good</td>\n",
              "      <td>Poor</td>\n",
              "      <td>Good</td>\n",
              "      <td>Good</td>\n",
              "      <td>Excellent</td>\n",
              "      <td>Needs Improvement</td>\n",
              "      <td>Poor</td>\n",
              "      <td>Needs Improvement</td>\n",
              "      <td>Good</td>\n",
              "      <td>Good</td>\n",
              "    </tr>\n",
              "    <tr>\n",
              "      <th>2</th>\n",
              "      <td>98800003</td>\n",
              "      <td>1</td>\n",
              "      <td>Needs Improvement</td>\n",
              "      <td>Green Car</td>\n",
              "      <td>Needs Improvement</td>\n",
              "      <td>Needs Improvement</td>\n",
              "      <td>Needs Improvement</td>\n",
              "      <td>Needs Improvement</td>\n",
              "      <td>Good</td>\n",
              "      <td>Excellent</td>\n",
              "      <td>Excellent</td>\n",
              "      <td>Excellent</td>\n",
              "      <td>Excellent</td>\n",
              "      <td>Excellent</td>\n",
              "      <td>Good</td>\n",
              "      <td>Excellent</td>\n",
              "      <td>Excellent</td>\n",
              "    </tr>\n",
              "    <tr>\n",
              "      <th>3</th>\n",
              "      <td>98800004</td>\n",
              "      <td>0</td>\n",
              "      <td>Acceptable</td>\n",
              "      <td>Ordinary</td>\n",
              "      <td>Needs Improvement</td>\n",
              "      <td>NaN</td>\n",
              "      <td>Needs Improvement</td>\n",
              "      <td>Acceptable</td>\n",
              "      <td>Needs Improvement</td>\n",
              "      <td>Acceptable</td>\n",
              "      <td>Acceptable</td>\n",
              "      <td>Acceptable</td>\n",
              "      <td>Acceptable</td>\n",
              "      <td>Acceptable</td>\n",
              "      <td>Good</td>\n",
              "      <td>Acceptable</td>\n",
              "      <td>Acceptable</td>\n",
              "    </tr>\n",
              "    <tr>\n",
              "      <th>4</th>\n",
              "      <td>98800005</td>\n",
              "      <td>1</td>\n",
              "      <td>Acceptable</td>\n",
              "      <td>Ordinary</td>\n",
              "      <td>Acceptable</td>\n",
              "      <td>Acceptable</td>\n",
              "      <td>Manageable</td>\n",
              "      <td>Needs Improvement</td>\n",
              "      <td>Good</td>\n",
              "      <td>Excellent</td>\n",
              "      <td>Good</td>\n",
              "      <td>Good</td>\n",
              "      <td>Good</td>\n",
              "      <td>Good</td>\n",
              "      <td>Good</td>\n",
              "      <td>Good</td>\n",
              "      <td>Good</td>\n",
              "    </tr>\n",
              "    <tr>\n",
              "      <th>...</th>\n",
              "      <td>...</td>\n",
              "      <td>...</td>\n",
              "      <td>...</td>\n",
              "      <td>...</td>\n",
              "      <td>...</td>\n",
              "      <td>...</td>\n",
              "      <td>...</td>\n",
              "      <td>...</td>\n",
              "      <td>...</td>\n",
              "      <td>...</td>\n",
              "      <td>...</td>\n",
              "      <td>...</td>\n",
              "      <td>...</td>\n",
              "      <td>...</td>\n",
              "      <td>...</td>\n",
              "      <td>...</td>\n",
              "      <td>...</td>\n",
              "    </tr>\n",
              "    <tr>\n",
              "      <th>94374</th>\n",
              "      <td>98894375</td>\n",
              "      <td>0</td>\n",
              "      <td>Poor</td>\n",
              "      <td>Ordinary</td>\n",
              "      <td>Good</td>\n",
              "      <td>Good</td>\n",
              "      <td>Convenient</td>\n",
              "      <td>Poor</td>\n",
              "      <td>Poor</td>\n",
              "      <td>Poor</td>\n",
              "      <td>Poor</td>\n",
              "      <td>Good</td>\n",
              "      <td>Good</td>\n",
              "      <td>Good</td>\n",
              "      <td>Needs Improvement</td>\n",
              "      <td>Good</td>\n",
              "      <td>Poor</td>\n",
              "    </tr>\n",
              "    <tr>\n",
              "      <th>94375</th>\n",
              "      <td>98894376</td>\n",
              "      <td>1</td>\n",
              "      <td>Good</td>\n",
              "      <td>Ordinary</td>\n",
              "      <td>Good</td>\n",
              "      <td>Good</td>\n",
              "      <td>Convenient</td>\n",
              "      <td>Needs Improvement</td>\n",
              "      <td>Excellent</td>\n",
              "      <td>Excellent</td>\n",
              "      <td>Acceptable</td>\n",
              "      <td>Acceptable</td>\n",
              "      <td>Acceptable</td>\n",
              "      <td>Acceptable</td>\n",
              "      <td>Good</td>\n",
              "      <td>Acceptable</td>\n",
              "      <td>Good</td>\n",
              "    </tr>\n",
              "    <tr>\n",
              "      <th>94376</th>\n",
              "      <td>98894377</td>\n",
              "      <td>1</td>\n",
              "      <td>Needs Improvement</td>\n",
              "      <td>Green Car</td>\n",
              "      <td>Needs Improvement</td>\n",
              "      <td>Needs Improvement</td>\n",
              "      <td>Needs Improvement</td>\n",
              "      <td>Good</td>\n",
              "      <td>Excellent</td>\n",
              "      <td>Good</td>\n",
              "      <td>Good</td>\n",
              "      <td>Good</td>\n",
              "      <td>Good</td>\n",
              "      <td>Good</td>\n",
              "      <td>Acceptable</td>\n",
              "      <td>Good</td>\n",
              "      <td>Acceptable</td>\n",
              "    </tr>\n",
              "    <tr>\n",
              "      <th>94377</th>\n",
              "      <td>98894378</td>\n",
              "      <td>0</td>\n",
              "      <td>Needs Improvement</td>\n",
              "      <td>Ordinary</td>\n",
              "      <td>NaN</td>\n",
              "      <td>Needs Improvement</td>\n",
              "      <td>Convenient</td>\n",
              "      <td>Good</td>\n",
              "      <td>Needs Improvement</td>\n",
              "      <td>Good</td>\n",
              "      <td>Good</td>\n",
              "      <td>Acceptable</td>\n",
              "      <td>Good</td>\n",
              "      <td>Good</td>\n",
              "      <td>Good</td>\n",
              "      <td>Excellent</td>\n",
              "      <td>Good</td>\n",
              "    </tr>\n",
              "    <tr>\n",
              "      <th>94378</th>\n",
              "      <td>98894379</td>\n",
              "      <td>0</td>\n",
              "      <td>Acceptable</td>\n",
              "      <td>Ordinary</td>\n",
              "      <td>Poor</td>\n",
              "      <td>Acceptable</td>\n",
              "      <td>Manageable</td>\n",
              "      <td>Acceptable</td>\n",
              "      <td>Acceptable</td>\n",
              "      <td>Acceptable</td>\n",
              "      <td>Acceptable</td>\n",
              "      <td>Poor</td>\n",
              "      <td>Good</td>\n",
              "      <td>Good</td>\n",
              "      <td>Poor</td>\n",
              "      <td>Good</td>\n",
              "      <td>Acceptable</td>\n",
              "    </tr>\n",
              "  </tbody>\n",
              "</table>\n",
              "<p>94379 rows × 17 columns</p>\n",
              "</div>\n",
              "      <button class=\"colab-df-convert\" onclick=\"convertToInteractive('df-a1901d95-93c4-466c-a7f9-10d01d2b6ee2')\"\n",
              "              title=\"Convert this dataframe to an interactive table.\"\n",
              "              style=\"display:none;\">\n",
              "        \n",
              "  <svg xmlns=\"http://www.w3.org/2000/svg\" height=\"24px\"viewBox=\"0 0 24 24\"\n",
              "       width=\"24px\">\n",
              "    <path d=\"M0 0h24v24H0V0z\" fill=\"none\"/>\n",
              "    <path d=\"M18.56 5.44l.94 2.06.94-2.06 2.06-.94-2.06-.94-.94-2.06-.94 2.06-2.06.94zm-11 1L8.5 8.5l.94-2.06 2.06-.94-2.06-.94L8.5 2.5l-.94 2.06-2.06.94zm10 10l.94 2.06.94-2.06 2.06-.94-2.06-.94-.94-2.06-.94 2.06-2.06.94z\"/><path d=\"M17.41 7.96l-1.37-1.37c-.4-.4-.92-.59-1.43-.59-.52 0-1.04.2-1.43.59L10.3 9.45l-7.72 7.72c-.78.78-.78 2.05 0 2.83L4 21.41c.39.39.9.59 1.41.59.51 0 1.02-.2 1.41-.59l7.78-7.78 2.81-2.81c.8-.78.8-2.07 0-2.86zM5.41 20L4 18.59l7.72-7.72 1.47 1.35L5.41 20z\"/>\n",
              "  </svg>\n",
              "      </button>\n",
              "      \n",
              "  <style>\n",
              "    .colab-df-container {\n",
              "      display:flex;\n",
              "      flex-wrap:wrap;\n",
              "      gap: 12px;\n",
              "    }\n",
              "\n",
              "    .colab-df-convert {\n",
              "      background-color: #E8F0FE;\n",
              "      border: none;\n",
              "      border-radius: 50%;\n",
              "      cursor: pointer;\n",
              "      display: none;\n",
              "      fill: #1967D2;\n",
              "      height: 32px;\n",
              "      padding: 0 0 0 0;\n",
              "      width: 32px;\n",
              "    }\n",
              "\n",
              "    .colab-df-convert:hover {\n",
              "      background-color: #E2EBFA;\n",
              "      box-shadow: 0px 1px 2px rgba(60, 64, 67, 0.3), 0px 1px 3px 1px rgba(60, 64, 67, 0.15);\n",
              "      fill: #174EA6;\n",
              "    }\n",
              "\n",
              "    [theme=dark] .colab-df-convert {\n",
              "      background-color: #3B4455;\n",
              "      fill: #D2E3FC;\n",
              "    }\n",
              "\n",
              "    [theme=dark] .colab-df-convert:hover {\n",
              "      background-color: #434B5C;\n",
              "      box-shadow: 0px 1px 3px 1px rgba(0, 0, 0, 0.15);\n",
              "      filter: drop-shadow(0px 1px 2px rgba(0, 0, 0, 0.3));\n",
              "      fill: #FFFFFF;\n",
              "    }\n",
              "  </style>\n",
              "\n",
              "      <script>\n",
              "        const buttonEl =\n",
              "          document.querySelector('#df-a1901d95-93c4-466c-a7f9-10d01d2b6ee2 button.colab-df-convert');\n",
              "        buttonEl.style.display =\n",
              "          google.colab.kernel.accessAllowed ? 'block' : 'none';\n",
              "\n",
              "        async function convertToInteractive(key) {\n",
              "          const element = document.querySelector('#df-a1901d95-93c4-466c-a7f9-10d01d2b6ee2');\n",
              "          const dataTable =\n",
              "            await google.colab.kernel.invokeFunction('convertToInteractive',\n",
              "                                                     [key], {});\n",
              "          if (!dataTable) return;\n",
              "\n",
              "          const docLinkHtml = 'Like what you see? Visit the ' +\n",
              "            '<a target=\"_blank\" href=https://colab.research.google.com/notebooks/data_table.ipynb>data table notebook</a>'\n",
              "            + ' to learn more about interactive tables.';\n",
              "          element.innerHTML = '';\n",
              "          dataTable['output_type'] = 'display_data';\n",
              "          await google.colab.output.renderOutput(dataTable, element);\n",
              "          const docLink = document.createElement('div');\n",
              "          docLink.innerHTML = docLinkHtml;\n",
              "          element.appendChild(docLink);\n",
              "        }\n",
              "      </script>\n",
              "    </div>\n",
              "  </div>\n",
              "  "
            ]
          },
          "metadata": {},
          "execution_count": 289
        }
      ]
    },
    {
      "cell_type": "markdown",
      "source": [
        "Fill in Nas with the mode(most frequent category per feature)\n",
        "\n",
        "Performed on both training and testing data"
      ],
      "metadata": {
        "id": "GKd4dPZoWNji"
      }
    },
    {
      "cell_type": "code",
      "source": [
        "features_df[\"Seat_Comfort\"].fillna(\"Acceptable\", inplace = True)\n",
        "test_df[\"Seat_Comfort\"].fillna(\"Acceptable\", inplace = True)"
      ],
      "metadata": {
        "id": "pqh6UEAwSX56"
      },
      "execution_count": 290,
      "outputs": []
    },
    {
      "cell_type": "code",
      "source": [
        "features_df[\"Arrival_Time_Convenient\"].fillna(\"Good\", inplace = True)\n",
        "test_df[\"Arrival_Time_Convenient\"].fillna(\"Good\", inplace = True)"
      ],
      "metadata": {
        "id": "4F3F074qTNx-"
      },
      "execution_count": 291,
      "outputs": []
    },
    {
      "cell_type": "code",
      "source": [
        "features_df[\"Catering\"].fillna(\"Good\", inplace = True)\n",
        "test_df[\"Catering\"].fillna(\"Good\", inplace = True)"
      ],
      "metadata": {
        "id": "1U83fqBaTe2W"
      },
      "execution_count": 292,
      "outputs": []
    },
    {
      "cell_type": "code",
      "source": [
        "features_df[\"Platform_Location\"].fillna(\"Manageable\", inplace = True)\n",
        "test_df[\"Platform_Location\"].fillna(\"Manageable\", inplace = True)"
      ],
      "metadata": {
        "id": "S3a1C9RCTezB"
      },
      "execution_count": 293,
      "outputs": []
    },
    {
      "cell_type": "code",
      "source": [
        "features_df[\"Onboard_Wifi_Service\"].fillna(\"Good\", inplace = True)\n",
        "test_df[\"Onboard_Wifi_Service\"].fillna(\"Good\", inplace = True)"
      ],
      "metadata": {
        "id": "lUUpMYVDTevM"
      },
      "execution_count": 294,
      "outputs": []
    },
    {
      "cell_type": "code",
      "source": [
        "features_df[\"Onboard_Entertainment\"].fillna(\"Good\", inplace = True)\n",
        "test_df[\"Onboard_Entertainment\"].fillna(\"Good\", inplace = True)"
      ],
      "metadata": {
        "id": "ZPX1CSh1UWiR"
      },
      "execution_count": 295,
      "outputs": []
    },
    {
      "cell_type": "code",
      "source": [
        "features_df[\"Online_Support\"].fillna(\"Good\", inplace = True)\n",
        "test_df[\"Online_Support\"].fillna(\"Good\", inplace = True)"
      ],
      "metadata": {
        "id": "2XBZiuRkUWXO"
      },
      "execution_count": 296,
      "outputs": []
    },
    {
      "cell_type": "code",
      "source": [
        "features_df[\"Onboard_Service\"].fillna(\"Good\", inplace = True)\n",
        "test_df[\"Onboard_Service\"].fillna(\"Good\", inplace = True)"
      ],
      "metadata": {
        "id": "IatkFLXFUWTZ"
      },
      "execution_count": 297,
      "outputs": []
    },
    {
      "cell_type": "code",
      "source": [
        "features_df[\"Legroom\"].fillna(\"Good\", inplace = True)\n",
        "test_df[\"Legroom\"].fillna(\"Good\", inplace = True)"
      ],
      "metadata": {
        "id": "7ZVnIP06VA-3"
      },
      "execution_count": 298,
      "outputs": []
    },
    {
      "cell_type": "code",
      "source": [
        "features_df[\"Baggage_Handling\"].fillna(\"Good\", inplace = True)\n",
        "test_df[\"Baggage_Handling\"].fillna(\"Good\", inplace = True)"
      ],
      "metadata": {
        "id": "DWs8BfNKVA8I"
      },
      "execution_count": 299,
      "outputs": []
    },
    {
      "cell_type": "code",
      "source": [
        "features_df[\"Ease_of_Online_Booking\"].fillna(\"Good\", inplace = True)\n",
        "test_df[\"Ease_of_Online_Booking\"].fillna(\"Good\", inplace = True)"
      ],
      "metadata": {
        "id": "NWBcjDxEWo9I"
      },
      "execution_count": 300,
      "outputs": []
    },
    {
      "cell_type": "code",
      "source": [
        "features_df[\"CheckIn_Service\"].fillna(\"Good\", inplace = True)\n",
        "test_df[\"CheckIn_Service\"].fillna(\"Good\", inplace = True)"
      ],
      "metadata": {
        "id": "VV2xrGaaVA4V"
      },
      "execution_count": 301,
      "outputs": []
    },
    {
      "cell_type": "code",
      "source": [
        "features_df[\"Cleanliness\"].fillna(\"Good\", inplace = True)\n",
        "test_df[\"Cleanliness\"].fillna(\"Good\", inplace = True)"
      ],
      "metadata": {
        "id": "h9OTx9huVA1A"
      },
      "execution_count": 302,
      "outputs": []
    },
    {
      "cell_type": "code",
      "source": [
        "features_df[\"Online_Boarding\"].fillna(\"Good\", inplace = True)\n",
        "test_df[\"Online_Boarding\"].fillna(\"Good\", inplace = True)"
      ],
      "metadata": {
        "id": "RP-t3ImfV7Et"
      },
      "execution_count": 303,
      "outputs": []
    },
    {
      "cell_type": "code",
      "source": [
        "features_df.isna().sum()"
      ],
      "metadata": {
        "id": "2Msc8u3AwkbE",
        "outputId": "62a35260-8049-4577-fdfd-7ea952d5eb61",
        "colab": {
          "base_uri": "https://localhost:8080/"
        }
      },
      "execution_count": 304,
      "outputs": [
        {
          "output_type": "execute_result",
          "data": {
            "text/plain": [
              "ID                         0\n",
              "Overall_Experience         0\n",
              "Seat_Comfort               0\n",
              "Seat_Class                 0\n",
              "Arrival_Time_Convenient    0\n",
              "Catering                   0\n",
              "Platform_Location          0\n",
              "Onboard_Wifi_Service       0\n",
              "Onboard_Entertainment      0\n",
              "Online_Support             0\n",
              "Ease_of_Online_Booking     0\n",
              "Onboard_Service            0\n",
              "Legroom                    0\n",
              "Baggage_Handling           0\n",
              "CheckIn_Service            0\n",
              "Cleanliness                0\n",
              "Online_Boarding            0\n",
              "dtype: int64"
            ]
          },
          "metadata": {},
          "execution_count": 304
        }
      ]
    },
    {
      "cell_type": "markdown",
      "source": [
        "###Preprocessing the data\n",
        "\n",
        "The missing values are now successfully handled.\n",
        "\n",
        "There is still some minor but essential data preprocessing needed before we proceed towards building our machine learning model."
      ],
      "metadata": {
        "id": "cUZ5_XPFC306"
      }
    },
    {
      "cell_type": "markdown",
      "source": [
        "LabelEncoder can be used to normalize labels. It can also be used to transform non-numerical labels (as long as they are hashable and comparable) to numerical labels"
      ],
      "metadata": {
        "id": "QKu_LzU_DWih"
      }
    },
    {
      "cell_type": "code",
      "execution_count": 305,
      "metadata": {
        "id": "wl8dwBUSGCQE"
      },
      "outputs": [],
      "source": [
        " le = LabelEncoder()"
      ]
    },
    {
      "cell_type": "code",
      "execution_count": 306,
      "metadata": {
        "id": "RFTkZhZ9GCYZ",
        "colab": {
          "base_uri": "https://localhost:8080/"
        },
        "outputId": "a046a508-6224-414c-c26a-2a9dee80619f"
      },
      "outputs": [
        {
          "output_type": "stream",
          "name": "stderr",
          "text": [
            "<ipython-input-306-8c26c1867805>:8: UserWarning: Pandas doesn't allow columns to be created via a new attribute name - see https://pandas.pydata.org/pandas-docs/stable/indexing.html#attribute-access\n",
            "  features_df.Ease_of_Online_Bookingn = le.fit_transform(features_df.Ease_of_Online_Booking)\n"
          ]
        }
      ],
      "source": [
        "features_df.Seat_Comfort = le.fit_transform(features_df.Seat_Comfort)\n",
        "features_df.Arrival_Time_Convenient = le.fit_transform(features_df.Arrival_Time_Convenient)\n",
        "features_df.Catering  = le.fit_transform(features_df.Catering )\n",
        "features_df.Platform_Location = le.fit_transform(features_df.Platform_Location)\n",
        "features_df.Onboard_Wifi_Service = le.fit_transform(features_df.Onboard_Wifi_Service)\n",
        "features_df.Onboard_Entertainment = le.fit_transform(features_df.Onboard_Entertainment)\n",
        "features_df.Online_Support = le.fit_transform(features_df.Online_Support)\n",
        "features_df.Ease_of_Online_Bookingn = le.fit_transform(features_df.Ease_of_Online_Booking)\n",
        "features_df.Onboard_Service = le.fit_transform(features_df.Onboard_Service)\n",
        "features_df.Legroom = le.fit_transform(features_df.Legroom)\n",
        "features_df.Baggage_Handling = le.fit_transform(features_df.Baggage_Handling)\n",
        "features_df.CheckIn_Service  = le.fit_transform(features_df.CheckIn_Service )\n",
        "features_df.Cleanliness = le.fit_transform(features_df.Cleanliness)\n",
        "features_df.Online_Boarding = le.fit_transform(features_df.Online_Boarding)\n",
        "features_df.Seat_Class = le.fit_transform(features_df.Seat_Class)\n",
        "features_df.Ease_of_Online_Booking = le.fit_transform(features_df.Ease_of_Online_Booking)"
      ]
    },
    {
      "cell_type": "code",
      "execution_count": 307,
      "metadata": {
        "id": "lW1etPBwGbKt",
        "colab": {
          "base_uri": "https://localhost:8080/"
        },
        "outputId": "07bd3f78-41f7-4439-d68e-f2a2f1a834d0"
      },
      "outputs": [
        {
          "output_type": "stream",
          "name": "stderr",
          "text": [
            "<ipython-input-307-7e33162ac0ac>:8: UserWarning: Pandas doesn't allow columns to be created via a new attribute name - see https://pandas.pydata.org/pandas-docs/stable/indexing.html#attribute-access\n",
            "  test_df.Ease_of_Online_Bookingn = le.fit_transform(test_df.Ease_of_Online_Booking)\n"
          ]
        }
      ],
      "source": [
        "test_df.Seat_Comfort = le.fit_transform(test_df.Seat_Comfort)\n",
        "test_df.Arrival_Time_Convenient = le.fit_transform(test_df.Arrival_Time_Convenient)\n",
        "test_df.Catering = le.fit_transform(test_df.Catering)\n",
        "test_df.Platform_Location = le.fit_transform(test_df.Platform_Location)\n",
        "test_df.Onboard_Wifi_Service = le.fit_transform(test_df.Onboard_Wifi_Service)\n",
        "test_df.Onboard_Entertainment = le.fit_transform(test_df.Onboard_Entertainment)\n",
        "test_df.Online_Support = le.fit_transform(test_df.Online_Support)\n",
        "test_df.Ease_of_Online_Bookingn = le.fit_transform(test_df.Ease_of_Online_Booking)\n",
        "test_df.Onboard_Service = le.fit_transform(test_df.Onboard_Service)\n",
        "test_df.Legroom = le.fit_transform(test_df.Legroom)\n",
        "test_df.Baggage_Handling = le.fit_transform(test_df.Baggage_Handling)\n",
        "test_df.CheckIn_Service = le.fit_transform(test_df.CheckIn_Service)\n",
        "test_df.Cleanliness = le.fit_transform(test_df.Cleanliness)\n",
        "test_df.Online_Boarding = le.fit_transform(test_df.Online_Boarding)\n",
        "test_df.Seat_Class = le.fit_transform(test_df.Seat_Class)\n",
        "test_df.Ease_of_Online_Booking = le.fit_transform(test_df.Ease_of_Online_Booking)"
      ]
    },
    {
      "cell_type": "markdown",
      "source": [
        "###Correlation Plot"
      ],
      "metadata": {
        "id": "2gctJ5vUDqZc"
      }
    },
    {
      "cell_type": "code",
      "source": [
        "plt.figure(figsize = (10, 8))\n",
        "sns.heatmap(features_df.corr())"
      ],
      "metadata": {
        "colab": {
          "base_uri": "https://localhost:8080/",
          "height": 619
        },
        "id": "1HA_GQTuAlaf",
        "outputId": "c3e88c15-c5ff-4e83-8d01-e83556203038"
      },
      "execution_count": 308,
      "outputs": [
        {
          "output_type": "execute_result",
          "data": {
            "text/plain": [
              "<matplotlib.axes._subplots.AxesSubplot at 0x7f99ba94a160>"
            ]
          },
          "metadata": {},
          "execution_count": 308
        },
        {
          "output_type": "display_data",
          "data": {
            "text/plain": [
              "<Figure size 720x576 with 2 Axes>"
            ],
            "image/png": "[encoded data removed]"
          },
          "metadata": {
            "needs_background": "light"
          }
        }
      ]
    },
    {
      "cell_type": "markdown",
      "source": [
        "###Selecting best features"
      ],
      "metadata": {
        "id": "71UXdOBVXarA"
      }
    },
    {
      "cell_type": "code",
      "source": [
        "from sklearn.feature_selection import SelectKBest, chi2, f_regression"
      ],
      "metadata": {
        "id": "93Qs46_tXabK"
      },
      "execution_count": 309,
      "outputs": []
    },
    {
      "cell_type": "markdown",
      "source": [
        "Scikit-learn API provides SelectKBest class for extracting best features of given dataset. The SelectKBest method selects the features according to the k highest score."
      ],
      "metadata": {
        "id": "FciYnbAKUBCt"
      }
    },
    {
      "cell_type": "code",
      "source": [
        "# Create the object for SelectKBest and fit and transform the classification data\n",
        "# k is the number of features you want to select\n",
        "bestfeatures = SelectKBest(score_func=chi2, k=13)"
      ],
      "metadata": {
        "id": "15fNQLvmXY1o"
      },
      "execution_count": 310,
      "outputs": []
    },
    {
      "cell_type": "code",
      "source": [
        "# Create feature and target variable for Classification problem\n",
        "#SelectKBest selects the best 24 variables and drops the worst with least predictive power\n",
        "x=features_df.iloc[:,0:17]\n",
        "x= features_df.drop('Overall_Experience', axis=1)"
      ],
      "metadata": {
        "id": "sUwfwx33dpiR"
      },
      "execution_count": 311,
      "outputs": []
    },
    {
      "cell_type": "code",
      "source": [
        "y = features_df['Overall_Experience']"
      ],
      "metadata": {
        "id": "pvcuEVXCeMHd"
      },
      "execution_count": 312,
      "outputs": []
    },
    {
      "cell_type": "code",
      "source": [
        "fit=bestfeatures.fit(x,y)"
      ],
      "metadata": {
        "id": "_50AKhLheavo"
      },
      "execution_count": 313,
      "outputs": []
    },
    {
      "cell_type": "code",
      "source": [
        "dfscores = pd.DataFrame(fit.scores_)\n",
        "dfcolumns = pd.DataFrame(x.columns)"
      ],
      "metadata": {
        "id": "6utb7UOoXGWh"
      },
      "execution_count": 314,
      "outputs": []
    },
    {
      "cell_type": "code",
      "source": [
        "#Concat two dataframes for better visualization \n",
        "featureScores = pd.concat([dfcolumns,dfscores],axis=1)"
      ],
      "metadata": {
        "id": "lrHhvdaWXGTR"
      },
      "execution_count": 315,
      "outputs": []
    },
    {
      "cell_type": "code",
      "source": [
        "featureScores.columns = ['Specs','Score']  #naming the dataframe columns\n",
        "print(featureScores.nlargest(13,'Score')) "
      ],
      "metadata": {
        "id": "ITwx9MLQXGQC",
        "outputId": "92f422fe-193e-4a71-f791-cf26f583b713",
        "colab": {
          "base_uri": "https://localhost:8080/"
        }
      },
      "execution_count": 316,
      "outputs": [
        {
          "output_type": "stream",
          "name": "stdout",
          "text": [
            "                      Specs        Score\n",
            "15          Online_Boarding  6383.829823\n",
            "13          CheckIn_Service  5358.933834\n",
            "9    Ease_of_Online_Booking  2692.779029\n",
            "7     Onboard_Entertainment  2065.783817\n",
            "6      Onboard_Wifi_Service  1763.842817\n",
            "10          Onboard_Service  1501.225702\n",
            "8            Online_Support  1042.678640\n",
            "1              Seat_Comfort  1010.044072\n",
            "11                  Legroom   733.139739\n",
            "5         Platform_Location   504.666298\n",
            "4                  Catering   232.270121\n",
            "3   Arrival_Time_Convenient    24.429326\n",
            "12         Baggage_Handling    10.275796\n"
          ]
        }
      ]
    },
    {
      "cell_type": "code",
      "source": [
        "#Worst features\n",
        "#ID                         \n",
        "#Seat_Class                 \n",
        "#Cleanliness                "
      ],
      "metadata": {
        "id": "nGCvBudrXGMD"
      },
      "execution_count": 317,
      "outputs": []
    },
    {
      "cell_type": "markdown",
      "source": [
        "Based on the results, I will drop ID, seat class and cleanliness in the training and testing sets because they don't help with our predictions"
      ],
      "metadata": {
        "id": "XN5oeD69RxiZ"
      }
    },
    {
      "cell_type": "code",
      "source": [
        "#Specify the dependent variable and independent variable\n",
        "y = features_df['Overall_Experience']\n",
        "x=features_df.drop(['ID','Seat_Class','Cleanliness','Overall_Experience'],axis=1)\n",
        "x"
      ],
      "metadata": {
        "id": "S3kMuunKYr66",
        "outputId": "eb30ddc0-66f5-4a66-fe42-ded11a18b2de",
        "colab": {
          "base_uri": "https://localhost:8080/",
          "height": 488
        }
      },
      "execution_count": 318,
      "outputs": [
        {
          "output_type": "execute_result",
          "data": {
            "text/plain": [
              "       Seat_Comfort  Arrival_Time_Convenient  Catering  Platform_Location  \\\n",
              "0                 4                        1         1                  4   \n",
              "1                 5                        1         5                  3   \n",
              "2                 4                        4         4                  3   \n",
              "3                 0                        4         3                  3   \n",
              "4                 0                        0         0                  2   \n",
              "...             ...                      ...       ...                ...   \n",
              "94374             5                        3         3                  0   \n",
              "94375             3                        3         3                  0   \n",
              "94376             4                        4         4                  3   \n",
              "94377             4                        3         4                  0   \n",
              "94378             0                        5         0                  2   \n",
              "\n",
              "       Onboard_Wifi_Service  Onboard_Entertainment  Online_Support  \\\n",
              "0                         3                      4               0   \n",
              "1                         3                      5               3   \n",
              "2                         4                      3               1   \n",
              "3                         0                      4               0   \n",
              "4                         4                      3               1   \n",
              "...                     ...                    ...             ...   \n",
              "94374                     5                      5               5   \n",
              "94375                     4                      1               1   \n",
              "94376                     3                      1               3   \n",
              "94377                     3                      4               3   \n",
              "94378                     0                      0               0   \n",
              "\n",
              "       Ease_of_Online_Booking  Onboard_Service  Legroom  Baggage_Handling  \\\n",
              "0                           4                4        0                 3   \n",
              "1                           3                1        4                 4   \n",
              "2                           1                1        1                 1   \n",
              "3                           0                0        0                 0   \n",
              "4                           3                3        3                 2   \n",
              "...                       ...              ...      ...               ...   \n",
              "94374                       5                3        3                 2   \n",
              "94375                       0                0        0                 0   \n",
              "94376                       3                3        3                 2   \n",
              "94377                       3                0        3                 2   \n",
              "94378                       0                5        3                 2   \n",
              "\n",
              "       CheckIn_Service  Online_Boarding  \n",
              "0                    3                5  \n",
              "1                    4                3  \n",
              "2                    3                1  \n",
              "3                    3                0  \n",
              "4                    3                3  \n",
              "...                ...              ...  \n",
              "94374                4                5  \n",
              "94375                3                3  \n",
              "94376                0                0  \n",
              "94377                3                3  \n",
              "94378                5                0  \n",
              "\n",
              "[94379 rows x 13 columns]"
            ],
            "text/html": [
              "\n",
              "  <div id=\"df-480efb62-1aac-4d18-8bd5-94c0a48817fa\">\n",
              "    <div class=\"colab-df-container\">\n",
              "      <div>\n",
              "<style scoped>\n",
              "    .dataframe tbody tr th:only-of-type {\n",
              "        vertical-align: middle;\n",
              "    }\n",
              "\n",
              "    .dataframe tbody tr th {\n",
              "        vertical-align: top;\n",
              "    }\n",
              "\n",
              "    .dataframe thead th {\n",
              "        text-align: right;\n",
              "    }\n",
              "</style>\n",
              "<table border=\"1\" class=\"dataframe\">\n",
              "  <thead>\n",
              "    <tr style=\"text-align: right;\">\n",
              "      <th></th>\n",
              "      <th>Seat_Comfort</th>\n",
              "      <th>Arrival_Time_Convenient</th>\n",
              "      <th>Catering</th>\n",
              "      <th>Platform_Location</th>\n",
              "      <th>Onboard_Wifi_Service</th>\n",
              "      <th>Onboard_Entertainment</th>\n",
              "      <th>Online_Support</th>\n",
              "      <th>Ease_of_Online_Booking</th>\n",
              "      <th>Onboard_Service</th>\n",
              "      <th>Legroom</th>\n",
              "      <th>Baggage_Handling</th>\n",
              "      <th>CheckIn_Service</th>\n",
              "      <th>Online_Boarding</th>\n",
              "    </tr>\n",
              "  </thead>\n",
              "  <tbody>\n",
              "    <tr>\n",
              "      <th>0</th>\n",
              "      <td>4</td>\n",
              "      <td>1</td>\n",
              "      <td>1</td>\n",
              "      <td>4</td>\n",
              "      <td>3</td>\n",
              "      <td>4</td>\n",
              "      <td>0</td>\n",
              "      <td>4</td>\n",
              "      <td>4</td>\n",
              "      <td>0</td>\n",
              "      <td>3</td>\n",
              "      <td>3</td>\n",
              "      <td>5</td>\n",
              "    </tr>\n",
              "    <tr>\n",
              "      <th>1</th>\n",
              "      <td>5</td>\n",
              "      <td>1</td>\n",
              "      <td>5</td>\n",
              "      <td>3</td>\n",
              "      <td>3</td>\n",
              "      <td>5</td>\n",
              "      <td>3</td>\n",
              "      <td>3</td>\n",
              "      <td>1</td>\n",
              "      <td>4</td>\n",
              "      <td>4</td>\n",
              "      <td>4</td>\n",
              "      <td>3</td>\n",
              "    </tr>\n",
              "    <tr>\n",
              "      <th>2</th>\n",
              "      <td>4</td>\n",
              "      <td>4</td>\n",
              "      <td>4</td>\n",
              "      <td>3</td>\n",
              "      <td>4</td>\n",
              "      <td>3</td>\n",
              "      <td>1</td>\n",
              "      <td>1</td>\n",
              "      <td>1</td>\n",
              "      <td>1</td>\n",
              "      <td>1</td>\n",
              "      <td>3</td>\n",
              "      <td>1</td>\n",
              "    </tr>\n",
              "    <tr>\n",
              "      <th>3</th>\n",
              "      <td>0</td>\n",
              "      <td>4</td>\n",
              "      <td>3</td>\n",
              "      <td>3</td>\n",
              "      <td>0</td>\n",
              "      <td>4</td>\n",
              "      <td>0</td>\n",
              "      <td>0</td>\n",
              "      <td>0</td>\n",
              "      <td>0</td>\n",
              "      <td>0</td>\n",
              "      <td>3</td>\n",
              "      <td>0</td>\n",
              "    </tr>\n",
              "    <tr>\n",
              "      <th>4</th>\n",
              "      <td>0</td>\n",
              "      <td>0</td>\n",
              "      <td>0</td>\n",
              "      <td>2</td>\n",
              "      <td>4</td>\n",
              "      <td>3</td>\n",
              "      <td>1</td>\n",
              "      <td>3</td>\n",
              "      <td>3</td>\n",
              "      <td>3</td>\n",
              "      <td>2</td>\n",
              "      <td>3</td>\n",
              "      <td>3</td>\n",
              "    </tr>\n",
              "    <tr>\n",
              "      <th>...</th>\n",
              "      <td>...</td>\n",
              "      <td>...</td>\n",
              "      <td>...</td>\n",
              "      <td>...</td>\n",
              "      <td>...</td>\n",
              "      <td>...</td>\n",
              "      <td>...</td>\n",
              "      <td>...</td>\n",
              "      <td>...</td>\n",
              "      <td>...</td>\n",
              "      <td>...</td>\n",
              "      <td>...</td>\n",
              "      <td>...</td>\n",
              "    </tr>\n",
              "    <tr>\n",
              "      <th>94374</th>\n",
              "      <td>5</td>\n",
              "      <td>3</td>\n",
              "      <td>3</td>\n",
              "      <td>0</td>\n",
              "      <td>5</td>\n",
              "      <td>5</td>\n",
              "      <td>5</td>\n",
              "      <td>5</td>\n",
              "      <td>3</td>\n",
              "      <td>3</td>\n",
              "      <td>2</td>\n",
              "      <td>4</td>\n",
              "      <td>5</td>\n",
              "    </tr>\n",
              "    <tr>\n",
              "      <th>94375</th>\n",
              "      <td>3</td>\n",
              "      <td>3</td>\n",
              "      <td>3</td>\n",
              "      <td>0</td>\n",
              "      <td>4</td>\n",
              "      <td>1</td>\n",
              "      <td>1</td>\n",
              "      <td>0</td>\n",
              "      <td>0</td>\n",
              "      <td>0</td>\n",
              "      <td>0</td>\n",
              "      <td>3</td>\n",
              "      <td>3</td>\n",
              "    </tr>\n",
              "    <tr>\n",
              "      <th>94376</th>\n",
              "      <td>4</td>\n",
              "      <td>4</td>\n",
              "      <td>4</td>\n",
              "      <td>3</td>\n",
              "      <td>3</td>\n",
              "      <td>1</td>\n",
              "      <td>3</td>\n",
              "      <td>3</td>\n",
              "      <td>3</td>\n",
              "      <td>3</td>\n",
              "      <td>2</td>\n",
              "      <td>0</td>\n",
              "      <td>0</td>\n",
              "    </tr>\n",
              "    <tr>\n",
              "      <th>94377</th>\n",
              "      <td>4</td>\n",
              "      <td>3</td>\n",
              "      <td>4</td>\n",
              "      <td>0</td>\n",
              "      <td>3</td>\n",
              "      <td>4</td>\n",
              "      <td>3</td>\n",
              "      <td>3</td>\n",
              "      <td>0</td>\n",
              "      <td>3</td>\n",
              "      <td>2</td>\n",
              "      <td>3</td>\n",
              "      <td>3</td>\n",
              "    </tr>\n",
              "    <tr>\n",
              "      <th>94378</th>\n",
              "      <td>0</td>\n",
              "      <td>5</td>\n",
              "      <td>0</td>\n",
              "      <td>2</td>\n",
              "      <td>0</td>\n",
              "      <td>0</td>\n",
              "      <td>0</td>\n",
              "      <td>0</td>\n",
              "      <td>5</td>\n",
              "      <td>3</td>\n",
              "      <td>2</td>\n",
              "      <td>5</td>\n",
              "      <td>0</td>\n",
              "    </tr>\n",
              "  </tbody>\n",
              "</table>\n",
              "<p>94379 rows × 13 columns</p>\n",
              "</div>\n",
              "      <button class=\"colab-df-convert\" onclick=\"convertToInteractive('df-480efb62-1aac-4d18-8bd5-94c0a48817fa')\"\n",
              "              title=\"Convert this dataframe to an interactive table.\"\n",
              "              style=\"display:none;\">\n",
              "        \n",
              "  <svg xmlns=\"http://www.w3.org/2000/svg\" height=\"24px\"viewBox=\"0 0 24 24\"\n",
              "       width=\"24px\">\n",
              "    <path d=\"M0 0h24v24H0V0z\" fill=\"none\"/>\n",
              "    <path d=\"M18.56 5.44l.94 2.06.94-2.06 2.06-.94-2.06-.94-.94-2.06-.94 2.06-2.06.94zm-11 1L8.5 8.5l.94-2.06 2.06-.94-2.06-.94L8.5 2.5l-.94 2.06-2.06.94zm10 10l.94 2.06.94-2.06 2.06-.94-2.06-.94-.94-2.06-.94 2.06-2.06.94z\"/><path d=\"M17.41 7.96l-1.37-1.37c-.4-.4-.92-.59-1.43-.59-.52 0-1.04.2-1.43.59L10.3 9.45l-7.72 7.72c-.78.78-.78 2.05 0 2.83L4 21.41c.39.39.9.59 1.41.59.51 0 1.02-.2 1.41-.59l7.78-7.78 2.81-2.81c.8-.78.8-2.07 0-2.86zM5.41 20L4 18.59l7.72-7.72 1.47 1.35L5.41 20z\"/>\n",
              "  </svg>\n",
              "      </button>\n",
              "      \n",
              "  <style>\n",
              "    .colab-df-container {\n",
              "      display:flex;\n",
              "      flex-wrap:wrap;\n",
              "      gap: 12px;\n",
              "    }\n",
              "\n",
              "    .colab-df-convert {\n",
              "      background-color: #E8F0FE;\n",
              "      border: none;\n",
              "      border-radius: 50%;\n",
              "      cursor: pointer;\n",
              "      display: none;\n",
              "      fill: #1967D2;\n",
              "      height: 32px;\n",
              "      padding: 0 0 0 0;\n",
              "      width: 32px;\n",
              "    }\n",
              "\n",
              "    .colab-df-convert:hover {\n",
              "      background-color: #E2EBFA;\n",
              "      box-shadow: 0px 1px 2px rgba(60, 64, 67, 0.3), 0px 1px 3px 1px rgba(60, 64, 67, 0.15);\n",
              "      fill: #174EA6;\n",
              "    }\n",
              "\n",
              "    [theme=dark] .colab-df-convert {\n",
              "      background-color: #3B4455;\n",
              "      fill: #D2E3FC;\n",
              "    }\n",
              "\n",
              "    [theme=dark] .colab-df-convert:hover {\n",
              "      background-color: #434B5C;\n",
              "      box-shadow: 0px 1px 3px 1px rgba(0, 0, 0, 0.15);\n",
              "      filter: drop-shadow(0px 1px 2px rgba(0, 0, 0, 0.3));\n",
              "      fill: #FFFFFF;\n",
              "    }\n",
              "  </style>\n",
              "\n",
              "      <script>\n",
              "        const buttonEl =\n",
              "          document.querySelector('#df-480efb62-1aac-4d18-8bd5-94c0a48817fa button.colab-df-convert');\n",
              "        buttonEl.style.display =\n",
              "          google.colab.kernel.accessAllowed ? 'block' : 'none';\n",
              "\n",
              "        async function convertToInteractive(key) {\n",
              "          const element = document.querySelector('#df-480efb62-1aac-4d18-8bd5-94c0a48817fa');\n",
              "          const dataTable =\n",
              "            await google.colab.kernel.invokeFunction('convertToInteractive',\n",
              "                                                     [key], {});\n",
              "          if (!dataTable) return;\n",
              "\n",
              "          const docLinkHtml = 'Like what you see? Visit the ' +\n",
              "            '<a target=\"_blank\" href=https://colab.research.google.com/notebooks/data_table.ipynb>data table notebook</a>'\n",
              "            + ' to learn more about interactive tables.';\n",
              "          element.innerHTML = '';\n",
              "          dataTable['output_type'] = 'display_data';\n",
              "          await google.colab.output.renderOutput(dataTable, element);\n",
              "          const docLink = document.createElement('div');\n",
              "          docLink.innerHTML = docLinkHtml;\n",
              "          element.appendChild(docLink);\n",
              "        }\n",
              "      </script>\n",
              "    </div>\n",
              "  </div>\n",
              "  "
            ]
          },
          "metadata": {},
          "execution_count": 318
        }
      ]
    },
    {
      "cell_type": "code",
      "source": [
        "test_df=test_df.drop(['ID','Seat_Class','Cleanliness'],axis=1)"
      ],
      "metadata": {
        "id": "MrCt0ndbZn0H"
      },
      "execution_count": 319,
      "outputs": []
    },
    {
      "cell_type": "code",
      "source": [
        "categorical_cols = features_df.columns[features_df.dtypes == \"object\"].values\n",
        "print(categorical_cols)"
      ],
      "metadata": {
        "id": "9RYCcFS9hZFD",
        "outputId": "e1ccb0dc-4cfb-4928-a4b1-30b7fc4e7e65",
        "colab": {
          "base_uri": "https://localhost:8080/"
        }
      },
      "execution_count": 320,
      "outputs": [
        {
          "output_type": "stream",
          "name": "stdout",
          "text": [
            "[]\n"
          ]
        }
      ]
    },
    {
      "cell_type": "code",
      "source": [
        "numeric_cols = features_df.columns[features_df.dtypes != \"object\"].values\n",
        "print(numeric_cols)"
      ],
      "metadata": {
        "id": "3Kdmnn_1hZtM",
        "outputId": "7118d2de-33b2-4ed9-b870-936b77488328",
        "colab": {
          "base_uri": "https://localhost:8080/"
        }
      },
      "execution_count": 321,
      "outputs": [
        {
          "output_type": "stream",
          "name": "stdout",
          "text": [
            "['ID' 'Overall_Experience' 'Seat_Comfort' 'Seat_Class'\n",
            " 'Arrival_Time_Convenient' 'Catering' 'Platform_Location'\n",
            " 'Onboard_Wifi_Service' 'Onboard_Entertainment' 'Online_Support'\n",
            " 'Ease_of_Online_Booking' 'Onboard_Service' 'Legroom' 'Baggage_Handling'\n",
            " 'CheckIn_Service' 'Cleanliness' 'Online_Boarding']\n"
          ]
        }
      ]
    },
    {
      "cell_type": "markdown",
      "source": [
        "###Scaling the data\n",
        "Feature Scaling is a technique to standardize the independent features present in the data in a fixed range"
      ],
      "metadata": {
        "id": "4_xt0yWYFJVf"
      }
    },
    {
      "cell_type": "code",
      "source": [
        "from sklearn.preprocessing import StandardScaler\n",
        "scaler = StandardScaler()\n",
        "print(scaler.fit(features_df))\n",
        "StandardScaler()"
      ],
      "metadata": {
        "colab": {
          "base_uri": "https://localhost:8080/"
        },
        "id": "OhD_qAQRE06j",
        "outputId": "6009c9d1-6dbb-42af-8460-3de49875e7d0"
      },
      "execution_count": 322,
      "outputs": [
        {
          "output_type": "stream",
          "name": "stdout",
          "text": [
            "StandardScaler()\n"
          ]
        },
        {
          "output_type": "execute_result",
          "data": {
            "text/plain": [
              "StandardScaler()"
            ]
          },
          "metadata": {},
          "execution_count": 322
        }
      ]
    },
    {
      "cell_type": "code",
      "source": [
        "print(scaler.mean_)\n",
        "print(scaler.transform(features_df))"
      ],
      "metadata": {
        "colab": {
          "base_uri": "https://localhost:8080/"
        },
        "id": "XwBQzix-E01p",
        "outputId": "0e9b2bdb-c2b4-4d61-fed7-ca51c0802192"
      },
      "execution_count": 323,
      "outputs": [
        {
          "output_type": "stream",
          "name": "stdout",
          "text": [
            "[9.88471900e+07 5.46657625e-01 2.55767703e+00 4.97398786e-01\n",
            " 2.54590534e+00 2.57056125e+00 1.84665021e+00 2.35045932e+00\n",
            " 2.29111349e+00 2.30013033e+00 2.31490056e+00 2.28141854e+00\n",
            " 2.28815732e+00 1.57352801e+00 2.11844796e+00 2.11647718e+00\n",
            " 2.20374236e+00]\n",
            "[[-1.73203246 -1.09810672  0.79642094 ...  0.50014292  1.23388213\n",
            "   1.60210316]\n",
            " [-1.73199575 -1.09810672  1.34860027 ...  1.06748654  0.57878939\n",
            "   0.45621221]\n",
            " [-1.73195905  0.9106583   0.79642094 ...  0.50014292 -0.7313961\n",
            "  -0.68967874]\n",
            " ...\n",
            " [ 1.73195905  0.9106583   0.79642094 ... -1.20188792  0.57878939\n",
            "  -1.26262421]\n",
            " [ 1.73199575 -1.09810672  0.79642094 ...  0.50014292 -0.7313961\n",
            "   0.45621221]\n",
            " [ 1.73203246 -1.09810672 -1.4122964  ...  1.63483015  0.57878939\n",
            "  -1.26262421]]\n"
          ]
        }
      ]
    },
    {
      "cell_type": "code",
      "source": [
        "scaler = StandardScaler()\n",
        "print(scaler.fit(test_df))\n",
        "StandardScaler()"
      ],
      "metadata": {
        "colab": {
          "base_uri": "https://localhost:8080/"
        },
        "id": "G2JR5IjEE74N",
        "outputId": "629ac8ac-c38c-429b-db10-2626e605c12a"
      },
      "execution_count": 324,
      "outputs": [
        {
          "output_type": "stream",
          "name": "stdout",
          "text": [
            "StandardScaler()\n"
          ]
        },
        {
          "output_type": "execute_result",
          "data": {
            "text/plain": [
              "StandardScaler()"
            ]
          },
          "metadata": {},
          "execution_count": 324
        }
      ]
    },
    {
      "cell_type": "code",
      "source": [
        "print(scaler.mean_)\n",
        "print(scaler.transform(test_df))"
      ],
      "metadata": {
        "colab": {
          "base_uri": "https://localhost:8080/"
        },
        "id": "uPkt5HGxE7zb",
        "outputId": "8ab5bab4-05fa-4361-8e24-7c1305750482"
      },
      "execution_count": 325,
      "outputs": [
        {
          "output_type": "stream",
          "name": "stdout",
          "text": [
            "[2.55701927 2.5384529  2.55342396 1.84930622 2.35790124 2.27945059\n",
            " 1.74214932 2.32512218 1.71147688 2.28739958 1.57766418 1.60252233\n",
            " 2.21591484]\n",
            "[[-1.41151397 -1.52038819 -1.47899899 ... -0.52827741  0.30154907\n",
            "   1.59848777]\n",
            " [-0.3074832   0.27644033  1.41711033 ...  0.38622869 -1.21576417\n",
            "  -1.2722717 ]\n",
            " [-0.85949859 -0.92144535 -0.89977712 ...  1.30073478  0.30154907\n",
            "  -0.69811981]\n",
            " ...\n",
            " [ 0.24453218 -0.32250251  0.2586666  ...  2.21524088  1.8188623\n",
            "   1.02433588]\n",
            " [-0.85949859 -0.92144535 -0.89977712 ... -0.52827741 -1.21576417\n",
            "   0.45018398]\n",
            " [ 0.24453218 -1.52038819  0.2586666  ...  0.38622869  1.06020568\n",
            "   1.59848777]]\n"
          ]
        }
      ]
    },
    {
      "cell_type": "markdown",
      "metadata": {
        "id": "Ik5Mh6mE8wUl"
      },
      "source": [
        "###  Fitting an XG Boost model to the train set Model of the Surveydata"
      ]
    },
    {
      "cell_type": "code",
      "execution_count": 326,
      "metadata": {
        "id": "prUyCw-iedgB"
      },
      "outputs": [],
      "source": [
        "from xgboost import XGBClassifier"
      ]
    },
    {
      "cell_type": "code",
      "execution_count": 327,
      "metadata": {
        "id": "21kJyMT4JPaG"
      },
      "outputs": [],
      "source": [
        "clf = XGBClassifier(learning_rate=0.02, n_estimators=200, objective='binary:logistic',silent=True)"
      ]
    },
    {
      "cell_type": "code",
      "execution_count": 328,
      "metadata": {
        "id": "Knrd1OSFjNnr"
      },
      "outputs": [],
      "source": [
        "# train test split\n",
        "X_train, X_test, y_train, y_test = train_test_split(x,y, test_size = 0.3, random_state=0)"
      ]
    },
    {
      "cell_type": "code",
      "source": [
        "clf.fit(X_train, y_train)"
      ],
      "metadata": {
        "id": "5d2nAVvAlR2p",
        "outputId": "a8cb7dc6-60ed-4c7b-ed75-488238432b66",
        "colab": {
          "base_uri": "https://localhost:8080/"
        }
      },
      "execution_count": 329,
      "outputs": [
        {
          "output_type": "execute_result",
          "data": {
            "text/plain": [
              "XGBClassifier(learning_rate=0.02, n_estimators=200, silent=True)"
            ]
          },
          "metadata": {},
          "execution_count": 329
        }
      ]
    },
    {
      "cell_type": "code",
      "execution_count": 330,
      "metadata": {
        "id": "58he_SOlhRx0"
      },
      "outputs": [],
      "source": [
        "#Randomsearchparams = # specify your configurations as a dict\n",
        "features_df[categorical_cols] = features_df[categorical_cols].astype('category')\n",
        "\n",
        "parameters ={\n",
        "              'booster':['gbtree','gblinear'],\n",
        "              'learning_rate': [0.0001, 0.001, 0.01, 0.15, 0.25, 0.3], \n",
        "              'max_depth': [3,5,6,7],\n",
        "              'min_child_weight': [12,15,17,19],\n",
        "              'colsample_bytree': [0.8,0.9,1],\n",
        "              \"reg_alpha\"   : [0.5,0.4,1],\n",
        "              \"reg_lambda\"  : [2,3,5],\n",
        "              \"gamma\"       : [4,5,6]\n",
        "             \n",
        "         } \n",
        "fit_params= {\n",
        "    'feature_name': \"auto\",\n",
        "    'categorical_feature': categorical_cols,\n",
        "}           "
      ]
    },
    {
      "cell_type": "code",
      "execution_count": 331,
      "metadata": {
        "id": "62VAcKIPT7py"
      },
      "outputs": [],
      "source": [
        "search = RandomizedSearchCV(clf,parameters, cv = 5, n_iter=80,verbose=1)"
      ]
    },
    {
      "cell_type": "code",
      "execution_count": 332,
      "metadata": {
        "id": "3zzj_K3Xqh_j",
        "colab": {
          "base_uri": "https://localhost:8080/"
        },
        "outputId": "fab791a9-2198-4889-a8b1-dc9d223f089e"
      },
      "outputs": [
        {
          "output_type": "stream",
          "name": "stdout",
          "text": [
            "Fitting 5 folds for each of 80 candidates, totalling 400 fits\n"
          ]
        },
        {
          "output_type": "execute_result",
          "data": {
            "text/plain": [
              "RandomizedSearchCV(cv=5,\n",
              "                   estimator=XGBClassifier(learning_rate=0.02, n_estimators=200,\n",
              "                                           silent=True),\n",
              "                   n_iter=80,\n",
              "                   param_distributions={'booster': ['gbtree', 'gblinear'],\n",
              "                                        'colsample_bytree': [0.8, 0.9, 1],\n",
              "                                        'gamma': [4, 5, 6],\n",
              "                                        'learning_rate': [0.0001, 0.001, 0.01,\n",
              "                                                          0.15, 0.25, 0.3],\n",
              "                                        'max_depth': [3, 5, 6, 7],\n",
              "                                        'min_child_weight': [12, 15, 17, 19],\n",
              "                                        'reg_alpha': [0.5, 0.4, 1],\n",
              "                                        'reg_lambda': [2, 3, 5]},\n",
              "                   verbose=1)"
            ]
          },
          "metadata": {},
          "execution_count": 332
        }
      ],
      "source": [
        "# Train on training data-\n",
        "search.fit(X_train, y_train,verbose=1)"
      ]
    },
    {
      "cell_type": "code",
      "execution_count": 333,
      "metadata": {
        "id": "RpCHrMwmiFD0",
        "colab": {
          "base_uri": "https://localhost:8080/"
        },
        "outputId": "0678e544-922f-4a56-9694-7012c3d85245"
      },
      "outputs": [
        {
          "output_type": "stream",
          "name": "stdout",
          "text": [
            "              precision    recall  f1-score   support\n",
            "\n",
            "           0       0.92      0.94      0.93     12919\n",
            "           1       0.95      0.93      0.94     15395\n",
            "\n",
            "    accuracy                           0.93     28314\n",
            "   macro avg       0.93      0.93      0.93     28314\n",
            "weighted avg       0.93      0.93      0.93     28314\n",
            "\n"
          ]
        }
      ],
      "source": [
        "y_pred = search.predict(X_test)\n",
        "print(classification_report(y_test, y_pred))"
      ]
    },
    {
      "cell_type": "code",
      "execution_count": 334,
      "metadata": {
        "id": "l-0Ehs05iHUM",
        "colab": {
          "base_uri": "https://localhost:8080/"
        },
        "outputId": "90c54f5b-7f42-4047-da96-fec8bb5a3c54"
      },
      "outputs": [
        {
          "output_type": "execute_result",
          "data": {
            "text/plain": [
              "{'reg_lambda': 5,\n",
              " 'reg_alpha': 0.5,\n",
              " 'min_child_weight': 19,\n",
              " 'max_depth': 7,\n",
              " 'learning_rate': 0.3,\n",
              " 'gamma': 4,\n",
              " 'colsample_bytree': 0.9,\n",
              " 'booster': 'gbtree'}"
            ]
          },
          "metadata": {},
          "execution_count": 334
        }
      ],
      "source": [
        "search.best_params_"
      ]
    },
    {
      "cell_type": "code",
      "execution_count": 335,
      "metadata": {
        "id": "sJxGoO2rMF81"
      },
      "outputs": [],
      "source": [
        "# Train data prediction\n",
        "y_hat = search.predict(X_train)"
      ]
    },
    {
      "cell_type": "code",
      "execution_count": 336,
      "metadata": {
        "id": "aHOf3WG4MF-9",
        "colab": {
          "base_uri": "https://localhost:8080/"
        },
        "outputId": "e4c810ec-dd93-42bb-bc32-fcfdb9ea9a32"
      },
      "outputs": [
        {
          "output_type": "execute_result",
          "data": {
            "text/plain": [
              "array([[5.1482618e-02, 9.4851738e-01],\n",
              "       [8.6164474e-03, 9.9138355e-01],\n",
              "       [1.0635257e-03, 9.9893647e-01],\n",
              "       ...,\n",
              "       [5.1945448e-04, 9.9948055e-01],\n",
              "       [7.9527444e-01, 2.0472555e-01],\n",
              "       [8.6882591e-02, 9.1311741e-01]], dtype=float32)"
            ]
          },
          "metadata": {},
          "execution_count": 336
        }
      ],
      "source": [
        "preds = search.predict_proba(X_test)\n",
        "preds"
      ]
    },
    {
      "cell_type": "code",
      "execution_count": 337,
      "metadata": {
        "id": "H37_C_r9MGBx",
        "colab": {
          "base_uri": "https://localhost:8080/",
          "height": 143
        },
        "outputId": "3d9bc7f1-486a-46b7-a945-360a0773cf18"
      },
      "outputs": [
        {
          "output_type": "execute_result",
          "data": {
            "text/plain": [
              "col_0                   0      1\n",
              "Overall_Experience              \n",
              "0                   28324   1543\n",
              "1                    2208  33990"
            ],
            "text/html": [
              "\n",
              "  <div id=\"df-d41cf1bf-6f64-4132-bf69-29f7cbbcf4b7\">\n",
              "    <div class=\"colab-df-container\">\n",
              "      <div>\n",
              "<style scoped>\n",
              "    .dataframe tbody tr th:only-of-type {\n",
              "        vertical-align: middle;\n",
              "    }\n",
              "\n",
              "    .dataframe tbody tr th {\n",
              "        vertical-align: top;\n",
              "    }\n",
              "\n",
              "    .dataframe thead th {\n",
              "        text-align: right;\n",
              "    }\n",
              "</style>\n",
              "<table border=\"1\" class=\"dataframe\">\n",
              "  <thead>\n",
              "    <tr style=\"text-align: right;\">\n",
              "      <th>col_0</th>\n",
              "      <th>0</th>\n",
              "      <th>1</th>\n",
              "    </tr>\n",
              "    <tr>\n",
              "      <th>Overall_Experience</th>\n",
              "      <th></th>\n",
              "      <th></th>\n",
              "    </tr>\n",
              "  </thead>\n",
              "  <tbody>\n",
              "    <tr>\n",
              "      <th>0</th>\n",
              "      <td>28324</td>\n",
              "      <td>1543</td>\n",
              "    </tr>\n",
              "    <tr>\n",
              "      <th>1</th>\n",
              "      <td>2208</td>\n",
              "      <td>33990</td>\n",
              "    </tr>\n",
              "  </tbody>\n",
              "</table>\n",
              "</div>\n",
              "      <button class=\"colab-df-convert\" onclick=\"convertToInteractive('df-d41cf1bf-6f64-4132-bf69-29f7cbbcf4b7')\"\n",
              "              title=\"Convert this dataframe to an interactive table.\"\n",
              "              style=\"display:none;\">\n",
              "        \n",
              "  <svg xmlns=\"http://www.w3.org/2000/svg\" height=\"24px\"viewBox=\"0 0 24 24\"\n",
              "       width=\"24px\">\n",
              "    <path d=\"M0 0h24v24H0V0z\" fill=\"none\"/>\n",
              "    <path d=\"M18.56 5.44l.94 2.06.94-2.06 2.06-.94-2.06-.94-.94-2.06-.94 2.06-2.06.94zm-11 1L8.5 8.5l.94-2.06 2.06-.94-2.06-.94L8.5 2.5l-.94 2.06-2.06.94zm10 10l.94 2.06.94-2.06 2.06-.94-2.06-.94-.94-2.06-.94 2.06-2.06.94z\"/><path d=\"M17.41 7.96l-1.37-1.37c-.4-.4-.92-.59-1.43-.59-.52 0-1.04.2-1.43.59L10.3 9.45l-7.72 7.72c-.78.78-.78 2.05 0 2.83L4 21.41c.39.39.9.59 1.41.59.51 0 1.02-.2 1.41-.59l7.78-7.78 2.81-2.81c.8-.78.8-2.07 0-2.86zM5.41 20L4 18.59l7.72-7.72 1.47 1.35L5.41 20z\"/>\n",
              "  </svg>\n",
              "      </button>\n",
              "      \n",
              "  <style>\n",
              "    .colab-df-container {\n",
              "      display:flex;\n",
              "      flex-wrap:wrap;\n",
              "      gap: 12px;\n",
              "    }\n",
              "\n",
              "    .colab-df-convert {\n",
              "      background-color: #E8F0FE;\n",
              "      border: none;\n",
              "      border-radius: 50%;\n",
              "      cursor: pointer;\n",
              "      display: none;\n",
              "      fill: #1967D2;\n",
              "      height: 32px;\n",
              "      padding: 0 0 0 0;\n",
              "      width: 32px;\n",
              "    }\n",
              "\n",
              "    .colab-df-convert:hover {\n",
              "      background-color: #E2EBFA;\n",
              "      box-shadow: 0px 1px 2px rgba(60, 64, 67, 0.3), 0px 1px 3px 1px rgba(60, 64, 67, 0.15);\n",
              "      fill: #174EA6;\n",
              "    }\n",
              "\n",
              "    [theme=dark] .colab-df-convert {\n",
              "      background-color: #3B4455;\n",
              "      fill: #D2E3FC;\n",
              "    }\n",
              "\n",
              "    [theme=dark] .colab-df-convert:hover {\n",
              "      background-color: #434B5C;\n",
              "      box-shadow: 0px 1px 3px 1px rgba(0, 0, 0, 0.15);\n",
              "      filter: drop-shadow(0px 1px 2px rgba(0, 0, 0, 0.3));\n",
              "      fill: #FFFFFF;\n",
              "    }\n",
              "  </style>\n",
              "\n",
              "      <script>\n",
              "        const buttonEl =\n",
              "          document.querySelector('#df-d41cf1bf-6f64-4132-bf69-29f7cbbcf4b7 button.colab-df-convert');\n",
              "        buttonEl.style.display =\n",
              "          google.colab.kernel.accessAllowed ? 'block' : 'none';\n",
              "\n",
              "        async function convertToInteractive(key) {\n",
              "          const element = document.querySelector('#df-d41cf1bf-6f64-4132-bf69-29f7cbbcf4b7');\n",
              "          const dataTable =\n",
              "            await google.colab.kernel.invokeFunction('convertToInteractive',\n",
              "                                                     [key], {});\n",
              "          if (!dataTable) return;\n",
              "\n",
              "          const docLinkHtml = 'Like what you see? Visit the ' +\n",
              "            '<a target=\"_blank\" href=https://colab.research.google.com/notebooks/data_table.ipynb>data table notebook</a>'\n",
              "            + ' to learn more about interactive tables.';\n",
              "          element.innerHTML = '';\n",
              "          dataTable['output_type'] = 'display_data';\n",
              "          await google.colab.output.renderOutput(dataTable, element);\n",
              "          const docLink = document.createElement('div');\n",
              "          docLink.innerHTML = docLinkHtml;\n",
              "          element.appendChild(docLink);\n",
              "        }\n",
              "      </script>\n",
              "    </div>\n",
              "  </div>\n",
              "  "
            ]
          },
          "metadata": {},
          "execution_count": 337
        }
      ],
      "source": [
        "# Train data confusion matrix\n",
        "pd.crosstab(y_train, y_hat)"
      ]
    },
    {
      "cell_type": "code",
      "execution_count": 338,
      "metadata": {
        "id": "uzy1R6xrMCFi",
        "colab": {
          "base_uri": "https://localhost:8080/",
          "height": 143
        },
        "outputId": "283053d1-5a8d-4c71-e929-73815547bcce"
      },
      "outputs": [
        {
          "output_type": "execute_result",
          "data": {
            "text/plain": [
              "col_0                   0      1\n",
              "Overall_Experience              \n",
              "0                   12091    828\n",
              "1                    1076  14319"
            ],
            "text/html": [
              "\n",
              "  <div id=\"df-920122ab-53f6-43d7-a4f8-7ce3d628e890\">\n",
              "    <div class=\"colab-df-container\">\n",
              "      <div>\n",
              "<style scoped>\n",
              "    .dataframe tbody tr th:only-of-type {\n",
              "        vertical-align: middle;\n",
              "    }\n",
              "\n",
              "    .dataframe tbody tr th {\n",
              "        vertical-align: top;\n",
              "    }\n",
              "\n",
              "    .dataframe thead th {\n",
              "        text-align: right;\n",
              "    }\n",
              "</style>\n",
              "<table border=\"1\" class=\"dataframe\">\n",
              "  <thead>\n",
              "    <tr style=\"text-align: right;\">\n",
              "      <th>col_0</th>\n",
              "      <th>0</th>\n",
              "      <th>1</th>\n",
              "    </tr>\n",
              "    <tr>\n",
              "      <th>Overall_Experience</th>\n",
              "      <th></th>\n",
              "      <th></th>\n",
              "    </tr>\n",
              "  </thead>\n",
              "  <tbody>\n",
              "    <tr>\n",
              "      <th>0</th>\n",
              "      <td>12091</td>\n",
              "      <td>828</td>\n",
              "    </tr>\n",
              "    <tr>\n",
              "      <th>1</th>\n",
              "      <td>1076</td>\n",
              "      <td>14319</td>\n",
              "    </tr>\n",
              "  </tbody>\n",
              "</table>\n",
              "</div>\n",
              "      <button class=\"colab-df-convert\" onclick=\"convertToInteractive('df-920122ab-53f6-43d7-a4f8-7ce3d628e890')\"\n",
              "              title=\"Convert this dataframe to an interactive table.\"\n",
              "              style=\"display:none;\">\n",
              "        \n",
              "  <svg xmlns=\"http://www.w3.org/2000/svg\" height=\"24px\"viewBox=\"0 0 24 24\"\n",
              "       width=\"24px\">\n",
              "    <path d=\"M0 0h24v24H0V0z\" fill=\"none\"/>\n",
              "    <path d=\"M18.56 5.44l.94 2.06.94-2.06 2.06-.94-2.06-.94-.94-2.06-.94 2.06-2.06.94zm-11 1L8.5 8.5l.94-2.06 2.06-.94-2.06-.94L8.5 2.5l-.94 2.06-2.06.94zm10 10l.94 2.06.94-2.06 2.06-.94-2.06-.94-.94-2.06-.94 2.06-2.06.94z\"/><path d=\"M17.41 7.96l-1.37-1.37c-.4-.4-.92-.59-1.43-.59-.52 0-1.04.2-1.43.59L10.3 9.45l-7.72 7.72c-.78.78-.78 2.05 0 2.83L4 21.41c.39.39.9.59 1.41.59.51 0 1.02-.2 1.41-.59l7.78-7.78 2.81-2.81c.8-.78.8-2.07 0-2.86zM5.41 20L4 18.59l7.72-7.72 1.47 1.35L5.41 20z\"/>\n",
              "  </svg>\n",
              "      </button>\n",
              "      \n",
              "  <style>\n",
              "    .colab-df-container {\n",
              "      display:flex;\n",
              "      flex-wrap:wrap;\n",
              "      gap: 12px;\n",
              "    }\n",
              "\n",
              "    .colab-df-convert {\n",
              "      background-color: #E8F0FE;\n",
              "      border: none;\n",
              "      border-radius: 50%;\n",
              "      cursor: pointer;\n",
              "      display: none;\n",
              "      fill: #1967D2;\n",
              "      height: 32px;\n",
              "      padding: 0 0 0 0;\n",
              "      width: 32px;\n",
              "    }\n",
              "\n",
              "    .colab-df-convert:hover {\n",
              "      background-color: #E2EBFA;\n",
              "      box-shadow: 0px 1px 2px rgba(60, 64, 67, 0.3), 0px 1px 3px 1px rgba(60, 64, 67, 0.15);\n",
              "      fill: #174EA6;\n",
              "    }\n",
              "\n",
              "    [theme=dark] .colab-df-convert {\n",
              "      background-color: #3B4455;\n",
              "      fill: #D2E3FC;\n",
              "    }\n",
              "\n",
              "    [theme=dark] .colab-df-convert:hover {\n",
              "      background-color: #434B5C;\n",
              "      box-shadow: 0px 1px 3px 1px rgba(0, 0, 0, 0.15);\n",
              "      filter: drop-shadow(0px 1px 2px rgba(0, 0, 0, 0.3));\n",
              "      fill: #FFFFFF;\n",
              "    }\n",
              "  </style>\n",
              "\n",
              "      <script>\n",
              "        const buttonEl =\n",
              "          document.querySelector('#df-920122ab-53f6-43d7-a4f8-7ce3d628e890 button.colab-df-convert');\n",
              "        buttonEl.style.display =\n",
              "          google.colab.kernel.accessAllowed ? 'block' : 'none';\n",
              "\n",
              "        async function convertToInteractive(key) {\n",
              "          const element = document.querySelector('#df-920122ab-53f6-43d7-a4f8-7ce3d628e890');\n",
              "          const dataTable =\n",
              "            await google.colab.kernel.invokeFunction('convertToInteractive',\n",
              "                                                     [key], {});\n",
              "          if (!dataTable) return;\n",
              "\n",
              "          const docLinkHtml = 'Like what you see? Visit the ' +\n",
              "            '<a target=\"_blank\" href=https://colab.research.google.com/notebooks/data_table.ipynb>data table notebook</a>'\n",
              "            + ' to learn more about interactive tables.';\n",
              "          element.innerHTML = '';\n",
              "          dataTable['output_type'] = 'display_data';\n",
              "          await google.colab.output.renderOutput(dataTable, element);\n",
              "          const docLink = document.createElement('div');\n",
              "          docLink.innerHTML = docLinkHtml;\n",
              "          element.appendChild(docLink);\n",
              "        }\n",
              "      </script>\n",
              "    </div>\n",
              "  </div>\n",
              "  "
            ]
          },
          "metadata": {},
          "execution_count": 338
        }
      ],
      "source": [
        "# Validation data confusion matrix\n",
        "y_hat_val = search.predict(X_test)\n",
        "pd.crosstab(y_test, y_hat_val)"
      ]
    },
    {
      "cell_type": "code",
      "execution_count": 339,
      "metadata": {
        "id": "Qet9AY6EMCMk"
      },
      "outputs": [],
      "source": [
        "# Predicting probs for final data\n",
        "y_hat_test = search.predict_proba(test_df)"
      ]
    },
    {
      "cell_type": "code",
      "execution_count": 340,
      "metadata": {
        "id": "PtJDgLXgMCWN"
      },
      "outputs": [],
      "source": [
        "from sklearn.metrics import mean_squared_error"
      ]
    },
    {
      "cell_type": "code",
      "execution_count": 341,
      "metadata": {
        "id": "tVVSOaG5r4aH",
        "colab": {
          "base_uri": "https://localhost:8080/"
        },
        "outputId": "85fe08c9-9208-4fae-931f-e53338666fb5"
      },
      "outputs": [
        {
          "output_type": "execute_result",
          "data": {
            "text/plain": [
              "0.933007764847357"
            ]
          },
          "metadata": {},
          "execution_count": 341
        }
      ],
      "source": [
        "roc_auc_score(y_test, y_hat_val)"
      ]
    },
    {
      "cell_type": "markdown",
      "source": [
        "Evaluation Criteria:\n",
        "\n",
        "Accuracy Score: The evaluation metric is simply the percentage of predictions made by the model that turned out to be correct. This is also called the accuracy of the model. It will be calculated as the total number of correct predictions (True Positives + True Negatives) divided by the total number of observations in the dataset.\n"
      ],
      "metadata": {
        "id": "E8PY0s5oQXyJ"
      }
    },
    {
      "cell_type": "code",
      "source": [
        "#(12091+14319)/(12091+828+1076+14319)"
      ],
      "metadata": {
        "id": "EmNdK81WRWYc"
      },
      "execution_count": 342,
      "outputs": []
    },
    {
      "cell_type": "code",
      "source": [
        "from sklearn import metrics\n",
        "print(metrics.accuracy_score(y_test, y_hat_val))"
      ],
      "metadata": {
        "colab": {
          "base_uri": "https://localhost:8080/"
        },
        "id": "j9EyuTjvRQ4F",
        "outputId": "d56c2fbc-0bd6-4ad9-b2dd-69be61aa7b9e"
      },
      "execution_count": 343,
      "outputs": [
        {
          "output_type": "stream",
          "name": "stdout",
          "text": [
            "0.9327541145722964\n"
          ]
        }
      ]
    },
    {
      "cell_type": "markdown",
      "metadata": {
        "id": "LrtvFCnz8wUs"
      },
      "source": [
        "# Submisison data"
      ]
    },
    {
      "cell_type": "code",
      "execution_count": 344,
      "metadata": {
        "id": "p-GNButC8wUt"
      },
      "outputs": [],
      "source": [
        "# importing submision data\n",
        "submission_df = pd.read_csv(\"/content/drive/MyDrive/ML Learning csv/Sample_Submission.csv\",index_col=\"ID\")"
      ]
    },
    {
      "cell_type": "code",
      "execution_count": 345,
      "metadata": {
        "id": "MFhxBX3pRVjI"
      },
      "outputs": [],
      "source": [
        "submission_df.to_csv('my_submission.csv', index=True)"
      ]
    },
    {
      "cell_type": "code",
      "execution_count": 346,
      "metadata": {
        "id": "X5EolkzU8wUu"
      },
      "outputs": [],
      "source": [
        "# filling with our predictied probabilities\n",
        "submission_df['Overall_Experience'] = y_hat_test[:, 1]"
      ]
    },
    {
      "cell_type": "code",
      "execution_count": 347,
      "metadata": {
        "id": "L1Zf2xL_8wUv"
      },
      "outputs": [],
      "source": [
        "# Saving it\n",
        "#submission_df.to_csv('my_submission_lgbm.csv', index=True)"
      ]
    }
  ],
  "metadata": {
    "colab": {
      "provenance": []
    },
    "hide_input": false,
    "kernelspec": {
      "display_name": "Python 3 (ipykernel)",
      "language": "python",
      "name": "python3"
    },
    "language_info": {
      "codemirror_mode": {
        "name": "ipython",
        "version": 3
      },
      "file_extension": ".py",
      "mimetype": "text/x-python",
      "name": "python",
      "nbconvert_exporter": "python",
      "pygments_lexer": "ipython3",
      "version": "3.9.12"
    },
    "toc": {
      "base_numbering": 1,
      "nav_menu": {},
      "number_sections": true,
      "sideBar": true,
      "skip_h1_title": false,
      "title_cell": "Table of Contents",
      "title_sidebar": "Contents",
      "toc_cell": false,
      "toc_position": {},
      "toc_section_display": true,
      "toc_window_display": false
    },
    "varInspector": {
      "cols": {
        "lenName": 16,
        "lenType": 16,
        "lenVar": 40
      },
      "kernels_config": {
        "python": {
          "delete_cmd_postfix": "",
          "delete_cmd_prefix": "del ",
          "library": "var_list.py",
          "varRefreshCmd": "print(var_dic_list())"
        },
        "r": {
          "delete_cmd_postfix": ") ",
          "delete_cmd_prefix": "rm(",
          "library": "var_list.r",
          "varRefreshCmd": "cat(var_dic_list()) "
        }
      },
      "types_to_exclude": [
        "module",
        "function",
        "builtin_function_or_method",
        "instance",
        "_Feature"
      ],
      "window_display": false
    }
  },
  "nbformat": 4,
  "nbformat_minor": 0
}